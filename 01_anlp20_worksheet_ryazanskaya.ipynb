{
 "cells": [
  {
   "cell_type": "markdown",
   "metadata": {
    "id": "P1m1XxEF3izv"
   },
   "source": [
    "# ANLP 2020 - Assignment 1\n"
   ]
  },
  {
   "cell_type": "markdown",
   "metadata": {
    "id": "kirN57U63izv"
   },
   "source": [
    "*Galina Ryazanskaya, 811155*"
   ]
  },
  {
   "cell_type": "markdown",
   "metadata": {
    "id": "mcphp6h93izv"
   },
   "source": [
    "<div class=\"alert alert-block alert-danger\">Due: Wednesday, December 2</div>"
   ]
  },
  {
   "cell_type": "markdown",
   "metadata": {
    "id": "zS9xg4NG3izv"
   },
   "source": [
    "<div class=\"alert alert-block alert-info\">\n",
    "\n",
    "**NOTE**\n",
    "\n",
    "Please first fill in your name and id number at the top of the assignment, and **rename** the assignment file to **yourlastname-anlp-1.ipynb**<br><br>\n",
    "Problems and questions are given in blue boxes like this one. All grey and white boxes must be filled by you (they either require code or a (brief!) discussion). <br><br>\n",
    "Please hand in your assignment by the deadline via Moodle upload. In case of questions, you can reach us via the piazza forum, or by email.<br><br>\n",
    "<b>For this assignment, do NOT use any external packages (NLTK or any others) EXCEPT where specified.</b>\n",
    "</div>"
   ]
  },
  {
   "cell_type": "markdown",
   "metadata": {
    "id": "uVoYafj93izv"
   },
   "source": [
    "<div class=\"alert alert-block alert-info\">\n",
    "In this assignment, you will implement and work with a Naive Bayes classifier. (Note that for this exercise, you don't need to represent the input as a vector necessarily. You can directly look at the presence of words, and look up the class conditional likelihood.)\n",
    "<br>\n",
    "<br>\n",
    "We will use a Twitter dataset classified into \"hate speech\" and \"non hate speech\" (in our data, we have called these classes \"offensive\" and \"nonoffensive\" to avoid the charged and inaccurate term \"hate speech\"). First, load the data (we have provided the function for this):\n",
    "</div>"
   ]
  },
  {
   "cell_type": "code",
   "execution_count": 1,
   "metadata": {
    "id": "pL6zi1Oe3izv",
    "outputId": "c8ab92bc-0713-4dc7-ee9a-1443add3c0e4"
   },
   "outputs": [
    {
     "name": "stdout",
     "output_type": "stream",
     "text": [
      "Training data: 12896\n",
      "Test data: 3250\n"
     ]
    }
   ],
   "source": [
    "import csv\n",
    "import json\n",
    "from nltk.tokenize import TweetTokenizer\n",
    "\n",
    "def read_hate_tweets (annofile, jsonfile):\n",
    "    \"\"\"Reads in hate speech data.\"\"\"\n",
    "    all_data = {}\n",
    "    annos = {}\n",
    "    with open(annofile) as csvfile:\n",
    "        csvreader = csv.reader(csvfile, delimiter=',')\n",
    "        for row in csvreader:\n",
    "            if row[0] in annos:\n",
    "                # if duplicate with different rating, remove!\n",
    "                if row[1] != annos[row[0]]:\n",
    "                    del(annos[row[0]])\n",
    "            else:\n",
    "                annos[row[0]] = row[1]\n",
    "\n",
    "    tknzr = TweetTokenizer()\n",
    "                \n",
    "    with open(jsonfile) as jsonfile:\n",
    "        for line in jsonfile:\n",
    "            twtjson = json.loads(line)\n",
    "            twt_id = twtjson['id_str']\n",
    "            if twt_id in annos:\n",
    "                all_data[twt_id] = {}\n",
    "                all_data[twt_id]['offensive'] = \"nonoffensive\" if annos[twt_id] == 'none' else \"offensive\"\n",
    "                all_data[twt_id]['text_tok'] = tknzr.tokenize(twtjson['text'])\n",
    "\n",
    "    # split training and test data:\n",
    "    all_data_sorted = sorted(all_data.items())\n",
    "    items = [(i[1]['text_tok'],i[1]['offensive']) for i in all_data_sorted]\n",
    "    splititem = len(all_data)-3250\n",
    "    train_dt = items[:splititem]\n",
    "    test_dt = items[splititem:]\n",
    "    print('Training data:',len(train_dt))\n",
    "    print('Test data:',len(test_dt))\n",
    "\n",
    "    return(train_dt,test_dt)\n",
    "\n",
    "TWEETS_ANNO = 'NAACL_SRW_2016.csv'\n",
    "TWEETS_TEXT = 'NAACL_SRW_2016_tweets.json'\n",
    "\n",
    "(train_data,test_data) = read_hate_tweets(TWEETS_ANNO,TWEETS_TEXT)\n"
   ]
  },
  {
   "cell_type": "markdown",
   "metadata": {
    "id": "kJOXhCtB3izx"
   },
   "source": [
    "<div class=\"alert alert-block alert-info\">\n",
    "Each item in our data consists of a tuple of the tweet text and its label (represented as a string). The tweet text has been tokenized and is represented as a list of words. We can look at an example item:\n",
    "</div>"
   ]
  },
  {
   "cell_type": "code",
   "execution_count": 2,
   "metadata": {
    "id": "E7PxC5lE3izx",
    "outputId": "9d73dfa0-e364-46ae-9fd3-919e08cda930"
   },
   "outputs": [
    {
     "name": "stdout",
     "output_type": "stream",
     "text": [
      "(['At', 'this', 'rate', ',', \"I'm\", 'going', 'to', 'be', 'making', 'slides', 'for', 'a', 'keynote', 'in', 'my', 'car', 'as', 'I', 'drive', 'home', '.'], 'nonoffensive')\n"
     ]
    }
   ],
   "source": [
    "print(train_data[4387])"
   ]
  },
  {
   "cell_type": "code",
   "execution_count": 3,
   "metadata": {},
   "outputs": [
    {
     "name": "stdout",
     "output_type": "stream",
     "text": [
      "(['This', 'is', 'why', 'this', 'show', 'is', 'ridiculous', '-', \"it's\", 'not', 'about', 'the', 'cooking', '...', \"it's\", 'about', 'the', 'game', 'playing', '.', '#mkr', '#whogivesa1'], 'nonoffensive')\n"
     ]
    }
   ],
   "source": [
    "print(test_data[2])"
   ]
  },
  {
   "cell_type": "markdown",
   "metadata": {
    "id": "QlIHWF8x3izx"
   },
   "source": [
    "## Problem 1: Evaluation [15 pts]"
   ]
  },
  {
   "cell_type": "markdown",
   "metadata": {
    "id": "iC95g0963izx"
   },
   "source": [
    "<div class=\"alert alert-block alert-info\">\n",
    "\n",
    "The first thing you're being asked to do is to provide evaluation functions for a classifier and a given labelled test set. Assume that the classifier has a `predict()` function that takes an item in the form of a list as above and predicts a class for that item. Write evaluation functions to compute the `accuracy` and `f_1` score for such a classifier. (To test your functions without having access to a real `predict()` function, you could simulate one that makes random predictions.)\n",
    "\n",
    "</div>"
   ]
  },
  {
   "cell_type": "code",
   "execution_count": 94,
   "metadata": {
    "id": "_anp5vxS3izx"
   },
   "outputs": [],
   "source": [
    "def accuracy(classifier, data):\n",
    "    \"\"\"Computes the accuracy of a classifier on reference data.\n",
    "\n",
    "    Args:\n",
    "        classifier: A classifier.\n",
    "        data: Reference data.\n",
    "\n",
    "    Returns:\n",
    "        The accuracy of the classifier on the test data, a float.\n",
    "    \"\"\"\n",
    "    predicted = [classifier.predict(d) for d in [el[0] for el in data]]\n",
    "    golden = [el[1] for el in data]\n",
    "    TP_TN = sum(x == y for x, y in zip(l1, l2))\n",
    "    return TP_TN/len(data)\n",
    "\n",
    "def f_1(classifier, data, positive='offensive'):\n",
    "    \"\"\"Computes the F_1-score of a classifier on reference data.\n",
    "\n",
    "    Args:\n",
    "        classifier: A classifier.\n",
    "        data: Reference data.\n",
    "        positive: Positive class (str), default = 'offensive'\n",
    "\n",
    "    Returns:\n",
    "        The F_1-score of the classifier on the test data, a float.\n",
    "    \"\"\"\n",
    "    predicted = [classifier.predict(d) for d in [el[0] for el in data]]\n",
    "    golden = [el[1] for el in data]\n",
    "    TP = 0\n",
    "    TN = 0\n",
    "    FP = 0\n",
    "    FN = 0\n",
    "    for y in golden:\n",
    "        for y_hat in predicted:\n",
    "            if y == positive:\n",
    "                if y == y_hat:\n",
    "                    TP += 1\n",
    "                else:\n",
    "                    FN += 1\n",
    "            else:\n",
    "                if y == y_hat:\n",
    "                    TN += 1\n",
    "                else:\n",
    "                    FP += 1\n",
    "    \n",
    "    precision = TP / (TP + FP)\n",
    "    recall = TP / (TP + FN)\n",
    "    return 2 * precision * recall / (precision + recall)\n"
   ]
  },
  {
   "cell_type": "code",
   "execution_count": 95,
   "metadata": {},
   "outputs": [],
   "source": [
    "class dummy_classifier:\n",
    "    def predict(self, data):\n",
    "        return 'offensive'\n",
    "c = dummy_classifier()\n",
    "d = train_data[:5]"
   ]
  },
  {
   "cell_type": "code",
   "execution_count": 96,
   "metadata": {},
   "outputs": [
    {
     "data": {
      "text/plain": [
       "0.6"
      ]
     },
     "execution_count": 96,
     "metadata": {},
     "output_type": "execute_result"
    }
   ],
   "source": [
    "accuracy(c, d)"
   ]
  },
  {
   "cell_type": "code",
   "execution_count": 97,
   "metadata": {},
   "outputs": [
    {
     "data": {
      "text/plain": [
       "0.5714285714285715"
      ]
     },
     "execution_count": 97,
     "metadata": {},
     "output_type": "execute_result"
    }
   ],
   "source": [
    "f_1(c, d)"
   ]
  },
  {
   "cell_type": "markdown",
   "metadata": {
    "id": "c5x20KIN3izy"
   },
   "source": [
    "## Problem 2: Naive Bayes Classifier [35 pts]"
   ]
  },
  {
   "cell_type": "markdown",
   "metadata": {
    "id": "w69e-JOj3izy"
   },
   "source": [
    "<div class=\"alert alert-block alert-info\">\n",
    "Next, implement the Naive Bayes classifier from scratch using the code skeleton below and the definitions from class.<br><br>\n",
    "\n",
    "Some requirements and notes for implementation:\n",
    "\n",
    "<ul>\n",
    "<li> You should allow for an arbitrary number of classes (in particular, you should not hard code the two classes needed for the given dataset). \n",
    "<li> The vocabulary of your classifier should be created dynamically from the training data. (The vocabulary is the set of all words that occur in the training data.).\n",
    "<li> Use additive smoothing with a provided parameter k. \n",
    "<li> You may encounter unknown words at test time. Since we're not allowed to \"peek\" into the test set, we will implement the following simple treatment: We will assume that we don't know anything about unknown words and that in particular, their presence does not tell us anything about which class a document should be assigned to. Therefore, we will not include them in the calculation of the (log) probabilities during prediction, under the assumption that their probability does not differ hugely between the different classes (probably not a correct assumption, but the best we can do at this point). Since we don't need correct probabilities but only most likely classes, just ignore unknown words during prediction.\n",
    "<li> Use log probabilities in order to avoid underflow.\n",
    "</ul>\n",
    "\n",
    "</div>"
   ]
  },
  {
   "cell_type": "code",
   "execution_count": 46,
   "metadata": {},
   "outputs": [],
   "source": [
    "from math import log"
   ]
  },
  {
   "cell_type": "code",
   "execution_count": 102,
   "metadata": {
    "id": "0OZ8QKSP3izy"
   },
   "outputs": [],
   "source": [
    "class NaiveBayes(object):\n",
    "    \n",
    "    def __init__(self, data, k):\n",
    "        \"\"\"Initialises a new classifier.\"\"\"\n",
    "        self.k = k\n",
    "        self.data = data\n",
    "        self.x, self.y = [list(x) for x in zip(*data)]\n",
    "        self.classes = list(set(self.y))\n",
    "        self.N_doc = len(self.x) \n",
    "        self.N_classes = len(self.y)\n",
    "        self.logpriors = {}  # keys - classes; values - logpriors\n",
    "        self.loglike = {}  # keys - classes; values - dicts of words and loglikes\n",
    "        self.D = []\n",
    "        for d in self.x:\n",
    "            self.D += d\n",
    "        self.V = set(self.D) # vocabulary \n",
    "\n",
    "\n",
    "    def predict(self, x):\n",
    "        \"\"\"Predicts the class for a document.\n",
    "\n",
    "        Args:\n",
    "            x: A document, represented as a list of words.\n",
    "\n",
    "        Returns:\n",
    "            The predicted class, represented as a string.\n",
    "        \"\"\"\n",
    "        probs = {}\n",
    "        for c in self.classes:\n",
    "            probs[c] = self.logpriors[c]           \n",
    "            for w in x:\n",
    "                if w in self.V:\n",
    "                    probs[c] += self.loglike[c][w]\n",
    "        \n",
    "        return max(probs, key=probs.get)  # argmax over a dict\n",
    "    \n",
    "    \n",
    "    @classmethod\n",
    "    def train(cls, data, k=1):\n",
    "        \"\"\"Train a new classifier on training data using maximum\n",
    "        likelihood estimation and additive smoothing.\n",
    "\n",
    "        Args:\n",
    "            cls: The Python class representing the classifier.\n",
    "            data: Training data.\n",
    "            k: The smoothing constant.\n",
    "\n",
    "        Returns:\n",
    "            A trained classifier, an instance of `cls`.\n",
    "        \"\"\"\n",
    "        classifier = cls(data, k)\n",
    "        \n",
    "        for c in classifier.classes:  # iterate over classes\n",
    "            n_c_documents = classifier.y.count(c)\n",
    "            classifier.logpriors[c] = log(n_c_documents/classifier.N_classes)\n",
    "            bigdoc = []\n",
    "            for i, d in enumerate(classifier.x):\n",
    "                if classifier.y[i] == c:\n",
    "                    bigdoc += d\n",
    "            \n",
    "            classifier.loglike[c] = {}\n",
    "            for w in classifier.V:  # iterate over words \n",
    "                count_w = bigdoc.count(w)\n",
    "                classifier.loglike[c][w] = log((count_w + k) / (len(bigdoc) + len(classifier.V) * k))\n",
    "                \n",
    "        return classifier"
   ]
  },
  {
   "cell_type": "markdown",
   "metadata": {
    "id": "ee6ypaF_3izy"
   },
   "source": [
    "<div class=\"alert alert-block alert-info\">\n",
    "Evaluate your classifier by training and testing it on the given data. Vary the smoothing parameter k. What happens when you decrease k? Plot a graph of the accuracy and/or f-score given different values of k. Discuss your findings.</div>"
   ]
  },
  {
   "cell_type": "code",
   "execution_count": 103,
   "metadata": {
    "id": "apjShc413izy",
    "outputId": "d281e0c6-66ec-407c-c95b-8b7d9c63092e"
   },
   "outputs": [
    {
     "name": "stdout",
     "output_type": "stream",
     "text": [
      "Accuracy:  0.0009230769230769231\n",
      "F_1:  0.13961201220491407\n"
     ]
    }
   ],
   "source": [
    "nb = NaiveBayes.train(train_data)\n",
    "print(\"Accuracy: \",accuracy(nb, test_data))\n",
    "print(\"F_1: \", f_1(nb,test_data))\n",
    "\n",
    "# TODO: test further smoothing parameters"
   ]
  },
  {
   "cell_type": "markdown",
   "metadata": {
    "id": "p0oCzG3J3izy"
   },
   "source": [
    "## Problem 3: Feature Engineering [20 pts]"
   ]
  },
  {
   "cell_type": "markdown",
   "metadata": {
    "id": "A2SfQ72y3izy"
   },
   "source": [
    "<div class=\"alert alert-block alert-info\">\n",
    "\n",
    "We mentioned that the Naive Bayes classifier can be used with many different feature types. Try to improve on the basic bag of words model by changing the feature list of your model. Implement at least two variants. For each, explain your motivation for this feature set, and test the classifier with the given data. Briefly discuss your results!<br><br> \n",
    "Ideas for feature sets that were mentioned in class include:\n",
    "\n",
    "<ul>\n",
    "<li> removing stop words or frequent words\n",
    "<li> stemming or lemmatizing (you can use NLTK or spacy.io for basic NLP operations on the texts)\n",
    "<li> introducing part of speech tags as features (how?)\n",
    "<li> bigrams\n",
    "</ul>\n",
    "\n",
    "</div>"
   ]
  },
  {
   "cell_type": "code",
   "execution_count": null,
   "metadata": {
    "id": "BdDV4fPt3izy"
   },
   "outputs": [],
   "source": [
    "# TODO: Insert your code here"
   ]
  },
  {
   "cell_type": "markdown",
   "metadata": {
    "id": "0SSHdawp3izy"
   },
   "source": [
    "## Problem 4: Logistic Regression Classifier [30 pts]"
   ]
  },
  {
   "cell_type": "markdown",
   "metadata": {
    "id": "bQHN0ZLD3izy"
   },
   "source": [
    "<div class=\"alert alert-block alert-info\">\n",
    "    \n",
    "Implement a logistic regression classifier using the definitions given in class and gradient descent. For this, you will have to use a matrix representation for your data to keep track of each feature's weights per class, which you can implement using the `numpy` package. <br><br> \n",
    "Start by implementing a function `featurize()` that converts the (training or testing) data into a matrix format. This function should return a pair of NumPy matrices 𝑿, 𝒀, where 𝑿 is an 𝑁 × 𝐹 matrix (𝑁: number of data instances, 𝐹: number of features), and where 𝒀 is an 𝑁 × 2 matrix whose rows have one of two forms:<br><br>\n",
    "[1, 0] if the gold-standard annotation class for the corresponding tweet is ‘offensive’, or <br><br>\n",
    "[0, 1] if the gold-standard class for the corresponding document is ‘nonoffensive’<br><br>\n",
    "This kind of representation is known as a one-hot encoding. You can read the first vector as saying that ‘there is a 100% chance that the instance belongs to the “offensive” class and a 0% chance that it belongs to the “nonoffensive” class’, and similarly for the second vector. Note that these are the two extreme cases for the conditional probability distribution P(k|x) for class k and feature vector x.<br><br>\n",
    "To implement the `featurize()` function, you will need to assign to each word in the training set a unique integer index which will identify that component of the feature vector which is 1 if the corresponding word is present in the document, and 0 otherwise. This index is built by the helper function `build_w2i()`.<br><br>\n",
    "Your next task is to complete the implementation of the `LogReg` class. The methods `p()` and `predict()` yield the probability of a class given an item, and the best class for the item, respectively. They can be implemented using appropriate NumPy matrix operations and the provided `softmax()` function. Note that you should set up both methods to take a whole matrix of input vectors as input, not just a single vector.<br><br>\n",
    "The training procedure is implemented in the (class) method `train()`, using iterative optimization. Typically, we shuffle the training data and split them into mini-batches (e.g, 100 items), then update the weights after each minibatch. This is done for `max_iter` number of iterations, or \"epochs\". Each epoch iterates over the training data set once.<br><br>\n",
    "Implement the missing methods using l_2 regularization with parameter C=0.1\n",
    "\n",
    "</div>"
   ]
  },
  {
   "cell_type": "code",
   "execution_count": null,
   "metadata": {
    "id": "bdA85JV03izy"
   },
   "outputs": [],
   "source": [
    "import numpy as np\n",
    "\n",
    "class LogReg:\n",
    "    def __init__(self, eta=0.01, num_iter=30):\n",
    "        self.eta = eta\n",
    "        self.num_iter = num_iter\n",
    "    \n",
    "    def softmax(self, inputs):\n",
    "        \"\"\"\n",
    "        Calculate the softmax for the give inputs (array)\n",
    "        :param inputs:\n",
    "        :return:\n",
    "        \"\"\"\n",
    "        return np.exp(inputs) / float(sum(np.exp(inputs)))\n",
    "    \n",
    "    def train(self, X, Y):\n",
    "\n",
    "        # weights initialization\n",
    "        self.weights = np.zeros(X.shape[1])\n",
    "        \n",
    "        for i in range(self.num_iter):\n",
    "            # TODO: Fill in iterative updating of weights\n",
    "            pass\n",
    "        return None\n",
    "    \n",
    "    def p(self, X): \n",
    "        # TODO: Fill in (log) probability prediction\n",
    "        return 0.0\n",
    "    \n",
    "    def predict(self, X):\n",
    "        # TODO: Replace next line with prediction of best class\n",
    "        return None"
   ]
  },
  {
   "cell_type": "markdown",
   "metadata": {
    "id": "TCMww5703izy"
   },
   "source": [
    "<div class=\"alert alert-block alert-info\">\n",
    "Test your implementation using 10 iterations, default learning rate eta, and l_2 regularization with parameter C=0.1.\n",
    "</div>"
   ]
  },
  {
   "cell_type": "code",
   "execution_count": null,
   "metadata": {
    "id": "Tq6vCwaW3izy"
   },
   "outputs": [],
   "source": []
  }
 ],
 "metadata": {
  "colab": {
   "name": "ryazanskaya-anlp-1.ipynb",
   "provenance": []
  },
  "kernelspec": {
   "display_name": "Python 3",
   "language": "python",
   "name": "python3"
  },
  "language_info": {
   "codemirror_mode": {
    "name": "ipython",
    "version": 3
   },
   "file_extension": ".py",
   "mimetype": "text/x-python",
   "name": "python",
   "nbconvert_exporter": "python",
   "pygments_lexer": "ipython3",
   "version": "3.6.8"
  },
  "latex_envs": {
   "LaTeX_envs_menu_present": true,
   "autoclose": false,
   "autocomplete": true,
   "bibliofile": "biblio.bib",
   "cite_by": "apalike",
   "current_citInitial": 1,
   "eqLabelWithNumbers": true,
   "eqNumInitial": 1,
   "hotkeys": {
    "equation": "alt-ctrl-e"
   },
   "labels_anchors": false,
   "latex_user_defs": false,
   "report_style_numbering": false,
   "user_envs_cfg": false
  },
  "toc": {
   "base_numbering": 1,
   "nav_menu": {},
   "number_sections": true,
   "sideBar": true,
   "skip_h1_title": false,
   "title_cell": "Table of Contents",
   "title_sidebar": "Contents",
   "toc_cell": false,
   "toc_position": {},
   "toc_section_display": true,
   "toc_window_display": false
  }
 },
 "nbformat": 4,
 "nbformat_minor": 1
}
