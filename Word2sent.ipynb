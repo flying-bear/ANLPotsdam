{
  "nbformat": 4,
  "nbformat_minor": 0,
  "metadata": {
    "colab": {
      "name": "Word2sent.ipynb",
      "provenance": [],
      "collapsed_sections": [
        "JOdV3Sh9jcTH",
        "v_JXegpFpmaU",
        "-T3q192gmi7m",
        "4q0WC5ZlruJ-",
        "hSCz5qQdi6rS",
        "1-shKGw9uRMo",
        "FYaEwvtXuUJh",
        "KyAcA7hexvJl",
        "52MoUq8zjAe3",
        "j1zC47Eforw-",
        "eb6t_MTPNCFJ",
        "PXHOOzDUNMJE",
        "J6ehge0asR8I",
        "t8YQx3GJsHsC",
        "yuxZg3qqtcqq",
        "Px6NLzxPxy0g",
        "ETvqHimWsd5C",
        "wiAHISpZt8Pg",
        "r1Kuq7Kjd0a-",
        "Azs51kO_dwev",
        "lcAFj57UIkIa",
        "fWB0Bj0rMp5f",
        "eKDJNcmuRy1-",
        "r3bNXcuXSZen",
        "jclKJfAPS_WR",
        "qbWmM3bDNmzr",
        "xZGG0rDAj6bd",
        "wdsTIRzFmkfh",
        "q9e2mUVcuDu1"
      ],
      "mount_file_id": "1Yo8gEZ4U9lXAw4Pp7-PE2Pl0YndKhRAJ",
      "authorship_tag": "ABX9TyM4QtN7OIk3c+o07HsHK6JX",
      "include_colab_link": true
    },
    "kernelspec": {
      "display_name": "Python 3",
      "name": "python3"
    }
  },
  "cells": [
    {
      "cell_type": "markdown",
      "metadata": {
        "id": "view-in-github",
        "colab_type": "text"
      },
      "source": [
        "<a href=\"https://colab.research.google.com/github/flying-bear/ANLPotsdam/blob/master/Word2sent.ipynb\" target=\"_parent\"><img src=\"https://colab.research.google.com/assets/colab-badge.svg\" alt=\"Open In Colab\"/></a>"
      ]
    },
    {
      "cell_type": "markdown",
      "metadata": {
        "id": "JOdV3Sh9jcTH"
      },
      "source": [
        "### Installation"
      ]
    },
    {
      "cell_type": "code",
      "metadata": {
        "colab": {
          "base_uri": "https://localhost:8080/"
        },
        "id": "q92wOsj4B44F",
        "outputId": "1e34b46e-3c51-41ff-8582-bee2e04c29dc"
      },
      "source": [
        "!pip install --upgrade pip"
      ],
      "execution_count": 1,
      "outputs": [
        {
          "output_type": "stream",
          "text": [
            "Collecting pip\n",
            "\u001b[?25l  Downloading https://files.pythonhosted.org/packages/fe/ef/60d7ba03b5c442309ef42e7d69959f73aacccd0d86008362a681c4698e83/pip-21.0.1-py3-none-any.whl (1.5MB)\n",
            "\u001b[K     |████████████████████████████████| 1.5MB 5.5MB/s \n",
            "\u001b[?25hInstalling collected packages: pip\n",
            "  Found existing installation: pip 19.3.1\n",
            "    Uninstalling pip-19.3.1:\n",
            "      Successfully uninstalled pip-19.3.1\n",
            "Successfully installed pip-21.0.1\n"
          ],
          "name": "stdout"
        }
      ]
    },
    {
      "cell_type": "code",
      "metadata": {
        "colab": {
          "base_uri": "https://localhost:8080/"
        },
        "id": "NWVP4CZvjqLi",
        "outputId": "a6470bc5-9ee0-48ba-c224-675343de2cc9"
      },
      "source": [
        "!pip install pymystem3==0.1.10"
      ],
      "execution_count": 2,
      "outputs": [
        {
          "output_type": "stream",
          "text": [
            "Collecting pymystem3==0.1.10\n",
            "  Downloading pymystem3-0.1.10-py3-none-any.whl (10 kB)\n",
            "Requirement already satisfied: requests in /usr/local/lib/python3.6/dist-packages (from pymystem3==0.1.10) (2.23.0)\n",
            "Requirement already satisfied: certifi>=2017.4.17 in /usr/local/lib/python3.6/dist-packages (from requests->pymystem3==0.1.10) (2020.12.5)\n",
            "Requirement already satisfied: idna<3,>=2.5 in /usr/local/lib/python3.6/dist-packages (from requests->pymystem3==0.1.10) (2.10)\n",
            "Requirement already satisfied: urllib3!=1.25.0,!=1.25.1,<1.26,>=1.21.1 in /usr/local/lib/python3.6/dist-packages (from requests->pymystem3==0.1.10) (1.24.3)\n",
            "Requirement already satisfied: chardet<4,>=3.0.2 in /usr/local/lib/python3.6/dist-packages (from requests->pymystem3==0.1.10) (3.0.4)\n",
            "Installing collected packages: pymystem3\n",
            "  Attempting uninstall: pymystem3\n",
            "    Found existing installation: pymystem3 0.2.0\n",
            "    Uninstalling pymystem3-0.2.0:\n",
            "      Successfully uninstalled pymystem3-0.2.0\n",
            "Successfully installed pymystem3-0.1.10\n"
          ],
          "name": "stdout"
        }
      ]
    },
    {
      "cell_type": "code",
      "metadata": {
        "colab": {
          "base_uri": "https://localhost:8080/"
        },
        "id": "djff5wgTmPqL",
        "outputId": "0bf7dc30-78d3-46b0-829d-4e373bfccd08"
      },
      "source": [
        "!pip install simple-elmo"
      ],
      "execution_count": 3,
      "outputs": [
        {
          "output_type": "stream",
          "text": [
            "Collecting simple-elmo\n",
            "  Downloading simple_elmo-0.6.0-py3-none-any.whl (32 kB)\n",
            "Requirement already satisfied: smart-open>1.8.1 in /usr/local/lib/python3.6/dist-packages (from simple-elmo) (4.1.2)\n",
            "Requirement already satisfied: numpy in /usr/local/lib/python3.6/dist-packages (from simple-elmo) (1.19.5)\n",
            "Requirement already satisfied: h5py in /usr/local/lib/python3.6/dist-packages (from simple-elmo) (2.10.0)\n",
            "Requirement already satisfied: pandas in /usr/local/lib/python3.6/dist-packages (from simple-elmo) (1.1.5)\n",
            "Requirement already satisfied: six in /usr/local/lib/python3.6/dist-packages (from h5py->simple-elmo) (1.15.0)\n",
            "Requirement already satisfied: pytz>=2017.2 in /usr/local/lib/python3.6/dist-packages (from pandas->simple-elmo) (2018.9)\n",
            "Requirement already satisfied: python-dateutil>=2.7.3 in /usr/local/lib/python3.6/dist-packages (from pandas->simple-elmo) (2.8.1)\n",
            "Installing collected packages: simple-elmo\n",
            "Successfully installed simple-elmo-0.6.0\n"
          ],
          "name": "stdout"
        }
      ]
    },
    {
      "cell_type": "code",
      "metadata": {
        "colab": {
          "base_uri": "https://localhost:8080/"
        },
        "id": "tHo92J-dFFcY",
        "outputId": "c1e9decc-17c3-45a5-bea7-018e3ac8538d"
      },
      "source": [
        "! pip install tensorflow==2.4.1"
      ],
      "execution_count": 4,
      "outputs": [
        {
          "output_type": "stream",
          "text": [
            "Requirement already satisfied: tensorflow==2.4.1 in /usr/local/lib/python3.6/dist-packages (2.4.1)\n",
            "Requirement already satisfied: gast==0.3.3 in /usr/local/lib/python3.6/dist-packages (from tensorflow==2.4.1) (0.3.3)\n",
            "Requirement already satisfied: tensorboard~=2.4 in /usr/local/lib/python3.6/dist-packages (from tensorflow==2.4.1) (2.4.1)\n",
            "Requirement already satisfied: termcolor~=1.1.0 in /usr/local/lib/python3.6/dist-packages (from tensorflow==2.4.1) (1.1.0)\n",
            "Requirement already satisfied: keras-preprocessing~=1.1.2 in /usr/local/lib/python3.6/dist-packages (from tensorflow==2.4.1) (1.1.2)\n",
            "Requirement already satisfied: six~=1.15.0 in /usr/local/lib/python3.6/dist-packages (from tensorflow==2.4.1) (1.15.0)\n",
            "Requirement already satisfied: astunparse~=1.6.3 in /usr/local/lib/python3.6/dist-packages (from tensorflow==2.4.1) (1.6.3)\n",
            "Requirement already satisfied: wrapt~=1.12.1 in /usr/local/lib/python3.6/dist-packages (from tensorflow==2.4.1) (1.12.1)\n",
            "Requirement already satisfied: grpcio~=1.32.0 in /usr/local/lib/python3.6/dist-packages (from tensorflow==2.4.1) (1.32.0)\n",
            "Requirement already satisfied: flatbuffers~=1.12.0 in /usr/local/lib/python3.6/dist-packages (from tensorflow==2.4.1) (1.12)\n",
            "Requirement already satisfied: tensorflow-estimator<2.5.0,>=2.4.0 in /usr/local/lib/python3.6/dist-packages (from tensorflow==2.4.1) (2.4.0)\n",
            "Requirement already satisfied: absl-py~=0.10 in /usr/local/lib/python3.6/dist-packages (from tensorflow==2.4.1) (0.10.0)\n",
            "Requirement already satisfied: h5py~=2.10.0 in /usr/local/lib/python3.6/dist-packages (from tensorflow==2.4.1) (2.10.0)\n",
            "Requirement already satisfied: google-pasta~=0.2 in /usr/local/lib/python3.6/dist-packages (from tensorflow==2.4.1) (0.2.0)\n",
            "Requirement already satisfied: opt-einsum~=3.3.0 in /usr/local/lib/python3.6/dist-packages (from tensorflow==2.4.1) (3.3.0)\n",
            "Requirement already satisfied: typing-extensions~=3.7.4 in /usr/local/lib/python3.6/dist-packages (from tensorflow==2.4.1) (3.7.4.3)\n",
            "Requirement already satisfied: numpy~=1.19.2 in /usr/local/lib/python3.6/dist-packages (from tensorflow==2.4.1) (1.19.5)\n",
            "Requirement already satisfied: wheel~=0.35 in /usr/local/lib/python3.6/dist-packages (from tensorflow==2.4.1) (0.36.2)\n",
            "Requirement already satisfied: protobuf>=3.9.2 in /usr/local/lib/python3.6/dist-packages (from tensorflow==2.4.1) (3.12.4)\n",
            "Requirement already satisfied: setuptools in /usr/local/lib/python3.6/dist-packages (from protobuf>=3.9.2->tensorflow==2.4.1) (53.0.0)\n",
            "Requirement already satisfied: google-auth<2,>=1.6.3 in /usr/local/lib/python3.6/dist-packages (from tensorboard~=2.4->tensorflow==2.4.1) (1.25.0)\n",
            "Requirement already satisfied: requests<3,>=2.21.0 in /usr/local/lib/python3.6/dist-packages (from tensorboard~=2.4->tensorflow==2.4.1) (2.23.0)\n",
            "Requirement already satisfied: werkzeug>=0.11.15 in /usr/local/lib/python3.6/dist-packages (from tensorboard~=2.4->tensorflow==2.4.1) (1.0.1)\n",
            "Requirement already satisfied: tensorboard-plugin-wit>=1.6.0 in /usr/local/lib/python3.6/dist-packages (from tensorboard~=2.4->tensorflow==2.4.1) (1.8.0)\n",
            "Requirement already satisfied: google-auth-oauthlib<0.5,>=0.4.1 in /usr/local/lib/python3.6/dist-packages (from tensorboard~=2.4->tensorflow==2.4.1) (0.4.2)\n",
            "Requirement already satisfied: markdown>=2.6.8 in /usr/local/lib/python3.6/dist-packages (from tensorboard~=2.4->tensorflow==2.4.1) (3.3.3)\n",
            "Requirement already satisfied: cachetools<5.0,>=2.0.0 in /usr/local/lib/python3.6/dist-packages (from google-auth<2,>=1.6.3->tensorboard~=2.4->tensorflow==2.4.1) (4.2.1)\n",
            "Requirement already satisfied: rsa<5,>=3.1.4 in /usr/local/lib/python3.6/dist-packages (from google-auth<2,>=1.6.3->tensorboard~=2.4->tensorflow==2.4.1) (4.7)\n",
            "Requirement already satisfied: pyasn1-modules>=0.2.1 in /usr/local/lib/python3.6/dist-packages (from google-auth<2,>=1.6.3->tensorboard~=2.4->tensorflow==2.4.1) (0.2.8)\n",
            "Requirement already satisfied: requests-oauthlib>=0.7.0 in /usr/local/lib/python3.6/dist-packages (from google-auth-oauthlib<0.5,>=0.4.1->tensorboard~=2.4->tensorflow==2.4.1) (1.3.0)\n",
            "Requirement already satisfied: importlib-metadata in /usr/local/lib/python3.6/dist-packages (from markdown>=2.6.8->tensorboard~=2.4->tensorflow==2.4.1) (3.4.0)\n",
            "Requirement already satisfied: pyasn1<0.5.0,>=0.4.6 in /usr/local/lib/python3.6/dist-packages (from pyasn1-modules>=0.2.1->google-auth<2,>=1.6.3->tensorboard~=2.4->tensorflow==2.4.1) (0.4.8)\n",
            "Requirement already satisfied: idna<3,>=2.5 in /usr/local/lib/python3.6/dist-packages (from requests<3,>=2.21.0->tensorboard~=2.4->tensorflow==2.4.1) (2.10)\n",
            "Requirement already satisfied: urllib3!=1.25.0,!=1.25.1,<1.26,>=1.21.1 in /usr/local/lib/python3.6/dist-packages (from requests<3,>=2.21.0->tensorboard~=2.4->tensorflow==2.4.1) (1.24.3)\n",
            "Requirement already satisfied: certifi>=2017.4.17 in /usr/local/lib/python3.6/dist-packages (from requests<3,>=2.21.0->tensorboard~=2.4->tensorflow==2.4.1) (2020.12.5)\n",
            "Requirement already satisfied: chardet<4,>=3.0.2 in /usr/local/lib/python3.6/dist-packages (from requests<3,>=2.21.0->tensorboard~=2.4->tensorflow==2.4.1) (3.0.4)\n",
            "Requirement already satisfied: oauthlib>=3.0.0 in /usr/local/lib/python3.6/dist-packages (from requests-oauthlib>=0.7.0->google-auth-oauthlib<0.5,>=0.4.1->tensorboard~=2.4->tensorflow==2.4.1) (3.1.0)\n",
            "Requirement already satisfied: zipp>=0.5 in /usr/local/lib/python3.6/dist-packages (from importlib-metadata->markdown>=2.6.8->tensorboard~=2.4->tensorflow==2.4.1) (3.4.0)\n"
          ],
          "name": "stdout"
        }
      ]
    },
    {
      "cell_type": "code",
      "metadata": {
        "colab": {
          "base_uri": "https://localhost:8080/",
          "height": 0
        },
        "id": "DAZnBJEH9_sT",
        "outputId": "dc6bb058-decc-4953-abc0-c7f7f022f966"
      },
      "source": [
        "!pip install git+https://github.com/deepmipt/deepPavlovEval"
      ],
      "execution_count": 5,
      "outputs": [
        {
          "output_type": "stream",
          "text": [
            "Collecting git+https://github.com/deepmipt/deepPavlovEval\n",
            "  Cloning https://github.com/deepmipt/deepPavlovEval to /tmp/pip-req-build-tp0m6aac\n",
            "  Running command git clone -q https://github.com/deepmipt/deepPavlovEval /tmp/pip-req-build-tp0m6aac\n",
            "Requirement already satisfied: numpy in /usr/local/lib/python3.6/dist-packages (from deepPavlovEval==0.1) (1.19.5)\n",
            "Requirement already satisfied: pandas in /usr/local/lib/python3.6/dist-packages (from deepPavlovEval==0.1) (1.1.5)\n",
            "Collecting deeppavlov\n",
            "  Downloading deeppavlov-0.14.0-py3-none-any.whl (988 kB)\n",
            "\u001b[K     |████████████████████████████████| 988 kB 5.7 MB/s \n",
            "\u001b[?25hCollecting tensorflow-hub==0.1.1\n",
            "  Downloading tensorflow_hub-0.1.1-py2.py3-none-any.whl (52 kB)\n",
            "\u001b[K     |████████████████████████████████| 52 kB 749 kB/s \n",
            "\u001b[?25hCollecting pybind11==2.2.3\n",
            "  Downloading pybind11-2.2.3-py2.py3-none-any.whl (144 kB)\n",
            "\u001b[K     |████████████████████████████████| 144 kB 12.7 MB/s \n",
            "\u001b[?25hRequirement already satisfied: pyparsing in /usr/local/lib/python3.6/dist-packages (from deepPavlovEval==0.1) (2.4.7)\n",
            "Collecting gensim==2.3.0\n",
            "  Downloading gensim-2.3.0.tar.gz (17.2 MB)\n",
            "\u001b[K     |████████████████████████████████| 17.2 MB 145 kB/s \n",
            "\u001b[?25hCollecting tensorflow-gpu==1.10.0\n",
            "  Downloading tensorflow_gpu-1.10.0-cp36-cp36m-manylinux1_x86_64.whl (253.2 MB)\n",
            "\u001b[K     |████████████████████████████████| 253.2 MB 16 kB/s \n",
            "\u001b[?25hRequirement already satisfied: scipy in /usr/local/lib/python3.6/dist-packages (from deepPavlovEval==0.1) (1.4.1)\n",
            "Requirement already satisfied: sklearn in /usr/local/lib/python3.6/dist-packages (from deepPavlovEval==0.1) (0.0)\n",
            "Requirement already satisfied: matplotlib in /usr/local/lib/python3.6/dist-packages (from deepPavlovEval==0.1) (3.2.2)\n",
            "Requirement already satisfied: seaborn in /usr/local/lib/python3.6/dist-packages (from deepPavlovEval==0.1) (0.11.1)\n",
            "Requirement already satisfied: six>=1.5.0 in /usr/local/lib/python3.6/dist-packages (from gensim==2.3.0->deepPavlovEval==0.1) (1.15.0)\n",
            "Requirement already satisfied: smart_open>=1.2.1 in /usr/local/lib/python3.6/dist-packages (from gensim==2.3.0->deepPavlovEval==0.1) (4.1.2)\n",
            "Collecting setuptools<=39.1.0\n",
            "  Downloading setuptools-39.1.0-py2.py3-none-any.whl (566 kB)\n",
            "\u001b[K     |████████████████████████████████| 566 kB 78.3 MB/s \n",
            "\u001b[?25hRequirement already satisfied: absl-py>=0.1.6 in /usr/local/lib/python3.6/dist-packages (from tensorflow-gpu==1.10.0->deepPavlovEval==0.1) (0.10.0)\n",
            "Requirement already satisfied: astor>=0.6.0 in /usr/local/lib/python3.6/dist-packages (from tensorflow-gpu==1.10.0->deepPavlovEval==0.1) (0.8.1)\n",
            "Requirement already satisfied: protobuf>=3.6.0 in /usr/local/lib/python3.6/dist-packages (from tensorflow-gpu==1.10.0->deepPavlovEval==0.1) (3.12.4)\n",
            "Requirement already satisfied: gast>=0.2.0 in /usr/local/lib/python3.6/dist-packages (from tensorflow-gpu==1.10.0->deepPavlovEval==0.1) (0.3.3)\n",
            "Requirement already satisfied: grpcio>=1.8.6 in /usr/local/lib/python3.6/dist-packages (from tensorflow-gpu==1.10.0->deepPavlovEval==0.1) (1.32.0)\n",
            "Requirement already satisfied: termcolor>=1.1.0 in /usr/local/lib/python3.6/dist-packages (from tensorflow-gpu==1.10.0->deepPavlovEval==0.1) (1.1.0)\n",
            "Requirement already satisfied: wheel>=0.26 in /usr/local/lib/python3.6/dist-packages (from tensorflow-gpu==1.10.0->deepPavlovEval==0.1) (0.36.2)\n",
            "Collecting numpy\n",
            "  Downloading numpy-1.14.5-cp36-cp36m-manylinux1_x86_64.whl (12.2 MB)\n",
            "\u001b[K     |████████████████████████████████| 12.2 MB 81.9 MB/s \n",
            "\u001b[?25hCollecting tensorboard<1.11.0,>=1.10.0\n",
            "  Downloading tensorboard-1.10.0-py3-none-any.whl (3.3 MB)\n",
            "\u001b[K     |████████████████████████████████| 3.3 MB 59.4 MB/s \n",
            "\u001b[?25hRequirement already satisfied: werkzeug>=0.11.10 in /usr/local/lib/python3.6/dist-packages (from tensorboard<1.11.0,>=1.10.0->tensorflow-gpu==1.10.0->deepPavlovEval==0.1) (1.0.1)\n",
            "Requirement already satisfied: markdown>=2.6.8 in /usr/local/lib/python3.6/dist-packages (from tensorboard<1.11.0,>=1.10.0->tensorflow-gpu==1.10.0->deepPavlovEval==0.1) (3.3.3)\n",
            "Requirement already satisfied: importlib-metadata in /usr/local/lib/python3.6/dist-packages (from markdown>=2.6.8->tensorboard<1.11.0,>=1.10.0->tensorflow-gpu==1.10.0->deepPavlovEval==0.1) (3.4.0)\n",
            "Collecting pymorphy2==0.8\n",
            "  Downloading pymorphy2-0.8-py2.py3-none-any.whl (46 kB)\n",
            "\u001b[K     |████████████████████████████████| 46 kB 3.1 MB/s \n",
            "\u001b[?25hCollecting aio-pika==6.4.1\n",
            "  Downloading aio_pika-6.4.1-py3-none-any.whl (40 kB)\n",
            "\u001b[K     |████████████████████████████████| 40 kB 20 kB/s \n",
            "\u001b[?25hCollecting pytz==2019.1\n",
            "  Downloading pytz-2019.1-py2.py3-none-any.whl (510 kB)\n",
            "\u001b[K     |████████████████████████████████| 510 kB 43.0 MB/s \n",
            "\u001b[?25hCollecting fastapi==0.47.1\n",
            "  Downloading fastapi-0.47.1-py3-none-any.whl (43 kB)\n",
            "\u001b[K     |████████████████████████████████| 43 kB 1.8 MB/s \n",
            "\u001b[?25hCollecting nltk==3.4.5\n",
            "  Downloading nltk-3.4.5.zip (1.5 MB)\n",
            "\u001b[K     |████████████████████████████████| 1.5 MB 56.7 MB/s \n",
            "\u001b[?25hCollecting requests==2.22.0\n",
            "  Downloading requests-2.22.0-py2.py3-none-any.whl (57 kB)\n",
            "\u001b[K     |████████████████████████████████| 57 kB 5.1 MB/s \n",
            "\u001b[?25hCollecting pandas\n",
            "  Downloading pandas-0.25.3-cp36-cp36m-manylinux1_x86_64.whl (10.4 MB)\n",
            "\u001b[K     |████████████████████████████████| 10.4 MB 52.4 MB/s \n",
            "\u001b[?25hRequirement already satisfied: h5py==2.10.0 in /usr/local/lib/python3.6/dist-packages (from deeppavlov->deepPavlovEval==0.1) (2.10.0)\n",
            "Collecting pyopenssl==19.1.0\n",
            "  Downloading pyOpenSSL-19.1.0-py2.py3-none-any.whl (53 kB)\n",
            "\u001b[K     |████████████████████████████████| 53 kB 1.9 MB/s \n",
            "\u001b[?25hCollecting scikit-learn==0.21.2\n",
            "  Downloading scikit_learn-0.21.2-cp36-cp36m-manylinux1_x86_64.whl (6.7 MB)\n",
            "\u001b[K     |████████████████████████████████| 6.7 MB 67.7 MB/s \n",
            "\u001b[?25hCollecting overrides==2.7.0\n",
            "  Downloading overrides-2.7.0.tar.gz (4.5 kB)\n",
            "Collecting deeppavlov\n",
            "  Downloading deeppavlov-0.13.0-py3-none-any.whl (968 kB)\n",
            "\u001b[K     |████████████████████████████████| 968 kB 50.0 MB/s \n",
            "\u001b[?25h  Downloading deeppavlov-0.12.1-py3-none-any.whl (948 kB)\n",
            "\u001b[K     |████████████████████████████████| 948 kB 53.9 MB/s \n",
            "\u001b[?25h  Downloading deeppavlov-0.12.0-py3-none-any.whl (940 kB)\n",
            "\u001b[K     |████████████████████████████████| 940 kB 52.9 MB/s \n",
            "\u001b[?25h  Downloading deeppavlov-0.11.0-py3-none-any.whl (847 kB)\n",
            "\u001b[K     |████████████████████████████████| 847 kB 59.8 MB/s \n",
            "\u001b[?25hCollecting uvicorn==0.11.1\n",
            "  Downloading uvicorn-0.11.1-py3-none-any.whl (42 kB)\n",
            "\u001b[K     |████████████████████████████████| 42 kB 835 kB/s \n",
            "\u001b[?25hCollecting deeppavlov\n",
            "  Downloading deeppavlov-0.10.0-py3-none-any.whl (836 kB)\n",
            "\u001b[K     |████████████████████████████████| 836 kB 66.2 MB/s \n",
            "\u001b[?25hCollecting rusenttokenize==0.0.5\n",
            "  Downloading rusenttokenize-0.0.5-py3-none-any.whl (10 kB)\n",
            "Collecting deeppavlov\n",
            "  Downloading deeppavlov-0.9.1-py3-none-any.whl (777 kB)\n",
            "\u001b[K     |████████████████████████████████| 777 kB 44.8 MB/s \n",
            "\u001b[?25h  Downloading deeppavlov-0.9.0-py3-none-any.whl (777 kB)\n",
            "\u001b[K     |████████████████████████████████| 777 kB 66.6 MB/s \n",
            "\u001b[?25h  Downloading deeppavlov-0.8.0-py3-none-any.whl (750 kB)\n",
            "\u001b[K     |████████████████████████████████| 750 kB 58.3 MB/s \n",
            "\u001b[?25hCollecting pymorphy2-dicts-ru\n",
            "  Downloading pymorphy2_dicts_ru-2.4.417127.4579844-py2.py3-none-any.whl (8.2 MB)\n",
            "\u001b[K     |████████████████████████████████| 8.2 MB 46.5 MB/s \n",
            "\u001b[?25hRequirement already satisfied: tqdm==4.41.1 in /usr/local/lib/python3.6/dist-packages (from deeppavlov->deepPavlovEval==0.1) (4.41.1)\n",
            "Collecting fuzzywuzzy==0.17.0\n",
            "  Downloading fuzzywuzzy-0.17.0-py2.py3-none-any.whl (13 kB)\n",
            "Collecting Cython==0.29.14\n",
            "  Downloading Cython-0.29.14-cp36-cp36m-manylinux1_x86_64.whl (2.1 MB)\n",
            "\u001b[K     |████████████████████████████████| 2.1 MB 66.0 MB/s \n",
            "\u001b[?25hCollecting pytelegrambotapi==3.6.7\n",
            "  Downloading pyTelegramBotAPI-3.6.7.tar.gz (65 kB)\n",
            "\u001b[K     |████████████████████████████████| 65 kB 3.8 MB/s \n",
            "\u001b[?25hCollecting pydantic==1.3\n",
            "  Downloading pydantic-1.3-cp36-cp36m-manylinux2010_x86_64.whl (7.3 MB)\n",
            "\u001b[K     |████████████████████████████████| 7.3 MB 31.9 MB/s \n",
            "\u001b[?25hCollecting deeppavlov\n",
            "  Downloading deeppavlov-0.7.1-py3-none-any.whl (735 kB)\n",
            "\u001b[K     |████████████████████████████████| 735 kB 44.1 MB/s \n",
            "\u001b[?25hCollecting fastapi==0.38.1\n",
            "  Downloading fastapi-0.38.1-py3-none-any.whl (160 kB)\n",
            "\u001b[K     |████████████████████████████████| 160 kB 79.6 MB/s \n",
            "\u001b[?25hCollecting pyopenssl==19.0.0\n",
            "  Downloading pyOpenSSL-19.0.0-py2.py3-none-any.whl (53 kB)\n",
            "\u001b[K     |████████████████████████████████| 53 kB 1.8 MB/s \n",
            "\u001b[?25hCollecting scipy\n",
            "  Downloading scipy-1.3.0-cp36-cp36m-manylinux1_x86_64.whl (25.2 MB)\n",
            "\u001b[K     |████████████████████████████████| 25.2 MB 111 kB/s \n",
            "\u001b[?25hCollecting overrides==1.9\n",
            "  Downloading overrides-1.9.tar.gz (3.4 kB)\n",
            "Collecting pytelegrambotapi==3.6.6\n",
            "  Downloading pyTelegramBotAPI-3.6.6.tar.gz (49 kB)\n",
            "\u001b[K     |████████████████████████████████| 49 kB 5.2 MB/s \n",
            "\u001b[?25hCollecting h5py==2.9.0\n",
            "  Downloading h5py-2.9.0-cp36-cp36m-manylinux1_x86_64.whl (2.8 MB)\n",
            "\u001b[K     |████████████████████████████████| 2.8 MB 40.5 MB/s \n",
            "\u001b[?25hCollecting Cython==0.29.12\n",
            "  Downloading Cython-0.29.12-cp36-cp36m-manylinux1_x86_64.whl (2.1 MB)\n",
            "\u001b[K     |████████████████████████████████| 2.1 MB 53.5 MB/s \n",
            "\u001b[?25hRequirement already satisfied: nltk==3.2.5 in /usr/local/lib/python3.6/dist-packages (from deeppavlov->deepPavlovEval==0.1) (3.2.5)\n",
            "Collecting uvicorn==0.9.0\n",
            "  Downloading uvicorn-0.9.0.tar.gz (24 kB)\n",
            "Collecting deeppavlov\n",
            "  Downloading deeppavlov-0.7.0-py3-none-any.whl (730 kB)\n",
            "\u001b[K     |████████████████████████████████| 730 kB 54.2 MB/s \n",
            "\u001b[?25h  Downloading deeppavlov-0.6.1-py3-none-any.whl (709 kB)\n",
            "\u001b[K     |████████████████████████████████| 709 kB 53.0 MB/s \n",
            "\u001b[?25hCollecting flask==1.1.1\n",
            "  Downloading Flask-1.1.1-py2.py3-none-any.whl (94 kB)\n",
            "\u001b[K     |████████████████████████████████| 94 kB 3.0 MB/s \n",
            "\u001b[?25hCollecting tqdm==4.32.2\n",
            "  Downloading tqdm-4.32.2-py2.py3-none-any.whl (50 kB)\n",
            "\u001b[K     |████████████████████████████████| 50 kB 5.3 MB/s \n",
            "\u001b[?25hCollecting flasgger==0.9.2\n",
            "  Downloading flasgger-0.9.2-py2.py3-none-any.whl (4.1 MB)\n",
            "\u001b[K     |████████████████████████████████| 4.1 MB 51.1 MB/s \n",
            "\u001b[?25hCollecting pandas\n",
            "  Downloading pandas-0.24.2-cp36-cp36m-manylinux1_x86_64.whl (10.1 MB)\n",
            "\u001b[K     |████████████████████████████████| 10.1 MB 52.0 MB/s \n",
            "\u001b[?25hCollecting deeppavlov\n",
            "  Downloading deeppavlov-0.6.0-py3-none-any.whl (709 kB)\n",
            "\u001b[K     |████████████████████████████████| 709 kB 62.5 MB/s \n",
            "\u001b[?25h  Downloading deeppavlov-0.5.1-py3-none-any.whl (696 kB)\n",
            "\u001b[K     |████████████████████████████████| 696 kB 73.3 MB/s \n",
            "\u001b[?25h  Downloading deeppavlov-0.5.0-py3-none-any.whl (692 kB)\n",
            "\u001b[K     |████████████████████████████████| 692 kB 49.8 MB/s \n",
            "\u001b[?25h  Downloading deeppavlov-0.4.0-py3-none-any.whl (682 kB)\n",
            "\u001b[K     |████████████████████████████████| 682 kB 55.6 MB/s \n",
            "\u001b[?25hCollecting fuzzywuzzy==0.16.0\n",
            "  Downloading fuzzywuzzy-0.16.0-py2.py3-none-any.whl (14 kB)\n",
            "Collecting Cython==0.28.5\n",
            "  Downloading Cython-0.28.5-cp36-cp36m-manylinux1_x86_64.whl (3.4 MB)\n",
            "\u001b[K     |████████████████████████████████| 3.4 MB 53.1 MB/s \n",
            "\u001b[?25hCollecting h5py==2.8.0\n",
            "  Downloading h5py-2.8.0-cp36-cp36m-manylinux1_x86_64.whl (2.8 MB)\n",
            "\u001b[K     |████████████████████████████████| 2.8 MB 34.8 MB/s \n",
            "\u001b[?25hCollecting requests==2.19.1\n",
            "  Downloading requests-2.19.1-py2.py3-none-any.whl (91 kB)\n",
            "\u001b[K     |████████████████████████████████| 91 kB 11.9 MB/s \n",
            "\u001b[?25hCollecting keras==2.2.0\n",
            "  Downloading Keras-2.2.0-py2.py3-none-any.whl (300 kB)\n",
            "\u001b[K     |████████████████████████████████| 300 kB 83.0 MB/s \n",
            "\u001b[?25hCollecting pytelegrambotapi==3.5.2\n",
            "  Downloading pyTelegramBotAPI-3.5.2.tar.gz (51 kB)\n",
            "\u001b[K     |████████████████████████████████| 51 kB 274 kB/s \n",
            "\u001b[?25hCollecting flask==1.0.2\n",
            "  Downloading Flask-1.0.2-py2.py3-none-any.whl (91 kB)\n",
            "\u001b[K     |████████████████████████████████| 91 kB 8.8 MB/s \n",
            "\u001b[?25hCollecting scipy\n",
            "  Downloading scipy-1.1.0-cp36-cp36m-manylinux1_x86_64.whl (31.2 MB)\n",
            "\u001b[K     |████████████████████████████████| 31.2 MB 103 kB/s \n",
            "\u001b[?25hCollecting scikit-learn==0.19.1\n",
            "  Downloading scikit_learn-0.19.1-cp36-cp36m-manylinux1_x86_64.whl (12.4 MB)\n",
            "\u001b[K     |████████████████████████████████| 12.4 MB 58.6 MB/s \n",
            "\u001b[?25hCollecting pyopenssl==18.0.0\n",
            "  Downloading pyOpenSSL-18.0.0-py2.py3-none-any.whl (53 kB)\n",
            "\u001b[K     |████████████████████████████████| 53 kB 1.4 MB/s \n",
            "\u001b[?25hCollecting flask-cors==3.0.6\n",
            "  Downloading Flask_Cors-3.0.6-py2.py3-none-any.whl (13 kB)\n",
            "Collecting flasgger==0.9.1\n",
            "  Downloading flasgger-0.9.1-py2.py3-none-any.whl (4.1 MB)\n",
            "\u001b[K     |████████████████████████████████| 4.1 MB 49.8 MB/s \n",
            "\u001b[?25hCollecting pandas\n",
            "  Downloading pandas-0.23.1-cp36-cp36m-manylinux1_x86_64.whl (11.8 MB)\n",
            "\u001b[K     |████████████████████████████████| 11.8 MB 58 kB/s \n",
            "\u001b[?25hCollecting tqdm==4.23.4\n",
            "  Downloading tqdm-4.23.4-py2.py3-none-any.whl (42 kB)\n",
            "\u001b[K     |████████████████████████████████| 42 kB 1.3 MB/s \n",
            "\u001b[?25hCollecting rusenttokenize==0.0.4\n",
            "  Downloading rusenttokenize-0.0.4-py3-none-any.whl (10 kB)\n",
            "Requirement already satisfied: mistune in /usr/local/lib/python3.6/dist-packages (from flasgger==0.9.1->deeppavlov->deepPavlovEval==0.1) (0.8.4)\n",
            "Requirement already satisfied: jsonschema>=2.5.1 in /usr/local/lib/python3.6/dist-packages (from flasgger==0.9.1->deeppavlov->deepPavlovEval==0.1) (2.6.0)\n",
            "Requirement already satisfied: PyYAML>=3.0 in /usr/local/lib/python3.6/dist-packages (from flasgger==0.9.1->deeppavlov->deepPavlovEval==0.1) (3.13)\n",
            "Requirement already satisfied: Jinja2>=2.10 in /usr/local/lib/python3.6/dist-packages (from flask==1.0.2->deeppavlov->deepPavlovEval==0.1) (2.11.3)\n",
            "Requirement already satisfied: itsdangerous>=0.24 in /usr/local/lib/python3.6/dist-packages (from flask==1.0.2->deeppavlov->deepPavlovEval==0.1) (1.1.0)\n",
            "Requirement already satisfied: click>=5.1 in /usr/local/lib/python3.6/dist-packages (from flask==1.0.2->deeppavlov->deepPavlovEval==0.1) (7.1.2)\n",
            "Collecting keras-applications==1.0.2\n",
            "  Downloading Keras_Applications-1.0.2-py2.py3-none-any.whl (43 kB)\n",
            "\u001b[K     |████████████████████████████████| 43 kB 1.6 MB/s \n",
            "\u001b[?25hCollecting keras-preprocessing==1.0.1\n",
            "  Downloading Keras_Preprocessing-1.0.1-py2.py3-none-any.whl (26 kB)\n",
            "Requirement already satisfied: pytz>=2011k in /usr/local/lib/python3.6/dist-packages (from pandas->deepPavlovEval==0.1) (2018.9)\n",
            "Requirement already satisfied: python-dateutil>=2.5.0 in /usr/local/lib/python3.6/dist-packages (from pandas->deepPavlovEval==0.1) (2.8.1)\n",
            "Collecting dawg-python>=0.7\n",
            "  Downloading DAWG_Python-0.7.2-py2.py3-none-any.whl (11 kB)\n",
            "Requirement already satisfied: docopt>=0.6 in /usr/local/lib/python3.6/dist-packages (from pymorphy2==0.8->deeppavlov->deepPavlovEval==0.1) (0.6.2)\n",
            "Collecting pymorphy2-dicts<3.0,>=2.4\n",
            "  Downloading pymorphy2_dicts-2.4.393442.3710985-py2.py3-none-any.whl (7.1 MB)\n",
            "\u001b[K     |████████████████████████████████| 7.1 MB 7.3 MB/s \n",
            "\u001b[?25hCollecting cryptography>=2.2.1\n",
            "  Downloading cryptography-3.4.6-cp36-abi3-manylinux2014_x86_64.whl (3.2 MB)\n",
            "\u001b[K     |████████████████████████████████| 3.2 MB 52.1 MB/s \n",
            "\u001b[?25hRequirement already satisfied: certifi>=2017.4.17 in /usr/local/lib/python3.6/dist-packages (from requests==2.19.1->deeppavlov->deepPavlovEval==0.1) (2020.12.5)\n",
            "Collecting urllib3<1.24,>=1.21.1\n",
            "  Downloading urllib3-1.23-py2.py3-none-any.whl (133 kB)\n",
            "\u001b[K     |████████████████████████████████| 133 kB 67.3 MB/s \n",
            "\u001b[?25hRequirement already satisfied: chardet<3.1.0,>=3.0.2 in /usr/local/lib/python3.6/dist-packages (from requests==2.19.1->deeppavlov->deepPavlovEval==0.1) (3.0.4)\n",
            "Collecting idna<2.8,>=2.5\n",
            "  Downloading idna-2.7-py2.py3-none-any.whl (58 kB)\n",
            "\u001b[K     |████████████████████████████████| 58 kB 5.7 MB/s \n",
            "\u001b[?25hRequirement already satisfied: cffi>=1.12 in /usr/local/lib/python3.6/dist-packages (from cryptography>=2.2.1->pyopenssl==18.0.0->deeppavlov->deepPavlovEval==0.1) (1.14.4)\n",
            "Requirement already satisfied: pycparser in /usr/local/lib/python3.6/dist-packages (from cffi>=1.12->cryptography>=2.2.1->pyopenssl==18.0.0->deeppavlov->deepPavlovEval==0.1) (2.20)\n",
            "Requirement already satisfied: MarkupSafe>=0.23 in /usr/local/lib/python3.6/dist-packages (from Jinja2>=2.10->flask==1.0.2->deeppavlov->deepPavlovEval==0.1) (1.1.1)\n",
            "Requirement already satisfied: typing-extensions>=3.6.4 in /usr/local/lib/python3.6/dist-packages (from importlib-metadata->markdown>=2.6.8->tensorboard<1.11.0,>=1.10.0->tensorflow-gpu==1.10.0->deepPavlovEval==0.1) (3.7.4.3)\n",
            "Requirement already satisfied: zipp>=0.5 in /usr/local/lib/python3.6/dist-packages (from importlib-metadata->markdown>=2.6.8->tensorboard<1.11.0,>=1.10.0->tensorflow-gpu==1.10.0->deepPavlovEval==0.1) (3.4.0)\n",
            "Requirement already satisfied: kiwisolver>=1.0.1 in /usr/local/lib/python3.6/dist-packages (from matplotlib->deepPavlovEval==0.1) (1.3.1)\n",
            "Requirement already satisfied: cycler>=0.10 in /usr/local/lib/python3.6/dist-packages (from matplotlib->deepPavlovEval==0.1) (0.10.0)\n",
            "Collecting seaborn\n",
            "  Downloading seaborn-0.11.0-py3-none-any.whl (283 kB)\n",
            "\u001b[K     |████████████████████████████████| 283 kB 58.0 MB/s \n",
            "\u001b[?25h  Downloading seaborn-0.10.1-py3-none-any.whl (215 kB)\n",
            "\u001b[K     |████████████████████████████████| 215 kB 62.4 MB/s \n",
            "\u001b[?25hBuilding wheels for collected packages: deepPavlovEval, gensim, overrides, pytelegrambotapi\n",
            "  Building wheel for deepPavlovEval (setup.py) ... \u001b[?25l\u001b[?25hdone\n",
            "  Created wheel for deepPavlovEval: filename=deepPavlovEval-0.1-py3-none-any.whl size=16211 sha256=b28926d4c3abc9fe9504c97e4993b12cc9f8f6853b4eac0a7a71fe3685d86708\n",
            "  Stored in directory: /tmp/pip-ephem-wheel-cache-vd_u04un/wheels/ea/ed/9c/fdc05d892fc477435c90f996d385d8d3b94e913730e5f2bccb\n",
            "  Building wheel for gensim (setup.py) ... \u001b[?25l\u001b[?25hdone\n",
            "  Created wheel for gensim: filename=gensim-2.3.0-cp36-cp36m-linux_x86_64.whl size=6504668 sha256=801f1437bc7cb134b43b16ac1df6f9992e0cc09395abe4698055645d0064c066\n",
            "  Stored in directory: /root/.cache/pip/wheels/c4/30/9f/e456c7c131f742d3c6e15fb6dc7f311e606c9ab6f71ee2f165\n",
            "  Building wheel for overrides (setup.py) ... \u001b[?25l\u001b[?25hdone\n",
            "  Created wheel for overrides: filename=overrides-1.9-py3-none-any.whl size=4211 sha256=67c1afb67a1984c63bdbe4c9a0b585e069ca1565f41c4910816f1d0d1b48dd0e\n",
            "  Stored in directory: /root/.cache/pip/wheels/3a/d7/09/26c2c5c02d09a8ce0501a57dbace9b594a0ca5047602b4963a\n",
            "  Building wheel for pytelegrambotapi (setup.py) ... \u001b[?25l\u001b[?25hdone\n",
            "  Created wheel for pytelegrambotapi: filename=pyTelegramBotAPI-3.5.2-py3-none-any.whl size=40498 sha256=097b97b09dfe1d132117ae8d3716724d143c9b61e9f70b049c9fcf3fe5a0f7f9\n",
            "  Stored in directory: /root/.cache/pip/wheels/95/97/24/aceb1144711a04ff939eb42ccbce2cb0f075e1abefee41908a\n",
            "Successfully built deepPavlovEval gensim overrides pytelegrambotapi\n",
            "Installing collected packages: numpy, urllib3, setuptools, scipy, idna, h5py, requests, pymorphy2-dicts, keras-preprocessing, keras-applications, flask, dawg-python, cryptography, tqdm, tensorboard, scikit-learn, rusenttokenize, pytelegrambotapi, pyopenssl, pymorphy2-dicts-ru, pymorphy2, pandas, overrides, keras, fuzzywuzzy, flask-cors, flasgger, Cython, tensorflow-hub, tensorflow-gpu, seaborn, pybind11, gensim, deeppavlov, deepPavlovEval\n",
            "  Attempting uninstall: numpy\n",
            "    Found existing installation: numpy 1.19.5\n",
            "    Uninstalling numpy-1.19.5:\n",
            "      Successfully uninstalled numpy-1.19.5\n",
            "  Attempting uninstall: urllib3\n",
            "    Found existing installation: urllib3 1.24.3\n",
            "    Uninstalling urllib3-1.24.3:\n",
            "      Successfully uninstalled urllib3-1.24.3\n",
            "  Attempting uninstall: setuptools\n",
            "    Found existing installation: setuptools 53.0.0\n",
            "    Uninstalling setuptools-53.0.0:\n",
            "      Successfully uninstalled setuptools-53.0.0\n",
            "  Attempting uninstall: scipy\n",
            "    Found existing installation: scipy 1.4.1\n",
            "    Uninstalling scipy-1.4.1:\n",
            "      Successfully uninstalled scipy-1.4.1\n",
            "  Attempting uninstall: idna\n",
            "    Found existing installation: idna 2.10\n",
            "    Uninstalling idna-2.10:\n",
            "      Successfully uninstalled idna-2.10\n",
            "  Attempting uninstall: h5py\n",
            "    Found existing installation: h5py 2.10.0\n",
            "    Uninstalling h5py-2.10.0:\n",
            "      Successfully uninstalled h5py-2.10.0\n",
            "  Attempting uninstall: requests\n",
            "    Found existing installation: requests 2.23.0\n",
            "    Uninstalling requests-2.23.0:\n",
            "      Successfully uninstalled requests-2.23.0\n",
            "  Attempting uninstall: keras-preprocessing\n",
            "    Found existing installation: Keras-Preprocessing 1.1.2\n",
            "    Uninstalling Keras-Preprocessing-1.1.2:\n",
            "      Successfully uninstalled Keras-Preprocessing-1.1.2\n",
            "  Attempting uninstall: flask\n",
            "    Found existing installation: Flask 1.1.2\n",
            "    Uninstalling Flask-1.1.2:\n",
            "      Successfully uninstalled Flask-1.1.2\n",
            "  Attempting uninstall: tqdm\n",
            "    Found existing installation: tqdm 4.41.1\n",
            "    Uninstalling tqdm-4.41.1:\n",
            "      Successfully uninstalled tqdm-4.41.1\n",
            "  Attempting uninstall: tensorboard\n",
            "    Found existing installation: tensorboard 2.4.1\n",
            "    Uninstalling tensorboard-2.4.1:\n",
            "      Successfully uninstalled tensorboard-2.4.1\n",
            "  Attempting uninstall: scikit-learn\n",
            "    Found existing installation: scikit-learn 0.22.2.post1\n",
            "    Uninstalling scikit-learn-0.22.2.post1:\n",
            "      Successfully uninstalled scikit-learn-0.22.2.post1\n",
            "  Attempting uninstall: pandas\n",
            "    Found existing installation: pandas 1.1.5\n",
            "    Uninstalling pandas-1.1.5:\n",
            "      Successfully uninstalled pandas-1.1.5\n",
            "  Attempting uninstall: keras\n",
            "    Found existing installation: Keras 2.4.3\n",
            "    Uninstalling Keras-2.4.3:\n",
            "      Successfully uninstalled Keras-2.4.3\n",
            "  Attempting uninstall: Cython\n",
            "    Found existing installation: Cython 0.29.21\n",
            "    Uninstalling Cython-0.29.21:\n",
            "      Successfully uninstalled Cython-0.29.21\n",
            "  Attempting uninstall: tensorflow-hub\n",
            "    Found existing installation: tensorflow-hub 0.11.0\n",
            "    Uninstalling tensorflow-hub-0.11.0:\n",
            "      Successfully uninstalled tensorflow-hub-0.11.0\n",
            "  Attempting uninstall: seaborn\n",
            "    Found existing installation: seaborn 0.11.1\n",
            "    Uninstalling seaborn-0.11.1:\n",
            "      Successfully uninstalled seaborn-0.11.1\n",
            "  Attempting uninstall: gensim\n",
            "    Found existing installation: gensim 3.6.0\n",
            "    Uninstalling gensim-3.6.0:\n",
            "      Successfully uninstalled gensim-3.6.0\n",
            "\u001b[31mERROR: pip's dependency resolver does not currently take into account all the packages that are installed. This behaviour is the source of the following dependency conflicts.\n",
            "yellowbrick 0.9.1 requires scikit-learn>=0.20, but you have scikit-learn 0.19.1 which is incompatible.\n",
            "xarray 0.15.1 requires numpy>=1.15, but you have numpy 1.14.5 which is incompatible.\n",
            "xarray 0.15.1 requires pandas>=0.25, but you have pandas 0.23.1 which is incompatible.\n",
            "xarray 0.15.1 requires setuptools>=41.2, but you have setuptools 39.1.0 which is incompatible.\n",
            "umap-learn 0.5.0 requires numpy>=1.17, but you have numpy 1.14.5 which is incompatible.\n",
            "umap-learn 0.5.0 requires scikit-learn>=0.22, but you have scikit-learn 0.19.1 which is incompatible.\n",
            "tifffile 2020.9.3 requires numpy>=1.15.1, but you have numpy 1.14.5 which is incompatible.\n",
            "tensorflow 2.4.1 requires h5py~=2.10.0, but you have h5py 2.8.0 which is incompatible.\n",
            "tensorflow 2.4.1 requires keras-preprocessing~=1.1.2, but you have keras-preprocessing 1.0.1 which is incompatible.\n",
            "tensorflow 2.4.1 requires numpy~=1.19.2, but you have numpy 1.14.5 which is incompatible.\n",
            "tensorflow 2.4.1 requires tensorboard~=2.4, but you have tensorboard 1.10.0 which is incompatible.\n",
            "spacy 2.2.4 requires numpy>=1.15.0, but you have numpy 1.14.5 which is incompatible.\n",
            "spacy 2.2.4 requires tqdm<5.0.0,>=4.38.0, but you have tqdm 4.23.4 which is incompatible.\n",
            "plotnine 0.6.0 requires numpy>=1.16.0, but you have numpy 1.14.5 which is incompatible.\n",
            "plotnine 0.6.0 requires pandas>=0.25.0, but you have pandas 0.23.1 which is incompatible.\n",
            "plotnine 0.6.0 requires scipy>=1.2.0, but you have scipy 1.1.0 which is incompatible.\n",
            "numba 0.51.2 requires numpy>=1.15, but you have numpy 1.14.5 which is incompatible.\n",
            "mizani 0.6.0 requires pandas>=0.25.0, but you have pandas 0.23.1 which is incompatible.\n",
            "librosa 0.8.0 requires numpy>=1.15.0, but you have numpy 1.14.5 which is incompatible.\n",
            "imgaug 0.2.9 requires numpy>=1.15.0, but you have numpy 1.14.5 which is incompatible.\n",
            "imbalanced-learn 0.4.3 requires scikit-learn>=0.20, but you have scikit-learn 0.19.1 which is incompatible.\n",
            "google-colab 1.0.0 requires pandas~=1.1.0; python_version >= \"3.0\", but you have pandas 0.23.1 which is incompatible.\n",
            "google-colab 1.0.0 requires requests~=2.23.0, but you have requests 2.19.1 which is incompatible.\n",
            "google-auth 1.25.0 requires setuptools>=40.3.0, but you have setuptools 39.1.0 which is incompatible.\n",
            "fbprophet 0.7.1 requires numpy>=1.15.4, but you have numpy 1.14.5 which is incompatible.\n",
            "fbprophet 0.7.1 requires pandas>=1.0.4, but you have pandas 0.23.1 which is incompatible.\n",
            "fbprophet 0.7.1 requires tqdm>=4.36.1, but you have tqdm 4.23.4 which is incompatible.\n",
            "fastai 1.0.61 requires numpy>=1.15, but you have numpy 1.14.5 which is incompatible.\n",
            "datascience 0.10.6 requires folium==0.2.1, but you have folium 0.8.3 which is incompatible.\n",
            "cvxpy 1.0.31 requires numpy>=1.15, but you have numpy 1.14.5 which is incompatible.\n",
            "blis 0.4.1 requires numpy>=1.15.0, but you have numpy 1.14.5 which is incompatible.\n",
            "astropy 4.1 requires numpy>=1.16, but you have numpy 1.14.5 which is incompatible.\n",
            "albumentations 0.1.12 requires imgaug<0.2.7,>=0.2.5, but you have imgaug 0.2.9 which is incompatible.\u001b[0m\n",
            "Successfully installed Cython-0.28.5 cryptography-3.4.6 dawg-python-0.7.2 deepPavlovEval-0.1 deeppavlov-0.4.0 flasgger-0.9.1 flask-1.0.2 flask-cors-3.0.6 fuzzywuzzy-0.16.0 gensim-2.3.0 h5py-2.8.0 idna-2.7 keras-2.2.0 keras-applications-1.0.2 keras-preprocessing-1.0.1 numpy-1.14.5 overrides-1.9 pandas-0.23.1 pybind11-2.2.3 pymorphy2-0.8 pymorphy2-dicts-2.4.393442.3710985 pymorphy2-dicts-ru-2.4.417127.4579844 pyopenssl-18.0.0 pytelegrambotapi-3.5.2 requests-2.19.1 rusenttokenize-0.0.4 scikit-learn-0.19.1 scipy-1.1.0 seaborn-0.10.1 setuptools-39.1.0 tensorboard-1.10.0 tensorflow-gpu-1.10.0 tensorflow-hub-0.1.1 tqdm-4.23.4 urllib3-1.23\n"
          ],
          "name": "stdout"
        },
        {
          "output_type": "display_data",
          "data": {
            "application/vnd.colab-display-data+json": {
              "pip_warning": {
                "packages": [
                  "numpy",
                  "pandas",
                  "pkg_resources"
                ]
              }
            }
          },
          "metadata": {
            "tags": []
          }
        }
      ]
    },
    {
      "cell_type": "code",
      "metadata": {
        "colab": {
          "base_uri": "https://localhost:8080/"
        },
        "id": "nnNt0X_YG_-r",
        "outputId": "bff91d0a-d50b-4177-b5f6-5a0fe7fddb11"
      },
      "source": [
        "!pip install deeppavlov"
      ],
      "execution_count": 6,
      "outputs": [
        {
          "output_type": "stream",
          "text": [
            "Requirement already satisfied: deeppavlov in /usr/local/lib/python3.6/dist-packages (0.4.0)\n",
            "Requirement already satisfied: pandas==0.23.1 in /usr/local/lib/python3.6/dist-packages (from deeppavlov) (0.23.1)\n",
            "Requirement already satisfied: flask-cors==3.0.6 in /usr/local/lib/python3.6/dist-packages (from deeppavlov) (3.0.6)\n",
            "Requirement already satisfied: flask==1.0.2 in /usr/local/lib/python3.6/dist-packages (from deeppavlov) (1.0.2)\n",
            "Requirement already satisfied: pymorphy2-dicts-ru in /usr/local/lib/python3.6/dist-packages (from deeppavlov) (2.4.417127.4579844)\n",
            "Requirement already satisfied: overrides==1.9 in /usr/local/lib/python3.6/dist-packages (from deeppavlov) (1.9)\n",
            "Requirement already satisfied: h5py==2.8.0 in /usr/local/lib/python3.6/dist-packages (from deeppavlov) (2.8.0)\n",
            "Requirement already satisfied: tqdm==4.23.4 in /usr/local/lib/python3.6/dist-packages (from deeppavlov) (4.23.4)\n",
            "Requirement already satisfied: scikit-learn==0.19.1 in /usr/local/lib/python3.6/dist-packages (from deeppavlov) (0.19.1)\n",
            "Requirement already satisfied: keras==2.2.0 in /usr/local/lib/python3.6/dist-packages (from deeppavlov) (2.2.0)\n",
            "Requirement already satisfied: pymorphy2==0.8 in /usr/local/lib/python3.6/dist-packages (from deeppavlov) (0.8)\n",
            "Requirement already satisfied: numpy==1.14.5 in /usr/local/lib/python3.6/dist-packages (from deeppavlov) (1.14.5)\n",
            "Requirement already satisfied: nltk==3.2.5 in /usr/local/lib/python3.6/dist-packages (from deeppavlov) (3.2.5)\n",
            "Requirement already satisfied: rusenttokenize==0.0.4 in /usr/local/lib/python3.6/dist-packages (from deeppavlov) (0.0.4)\n",
            "Requirement already satisfied: pytelegrambotapi==3.5.2 in /usr/local/lib/python3.6/dist-packages (from deeppavlov) (3.5.2)\n",
            "Requirement already satisfied: pyopenssl==18.0.0 in /usr/local/lib/python3.6/dist-packages (from deeppavlov) (18.0.0)\n",
            "Requirement already satisfied: flasgger==0.9.1 in /usr/local/lib/python3.6/dist-packages (from deeppavlov) (0.9.1)\n",
            "Requirement already satisfied: fuzzywuzzy==0.16.0 in /usr/local/lib/python3.6/dist-packages (from deeppavlov) (0.16.0)\n",
            "Requirement already satisfied: requests==2.19.1 in /usr/local/lib/python3.6/dist-packages (from deeppavlov) (2.19.1)\n",
            "Requirement already satisfied: scipy==1.1.0 in /usr/local/lib/python3.6/dist-packages (from deeppavlov) (1.1.0)\n",
            "Requirement already satisfied: Cython==0.28.5 in /usr/local/lib/python3.6/dist-packages (from deeppavlov) (0.28.5)\n",
            "Requirement already satisfied: mistune in /usr/local/lib/python3.6/dist-packages (from flasgger==0.9.1->deeppavlov) (0.8.4)\n",
            "Requirement already satisfied: jsonschema>=2.5.1 in /usr/local/lib/python3.6/dist-packages (from flasgger==0.9.1->deeppavlov) (2.6.0)\n",
            "Requirement already satisfied: PyYAML>=3.0 in /usr/local/lib/python3.6/dist-packages (from flasgger==0.9.1->deeppavlov) (3.13)\n",
            "Requirement already satisfied: six>=1.10.0 in /usr/local/lib/python3.6/dist-packages (from flasgger==0.9.1->deeppavlov) (1.15.0)\n",
            "Requirement already satisfied: click>=5.1 in /usr/local/lib/python3.6/dist-packages (from flask==1.0.2->deeppavlov) (7.1.2)\n",
            "Requirement already satisfied: Jinja2>=2.10 in /usr/local/lib/python3.6/dist-packages (from flask==1.0.2->deeppavlov) (2.11.3)\n",
            "Requirement already satisfied: Werkzeug>=0.14 in /usr/local/lib/python3.6/dist-packages (from flask==1.0.2->deeppavlov) (1.0.1)\n",
            "Requirement already satisfied: itsdangerous>=0.24 in /usr/local/lib/python3.6/dist-packages (from flask==1.0.2->deeppavlov) (1.1.0)\n",
            "Requirement already satisfied: keras-applications==1.0.2 in /usr/local/lib/python3.6/dist-packages (from keras==2.2.0->deeppavlov) (1.0.2)\n",
            "Requirement already satisfied: keras-preprocessing==1.0.1 in /usr/local/lib/python3.6/dist-packages (from keras==2.2.0->deeppavlov) (1.0.1)\n",
            "Requirement already satisfied: python-dateutil>=2.5.0 in /usr/local/lib/python3.6/dist-packages (from pandas==0.23.1->deeppavlov) (2.8.1)\n",
            "Requirement already satisfied: pytz>=2011k in /usr/local/lib/python3.6/dist-packages (from pandas==0.23.1->deeppavlov) (2018.9)\n",
            "Requirement already satisfied: dawg-python>=0.7 in /usr/local/lib/python3.6/dist-packages (from pymorphy2==0.8->deeppavlov) (0.7.2)\n",
            "Requirement already satisfied: pymorphy2-dicts<3.0,>=2.4 in /usr/local/lib/python3.6/dist-packages (from pymorphy2==0.8->deeppavlov) (2.4.393442.3710985)\n",
            "Requirement already satisfied: docopt>=0.6 in /usr/local/lib/python3.6/dist-packages (from pymorphy2==0.8->deeppavlov) (0.6.2)\n",
            "Requirement already satisfied: cryptography>=2.2.1 in /usr/local/lib/python3.6/dist-packages (from pyopenssl==18.0.0->deeppavlov) (3.4.6)\n",
            "Requirement already satisfied: certifi>=2017.4.17 in /usr/local/lib/python3.6/dist-packages (from requests==2.19.1->deeppavlov) (2020.12.5)\n",
            "Requirement already satisfied: chardet<3.1.0,>=3.0.2 in /usr/local/lib/python3.6/dist-packages (from requests==2.19.1->deeppavlov) (3.0.4)\n",
            "Requirement already satisfied: idna<2.8,>=2.5 in /usr/local/lib/python3.6/dist-packages (from requests==2.19.1->deeppavlov) (2.7)\n",
            "Requirement already satisfied: urllib3<1.24,>=1.21.1 in /usr/local/lib/python3.6/dist-packages (from requests==2.19.1->deeppavlov) (1.23)\n",
            "Requirement already satisfied: cffi>=1.12 in /usr/local/lib/python3.6/dist-packages (from cryptography>=2.2.1->pyopenssl==18.0.0->deeppavlov) (1.14.4)\n",
            "Requirement already satisfied: pycparser in /usr/local/lib/python3.6/dist-packages (from cffi>=1.12->cryptography>=2.2.1->pyopenssl==18.0.0->deeppavlov) (2.20)\n",
            "Requirement already satisfied: MarkupSafe>=0.23 in /usr/local/lib/python3.6/dist-packages (from Jinja2>=2.10->flask==1.0.2->deeppavlov) (1.1.1)\n"
          ],
          "name": "stdout"
        }
      ]
    },
    {
      "cell_type": "code",
      "metadata": {
        "colab": {
          "base_uri": "https://localhost:8080/",
          "height": 0
        },
        "id": "jxaG4WaFGUmr",
        "outputId": "f5978660-8af6-4ebc-983c-373c666aae8b"
      },
      "source": [
        "!pip install tensorflow --upgrade --force-reinstall"
      ],
      "execution_count": 7,
      "outputs": [
        {
          "output_type": "stream",
          "text": [
            "Collecting tensorflow\n",
            "  Downloading tensorflow-2.4.1-cp36-cp36m-manylinux2010_x86_64.whl (394.3 MB)\n",
            "\u001b[K     |████████████████████████████████| 394.3 MB 19 kB/s \n",
            "\u001b[?25hCollecting astunparse~=1.6.3\n",
            "  Downloading astunparse-1.6.3-py2.py3-none-any.whl (12 kB)\n",
            "Collecting tensorflow-estimator<2.5.0,>=2.4.0\n",
            "  Downloading tensorflow_estimator-2.4.0-py2.py3-none-any.whl (462 kB)\n",
            "\u001b[K     |████████████████████████████████| 462 kB 53.4 MB/s \n",
            "\u001b[?25hCollecting typing-extensions~=3.7.4\n",
            "  Downloading typing_extensions-3.7.4.3-py3-none-any.whl (22 kB)\n",
            "Collecting gast==0.3.3\n",
            "  Downloading gast-0.3.3-py2.py3-none-any.whl (9.7 kB)\n",
            "Collecting six~=1.15.0\n",
            "  Downloading six-1.15.0-py2.py3-none-any.whl (10 kB)\n",
            "Collecting termcolor~=1.1.0\n",
            "  Downloading termcolor-1.1.0.tar.gz (3.9 kB)\n",
            "Collecting wheel~=0.35\n",
            "  Downloading wheel-0.36.2-py2.py3-none-any.whl (35 kB)\n",
            "Collecting grpcio~=1.32.0\n",
            "  Downloading grpcio-1.32.0-cp36-cp36m-manylinux2014_x86_64.whl (3.8 MB)\n",
            "\u001b[K     |████████████████████████████████| 3.8 MB 32.4 MB/s \n",
            "\u001b[?25hCollecting numpy~=1.19.2\n",
            "  Downloading numpy-1.19.5-cp36-cp36m-manylinux2010_x86_64.whl (14.8 MB)\n",
            "\u001b[K     |████████████████████████████████| 14.8 MB 257 kB/s \n",
            "\u001b[?25hCollecting flatbuffers~=1.12.0\n",
            "  Downloading flatbuffers-1.12-py2.py3-none-any.whl (15 kB)\n",
            "Collecting tensorboard~=2.4\n",
            "  Downloading tensorboard-2.4.1-py3-none-any.whl (10.6 MB)\n",
            "\u001b[K     |████████████████████████████████| 10.6 MB 40.2 MB/s \n",
            "\u001b[?25hCollecting wrapt~=1.12.1\n",
            "  Downloading wrapt-1.12.1.tar.gz (27 kB)\n",
            "Collecting keras-preprocessing~=1.1.2\n",
            "  Downloading Keras_Preprocessing-1.1.2-py2.py3-none-any.whl (42 kB)\n",
            "\u001b[K     |████████████████████████████████| 42 kB 1.1 MB/s \n",
            "\u001b[?25hCollecting opt-einsum~=3.3.0\n",
            "  Downloading opt_einsum-3.3.0-py3-none-any.whl (65 kB)\n",
            "\u001b[K     |████████████████████████████████| 65 kB 3.9 MB/s \n",
            "\u001b[?25hCollecting google-pasta~=0.2\n",
            "  Downloading google_pasta-0.2.0-py3-none-any.whl (57 kB)\n",
            "\u001b[K     |████████████████████████████████| 57 kB 5.0 MB/s \n",
            "\u001b[?25hCollecting h5py~=2.10.0\n",
            "  Downloading h5py-2.10.0-cp36-cp36m-manylinux1_x86_64.whl (2.9 MB)\n",
            "\u001b[K     |████████████████████████████████| 2.9 MB 64.3 MB/s \n",
            "\u001b[?25hCollecting absl-py~=0.10\n",
            "  Downloading absl_py-0.11.0-py3-none-any.whl (127 kB)\n",
            "\u001b[K     |████████████████████████████████| 127 kB 67.9 MB/s \n",
            "\u001b[?25hCollecting protobuf>=3.9.2\n",
            "  Downloading protobuf-3.15.1-cp36-cp36m-manylinux1_x86_64.whl (1.0 MB)\n",
            "\u001b[K     |████████████████████████████████| 1.0 MB 58.1 MB/s \n",
            "\u001b[?25hCollecting markdown>=2.6.8\n",
            "  Downloading Markdown-3.3.3-py3-none-any.whl (96 kB)\n",
            "\u001b[K     |████████████████████████████████| 96 kB 5.1 MB/s \n",
            "\u001b[?25hCollecting google-auth-oauthlib<0.5,>=0.4.1\n",
            "  Downloading google_auth_oauthlib-0.4.2-py2.py3-none-any.whl (18 kB)\n",
            "Collecting werkzeug>=0.11.15\n",
            "  Downloading Werkzeug-1.0.1-py2.py3-none-any.whl (298 kB)\n",
            "\u001b[K     |████████████████████████████████| 298 kB 61.4 MB/s \n",
            "\u001b[?25hCollecting setuptools>=41.0.0\n",
            "  Downloading setuptools-53.0.0-py3-none-any.whl (784 kB)\n",
            "\u001b[K     |████████████████████████████████| 784 kB 44.9 MB/s \n",
            "\u001b[?25hCollecting google-auth<2,>=1.6.3\n",
            "  Downloading google_auth-1.27.0-py2.py3-none-any.whl (135 kB)\n",
            "\u001b[K     |████████████████████████████████| 135 kB 78.8 MB/s \n",
            "\u001b[?25hCollecting tensorboard-plugin-wit>=1.6.0\n",
            "  Downloading tensorboard_plugin_wit-1.8.0-py3-none-any.whl (781 kB)\n",
            "\u001b[K     |████████████████████████████████| 781 kB 69.4 MB/s \n",
            "\u001b[?25hCollecting requests<3,>=2.21.0\n",
            "  Downloading requests-2.25.1-py2.py3-none-any.whl (61 kB)\n",
            "\u001b[K     |████████████████████████████████| 61 kB 7.6 MB/s \n",
            "\u001b[?25hCollecting rsa<5,>=3.1.4\n",
            "  Downloading rsa-4.7.1-py3-none-any.whl (36 kB)\n",
            "Collecting cachetools<5.0,>=2.0.0\n",
            "  Downloading cachetools-4.2.1-py3-none-any.whl (12 kB)\n",
            "Collecting pyasn1-modules>=0.2.1\n",
            "  Downloading pyasn1_modules-0.2.8-py2.py3-none-any.whl (155 kB)\n",
            "\u001b[K     |████████████████████████████████| 155 kB 67.7 MB/s \n",
            "\u001b[?25hCollecting requests-oauthlib>=0.7.0\n",
            "  Downloading requests_oauthlib-1.3.0-py2.py3-none-any.whl (23 kB)\n",
            "Collecting importlib-metadata\n",
            "  Downloading importlib_metadata-3.4.0-py3-none-any.whl (10 kB)\n",
            "Collecting pyasn1<0.5.0,>=0.4.6\n",
            "  Downloading pyasn1-0.4.8-py2.py3-none-any.whl (77 kB)\n",
            "\u001b[K     |████████████████████████████████| 77 kB 5.5 MB/s \n",
            "\u001b[?25hCollecting urllib3<1.27,>=1.21.1\n",
            "  Downloading urllib3-1.26.3-py2.py3-none-any.whl (137 kB)\n",
            "\u001b[K     |████████████████████████████████| 137 kB 68.5 MB/s \n",
            "\u001b[?25hCollecting certifi>=2017.4.17\n",
            "  Downloading certifi-2020.12.5-py2.py3-none-any.whl (147 kB)\n",
            "\u001b[K     |████████████████████████████████| 147 kB 71.4 MB/s \n",
            "\u001b[?25hCollecting idna<3,>=2.5\n",
            "  Downloading idna-2.10-py2.py3-none-any.whl (58 kB)\n",
            "\u001b[K     |████████████████████████████████| 58 kB 5.6 MB/s \n",
            "\u001b[?25hCollecting chardet<5,>=3.0.2\n",
            "  Downloading chardet-4.0.0-py2.py3-none-any.whl (178 kB)\n",
            "\u001b[K     |████████████████████████████████| 178 kB 60.4 MB/s \n",
            "\u001b[?25hCollecting oauthlib>=3.0.0\n",
            "  Downloading oauthlib-3.1.0-py2.py3-none-any.whl (147 kB)\n",
            "\u001b[K     |████████████████████████████████| 147 kB 76.6 MB/s \n",
            "\u001b[?25hCollecting zipp>=0.5\n",
            "  Downloading zipp-3.4.0-py3-none-any.whl (5.2 kB)\n",
            "Building wheels for collected packages: termcolor, wrapt\n",
            "  Building wheel for termcolor (setup.py) ... \u001b[?25l\u001b[?25hdone\n",
            "  Created wheel for termcolor: filename=termcolor-1.1.0-py3-none-any.whl size=4829 sha256=18f7c063a98ee09da8005f7a4945f62504ae4a309577688761c689c6ae80fd17\n",
            "  Stored in directory: /root/.cache/pip/wheels/93/2a/eb/e58dbcbc963549ee4f065ff80a59f274cc7210b6eab962acdc\n",
            "  Building wheel for wrapt (setup.py) ... \u001b[?25l\u001b[?25hdone\n",
            "  Created wheel for wrapt: filename=wrapt-1.12.1-cp36-cp36m-linux_x86_64.whl size=67533 sha256=ab9de0bcaffbb7a1e34c2c6670a11b51fb5a6464125ee8e931bf769928ed723d\n",
            "  Stored in directory: /root/.cache/pip/wheels/32/42/7f/23cae9ff6ef66798d00dc5d659088e57dbba01566f6c60db63\n",
            "Successfully built termcolor wrapt\n",
            "Installing collected packages: urllib3, pyasn1, idna, chardet, certifi, zipp, typing-extensions, six, setuptools, rsa, requests, pyasn1-modules, oauthlib, cachetools, requests-oauthlib, importlib-metadata, google-auth, wheel, werkzeug, tensorboard-plugin-wit, protobuf, numpy, markdown, grpcio, google-auth-oauthlib, absl-py, wrapt, termcolor, tensorflow-estimator, tensorboard, opt-einsum, keras-preprocessing, h5py, google-pasta, gast, flatbuffers, astunparse, tensorflow\n",
            "  Attempting uninstall: urllib3\n",
            "    Found existing installation: urllib3 1.23\n",
            "    Uninstalling urllib3-1.23:\n",
            "      Successfully uninstalled urllib3-1.23\n",
            "  Attempting uninstall: pyasn1\n",
            "    Found existing installation: pyasn1 0.4.8\n",
            "    Uninstalling pyasn1-0.4.8:\n",
            "      Successfully uninstalled pyasn1-0.4.8\n",
            "  Attempting uninstall: idna\n",
            "    Found existing installation: idna 2.7\n",
            "    Uninstalling idna-2.7:\n",
            "      Successfully uninstalled idna-2.7\n",
            "  Attempting uninstall: chardet\n",
            "    Found existing installation: chardet 3.0.4\n",
            "    Uninstalling chardet-3.0.4:\n",
            "      Successfully uninstalled chardet-3.0.4\n",
            "  Attempting uninstall: certifi\n",
            "    Found existing installation: certifi 2020.12.5\n",
            "    Uninstalling certifi-2020.12.5:\n",
            "      Successfully uninstalled certifi-2020.12.5\n",
            "  Attempting uninstall: zipp\n",
            "    Found existing installation: zipp 3.4.0\n",
            "    Uninstalling zipp-3.4.0:\n",
            "      Successfully uninstalled zipp-3.4.0\n",
            "  Attempting uninstall: typing-extensions\n",
            "    Found existing installation: typing-extensions 3.7.4.3\n",
            "    Uninstalling typing-extensions-3.7.4.3:\n",
            "      Successfully uninstalled typing-extensions-3.7.4.3\n",
            "  Attempting uninstall: six\n",
            "    Found existing installation: six 1.15.0\n",
            "    Uninstalling six-1.15.0:\n",
            "      Successfully uninstalled six-1.15.0\n",
            "  Attempting uninstall: setuptools\n",
            "    Found existing installation: setuptools 39.1.0\n",
            "    Uninstalling setuptools-39.1.0:\n",
            "      Successfully uninstalled setuptools-39.1.0\n",
            "  Attempting uninstall: rsa\n",
            "    Found existing installation: rsa 4.7\n",
            "    Uninstalling rsa-4.7:\n",
            "      Successfully uninstalled rsa-4.7\n",
            "  Attempting uninstall: requests\n",
            "    Found existing installation: requests 2.19.1\n",
            "    Uninstalling requests-2.19.1:\n",
            "      Successfully uninstalled requests-2.19.1\n",
            "  Attempting uninstall: pyasn1-modules\n",
            "    Found existing installation: pyasn1-modules 0.2.8\n",
            "    Uninstalling pyasn1-modules-0.2.8:\n",
            "      Successfully uninstalled pyasn1-modules-0.2.8\n",
            "  Attempting uninstall: oauthlib\n",
            "    Found existing installation: oauthlib 3.1.0\n",
            "    Uninstalling oauthlib-3.1.0:\n",
            "      Successfully uninstalled oauthlib-3.1.0\n",
            "  Attempting uninstall: cachetools\n",
            "    Found existing installation: cachetools 4.2.1\n",
            "    Uninstalling cachetools-4.2.1:\n",
            "      Successfully uninstalled cachetools-4.2.1\n",
            "  Attempting uninstall: requests-oauthlib\n",
            "    Found existing installation: requests-oauthlib 1.3.0\n",
            "    Uninstalling requests-oauthlib-1.3.0:\n",
            "      Successfully uninstalled requests-oauthlib-1.3.0\n",
            "  Attempting uninstall: importlib-metadata\n",
            "    Found existing installation: importlib-metadata 3.4.0\n",
            "    Uninstalling importlib-metadata-3.4.0:\n",
            "      Successfully uninstalled importlib-metadata-3.4.0\n",
            "  Attempting uninstall: google-auth\n",
            "    Found existing installation: google-auth 1.25.0\n",
            "    Uninstalling google-auth-1.25.0:\n",
            "      Successfully uninstalled google-auth-1.25.0\n",
            "  Attempting uninstall: wheel\n",
            "    Found existing installation: wheel 0.36.2\n",
            "    Uninstalling wheel-0.36.2:\n",
            "      Successfully uninstalled wheel-0.36.2\n",
            "  Attempting uninstall: werkzeug\n",
            "    Found existing installation: Werkzeug 1.0.1\n",
            "    Uninstalling Werkzeug-1.0.1:\n",
            "      Successfully uninstalled Werkzeug-1.0.1\n",
            "  Attempting uninstall: tensorboard-plugin-wit\n",
            "    Found existing installation: tensorboard-plugin-wit 1.8.0\n",
            "    Uninstalling tensorboard-plugin-wit-1.8.0:\n",
            "      Successfully uninstalled tensorboard-plugin-wit-1.8.0\n",
            "  Attempting uninstall: protobuf\n",
            "    Found existing installation: protobuf 3.12.4\n",
            "    Uninstalling protobuf-3.12.4:\n",
            "      Successfully uninstalled protobuf-3.12.4\n",
            "  Attempting uninstall: numpy\n",
            "    Found existing installation: numpy 1.14.5\n",
            "    Uninstalling numpy-1.14.5:\n",
            "      Successfully uninstalled numpy-1.14.5\n",
            "  Attempting uninstall: markdown\n",
            "    Found existing installation: Markdown 3.3.3\n",
            "    Uninstalling Markdown-3.3.3:\n",
            "      Successfully uninstalled Markdown-3.3.3\n",
            "  Attempting uninstall: grpcio\n",
            "    Found existing installation: grpcio 1.32.0\n",
            "    Uninstalling grpcio-1.32.0:\n",
            "      Successfully uninstalled grpcio-1.32.0\n",
            "  Attempting uninstall: google-auth-oauthlib\n",
            "    Found existing installation: google-auth-oauthlib 0.4.2\n",
            "    Uninstalling google-auth-oauthlib-0.4.2:\n",
            "      Successfully uninstalled google-auth-oauthlib-0.4.2\n",
            "  Attempting uninstall: absl-py\n",
            "    Found existing installation: absl-py 0.10.0\n",
            "    Uninstalling absl-py-0.10.0:\n",
            "      Successfully uninstalled absl-py-0.10.0\n",
            "  Attempting uninstall: wrapt\n",
            "    Found existing installation: wrapt 1.12.1\n",
            "    Uninstalling wrapt-1.12.1:\n",
            "      Successfully uninstalled wrapt-1.12.1\n",
            "  Attempting uninstall: termcolor\n",
            "    Found existing installation: termcolor 1.1.0\n",
            "    Uninstalling termcolor-1.1.0:\n",
            "      Successfully uninstalled termcolor-1.1.0\n",
            "  Attempting uninstall: tensorflow-estimator\n",
            "    Found existing installation: tensorflow-estimator 2.4.0\n",
            "    Uninstalling tensorflow-estimator-2.4.0:\n",
            "      Successfully uninstalled tensorflow-estimator-2.4.0\n",
            "  Attempting uninstall: tensorboard\n",
            "    Found existing installation: tensorboard 1.10.0\n",
            "    Uninstalling tensorboard-1.10.0:\n",
            "      Successfully uninstalled tensorboard-1.10.0\n",
            "  Attempting uninstall: opt-einsum\n",
            "    Found existing installation: opt-einsum 3.3.0\n",
            "    Uninstalling opt-einsum-3.3.0:\n",
            "      Successfully uninstalled opt-einsum-3.3.0\n",
            "  Attempting uninstall: keras-preprocessing\n",
            "    Found existing installation: Keras-Preprocessing 1.0.1\n",
            "    Uninstalling Keras-Preprocessing-1.0.1:\n",
            "      Successfully uninstalled Keras-Preprocessing-1.0.1\n",
            "  Attempting uninstall: h5py\n",
            "    Found existing installation: h5py 2.8.0\n",
            "    Uninstalling h5py-2.8.0:\n",
            "      Successfully uninstalled h5py-2.8.0\n",
            "  Attempting uninstall: google-pasta\n",
            "    Found existing installation: google-pasta 0.2.0\n",
            "    Uninstalling google-pasta-0.2.0:\n",
            "      Successfully uninstalled google-pasta-0.2.0\n",
            "  Attempting uninstall: gast\n",
            "    Found existing installation: gast 0.3.3\n",
            "    Uninstalling gast-0.3.3:\n",
            "      Successfully uninstalled gast-0.3.3\n",
            "  Attempting uninstall: flatbuffers\n",
            "    Found existing installation: flatbuffers 1.12\n",
            "    Uninstalling flatbuffers-1.12:\n",
            "      Successfully uninstalled flatbuffers-1.12\n",
            "  Attempting uninstall: astunparse\n",
            "    Found existing installation: astunparse 1.6.3\n",
            "    Uninstalling astunparse-1.6.3:\n",
            "      Successfully uninstalled astunparse-1.6.3\n",
            "  Attempting uninstall: tensorflow\n",
            "    Found existing installation: tensorflow 2.4.1\n",
            "    Uninstalling tensorflow-2.4.1:\n",
            "      Successfully uninstalled tensorflow-2.4.1\n",
            "\u001b[31mERROR: pip's dependency resolver does not currently take into account all the packages that are installed. This behaviour is the source of the following dependency conflicts.\n",
            "yellowbrick 0.9.1 requires scikit-learn>=0.20, but you have scikit-learn 0.19.1 which is incompatible.\n",
            "xarray 0.15.1 requires pandas>=0.25, but you have pandas 0.23.1 which is incompatible.\n",
            "umap-learn 0.5.0 requires scikit-learn>=0.22, but you have scikit-learn 0.19.1 which is incompatible.\n",
            "tensorflow-metadata 0.27.0 requires absl-py<0.11,>=0.9, but you have absl-py 0.11.0 which is incompatible.\n",
            "tensorflow-gpu 1.10.0 requires numpy<=1.14.5,>=1.13.3, but you have numpy 1.19.5 which is incompatible.\n",
            "tensorflow-gpu 1.10.0 requires setuptools<=39.1.0, but you have setuptools 53.0.0 which is incompatible.\n",
            "tensorflow-gpu 1.10.0 requires tensorboard<1.11.0,>=1.10.0, but you have tensorboard 2.4.1 which is incompatible.\n",
            "spacy 2.2.4 requires tqdm<5.0.0,>=4.38.0, but you have tqdm 4.23.4 which is incompatible.\n",
            "plotnine 0.6.0 requires pandas>=0.25.0, but you have pandas 0.23.1 which is incompatible.\n",
            "plotnine 0.6.0 requires scipy>=1.2.0, but you have scipy 1.1.0 which is incompatible.\n",
            "nbclient 0.5.2 requires jupyter-client>=6.1.5, but you have jupyter-client 5.3.5 which is incompatible.\n",
            "mizani 0.6.0 requires pandas>=0.25.0, but you have pandas 0.23.1 which is incompatible.\n",
            "keras 2.2.0 requires keras-preprocessing==1.0.1, but you have keras-preprocessing 1.1.2 which is incompatible.\n",
            "imbalanced-learn 0.4.3 requires scikit-learn>=0.20, but you have scikit-learn 0.19.1 which is incompatible.\n",
            "google-colab 1.0.0 requires pandas~=1.1.0; python_version >= \"3.0\", but you have pandas 0.23.1 which is incompatible.\n",
            "google-colab 1.0.0 requires requests~=2.23.0, but you have requests 2.25.1 which is incompatible.\n",
            "fbprophet 0.7.1 requires pandas>=1.0.4, but you have pandas 0.23.1 which is incompatible.\n",
            "fbprophet 0.7.1 requires tqdm>=4.36.1, but you have tqdm 4.23.4 which is incompatible.\n",
            "deeppavlov 0.4.0 requires h5py==2.8.0, but you have h5py 2.10.0 which is incompatible.\n",
            "deeppavlov 0.4.0 requires numpy==1.14.5, but you have numpy 1.19.5 which is incompatible.\n",
            "deeppavlov 0.4.0 requires requests==2.19.1, but you have requests 2.25.1 which is incompatible.\n",
            "datascience 0.10.6 requires folium==0.2.1, but you have folium 0.8.3 which is incompatible.\n",
            "albumentations 0.1.12 requires imgaug<0.2.7,>=0.2.5, but you have imgaug 0.2.9 which is incompatible.\u001b[0m\n",
            "Successfully installed absl-py-0.11.0 astunparse-1.6.3 cachetools-4.2.1 certifi-2020.12.5 chardet-4.0.0 flatbuffers-1.12 gast-0.3.3 google-auth-1.27.0 google-auth-oauthlib-0.4.2 google-pasta-0.2.0 grpcio-1.32.0 h5py-2.10.0 idna-2.10 importlib-metadata-3.4.0 keras-preprocessing-1.1.2 markdown-3.3.3 numpy-1.19.5 oauthlib-3.1.0 opt-einsum-3.3.0 protobuf-3.15.1 pyasn1-0.4.8 pyasn1-modules-0.2.8 requests-2.25.1 requests-oauthlib-1.3.0 rsa-4.7.1 setuptools-53.0.0 six-1.15.0 tensorboard-2.4.1 tensorboard-plugin-wit-1.8.0 tensorflow-2.4.1 tensorflow-estimator-2.4.0 termcolor-1.1.0 typing-extensions-3.7.4.3 urllib3-1.26.3 werkzeug-1.0.1 wheel-0.36.2 wrapt-1.12.1 zipp-3.4.0\n"
          ],
          "name": "stdout"
        },
        {
          "output_type": "display_data",
          "data": {
            "application/vnd.colab-display-data+json": {
              "pip_warning": {
                "packages": [
                  "google",
                  "numpy",
                  "pkg_resources",
                  "six"
                ]
              }
            }
          },
          "metadata": {
            "tags": []
          }
        }
      ]
    },
    {
      "cell_type": "code",
      "metadata": {
        "colab": {
          "base_uri": "https://localhost:8080/"
        },
        "id": "chAQlIHDvrAJ",
        "outputId": "50dd8fe5-4ad5-4629-a834-d601e9d845c3"
      },
      "source": [
        "!pip install gensim==3.8.0"
      ],
      "execution_count": 8,
      "outputs": [
        {
          "output_type": "stream",
          "text": [
            "Collecting gensim==3.8.0\n",
            "  Downloading gensim-3.8.0-cp36-cp36m-manylinux1_x86_64.whl (24.2 MB)\n",
            "\u001b[K     |████████████████████████████████| 24.2 MB 1.4 MB/s \n",
            "\u001b[?25hRequirement already satisfied: six>=1.5.0 in /usr/local/lib/python3.6/dist-packages (from gensim==3.8.0) (1.15.0)\n",
            "Requirement already satisfied: scipy>=0.18.1 in /usr/local/lib/python3.6/dist-packages (from gensim==3.8.0) (1.1.0)\n",
            "Requirement already satisfied: numpy>=1.11.3 in /usr/local/lib/python3.6/dist-packages (from gensim==3.8.0) (1.19.5)\n",
            "Requirement already satisfied: smart-open>=1.7.0 in /usr/local/lib/python3.6/dist-packages (from gensim==3.8.0) (4.1.2)\n",
            "Installing collected packages: gensim\n",
            "  Attempting uninstall: gensim\n",
            "    Found existing installation: gensim 2.3.0\n",
            "    Uninstalling gensim-2.3.0:\n",
            "      Successfully uninstalled gensim-2.3.0\n",
            "\u001b[31mERROR: pip's dependency resolver does not currently take into account all the packages that are installed. This behaviour is the source of the following dependency conflicts.\n",
            "deeppavloveval 0.1 requires gensim==2.3.0, but you have gensim 3.8.0 which is incompatible.\u001b[0m\n",
            "Successfully installed gensim-3.8.0\n"
          ],
          "name": "stdout"
        }
      ]
    },
    {
      "cell_type": "markdown",
      "metadata": {
        "id": "S8ZHVggfjg6T"
      },
      "source": [
        "### Imports"
      ]
    },
    {
      "cell_type": "code",
      "metadata": {
        "id": "tdnIs9ySjfJ_"
      },
      "source": [
        "import deeppavlov\r\n",
        "import numpy as np\r\n",
        "import nltk\r\n",
        "import pandas as pd\r\n",
        "import pickle\r\n",
        "\r\n",
        "from deepPavlovEval import datautils\r\n",
        "from deeppavlov.dataset_readers.paraphraser_reader import ParaphraserReader\r\n",
        "from gensim.models.keyedvectors import  KeyedVectors, FastTextKeyedVectors\r\n",
        "from gensim.test.utils import datapath\r\n",
        "from collections import Counter\r\n",
        "from nltk.tokenize import word_tokenize\r\n",
        "from pymystem3 import Mystem\r\n",
        "from scipy.stats import pearsonr\r\n",
        "from simple_elmo import ElmoModel\r\n",
        "from sklearn.decomposition import TruncatedSVD\r\n",
        "from string import punctuation\r\n",
        "from tqdm import tqdm_notebook"
      ],
      "execution_count": 9,
      "outputs": []
    },
    {
      "cell_type": "code",
      "metadata": {
        "colab": {
          "base_uri": "https://localhost:8080/"
        },
        "id": "Nm1JJTO1hISL",
        "outputId": "8bff9c91-b750-4b45-92b3-dfd2e9999138"
      },
      "source": [
        "nltk.download('punkt')"
      ],
      "execution_count": 10,
      "outputs": [
        {
          "output_type": "stream",
          "text": [
            "[nltk_data] Downloading package punkt to /root/nltk_data...\n",
            "[nltk_data]   Unzipping tokenizers/punkt.zip.\n"
          ],
          "name": "stdout"
        },
        {
          "output_type": "execute_result",
          "data": {
            "text/plain": [
              "True"
            ]
          },
          "metadata": {
            "tags": []
          },
          "execution_count": 10
        }
      ]
    },
    {
      "cell_type": "markdown",
      "metadata": {
        "id": "b_Lt2skVmBWR"
      },
      "source": [
        "### Initializations"
      ]
    },
    {
      "cell_type": "code",
      "metadata": {
        "id": "7prggtx7mC4J"
      },
      "source": [
        "mystem_analyzer = Mystem()  # initialize lemmatizer / POS analyzer\r\n",
        "# tqdm_notebook().pandas(*args, **kwargs)\r\n",
        "flatten = lambda l: [item for sublist in l for item in sublist]  # generally handy function"
      ],
      "execution_count": 211,
      "outputs": []
    },
    {
      "cell_type": "markdown",
      "metadata": {
        "id": "XbjUNEVkgiL_"
      },
      "source": [
        "Common preprocessing"
      ]
    },
    {
      "cell_type": "code",
      "metadata": {
        "id": "GqcdB_Pogkun"
      },
      "source": [
        "def tokenize(text):\r\n",
        "    tokens = word_tokenize(text.lower())\r\n",
        "    return [token for token in tokens if token != \" \" and token.strip() not in punctuation + '«»']"
      ],
      "execution_count": 12,
      "outputs": []
    },
    {
      "cell_type": "code",
      "metadata": {
        "id": "glgQrJl9NWZA"
      },
      "source": [
        "def cos_sim(v1, v2):\r\n",
        "    return np.inner(v1, v2)/(np.linalg.norm(v1)*np.linalg.norm(v2))"
      ],
      "execution_count": 13,
      "outputs": []
    },
    {
      "cell_type": "markdown",
      "metadata": {
        "id": "ym9qoGWBivUL"
      },
      "source": [
        "# 1. Set up word vectors"
      ]
    },
    {
      "cell_type": "markdown",
      "metadata": {
        "id": "X5qDHw4ei1Fe"
      },
      "source": [
        "## 1.1. Skipgram\r\n",
        "Note that the model uses Universal Dependency POS tags and we need to attach the tags to look up the words in the model"
      ]
    },
    {
      "cell_type": "markdown",
      "metadata": {
        "id": "v_JXegpFpmaU"
      },
      "source": [
        "### 1.1.1. Load the model"
      ]
    },
    {
      "cell_type": "code",
      "metadata": {
        "colab": {
          "base_uri": "https://localhost:8080/"
        },
        "id": "KZ9B9SNviHl_",
        "outputId": "a438e1b1-0dcc-4182-85c0-c7827d5c8d33"
      },
      "source": [
        "!wget http://vectors.nlpl.eu/repository/20/185.zip \r\n",
        "!unzip 185.zip -d /185"
      ],
      "execution_count": 14,
      "outputs": [
        {
          "output_type": "stream",
          "text": [
            "--2021-02-20 17:09:29--  http://vectors.nlpl.eu/repository/20/185.zip\n",
            "Resolving vectors.nlpl.eu (vectors.nlpl.eu)... 129.240.189.181\n",
            "Connecting to vectors.nlpl.eu (vectors.nlpl.eu)|129.240.189.181|:80... connected.\n",
            "HTTP request sent, awaiting response... 200 OK\n",
            "Length: 639268566 (610M) [application/zip]\n",
            "Saving to: ‘185.zip’\n",
            "\n",
            "185.zip             100%[===================>] 609.65M  23.5MB/s    in 27s     \n",
            "\n",
            "2021-02-20 17:09:56 (22.5 MB/s) - ‘185.zip’ saved [639268566/639268566]\n",
            "\n",
            "Archive:  185.zip\n",
            "  inflating: /185/meta.json          \n",
            "  inflating: /185/model.bin          \n",
            "  inflating: /185/model.txt          \n",
            "  inflating: /185/README             \n"
          ],
          "name": "stdout"
        }
      ]
    },
    {
      "cell_type": "code",
      "metadata": {
        "id": "pN0YIy7fjXKZ"
      },
      "source": [
        "skipgram_model = KeyedVectors.load_word2vec_format('/185/model.bin', binary=True)"
      ],
      "execution_count": 15,
      "outputs": []
    },
    {
      "cell_type": "code",
      "metadata": {
        "colab": {
          "base_uri": "https://localhost:8080/"
        },
        "id": "qIoHUuoAlXel",
        "outputId": "b534e993-d375-4031-a2c3-ffc55883c7a8"
      },
      "source": [
        "skipgram_model['сок_NOUN']"
      ],
      "execution_count": 16,
      "outputs": [
        {
          "output_type": "execute_result",
          "data": {
            "text/plain": [
              "array([-0.08099871, -0.07964684,  0.14386585, -0.43131432,  0.20225914,\n",
              "       -0.07856081, -0.44900608, -0.04367054,  0.09742382, -0.4288675 ,\n",
              "       -0.6394641 , -0.36070755,  0.24424982, -0.17829788, -0.22998579,\n",
              "        0.32191253,  0.08742036,  0.16346864,  0.20877619,  0.09263267,\n",
              "       -0.07815196, -0.29388112,  0.13611834,  0.528291  ,  0.06399126,\n",
              "        0.11340062,  0.5236766 ,  0.14278895, -0.28039816,  0.2727956 ,\n",
              "       -0.20747079, -0.2084978 ,  0.07029346, -0.45236102,  0.13124529,\n",
              "       -0.31452668, -0.3109191 ,  0.19610703,  0.0846853 ,  0.25168318,\n",
              "        0.6365907 ,  0.4371937 , -0.19672993, -0.38342577, -0.14342354,\n",
              "        0.02790144,  0.1147646 , -0.0919205 , -0.3337107 , -0.2234547 ,\n",
              "       -0.0123342 ,  0.00343434,  0.02184114,  0.05203297,  0.10262688,\n",
              "       -0.68969965,  0.07867927,  0.60214436,  0.27626538, -0.18604952,\n",
              "        0.04802926,  0.15835124,  0.2553374 ,  0.29401794,  0.34163678,\n",
              "        0.12013741, -0.09235196, -0.3989918 , -0.2011238 , -0.30877784,\n",
              "       -0.06724928,  0.01402505, -0.30820116, -0.30514553, -0.07890139,\n",
              "       -0.01453827,  0.12554233, -0.48006085,  0.3657539 , -0.0701543 ,\n",
              "        0.06386126, -0.37149817, -0.4464555 , -0.30702412, -0.34150702,\n",
              "        0.07586947,  0.04457833, -0.08789457, -0.2893881 ,  0.35044292,\n",
              "        0.37679297, -0.03526387,  0.25214684,  0.13162164,  0.330508  ,\n",
              "        0.2341898 , -0.38042402, -0.3428097 , -0.25036302, -0.17135826,\n",
              "        0.01350094,  0.08831044,  0.12854943,  0.49345553,  0.09880897,\n",
              "        0.05121654,  0.24970785, -0.3221134 ,  0.06656136, -0.08301326,\n",
              "        0.32050475,  0.21572767,  0.01403761, -0.01064486,  0.2877658 ,\n",
              "       -0.04710456, -0.09107763, -0.26574898,  0.2185943 , -0.27634522,\n",
              "       -0.12646323, -0.28078854, -0.09930933, -0.12851785, -0.1150675 ,\n",
              "        0.5064843 , -0.11617829,  0.00608938, -0.20224929, -0.08548257,\n",
              "       -0.04008673, -0.18568188,  0.23816098, -0.02575778, -0.52434224,\n",
              "        0.13911279, -0.5552682 ,  0.04017576, -0.21539886,  0.22683759,\n",
              "        0.42010838, -0.05633824,  0.11107736, -0.16521466,  0.07257266,\n",
              "       -0.02033618, -0.21842878,  0.10108753, -0.37253878,  0.14376022,\n",
              "       -0.00871289,  0.22473879, -0.13896659,  0.00770791,  0.2754138 ,\n",
              "        0.1474383 , -0.02972685, -0.33704412,  0.25646618, -0.0903269 ,\n",
              "        0.02898494,  0.3386479 ,  0.07028697,  0.03611956, -0.10254315,\n",
              "        0.00167537, -0.27079335, -0.01922675,  0.10664219, -0.01853675,\n",
              "       -0.05189406, -0.11892556,  0.364589  ,  0.18351881, -0.3617691 ,\n",
              "        0.1372234 , -0.33842963,  0.01141481, -0.15118986,  0.36435983,\n",
              "       -0.17559233, -0.20520541,  0.25241578,  0.06650537,  0.33083057,\n",
              "        0.02905286, -0.29574034, -0.16765691,  0.02811269, -0.2534615 ,\n",
              "        0.21459857,  0.0317073 , -0.15159917, -0.09587698,  0.2410251 ,\n",
              "       -0.0012186 ,  0.09904926, -0.02405695,  0.08974742, -0.34852064,\n",
              "        0.2529911 ,  0.07953527,  0.17567772, -0.42211217,  0.25583196,\n",
              "       -0.04012526,  0.3294086 , -0.04427246, -0.06695329,  0.45657128,\n",
              "       -0.17039202,  0.2314158 , -0.03319976, -0.12969254,  0.05139792,\n",
              "        0.35036814,  0.08348063, -0.01123733,  0.29222885, -0.01106861,\n",
              "       -0.3650419 ,  0.2377126 , -0.10359734, -0.07121368, -0.06152437,\n",
              "       -0.27451798, -0.51970166, -0.01717161,  0.04292818, -0.301824  ,\n",
              "       -0.14329557,  0.46929538, -0.24669391, -0.20056787, -0.18563093,\n",
              "       -0.02898672, -0.32857025,  0.08702312, -0.27921167, -0.40470222,\n",
              "       -0.05898605,  0.20879927,  0.01514133,  0.12980959, -0.06258789,\n",
              "        0.00841644,  0.12649296,  0.190905  ,  0.24615629, -0.0413968 ,\n",
              "       -0.32014546, -0.07778392, -0.13943009, -0.22569963, -0.15810418,\n",
              "       -0.28765562, -0.1356908 ,  0.09197848, -0.5255629 ,  0.25453177,\n",
              "        0.35488808, -0.19135341,  0.09075934, -0.02702235,  0.12982519,\n",
              "        0.50404066, -0.07796656,  0.02088998, -0.18660635, -0.620726  ,\n",
              "       -0.23350134, -0.1464334 ,  0.17030868,  0.19002129,  0.52291316,\n",
              "        0.26469246,  0.1691078 , -0.3160769 ,  0.1250147 ,  0.30604777,\n",
              "       -0.11202532, -0.45132273, -0.32390562, -0.06039042,  0.10184733,\n",
              "       -0.01835661,  0.25466436, -0.27776748, -0.019248  ,  0.11832531,\n",
              "        0.00607263, -0.00849356, -0.44063535,  0.30771753, -0.06502986,\n",
              "        0.19384892, -0.24044955, -0.35996813,  0.48204872, -0.22000325],\n",
              "      dtype=float32)"
            ]
          },
          "metadata": {
            "tags": []
          },
          "execution_count": 16
        }
      ]
    },
    {
      "cell_type": "markdown",
      "metadata": {
        "id": "-T3q192gmi7m"
      },
      "source": [
        "### 1.1.2. Preprocessing: lemmatization + get the correct POS tags"
      ]
    },
    {
      "cell_type": "code",
      "metadata": {
        "colab": {
          "base_uri": "https://localhost:8080/"
        },
        "id": "RCghb0uspKXM",
        "outputId": "446203e3-3844-4873-d6c2-25f72e39dcc1"
      },
      "source": [
        "# translation from Mystem POS tags to UD POS tags\r\n",
        "!wget https://raw.githubusercontent.com/akutuzov/universal-pos-tags/4653e8a9154e93fe2f417c7fdb7a357b7d6ce333/ru-rnc.map"
      ],
      "execution_count": 17,
      "outputs": [
        {
          "output_type": "stream",
          "text": [
            "--2021-02-20 17:10:16--  https://raw.githubusercontent.com/akutuzov/universal-pos-tags/4653e8a9154e93fe2f417c7fdb7a357b7d6ce333/ru-rnc.map\n",
            "Resolving raw.githubusercontent.com (raw.githubusercontent.com)... 185.199.110.133, 185.199.108.133, 185.199.111.133, ...\n",
            "Connecting to raw.githubusercontent.com (raw.githubusercontent.com)|185.199.110.133|:443... connected.\n",
            "HTTP request sent, awaiting response... 200 OK\n",
            "Length: 4093 (4.0K) [text/plain]\n",
            "Saving to: ‘ru-rnc.map’\n",
            "\n",
            "\rru-rnc.map            0%[                    ]       0  --.-KB/s               \rru-rnc.map          100%[===================>]   4.00K  --.-KB/s    in 0s      \n",
            "\n",
            "2021-02-20 17:10:16 (64.0 MB/s) - ‘ru-rnc.map’ saved [4093/4093]\n",
            "\n"
          ],
          "name": "stdout"
        }
      ]
    },
    {
      "cell_type": "code",
      "metadata": {
        "id": "AdPFp9DLpNfE"
      },
      "source": [
        "translate_POS = {}\r\n",
        "with open('ru-rnc.map', 'r') as f:\r\n",
        "  for line in f.readlines():\r\n",
        "    Mystem_POS, UD_POS = line.split()\r\n",
        "    translate_POS[Mystem_POS] = UD_POS"
      ],
      "execution_count": 18,
      "outputs": []
    },
    {
      "cell_type": "code",
      "metadata": {
        "id": "PFysu0KnmkOS"
      },
      "source": [
        "ex_text = 'я хочу спать'.split()\r\n",
        "# mystem_analyzer.analyze(word) for word in sent\r\n",
        "# [{'gr': 'SPRO,ед,1-л=им', 'lex': 'я', 'wt': 0.9999716282},\r\n",
        "#  {'gr': 'V,несов,пе=непрош,ед,изъяв,1-л', 'lex': 'хотеть', 'wt': 1},\r\n",
        "#  {'gr': 'V,несов,нп=инф', 'lex': 'спать', 'wt': 1}]"
      ],
      "execution_count": 19,
      "outputs": []
    },
    {
      "cell_type": "code",
      "metadata": {
        "colab": {
          "base_uri": "https://localhost:8080/"
        },
        "id": "LY7h1lsza8Ef",
        "outputId": "29c680a4-9d08-4dfd-f90c-eb548b58db1f"
      },
      "source": [
        "[mystem_analyzer.analyze(word) for word in ex_text][0]"
      ],
      "execution_count": 20,
      "outputs": [
        {
          "output_type": "execute_result",
          "data": {
            "text/plain": [
              "[{'analysis': [{'gr': 'SPRO,ед,1-л=им', 'lex': 'я', 'wt': 0.9999716282}],\n",
              "  'text': 'я'},\n",
              " {'text': '\\n'}]"
            ]
          },
          "metadata": {
            "tags": []
          },
          "execution_count": 20
        }
      ]
    },
    {
      "cell_type": "code",
      "metadata": {
        "id": "wLGBbIrBnclN"
      },
      "source": [
        "def get_UDPOS(sent):\r\n",
        "  \"\"\"\r\n",
        "  lemmatizes and attaches UD POS tags to words in a sentence\r\n",
        "  !!! uses global translate_POS and mystem_analyzer\r\n",
        "\r\n",
        "  :input sent: list of str, sentence to lemmatize and POS-tag\r\n",
        "  :return: list of str, lemmas with POS UD tags\r\n",
        "  \"\"\"\r\n",
        "  analysis = []\r\n",
        "  for word in sent:\r\n",
        "    word_analysis = mystem_analyzer.analyze(word)[0]\r\n",
        "    if 'analysis' in word_analysis and len(word_analysis['analysis']) > 0:\r\n",
        "      analysis.append(word_analysis['analysis'][0])\r\n",
        "    else:\r\n",
        "      analysis.append('placeholder')\r\n",
        "\r\n",
        "  lex_mystem = []\r\n",
        "  for word_analysis in analysis:\r\n",
        "    if 'lex' and 'gr' in word_analysis:\r\n",
        "      lex_mystem.append((word_analysis['lex'], word_analysis['gr'].split(',')[0]))\r\n",
        "    else:\r\n",
        "      lex_mystem.append(('placeholder',''))\r\n",
        "\r\n",
        "  POSd = []\r\n",
        "  for word_analysis in lex_mystem:\r\n",
        "    if word_analysis[1] in translate_POS:\r\n",
        "      POSd.append(word_analysis[0] + '_' + translate_POS[word_analysis[1]])\r\n",
        "    else:\r\n",
        "      POSd.append('placeholder')\r\n",
        "  return POSd"
      ],
      "execution_count": 21,
      "outputs": []
    },
    {
      "cell_type": "code",
      "metadata": {
        "colab": {
          "base_uri": "https://localhost:8080/"
        },
        "id": "dkxZcgPxnmMM",
        "outputId": "c0e078eb-b9f6-45dd-ced5-c4e8e20e0a6d"
      },
      "source": [
        "get_UDPOS(ex_text)"
      ],
      "execution_count": 22,
      "outputs": [
        {
          "output_type": "execute_result",
          "data": {
            "text/plain": [
              "['я_PRON', 'хотеть_VERB', 'спать_VERB']"
            ]
          },
          "metadata": {
            "tags": []
          },
          "execution_count": 22
        }
      ]
    },
    {
      "cell_type": "markdown",
      "metadata": {
        "id": "4q0WC5ZlruJ-"
      },
      "source": [
        "### 1.1.3. Get word vectors"
      ]
    },
    {
      "cell_type": "code",
      "metadata": {
        "id": "qLlDhzPCxUrU"
      },
      "source": [
        "oov_skipgram = set()\r\n"
      ],
      "execution_count": 23,
      "outputs": []
    },
    {
      "cell_type": "code",
      "metadata": {
        "id": "RVqbsmvQrdie"
      },
      "source": [
        "def get_word_vectors_skipgram(sent):\r\n",
        "  \"\"\"\r\n",
        "  vectorizes the words of a sentence using a skipgram model\r\n",
        "  treats OOV as zero vectors\r\n",
        "  !!! uses global skipgram_model, get_UDPOS, oov_skipgram\r\n",
        "\r\n",
        "  :input sent: list of str, sentence\r\n",
        "  :return: np.array of shape (len(sent),300), word vectors\r\n",
        "  \"\"\"\r\n",
        "  vectors = []\r\n",
        "  for w in get_UDPOS(sent):  # preprocess\r\n",
        "    if w in skipgram_model:\r\n",
        "      vectors.append(skipgram_model[w])\r\n",
        "    else:\r\n",
        "      vectors.append(np.zeros(300, dtype=float))  # OOV treated as zeros\r\n",
        "      oov_skipgram.add(w)  # add word to model-specific OOV\r\n",
        "  return np.stack(vectors, axis=0)"
      ],
      "execution_count": 24,
      "outputs": []
    },
    {
      "cell_type": "code",
      "metadata": {
        "colab": {
          "base_uri": "https://localhost:8080/"
        },
        "id": "mJ0pBoWKss5R",
        "outputId": "c2c82438-a770-4c3c-d2e5-480e8774857f"
      },
      "source": [
        "get_word_vectors_skipgram(ex_text).shape"
      ],
      "execution_count": 25,
      "outputs": [
        {
          "output_type": "execute_result",
          "data": {
            "text/plain": [
              "(3, 300)"
            ]
          },
          "metadata": {
            "tags": []
          },
          "execution_count": 25
        }
      ]
    },
    {
      "cell_type": "code",
      "metadata": {
        "colab": {
          "base_uri": "https://localhost:8080/"
        },
        "id": "11mGzWkpxjRE",
        "outputId": "9561cf5d-3014-4444-a348-5ae991f29ebd"
      },
      "source": [
        "oov_skipgram"
      ],
      "execution_count": 26,
      "outputs": [
        {
          "output_type": "execute_result",
          "data": {
            "text/plain": [
              "{'я_PRON'}"
            ]
          },
          "metadata": {
            "tags": []
          },
          "execution_count": 26
        }
      ]
    },
    {
      "cell_type": "markdown",
      "metadata": {
        "id": "hSCz5qQdi6rS"
      },
      "source": [
        "## 1.2. Fasttext"
      ]
    },
    {
      "cell_type": "markdown",
      "metadata": {
        "id": "1-shKGw9uRMo"
      },
      "source": [
        "### 1.2.1. Load the model"
      ]
    },
    {
      "cell_type": "code",
      "metadata": {
        "colab": {
          "base_uri": "https://localhost:8080/"
        },
        "id": "3XXJxdGJjAE9",
        "outputId": "044e2cf4-3d4d-4fbb-bc20-bc883e723d67"
      },
      "source": [
        "!wget http://vectors.nlpl.eu/repository/20/187.zip\r\n",
        "!unzip 187.zip -d /187"
      ],
      "execution_count": 27,
      "outputs": [
        {
          "output_type": "stream",
          "text": [
            "--2021-02-20 17:10:17--  http://vectors.nlpl.eu/repository/20/187.zip\n",
            "Resolving vectors.nlpl.eu (vectors.nlpl.eu)... 129.240.189.181\n",
            "Connecting to vectors.nlpl.eu (vectors.nlpl.eu)|129.240.189.181|:80... connected.\n",
            "HTTP request sent, awaiting response... 200 OK\n",
            "Length: 2692389554 (2.5G) [application/zip]\n",
            "Saving to: ‘187.zip’\n",
            "\n",
            "187.zip             100%[===================>]   2.51G  23.3MB/s    in 1m 51s  \n",
            "\n",
            "2021-02-20 17:12:09 (23.1 MB/s) - ‘187.zip’ saved [2692389554/2692389554]\n",
            "\n",
            "Archive:  187.zip\n",
            "  inflating: /187/meta.json          \n",
            "  inflating: /187/model.model        \n",
            "  inflating: /187/model.model.vectors_ngrams.npy  \n",
            "  inflating: /187/model.model.vectors.npy  \n",
            "  inflating: /187/model.model.vectors_vocab.npy  \n",
            "  inflating: /187/README             \n"
          ],
          "name": "stdout"
        }
      ]
    },
    {
      "cell_type": "code",
      "metadata": {
        "id": "NP1WvvAMkLGR"
      },
      "source": [
        "fasttext_model = FastTextKeyedVectors.load('/187/model.model')"
      ],
      "execution_count": 28,
      "outputs": []
    },
    {
      "cell_type": "code",
      "metadata": {
        "id": "6oZ3gOPtuia-",
        "colab": {
          "base_uri": "https://localhost:8080/"
        },
        "outputId": "48b51097-60e8-42f2-e3ad-cfeb1788924e"
      },
      "source": [
        "fasttext_model['сок']"
      ],
      "execution_count": 29,
      "outputs": [
        {
          "output_type": "execute_result",
          "data": {
            "text/plain": [
              "array([ 3.90833354e+00,  4.67742395e+00,  1.24251020e+00,  1.01677585e+00,\n",
              "        5.06525326e+00, -1.40080797e-02, -2.87941146e+00, -4.52427912e+00,\n",
              "       -2.83270049e+00,  1.68498433e+00,  2.96937943e+00,  5.73405027e+00,\n",
              "        1.27363706e+00, -3.44488144e-01, -1.15516365e+00,  4.26240921e+00,\n",
              "        1.74419022e+00,  1.28052545e+00, -1.63706648e+00, -6.42358780e+00,\n",
              "        1.61793351e+00, -4.13880873e+00, -3.05498809e-01,  1.34894085e+00,\n",
              "        1.87512338e+00,  2.20971704e+00,  5.75095272e+00,  1.01329441e+01,\n",
              "       -4.59789783e-01,  1.00251651e+00,  3.69591355e+00,  4.61725569e+00,\n",
              "        6.27054596e+00,  1.89946425e+00, -1.52618599e+00,  2.89835525e+00,\n",
              "       -1.27885449e+00,  7.08821654e-01,  5.60667562e+00,  1.87360442e+00,\n",
              "        6.82464838e+00, -9.20550048e-01,  2.23427325e-01, -9.93068695e+00,\n",
              "        2.74750328e+00,  3.45718813e+00, -3.03289557e+00, -7.79909253e-01,\n",
              "       -2.56628370e+00,  8.97730410e-01,  5.14696240e-01,  6.39751911e-01,\n",
              "        4.43521643e+00, -5.08276272e+00, -4.79528475e+00, -5.20719194e+00,\n",
              "        5.13042510e-01,  4.90811920e+00,  4.91425705e+00,  9.03304863e+00,\n",
              "       -6.65762568e+00, -1.64563811e+00,  6.35260865e-02, -4.72881174e+00,\n",
              "        7.52158451e+00, -8.36535871e-01,  2.97268677e+00, -1.34052467e+00,\n",
              "        4.54589128e+00, -1.05502951e+00,  1.39484870e+00, -9.85396326e-01,\n",
              "       -2.59359694e+00,  4.53673124e+00,  3.27810109e-01, -4.21104336e+00,\n",
              "       -4.41812229e+00, -2.45592937e-01, -4.77601719e+00, -4.23021823e-01,\n",
              "        4.17418867e-01,  2.69866395e+00, -2.72852111e+00,  1.20576227e+00,\n",
              "       -7.81228113e+00, -4.10613775e+00,  2.40955615e+00,  3.26369262e+00,\n",
              "       -7.54392222e-02,  3.30392456e+00, -2.30655596e-01, -3.41905877e-02,\n",
              "        1.97782862e+00, -1.58055770e+00,  1.22682393e+00,  9.66917455e-01,\n",
              "        1.14880972e-01, -3.82571411e+00,  6.20383883e+00, -2.55153030e-01,\n",
              "       -3.07673311e+00,  1.30958116e+00, -7.21058035e+00, -2.89712369e-01,\n",
              "        7.30936480e+00,  1.48027658e-01,  3.98267984e+00, -1.73331237e+00,\n",
              "       -8.88628960e+00,  2.08562541e+00, -2.36267638e+00,  1.24337893e+01,\n",
              "        1.41438866e+00, -3.35748029e+00, -2.96925569e+00,  2.63312554e+00,\n",
              "       -5.29381609e+00,  4.41039705e+00, -3.80452424e-01, -1.34088039e+00,\n",
              "        5.31803417e+00, -4.28374439e-01,  1.01059017e+01, -3.70229650e+00,\n",
              "       -1.31419241e+00,  7.55987942e-01, -1.78431749e-01, -5.76063156e+00,\n",
              "        5.91643238e+00,  5.71161556e+00,  6.08391142e+00,  7.87809938e-02,\n",
              "        5.33913422e+00, -1.48181438e+00, -2.34863415e-01, -1.65113842e+00,\n",
              "       -4.12566328e+00, -1.89562798e+00, -2.45273456e-01,  1.00379920e+00,\n",
              "       -2.38907075e+00,  8.26518059e+00,  4.49783176e-01,  2.20584011e+00,\n",
              "        3.27956647e-01, -1.26470578e+00,  5.55456161e+00,  3.72603416e-01,\n",
              "       -1.23779774e-02,  3.05087149e-01, -2.20821142e+00,  4.91643190e+00,\n",
              "        7.00902271e+00,  2.83880734e+00,  2.92731851e-01,  5.23593521e+00,\n",
              "        7.64675999e+00, -4.47871733e+00,  5.49699116e+00, -7.04333663e-01,\n",
              "        2.36491346e+00, -1.86371005e+00, -3.14475131e+00,  2.14392567e+00,\n",
              "       -4.41667700e+00,  1.74453843e+00, -5.73368073e+00,  9.29392517e-01,\n",
              "       -7.83747256e-01, -1.04298010e+01, -1.24186337e+00, -1.12723398e+01,\n",
              "       -3.07148337e+00,  2.69965792e+00, -2.52973580e+00, -3.90798163e+00,\n",
              "        7.80818510e+00, -3.06656623e+00, -6.19408083e+00, -1.22347248e+00,\n",
              "       -2.46635294e+00, -3.63130140e+00,  8.67111266e-01,  9.97288048e-01,\n",
              "       -2.46655154e+00, -1.79972720e+00,  3.65339398e+00, -4.17233372e+00,\n",
              "        3.77116323e+00, -7.43232012e+00, -2.60545945e+00,  2.56721282e+00,\n",
              "        4.20747900e+00, -4.49630213e+00,  7.89964378e-01, -2.52222037e+00,\n",
              "       -6.08214331e+00,  4.78768206e+00,  6.01733387e-01, -1.75446069e+00,\n",
              "       -2.46841460e-01, -5.90556431e+00, -1.37713063e+00, -4.97395945e+00,\n",
              "        6.55086160e-01, -3.95392442e+00,  8.91796410e-01, -4.80814028e+00,\n",
              "        1.48449194e+00, -5.55909967e+00, -2.72725821e+00,  4.06939507e+00,\n",
              "        1.36403246e+01,  6.22038484e-01,  3.85195661e+00,  6.02419555e-01,\n",
              "       -4.86980486e+00,  2.19649625e+00,  2.02836609e+00, -2.90059304e+00,\n",
              "       -6.04697526e-01, -7.09808826e+00, -4.54181403e-01,  3.39882350e+00,\n",
              "       -2.12635636e+00, -2.34562659e+00,  4.17911863e+00, -6.18617010e+00,\n",
              "       -6.93153811e+00, -3.24543238e+00, -5.79604101e+00,  1.29947078e+00,\n",
              "       -4.32234144e+00, -1.29646850e+00,  4.78440619e+00,  3.36867857e+00,\n",
              "        6.27079678e+00,  2.85421282e-01,  3.82224703e+00,  8.51685524e-01,\n",
              "        5.38176358e-01,  4.76205730e+00,  3.54248792e-01,  1.34236693e+00,\n",
              "        2.25595784e+00, -3.93773526e-01,  6.08512461e-01, -6.91732407e+00,\n",
              "        1.60554063e+00,  7.10948467e-01, -1.72658992e+00,  1.00749655e+01,\n",
              "       -6.23476446e-01, -3.25639749e+00,  2.86570954e+00, -8.20195004e-02,\n",
              "        3.36120772e+00,  4.85717106e+00,  2.78273773e+00, -3.72914255e-01,\n",
              "        8.45737362e+00, -2.46549821e+00, -7.24075937e+00, -8.58443677e-01,\n",
              "        3.06959212e-01, -1.82433975e+00, -4.33473253e+00,  5.75639296e+00,\n",
              "        1.08725882e+00, -2.23432040e+00, -3.28217053e+00, -2.63131523e+00,\n",
              "       -2.42295218e+00,  2.37258005e+00, -5.33134580e-01, -4.69341898e+00,\n",
              "        4.53388786e+00,  8.37640584e-01,  3.87944818e+00,  5.27796125e+00,\n",
              "        7.32183075e+00, -4.32029295e+00, -2.90957093e+00,  3.18090701e+00,\n",
              "       -5.92371464e+00, -9.99026835e-01, -8.27927113e+00,  2.15544605e+00,\n",
              "       -2.56478548e+00, -4.80601120e+00,  1.21778023e+00,  1.46187377e+00,\n",
              "        5.02497959e+00, -2.40597200e+00,  3.86299416e-02,  1.78712845e+00,\n",
              "        8.12019825e-01, -3.32996917e+00,  3.28962594e-01,  2.75819230e+00],\n",
              "      dtype=float32)"
            ]
          },
          "metadata": {
            "tags": []
          },
          "execution_count": 29
        }
      ]
    },
    {
      "cell_type": "markdown",
      "metadata": {
        "id": "FYaEwvtXuUJh"
      },
      "source": [
        "### 1.2.2. Preprocessing: lemmatization"
      ]
    },
    {
      "cell_type": "code",
      "metadata": {
        "id": "gCVK9fPoth-5"
      },
      "source": [
        "def lemmatize(sent):\r\n",
        "  \"\"\"\r\n",
        "  lemmatizes words in a sentence\r\n",
        "  !!! uses global mystem_analyzer\r\n",
        "\r\n",
        "  :input sent: list of str, sentence to lemmatize\r\n",
        "  :return: list of str, lemmas\r\n",
        "  \"\"\"\r\n",
        "  return [mystem_analyzer.lemmatize(word)[0] for word in sent]"
      ],
      "execution_count": 30,
      "outputs": []
    },
    {
      "cell_type": "markdown",
      "metadata": {
        "id": "KyAcA7hexvJl"
      },
      "source": [
        "### 1.2.3. Get word vectors"
      ]
    },
    {
      "cell_type": "code",
      "metadata": {
        "id": "Dd1t5ubCxxgZ"
      },
      "source": [
        "oov_fasttext = set()"
      ],
      "execution_count": 31,
      "outputs": []
    },
    {
      "cell_type": "code",
      "metadata": {
        "id": "DsZFOhZKuLxs"
      },
      "source": [
        "def get_word_vectors_fasttext(sent):\r\n",
        "  \"\"\"\r\n",
        "  vectorizes the words of a sentence using a fasttext model\r\n",
        "  treats OOV as zero vectors\r\n",
        "  !!! uses global fasttext_model, lemmatize, oov_fasttext\r\n",
        "\r\n",
        "  :input sent: list of str, sentence\r\n",
        "  :return: np.array of shape (len(sent),300), word vectors\r\n",
        "  \"\"\"\r\n",
        "  vectors = []\r\n",
        "  for w in lemmatize(sent):  # preprocess\r\n",
        "    if w in fasttext_model.vocab:\r\n",
        "      try:\r\n",
        "        vectors.append(fasttext_model[w])\r\n",
        "      except AttributeError as e: # bad hash2index (not backwards compatible either)\r\n",
        "         oov_fasttext.add(w)\r\n",
        "         continue\r\n",
        "    else:\r\n",
        "      vectors.append(np.zeros(300, dtype=float))  # OOV treated as zeros\r\n",
        "      oov_fasttext.add(w)  # add model-specific OOV\r\n",
        "  return np.stack(vectors, axis=0)"
      ],
      "execution_count": 32,
      "outputs": []
    },
    {
      "cell_type": "code",
      "metadata": {
        "id": "anFrp5H7upK8",
        "colab": {
          "base_uri": "https://localhost:8080/"
        },
        "outputId": "db1aa39d-ae03-446a-ddfb-d71e4de86e40"
      },
      "source": [
        "get_word_vectors_fasttext(ex_text).shape"
      ],
      "execution_count": 33,
      "outputs": [
        {
          "output_type": "execute_result",
          "data": {
            "text/plain": [
              "(3, 300)"
            ]
          },
          "metadata": {
            "tags": []
          },
          "execution_count": 33
        }
      ]
    },
    {
      "cell_type": "code",
      "metadata": {
        "id": "E4O2TXBTy00S",
        "colab": {
          "base_uri": "https://localhost:8080/"
        },
        "outputId": "93052b35-1299-45c2-cc63-a9412edcd75a"
      },
      "source": [
        "oov_fasttext"
      ],
      "execution_count": 34,
      "outputs": [
        {
          "output_type": "execute_result",
          "data": {
            "text/plain": [
              "{'я'}"
            ]
          },
          "metadata": {
            "tags": []
          },
          "execution_count": 34
        }
      ]
    },
    {
      "cell_type": "markdown",
      "metadata": {
        "id": "52MoUq8zjAe3"
      },
      "source": [
        "## 1.3. ELMo"
      ]
    },
    {
      "cell_type": "markdown",
      "metadata": {
        "id": "8249r88Hogc8"
      },
      "source": [
        "### 1.3.1. Load the model"
      ]
    },
    {
      "cell_type": "code",
      "metadata": {
        "colab": {
          "base_uri": "https://localhost:8080/"
        },
        "id": "pMOivtmUjCV0",
        "outputId": "1811b47a-7fb5-4fd1-e5a0-246fca729619"
      },
      "source": [
        "!wget http://vectors.nlpl.eu/repository/20/199.zip\r\n",
        "!unzip 199.zip -d /199"
      ],
      "execution_count": 35,
      "outputs": [
        {
          "output_type": "stream",
          "text": [
            "--2021-02-20 17:12:45--  http://vectors.nlpl.eu/repository/20/199.zip\n",
            "Resolving vectors.nlpl.eu (vectors.nlpl.eu)... 129.240.189.181\n",
            "Connecting to vectors.nlpl.eu (vectors.nlpl.eu)|129.240.189.181|:80... connected.\n",
            "HTTP request sent, awaiting response... 200 OK\n",
            "Length: 1800442066 (1.7G) [application/zip]\n",
            "Saving to: ‘199.zip’\n",
            "\n",
            "199.zip             100%[===================>]   1.68G  23.2MB/s    in 75s     \n",
            "\n",
            "2021-02-20 17:14:00 (22.9 MB/s) - ‘199.zip’ saved [1800442066/1800442066]\n",
            "\n",
            "Archive:  199.zip\n",
            "  inflating: /199/meta.json          \n",
            "  inflating: /199/model.ckpt.data-00000-of-00001  \n",
            "  inflating: /199/model.ckpt.index   \n",
            "  inflating: /199/model.ckpt.meta    \n",
            "  inflating: /199/model.hdf5         \n",
            "  inflating: /199/options.json       \n",
            "  inflating: /199/README             \n",
            "  inflating: /199/vocab.txt          \n"
          ],
          "name": "stdout"
        }
      ]
    },
    {
      "cell_type": "code",
      "metadata": {
        "colab": {
          "base_uri": "https://localhost:8080/",
          "height": 0
        },
        "id": "Z6bzQNojmtiG",
        "outputId": "7191b287-613e-45d3-d3c1-1de7fcaa1cd6"
      },
      "source": [
        "elmo_model = ElmoModel()\r\n",
        "elmo_model.load(\"/199\")"
      ],
      "execution_count": 36,
      "outputs": [
        {
          "output_type": "stream",
          "text": [
            "2021-02-20 17:14:29,981 : INFO : Loading model from /199...\n",
            "2021-02-20 17:14:29,986 : INFO : We will cache the vocabulary of 100 tokens.\n"
          ],
          "name": "stderr"
        },
        {
          "output_type": "stream",
          "text": [
            "WARNING:tensorflow:From /usr/local/lib/python3.6/dist-packages/simple_elmo/model.py:575: dynamic_rnn (from tensorflow.python.ops.rnn) is deprecated and will be removed in a future version.\n",
            "Instructions for updating:\n",
            "Please use `keras.layers.RNN(cell)`, which is equivalent to this API\n"
          ],
          "name": "stdout"
        },
        {
          "output_type": "stream",
          "text": [
            "/usr/local/lib/python3.6/dist-packages/tensorflow/python/keras/layers/legacy_rnn/rnn_cell_impl.py:903: UserWarning: `tf.nn.rnn_cell.LSTMCell` is deprecated and will be removed in a future version. This class is equivalent as `tf.keras.layers.LSTMCell`, and will be replaced by that in Tensorflow 2.0.\n",
            "  warnings.warn(\"`tf.nn.rnn_cell.LSTMCell` is deprecated and will be \"\n",
            "2021-02-20 17:14:30,895 : WARNING : From /usr/local/lib/python3.6/dist-packages/simple_elmo/model.py:575: dynamic_rnn (from tensorflow.python.ops.rnn) is deprecated and will be removed in a future version.\n",
            "Instructions for updating:\n",
            "Please use `keras.layers.RNN(cell)`, which is equivalent to this API\n",
            "/usr/local/lib/python3.6/dist-packages/tensorflow/python/keras/engine/base_layer_v1.py:1727: UserWarning: `layer.add_variable` is deprecated and will be removed in a future version. Please use `layer.add_weight` method instead.\n",
            "  warnings.warn('`layer.add_variable` is deprecated and '\n"
          ],
          "name": "stderr"
        },
        {
          "output_type": "stream",
          "text": [
            "WARNING:tensorflow:From /usr/local/lib/python3.6/dist-packages/tensorflow/python/keras/layers/legacy_rnn/rnn_cell_impl.py:981: calling Zeros.__init__ (from tensorflow.python.ops.init_ops) with dtype is deprecated and will be removed in a future version.\n",
            "Instructions for updating:\n",
            "Call initializer instance with the dtype argument instead of passing it to the constructor\n"
          ],
          "name": "stdout"
        },
        {
          "output_type": "stream",
          "text": [
            "2021-02-20 17:14:32,257 : WARNING : From /usr/local/lib/python3.6/dist-packages/tensorflow/python/keras/layers/legacy_rnn/rnn_cell_impl.py:981: calling Zeros.__init__ (from tensorflow.python.ops.init_ops) with dtype is deprecated and will be removed in a future version.\n",
            "Instructions for updating:\n",
            "Call initializer instance with the dtype argument instead of passing it to the constructor\n"
          ],
          "name": "stderr"
        },
        {
          "output_type": "execute_result",
          "data": {
            "application/vnd.google.colaboratory.intrinsic+json": {
              "type": "string"
            },
            "text/plain": [
              "'The model is now loaded.'"
            ]
          },
          "metadata": {
            "tags": []
          },
          "execution_count": 36
        }
      ]
    },
    {
      "cell_type": "markdown",
      "metadata": {
        "id": "AdNKa6Wwoj4H"
      },
      "source": [
        "### 1.3.2. Preprocessing: lemmatization - identical"
      ]
    },
    {
      "cell_type": "markdown",
      "metadata": {
        "id": "j1zC47Eforw-"
      },
      "source": [
        "### 1.3.3. Get word vectors"
      ]
    },
    {
      "cell_type": "code",
      "metadata": {
        "colab": {
          "base_uri": "https://localhost:8080/"
        },
        "id": "vFb1RyWwqB4o",
        "outputId": "7c81b8e9-b6da-4827-dc1c-5738f21066bb"
      },
      "source": [
        "ex_vector = elmo_model.get_elmo_vectors([['вопрос', 'жизни', 'Вселенной', 'и', 'вообще', 'всего']])\r\n",
        "print(ex_vector.shape)\r\n",
        "print(ex_vector.squeeze().shape)"
      ],
      "execution_count": 37,
      "outputs": [
        {
          "output_type": "stream",
          "text": [
            "2021-02-20 17:14:36,963 : INFO : Warming up ELMo on 1 sentences...\n",
            "2021-02-20 17:14:37,903 : INFO : Warming up finished.\n",
            "2021-02-20 17:14:37,904 : INFO : Texts in the current batch: 1\n"
          ],
          "name": "stderr"
        },
        {
          "output_type": "stream",
          "text": [
            "(1, 6, 1024)\n",
            "(6, 1024)\n"
          ],
          "name": "stdout"
        }
      ]
    },
    {
      "cell_type": "code",
      "metadata": {
        "id": "974QPL41odKh"
      },
      "source": [
        "def get_word_vectors_elmo(sent):\r\n",
        "  \"\"\"\r\n",
        "  vectorizes the words of a sentence using a elmo model\r\n",
        "  !!! uses global elmo_model, lemmatize\r\n",
        "\r\n",
        "  :input sent: list of str, sentence\r\n",
        "  :return: np.array of shape (len(sent), 1024,), word vectors\r\n",
        "  \"\"\"\r\n",
        "  return elmo_model.get_elmo_vectors([lemmatize(sent)]).squeeze()"
      ],
      "execution_count": 38,
      "outputs": []
    },
    {
      "cell_type": "code",
      "metadata": {
        "colab": {
          "base_uri": "https://localhost:8080/"
        },
        "id": "UmYaPScGrVXQ",
        "outputId": "bdb4b540-5568-4a8c-b3f9-5597666fb82f"
      },
      "source": [
        "get_word_vectors_elmo(ex_text).shape"
      ],
      "execution_count": 39,
      "outputs": [
        {
          "output_type": "stream",
          "text": [
            "2021-02-20 17:14:40,350 : INFO : Warming up ELMo on 1 sentences...\n",
            "2021-02-20 17:14:40,776 : INFO : Warming up finished.\n",
            "2021-02-20 17:14:40,778 : INFO : Texts in the current batch: 1\n"
          ],
          "name": "stderr"
        },
        {
          "output_type": "execute_result",
          "data": {
            "text/plain": [
              "(3, 1024)"
            ]
          },
          "metadata": {
            "tags": []
          },
          "execution_count": 39
        }
      ]
    },
    {
      "cell_type": "code",
      "metadata": {
        "id": "DcQEgpgveNDD"
      },
      "source": [
        "def get_word_vectors_elmo_batch(batch):\r\n",
        "  \"\"\"\r\n",
        "  vectorizes the words of a sentence using a elmo model\r\n",
        "  !!! uses global elmo_model, lemmatize\r\n",
        "\r\n",
        "  :input batch: list of list of str, batch of sentences\r\n",
        "  :return: np.array of shape (batch, max(len(sent)), 1024,), word vectors\r\n",
        "  \"\"\"\r\n",
        "  batch = [lemmatize(sent) for sent in batch]\r\n",
        "  return elmo_model.get_elmo_vectors(batch)"
      ],
      "execution_count": 40,
      "outputs": []
    },
    {
      "cell_type": "code",
      "metadata": {
        "colab": {
          "base_uri": "https://localhost:8080/"
        },
        "id": "77Exm_uqebdi",
        "outputId": "ed732354-685a-41f6-c2df-f6f3ad38411f"
      },
      "source": [
        "get_word_vectors_elmo_batch([['я', 'хочу', 'спать'], ['я', 'нет'], ['нет']]).shape   ### input sentences are padded to the length of maximal sentences"
      ],
      "execution_count": 41,
      "outputs": [
        {
          "output_type": "stream",
          "text": [
            "2021-02-20 17:14:43,059 : INFO : Warming up ELMo on 3 sentences...\n",
            "2021-02-20 17:14:43,715 : INFO : Warming up finished.\n",
            "2021-02-20 17:14:43,717 : INFO : Texts in the current batch: 3\n"
          ],
          "name": "stderr"
        },
        {
          "output_type": "execute_result",
          "data": {
            "text/plain": [
              "(3, 3, 1024)"
            ]
          },
          "metadata": {
            "tags": []
          },
          "execution_count": 41
        }
      ]
    },
    {
      "cell_type": "code",
      "metadata": {
        "colab": {
          "base_uri": "https://localhost:8080/"
        },
        "id": "iX2AmcMXZPvK",
        "outputId": "595c9fcd-dc07-4cb8-eead-7f81ed06f0aa"
      },
      "source": [
        "get_word_vectors_elmo_batch([['я', 'хочу', 'спать'], ['я', 'нет'], ['нет']])   ### moreover, the resulting vectors for pads are non-zero"
      ],
      "execution_count": 42,
      "outputs": [
        {
          "output_type": "stream",
          "text": [
            "2021-02-20 17:14:46,250 : INFO : Warming up ELMo on 3 sentences...\n",
            "2021-02-20 17:14:46,856 : INFO : Warming up finished.\n",
            "2021-02-20 17:14:46,858 : INFO : Texts in the current batch: 3\n"
          ],
          "name": "stderr"
        },
        {
          "output_type": "execute_result",
          "data": {
            "text/plain": [
              "array([[[ 0.12494373, -0.03244726,  0.09163115, ..., -0.31874567,\n",
              "          0.46523923, -0.06806638],\n",
              "        [-0.62600034, -0.53032219,  0.01139273, ...,  0.42089245,\n",
              "         -0.13281915, -0.60562152],\n",
              "        [ 0.16615522,  0.01412423, -0.47646806, ..., -0.45749682,\n",
              "         -0.45804435, -0.17864656]],\n",
              "\n",
              "       [[ 0.12716635, -0.03189618,  0.08782659, ..., -0.33989137,\n",
              "         -0.02885258, -0.05532853],\n",
              "        [-0.0704497 , -0.16342053,  0.12688473, ..., -0.11857939,\n",
              "         -0.09256446,  0.14678705],\n",
              "        [ 0.03882495,  0.02001913, -0.05290387, ...,  0.01919926,\n",
              "          0.00210679,  0.07023538]],\n",
              "\n",
              "       [[-0.36964631, -0.12171143,  0.31242913, ..., -0.11501548,\n",
              "         -0.08678299,  0.15924703],\n",
              "        [ 0.03882495,  0.02001913, -0.05290387, ...,  0.01919926,\n",
              "          0.00210679,  0.07023538],\n",
              "        [ 0.03882495,  0.02001913, -0.05290387, ...,  0.01919926,\n",
              "          0.00210679,  0.07023538]]])"
            ]
          },
          "metadata": {
            "tags": []
          },
          "execution_count": 42
        }
      ]
    },
    {
      "cell_type": "markdown",
      "metadata": {
        "id": "0VtCdBzPt-E6"
      },
      "source": [
        "# 2. Get the training/evaluation data "
      ]
    },
    {
      "cell_type": "markdown",
      "metadata": {
        "id": "eb6t_MTPNCFJ"
      },
      "source": [
        "## 2.1. MSR\r\n",
        "Semantic textual similarity\t\r\n",
        "translated MSRVid"
      ]
    },
    {
      "cell_type": "code",
      "metadata": {
        "colab": {
          "base_uri": "https://localhost:8080/"
        },
        "id": "zW0Z-ec1KMTl",
        "outputId": "e64de635-17f3-4757-9bad-8f679f2d6199"
      },
      "source": [
        "!wget http://files.deeppavlov.ai/datasets/STS2012_MSRvid_translated.tar.gz\r\n",
        "!tar zxvf STS2012_MSRvid_translated.tar.gz && rm -f rm -f STS2012_MSRvid_translated.tar.gz"
      ],
      "execution_count": 43,
      "outputs": [
        {
          "output_type": "stream",
          "text": [
            "--2021-02-20 17:14:47--  http://files.deeppavlov.ai/datasets/STS2012_MSRvid_translated.tar.gz\n",
            "Resolving files.deeppavlov.ai (files.deeppavlov.ai)... 93.175.29.74\n",
            "Connecting to files.deeppavlov.ai (files.deeppavlov.ai)|93.175.29.74|:80... connected.\n",
            "HTTP request sent, awaiting response... 301 Moved Permanently\n",
            "Location: https://files.deeppavlov.ai/datasets/STS2012_MSRvid_translated.tar.gz [following]\n",
            "--2021-02-20 17:14:48--  https://files.deeppavlov.ai/datasets/STS2012_MSRvid_translated.tar.gz\n",
            "Connecting to files.deeppavlov.ai (files.deeppavlov.ai)|93.175.29.74|:443... connected.\n",
            "HTTP request sent, awaiting response... 200 OK\n",
            "Length: 20705 (20K) [application/octet-stream]\n",
            "Saving to: ‘STS2012_MSRvid_translated.tar.gz’\n",
            "\n",
            "STS2012_MSRvid_tran 100%[===================>]  20.22K  --.-KB/s    in 0s      \n",
            "\n",
            "2021-02-20 17:14:48 (74.8 MB/s) - ‘STS2012_MSRvid_translated.tar.gz’ saved [20705/20705]\n",
            "\n",
            "STS2012_MSRvid_translated/\n",
            "STS2012_MSRvid_translated/00-readme.txt\n",
            "STS2012_MSRvid_translated/STS.input.MSRvid.txt\n",
            "STS2012_MSRvid_translated/STS.gs.MSRvid.txt\n",
            "STS2012_MSRvid_translated/correlation.pl\n"
          ],
          "name": "stdout"
        }
      ]
    },
    {
      "cell_type": "code",
      "metadata": {
        "id": "hEG2-rY2NSUW"
      },
      "source": [
        "STS = datautils.STSReader().read('STS2012_MSRvid_translated',\r\n",
        "                            input_fname='STS.input.MSRvid.txt',\r\n",
        "                            labels_fname='STS.gs.MSRvid.txt')"
      ],
      "execution_count": 44,
      "outputs": []
    },
    {
      "cell_type": "code",
      "metadata": {
        "colab": {
          "base_uri": "https://localhost:8080/"
        },
        "id": "BA2M2dfcNnq3",
        "outputId": "9685a804-fc7d-4a2b-e313-8cfc0b906c0d"
      },
      "source": [
        "STS['test'][:5]"
      ],
      "execution_count": 45,
      "outputs": [
        {
          "output_type": "execute_result",
          "data": {
            "text/plain": [
              "[(('Мужчина едет на велосипеде.', 'Едет человек на велосипеде.'), 5.0),\n",
              " (('Женщина и мужчина танцуют под дождем.',\n",
              "   'Мужчина и женщина танцуют под дождем.'),\n",
              "  5.0),\n",
              " (('Кто-то рисует.', 'Кто-то танцует.'), 0.3),\n",
              " (('Мужчина и женщина целуют друг друга.',\n",
              "   'Мужчина и женщина разговаривают друг с другом.'),\n",
              "  0.6),\n",
              " (('Женщина нарезает лук.', 'Женщина режет лук.'), 4.2)]"
            ]
          },
          "metadata": {
            "tags": []
          },
          "execution_count": 45
        }
      ]
    },
    {
      "cell_type": "code",
      "metadata": {
        "colab": {
          "base_uri": "https://localhost:8080/"
        },
        "id": "LACsxWrfNq-w",
        "outputId": "d563d128-565a-4472-c65f-4b906e6a4c1c"
      },
      "source": [
        "len(STS['test'])"
      ],
      "execution_count": 46,
      "outputs": [
        {
          "output_type": "execute_result",
          "data": {
            "text/plain": [
              "750"
            ]
          },
          "metadata": {
            "tags": []
          },
          "execution_count": 46
        }
      ]
    },
    {
      "cell_type": "code",
      "metadata": {
        "colab": {
          "base_uri": "https://localhost:8080/"
        },
        "id": "GyMB0sLsOx2t",
        "outputId": "90ea96e7-3912-45ad-a1ab-26ec1e4bf586"
      },
      "source": [
        "STS.keys()"
      ],
      "execution_count": 47,
      "outputs": [
        {
          "output_type": "execute_result",
          "data": {
            "text/plain": [
              "dict_keys(['test'])"
            ]
          },
          "metadata": {
            "tags": []
          },
          "execution_count": 47
        }
      ]
    },
    {
      "cell_type": "markdown",
      "metadata": {
        "id": "cQveq3geMsLF"
      },
      "source": [
        "## 2.2. Paraphrase detection\r\n",
        "[Paraphraser](http://paraphraser.ru/)"
      ]
    },
    {
      "cell_type": "code",
      "metadata": {
        "colab": {
          "base_uri": "https://localhost:8080/"
        },
        "id": "t12s47XBH-yh",
        "outputId": "8bd02f65-1c5a-4ed3-8d64-a1b6e837a264"
      },
      "source": [
        "# Load the dataset\r\n",
        "!wget -O Paraphraser.zip 'http://paraphraser.ru/download/get?file_id=1'\r\n",
        "!unzip Paraphraser.zip -d Paraphraser && rm -f Paraphraser.zip\r\n",
        "!wget -O ParaphraserGold.zip 'http://paraphraser.ru/download/get?file_id=5'\r\n",
        "!unzip ParaphraserGold.zip -d Paraphraser && rm -f ParaphraserGold.zip"
      ],
      "execution_count": 48,
      "outputs": [
        {
          "output_type": "stream",
          "text": [
            "--2021-02-20 17:14:49--  http://paraphraser.ru/download/get?file_id=1\n",
            "Resolving paraphraser.ru (paraphraser.ru)... 89.223.87.180\n",
            "Connecting to paraphraser.ru (paraphraser.ru)|89.223.87.180|:80... connected.\n",
            "HTTP request sent, awaiting response... 200 OK\n",
            "Length: 1155237 (1.1M) [application/x-download]\n",
            "Saving to: ‘Paraphraser.zip’\n",
            "\n",
            "Paraphraser.zip     100%[===================>]   1.10M  71.6KB/s    in 16s     \n",
            "\n",
            "2021-02-20 17:15:05 (70.8 KB/s) - ‘Paraphraser.zip’ saved [1155237/1155237]\n",
            "\n",
            "Archive:  Paraphraser.zip\n",
            "  inflating: Paraphraser/LICENSE     \n",
            "  inflating: Paraphraser/corpus.xml  \n",
            "  inflating: Paraphraser/paraphrases.xml  \n",
            "--2021-02-20 17:15:06--  http://paraphraser.ru/download/get?file_id=5\n",
            "Resolving paraphraser.ru (paraphraser.ru)... 89.223.87.180\n",
            "Connecting to paraphraser.ru (paraphraser.ru)|89.223.87.180|:80... connected.\n",
            "HTTP request sent, awaiting response... 200 OK\n",
            "Length: 118720 (116K) [application/x-download]\n",
            "Saving to: ‘ParaphraserGold.zip’\n",
            "\n",
            "ParaphraserGold.zip 100%[===================>] 115.94K  59.7KB/s    in 1.9s    \n",
            "\n",
            "2021-02-20 17:15:08 (59.7 KB/s) - ‘ParaphraserGold.zip’ saved [118720/118720]\n",
            "\n",
            "Archive:  ParaphraserGold.zip\n",
            "  inflating: Paraphraser/paraphrases_gold.xml  \n"
          ],
          "name": "stdout"
        }
      ]
    },
    {
      "cell_type": "code",
      "metadata": {
        "id": "SA1X4bU6MaRr"
      },
      "source": [
        "paraphraser = ParaphraserReader().read('Paraphraser')"
      ],
      "execution_count": 49,
      "outputs": []
    },
    {
      "cell_type": "code",
      "metadata": {
        "colab": {
          "base_uri": "https://localhost:8080/"
        },
        "id": "dLdOgSpSM7Eg",
        "outputId": "731b0795-1704-4281-912b-4353afbd5cd4"
      },
      "source": [
        "paraphraser['test'][:5]"
      ],
      "execution_count": 50,
      "outputs": [
        {
          "output_type": "execute_result",
          "data": {
            "text/plain": [
              "[(['цены на нефть восстанавливаются',\n",
              "   'парламент словакии поблагодарил народы бывшего ссср за победу'],\n",
              "  0),\n",
              " (['\"гоголь-центр\" покажет видеозапись скандального спектакля \"тангейзер\"',\n",
              "   'кехман запретил «гоголь-центру» показывать видеозапись «тангейзера»'],\n",
              "  0),\n",
              " (['агент: рфс вновь задерживает зарплату фабио капелло',\n",
              "   'сми: агент фабио капелло грозится подать в суд на рфс'],\n",
              "  0),\n",
              " (['день победы в москве обещает выдаться облачным',\n",
              "   'любляна отпразднует день победы вместе с москвой'],\n",
              "  0),\n",
              " (['посол рф в сша: россия будет бороться с попытками переписать историю',\n",
              "   'правительство запланировало заработать на лотереях 400 млрд руб.'],\n",
              "  0)]"
            ]
          },
          "metadata": {
            "tags": []
          },
          "execution_count": 50
        }
      ]
    },
    {
      "cell_type": "code",
      "metadata": {
        "colab": {
          "base_uri": "https://localhost:8080/"
        },
        "id": "ppe3AUkgOMsU",
        "outputId": "2aa53be8-4ea9-4acd-eb98-662ed4397a3f"
      },
      "source": [
        "len(paraphraser['test'])"
      ],
      "execution_count": 51,
      "outputs": [
        {
          "output_type": "execute_result",
          "data": {
            "text/plain": [
              "1899"
            ]
          },
          "metadata": {
            "tags": []
          },
          "execution_count": 51
        }
      ]
    },
    {
      "cell_type": "code",
      "metadata": {
        "colab": {
          "base_uri": "https://localhost:8080/"
        },
        "id": "16wnDSTMM8IF",
        "outputId": "75414f0c-3df8-4920-b8df-6c3d65bdc86c"
      },
      "source": [
        "paraphraser['train'][:5]"
      ],
      "execution_count": 52,
      "outputs": [
        {
          "output_type": "execute_result",
          "data": {
            "text/plain": [
              "[(['полицейским разрешат стрелять на поражение по гражданам с травматикой.',\n",
              "   'полиции могут разрешить стрелять по хулиганам с травматикой.'],\n",
              "  1),\n",
              " (['право полицейских на проникновение в жилище решили ограничить.',\n",
              "   'правила внесудебного проникновения полицейских в жилище уточнят.'],\n",
              "  1),\n",
              " (['президент египта ввел чрезвычайное положение в мятежных городах.',\n",
              "   'власти египта угрожают ввести в стране чрезвычайное положение.'],\n",
              "  1),\n",
              " (['вернувшихся из сирии россиян волнует вопрос трудоустройства на родине.',\n",
              "   'самолеты мчс вывезут россиян из разрушенной сирии.'],\n",
              "  0),\n",
              " (['в москву из сирии вернулись 2 самолета мчс с россиянами на борту.',\n",
              "   'самолеты мчс вывезут россиян из разрушенной сирии.'],\n",
              "  1)]"
            ]
          },
          "metadata": {
            "tags": []
          },
          "execution_count": 52
        }
      ]
    },
    {
      "cell_type": "code",
      "metadata": {
        "colab": {
          "base_uri": "https://localhost:8080/"
        },
        "id": "i3aRTUMPOJiU",
        "outputId": "103ef918-b140-4987-fdb0-ea9dcd4d6c31"
      },
      "source": [
        "len(paraphraser['train'])"
      ],
      "execution_count": 53,
      "outputs": [
        {
          "output_type": "execute_result",
          "data": {
            "text/plain": [
              "7202"
            ]
          },
          "metadata": {
            "tags": []
          },
          "execution_count": 53
        }
      ]
    },
    {
      "cell_type": "code",
      "metadata": {
        "id": "5TieYA-bWDNU"
      },
      "source": [
        "paraphraser['dev'] = paraphraser['train'][:1500]\r\n",
        "paraphraser['train'] = paraphraser['train'][1500:]"
      ],
      "execution_count": 54,
      "outputs": []
    },
    {
      "cell_type": "markdown",
      "metadata": {
        "id": "PXHOOzDUNMJE"
      },
      "source": [
        "## 2.3. XNLI\r\n",
        "Natural language inference"
      ]
    },
    {
      "cell_type": "code",
      "metadata": {
        "colab": {
          "base_uri": "https://localhost:8080/"
        },
        "id": "dmO90q_UKQIN",
        "outputId": "c5b8a9b7-6c43-4e18-8b13-88072eb2194a"
      },
      "source": [
        "!wget https://cims.nyu.edu/~sbowman/xnli/XNLI-1.0.zip"
      ],
      "execution_count": 55,
      "outputs": [
        {
          "output_type": "stream",
          "text": [
            "--2021-02-20 17:15:09--  https://cims.nyu.edu/~sbowman/xnli/XNLI-1.0.zip\n",
            "Resolving cims.nyu.edu (cims.nyu.edu)... 216.165.22.202\n",
            "Connecting to cims.nyu.edu (cims.nyu.edu)|216.165.22.202|:443... connected.\n",
            "HTTP request sent, awaiting response... 200 OK\n",
            "Length: 17865352 (17M) [application/zip]\n",
            "Saving to: ‘XNLI-1.0.zip’\n",
            "\n",
            "XNLI-1.0.zip        100%[===================>]  17.04M  21.8MB/s    in 0.8s    \n",
            "\n",
            "2021-02-20 17:15:11 (21.8 MB/s) - ‘XNLI-1.0.zip’ saved [17865352/17865352]\n",
            "\n"
          ],
          "name": "stdout"
        }
      ]
    },
    {
      "cell_type": "code",
      "metadata": {
        "colab": {
          "base_uri": "https://localhost:8080/"
        },
        "id": "yORflaB9Sgbi",
        "outputId": "11973d8e-a6fc-4d44-c380-19834d746a14"
      },
      "source": [
        "!unzip XNLI-1.0.zip"
      ],
      "execution_count": 56,
      "outputs": [
        {
          "output_type": "stream",
          "text": [
            "Archive:  XNLI-1.0.zip\n",
            "   creating: XNLI-1.0/\n",
            "  inflating: XNLI-1.0/.DS_Store      \n",
            "   creating: __MACOSX/\n",
            "   creating: __MACOSX/XNLI-1.0/\n",
            "  inflating: __MACOSX/XNLI-1.0/._.DS_Store  \n",
            "  inflating: XNLI-1.0/xnli.dev.tsv   \n",
            "  inflating: __MACOSX/XNLI-1.0/._xnli.dev.tsv  \n",
            "  inflating: XNLI-1.0/xnli.dev.jsonl  \n",
            "  inflating: XNLI-1.0/README.md      \n",
            "  inflating: __MACOSX/XNLI-1.0/._README.md  \n",
            "  inflating: XNLI-1.0/xnli.test.jsonl  \n",
            "  inflating: XNLI-1.0/xnli.test.tsv  \n",
            "  inflating: __MACOSX/XNLI-1.0/._xnli.test.tsv  \n",
            "  inflating: __MACOSX/._XNLI-1.0     \n"
          ],
          "name": "stdout"
        }
      ]
    },
    {
      "cell_type": "code",
      "metadata": {
        "id": "bynLdL2TNQuF"
      },
      "source": [
        "XNLI = datautils.XNLIReader().read('XNLI-1.0', valid_fname='xnli.dev.tsv', test_fname='xnli.test.tsv', lang='ru')"
      ],
      "execution_count": 57,
      "outputs": []
    },
    {
      "cell_type": "code",
      "metadata": {
        "colab": {
          "base_uri": "https://localhost:8080/"
        },
        "id": "ZMSDjkC8Vnhb",
        "outputId": "5ab09aa8-594c-42a6-c232-2359c4644d23"
      },
      "source": [
        "XNLI['test'][:5]"
      ],
      "execution_count": 58,
      "outputs": [
        {
          "output_type": "execute_result",
          "data": {
            "text/plain": [
              "[(('Ну, я даже не думал об этом, но я был так разочарован, что в конце концов опять поговорил с ним.',\n",
              "   'Я больше с ним не разговаривал.'),\n",
              "  'contradiction'),\n",
              " (('Ну, я даже не думал об этом, но я был так разочарован, что в конце концов опять поговорил с ним.',\n",
              "   'Я был так расстроен, что даже снова начал с ним разговаривать.'),\n",
              "  'entailment'),\n",
              " (('Ну, я даже не думал об этом, но я был так разочарован, что в конце концов опять поговорил с ним.',\n",
              "   'Мы прекрасно поговорили.'),\n",
              "  'neutral'),\n",
              " (('А я считал это привилегией, и всё-же,  и всё-же я был единственный оперативный офицер категории девять два два - это была моя профессиональная специальность при Командовании ВВС.',\n",
              "   'Я не знал, что в тот день буду не единственным человеком в поле.'),\n",
              "  'neutral'),\n",
              " (('А я считал это привилегией, и всё-же,  и всё-же я был единственный оперативный офицер категории девять два два - это была моя профессиональная специальность при Командовании ВВС.',\n",
              "   'У меня было впечатление, что на ярмарке вакансий ВВС только у меня был такой номер.'),\n",
              "  'entailment')]"
            ]
          },
          "metadata": {
            "tags": []
          },
          "execution_count": 58
        }
      ]
    },
    {
      "cell_type": "code",
      "metadata": {
        "colab": {
          "base_uri": "https://localhost:8080/"
        },
        "id": "BXtdLfK9VxnW",
        "outputId": "b178d4ca-3500-4b23-9399-8893f902a19c"
      },
      "source": [
        "len(XNLI['test'])"
      ],
      "execution_count": 59,
      "outputs": [
        {
          "output_type": "execute_result",
          "data": {
            "text/plain": [
              "5010"
            ]
          },
          "metadata": {
            "tags": []
          },
          "execution_count": 59
        }
      ]
    },
    {
      "cell_type": "code",
      "metadata": {
        "colab": {
          "base_uri": "https://localhost:8080/"
        },
        "id": "A5ZnXtw3VqxB",
        "outputId": "b8a83548-31cd-4401-ee7f-a3879a8f0bbf"
      },
      "source": [
        "XNLI['train'][:5]"
      ],
      "execution_count": 60,
      "outputs": [
        {
          "output_type": "execute_result",
          "data": {
            "text/plain": [
              "[(('И он сказал: Мама, я дома.',\n",
              "   'Он позвал маму, как только вышел из школьного автобуса.'),\n",
              "  'neutral'),\n",
              " (('И он сказал: Мама, я дома.', 'Он не произнес ни слова.'), 'contradiction'),\n",
              " (('И он сказал: Мама, я дома.', 'Он сказал матери, что уже добрался домой.'),\n",
              "  'entailment'),\n",
              " (('Я не знал, что мне предстояло сделать и все такое, так что я должен был сообщить в указанное место в Вашингтоне.',\n",
              "   'Я раньше не был в Вашингтоне, поэтому, получив назначение туда, я заблудился в поисках нужного места.'),\n",
              "  'neutral'),\n",
              " (('Я не знал, что мне предстояло сделать и все такое, так что я должен был сообщить в указанное место в Вашингтоне.',\n",
              "   'Я точно знал, что мне нужно сделать, когда входил в Вашингтон.'),\n",
              "  'contradiction')]"
            ]
          },
          "metadata": {
            "tags": []
          },
          "execution_count": 60
        }
      ]
    },
    {
      "cell_type": "code",
      "metadata": {
        "colab": {
          "base_uri": "https://localhost:8080/"
        },
        "id": "VFn8gnHuV0Sh",
        "outputId": "5d6511c2-077c-4195-98c7-6cf9f2e92f43"
      },
      "source": [
        "len(XNLI['train'])"
      ],
      "execution_count": 61,
      "outputs": [
        {
          "output_type": "execute_result",
          "data": {
            "text/plain": [
              "2490"
            ]
          },
          "metadata": {
            "tags": []
          },
          "execution_count": 61
        }
      ]
    },
    {
      "cell_type": "code",
      "metadata": {
        "id": "f_ksxYEOWz6_"
      },
      "source": [
        "XNLI['dev'] = XNLI['test'][:1000]\r\n",
        "XNLI['train'] = XNLI['train'] + XNLI['test'][1000:3000]\r\n",
        "XNLI['test'] = XNLI['test'][3000:]"
      ],
      "execution_count": 62,
      "outputs": []
    },
    {
      "cell_type": "code",
      "metadata": {
        "colab": {
          "base_uri": "https://localhost:8080/"
        },
        "id": "lVTtjIqaXTOk",
        "outputId": "260b6487-18c2-441e-e724-842cc6d74f44"
      },
      "source": [
        "len(XNLI['test'])"
      ],
      "execution_count": 63,
      "outputs": [
        {
          "output_type": "execute_result",
          "data": {
            "text/plain": [
              "2010"
            ]
          },
          "metadata": {
            "tags": []
          },
          "execution_count": 63
        }
      ]
    },
    {
      "cell_type": "code",
      "metadata": {
        "colab": {
          "base_uri": "https://localhost:8080/"
        },
        "id": "IeEzUK9zXhFu",
        "outputId": "fa8455d9-5741-4c8b-e5a4-41e4aa0ff690"
      },
      "source": [
        "len(XNLI['dev'])"
      ],
      "execution_count": 64,
      "outputs": [
        {
          "output_type": "execute_result",
          "data": {
            "text/plain": [
              "1000"
            ]
          },
          "metadata": {
            "tags": []
          },
          "execution_count": 64
        }
      ]
    },
    {
      "cell_type": "code",
      "metadata": {
        "colab": {
          "base_uri": "https://localhost:8080/"
        },
        "id": "J5X2zdf6XkbL",
        "outputId": "30563184-379a-4060-ac53-db49764950df"
      },
      "source": [
        "len(XNLI['train'])"
      ],
      "execution_count": 65,
      "outputs": [
        {
          "output_type": "execute_result",
          "data": {
            "text/plain": [
              "4490"
            ]
          },
          "metadata": {
            "tags": []
          },
          "execution_count": 65
        }
      ]
    },
    {
      "cell_type": "markdown",
      "metadata": {
        "id": "LKegHb_isM8a"
      },
      "source": [
        "# 3. Word2Sent"
      ]
    },
    {
      "cell_type": "markdown",
      "metadata": {
        "id": "J6ehge0asR8I"
      },
      "source": [
        "## 3.1. SIF"
      ]
    },
    {
      "cell_type": "markdown",
      "metadata": {
        "id": "MucKXZCXt4xs"
      },
      "source": [
        "\r\n",
        "![image.png](data:image/png;base64,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)"
      ]
    },
    {
      "cell_type": "markdown",
      "metadata": {
        "id": "t8YQx3GJsHsC"
      },
      "source": [
        "### 3.1.1. Frequency weighting \r\n",
        "$V_s←\\frac{1}{|s|}∑_{w∈s}\\frac{a}{a+p(w)}V_w$"
      ]
    },
    {
      "cell_type": "markdown",
      "metadata": {
        "id": "yuxZg3qqtcqq"
      },
      "source": [
        "#### 3.1.1.1. Get p(w)"
      ]
    },
    {
      "cell_type": "code",
      "metadata": {
        "colab": {
          "base_uri": "https://localhost:8080/"
        },
        "id": "znITAkfXsHBs",
        "outputId": "2b8aef8f-b3b9-4120-83fc-03fbf4870dc1"
      },
      "source": [
        "!wget https://github.com/flying-bear/modeling_schizo/blob/master/word_freq.zip?raw=true -O word_freq.zip\r\n",
        "!unzip word_freq.zip"
      ],
      "execution_count": 66,
      "outputs": [
        {
          "output_type": "stream",
          "text": [
            "--2021-02-20 17:15:15--  https://github.com/flying-bear/modeling_schizo/blob/master/word_freq.zip?raw=true\n",
            "Resolving github.com (github.com)... 140.82.112.4\n",
            "Connecting to github.com (github.com)|140.82.112.4|:443... connected.\n",
            "HTTP request sent, awaiting response... 302 Found\n",
            "Location: https://github.com/flying-bear/modeling_schizo/raw/master/word_freq.zip [following]\n",
            "--2021-02-20 17:15:15--  https://github.com/flying-bear/modeling_schizo/raw/master/word_freq.zip\n",
            "Reusing existing connection to github.com:443.\n",
            "HTTP request sent, awaiting response... 302 Found\n",
            "Location: https://raw.githubusercontent.com/flying-bear/modeling_schizo/master/word_freq.zip [following]\n",
            "--2021-02-20 17:15:15--  https://raw.githubusercontent.com/flying-bear/modeling_schizo/master/word_freq.zip\n",
            "Resolving raw.githubusercontent.com (raw.githubusercontent.com)... 185.199.110.133, 185.199.108.133, 185.199.111.133, ...\n",
            "Connecting to raw.githubusercontent.com (raw.githubusercontent.com)|185.199.110.133|:443... connected.\n",
            "HTTP request sent, awaiting response... 200 OK\n",
            "Length: 91943313 (88M) [application/zip]\n",
            "Saving to: ‘word_freq.zip’\n",
            "\n",
            "word_freq.zip       100%[===================>]  87.68M  83.3MB/s    in 1.1s    \n",
            "\n",
            "2021-02-20 17:15:17 (83.3 MB/s) - ‘word_freq.zip’ saved [91943313/91943313]\n",
            "\n",
            "Archive:  word_freq.zip\n",
            "  inflating: word_freq.pickle        \n"
          ],
          "name": "stdout"
        }
      ]
    },
    {
      "cell_type": "code",
      "metadata": {
        "id": "77dnpt8OtUSR"
      },
      "source": [
        "with open('word_freq.pickle', 'rb') as f:  # From General Internet-Corpus of Russian\r\n",
        "  word_freq = pickle.load(f)"
      ],
      "execution_count": 67,
      "outputs": []
    },
    {
      "cell_type": "code",
      "metadata": {
        "colab": {
          "base_uri": "https://localhost:8080/"
        },
        "id": "FqHB9dXHta9R",
        "outputId": "46bc09bd-a1e8-46d1-db25-2e98c6c514ba"
      },
      "source": [
        "corpus_size = sum(word_freq.values()) \r\n",
        "corpus_size"
      ],
      "execution_count": 68,
      "outputs": [
        {
          "output_type": "execute_result",
          "data": {
            "text/plain": [
              "1296570215"
            ]
          },
          "metadata": {
            "tags": []
          },
          "execution_count": 68
        }
      ]
    },
    {
      "cell_type": "code",
      "metadata": {
        "id": "XlT5rbznt3Qw"
      },
      "source": [
        "def prob(counter, word, corpus_size):\r\n",
        "  return counter[word]/ (corpus_size)"
      ],
      "execution_count": 69,
      "outputs": []
    },
    {
      "cell_type": "code",
      "metadata": {
        "id": "SPGFzP0wwl4I"
      },
      "source": [
        "freqs = {word:prob(word_freq, word, corpus_size) for word in word_freq}"
      ],
      "execution_count": 70,
      "outputs": []
    },
    {
      "cell_type": "code",
      "metadata": {
        "colab": {
          "base_uri": "https://localhost:8080/"
        },
        "id": "yOoSAITMws4W",
        "outputId": "2ba13cad-636d-4e2b-ea08-bc898a915558"
      },
      "source": [
        "freqs['я']"
      ],
      "execution_count": 71,
      "outputs": [
        {
          "output_type": "execute_result",
          "data": {
            "text/plain": [
              "0.01033947552157829"
            ]
          },
          "metadata": {
            "tags": []
          },
          "execution_count": 71
        }
      ]
    },
    {
      "cell_type": "code",
      "metadata": {
        "id": "l8tHlvO0t91h"
      },
      "source": [
        "def smooth(freq, a=10e-3):\r\n",
        "  return a / (a + freq)"
      ],
      "execution_count": 72,
      "outputs": []
    },
    {
      "cell_type": "code",
      "metadata": {
        "colab": {
          "base_uri": "https://localhost:8080/"
        },
        "id": "obxWKYJPwwKW",
        "outputId": "6ad5f2db-4e02-4f53-8ee9-25826bf37be1"
      },
      "source": [
        "smooth(freqs['я'])"
      ],
      "execution_count": 73,
      "outputs": [
        {
          "output_type": "execute_result",
          "data": {
            "text/plain": [
              "0.49165476215898146"
            ]
          },
          "metadata": {
            "tags": []
          },
          "execution_count": 73
        }
      ]
    },
    {
      "cell_type": "code",
      "metadata": {
        "colab": {
          "base_uri": "https://localhost:8080/"
        },
        "id": "ObA1ObMnw9AY",
        "outputId": "cc5c38ed-83d0-4605-eb7b-71a0e0a96cec"
      },
      "source": [
        "smooth(freqs['тоска'])"
      ],
      "execution_count": 74,
      "outputs": [
        {
          "output_type": "execute_result",
          "data": {
            "text/plain": [
              "0.9972893505037748"
            ]
          },
          "metadata": {
            "tags": []
          },
          "execution_count": 74
        }
      ]
    },
    {
      "cell_type": "code",
      "metadata": {
        "id": "giDU7vc9yUOi"
      },
      "source": [
        "placeholder_freq = np.median(list(word_freq.values()))/corpus_size"
      ],
      "execution_count": 75,
      "outputs": []
    },
    {
      "cell_type": "code",
      "metadata": {
        "colab": {
          "base_uri": "https://localhost:8080/"
        },
        "id": "_k1ATcB6zLZr",
        "outputId": "d31bd167-d88b-474e-b1c0-2584a39dd72e"
      },
      "source": [
        "smooth(placeholder_freq)"
      ],
      "execution_count": 76,
      "outputs": [
        {
          "output_type": "execute_result",
          "data": {
            "text/plain": [
              "0.9999999228734463"
            ]
          },
          "metadata": {
            "tags": []
          },
          "execution_count": 76
        }
      ]
    },
    {
      "cell_type": "code",
      "metadata": {
        "id": "HzyrAal6yYd7"
      },
      "source": [
        "def get_smooth_freq(word, a=10e-3):\r\n",
        "  \"\"\"\r\n",
        "  gets smoothed word frequency with factor a\r\n",
        "  uses median word frequency for words not in the frquency dictionary\r\n",
        "  !!! uses global freqs, placeholder_freq\r\n",
        "\r\n",
        "  :input word: str, word\r\n",
        "  :input a: float, smoothing factor, optional, default=10e-3\r\n",
        "  :return: float, smoothed frequency\r\n",
        "  \"\"\"\r\n",
        "  if word in freqs:\r\n",
        "    return smooth(freqs[word], a)\r\n",
        "  else: \r\n",
        "    return smooth(placeholder_freq, a)"
      ],
      "execution_count": 77,
      "outputs": []
    },
    {
      "cell_type": "code",
      "metadata": {
        "colab": {
          "base_uri": "https://localhost:8080/"
        },
        "id": "xl3D75oBzhPj",
        "outputId": "d5487d07-9e6d-40ad-82ff-3b2e76eae657"
      },
      "source": [
        "get_smooth_freq('lakwd')  # OOV"
      ],
      "execution_count": 78,
      "outputs": [
        {
          "output_type": "execute_result",
          "data": {
            "text/plain": [
              "0.9999999228734463"
            ]
          },
          "metadata": {
            "tags": []
          },
          "execution_count": 78
        }
      ]
    },
    {
      "cell_type": "code",
      "metadata": {
        "colab": {
          "base_uri": "https://localhost:8080/"
        },
        "id": "YEP5b2fnzja8",
        "outputId": "2387030f-69f4-448a-9b87-e622a56b28b6"
      },
      "source": [
        "get_smooth_freq('ты')  # normal word"
      ],
      "execution_count": 79,
      "outputs": [
        {
          "output_type": "execute_result",
          "data": {
            "text/plain": [
              "0.8200590073396619"
            ]
          },
          "metadata": {
            "tags": []
          },
          "execution_count": 79
        }
      ]
    },
    {
      "cell_type": "markdown",
      "metadata": {
        "id": "Px6NLzxPxy0g"
      },
      "source": [
        "#### 3.1.1.2. Get weigthed average"
      ]
    },
    {
      "cell_type": "code",
      "metadata": {
        "id": "yAp09z_yx5dq"
      },
      "source": [
        "def get_weighted_vector(sent, vectorization_function, a=10e-3):\r\n",
        "  \"\"\"\r\n",
        "  Get weighted sentence average vectors\r\n",
        "  !!! uses global get_smooth_freq\r\n",
        "\r\n",
        "  :param sent: lsit of str, sentence to vectorize\r\n",
        "  :param vectorization_function: function list of str -> np.array of shape (len(sent), emb_dim), preprocessing and word embedding function\r\n",
        "  :param a: float, smoothing factor, optional, default=10e-3\r\n",
        "  :return: np.array of shape (emb_dim,)\r\n",
        "  \"\"\"\r\n",
        "  word_weighting_factors = [get_smooth_freq(word, a) for word in sent]\r\n",
        "  word_vectors = vectorization_function(sent)\r\n",
        "  return np.average(word_vectors, axis=0, weights=word_weighting_factors)"
      ],
      "execution_count": 80,
      "outputs": []
    },
    {
      "cell_type": "code",
      "metadata": {
        "colab": {
          "base_uri": "https://localhost:8080/"
        },
        "id": "I5VLXzvP8FpH",
        "outputId": "4f807ba0-7641-4bea-edc4-23d4b5aab00c"
      },
      "source": [
        "get_weighted_vector(ex_text, get_word_vectors_fasttext)"
      ],
      "execution_count": 81,
      "outputs": [
        {
          "output_type": "execute_result",
          "data": {
            "text/plain": [
              "array([-1.47485595e-01, -8.67006271e-01, -1.01609221e+00,  1.57672720e+00,\n",
              "        1.51358305e+00, -4.89849837e-01, -8.88345451e-01,  5.42566974e-01,\n",
              "       -5.70711476e-01, -1.63396349e+00, -2.18372155e+00, -4.66981947e-02,\n",
              "        1.09475145e-01,  1.93260146e+00,  6.08368016e-01,  4.69195994e-02,\n",
              "       -1.44835695e+00,  4.93457097e-01, -3.26809432e-01,  1.99884276e+00,\n",
              "       -4.73730233e-02, -1.72101858e-02, -1.16300356e+00, -1.86202222e+00,\n",
              "       -1.35484105e+00,  5.13130717e-01,  3.39995588e+00, -3.38948835e-01,\n",
              "       -8.48306382e-01,  4.81099119e-01, -7.47483616e-01,  1.52480650e+00,\n",
              "       -1.74028216e-01, -4.66929952e-01, -2.86649253e-01, -1.67933978e+00,\n",
              "       -3.14531792e-01, -5.48454602e-02, -2.13016177e+00, -1.63950410e+00,\n",
              "        3.25825403e-01, -7.96472488e-01,  1.08332243e-01, -8.88853588e-01,\n",
              "       -7.15274882e-01, -1.22534718e+00,  8.06013571e-01,  3.29049012e+00,\n",
              "        3.35970842e-03, -2.93784163e-01, -3.39220916e-01, -5.59914806e-01,\n",
              "       -7.92345036e-01, -5.41829318e-01, -1.17240843e+00, -8.60291880e-02,\n",
              "       -4.76325935e-01, -2.99992842e+00,  7.92301422e-01,  7.57472776e-01,\n",
              "       -1.05345494e-01,  6.00952398e-02,  1.48935495e-01, -1.04619720e+00,\n",
              "       -2.39216424e+00,  1.03536538e+00,  9.91657089e-02, -2.64032860e+00,\n",
              "       -2.14668073e+00, -2.52661659e+00,  6.45288403e-01, -2.47650331e+00,\n",
              "       -6.49539825e-01,  1.25570476e+00, -5.19899403e-01, -7.86603529e-02,\n",
              "        2.22041698e-01, -8.25577645e-01, -5.56010434e-01, -6.71245509e-01,\n",
              "        3.49663982e-01, -3.36125357e+00, -2.14217902e-01, -5.85418546e-01,\n",
              "       -6.57393450e-01, -2.35493855e-01,  1.36519568e+00,  2.33293118e+00,\n",
              "        1.68109216e+00, -5.34543630e-01, -1.12343922e+00, -7.50176854e-01,\n",
              "       -6.13426128e-01, -2.12696493e+00, -1.86021532e+00, -5.71958276e-02,\n",
              "       -1.14462903e+00,  2.19771699e-01,  1.34949665e+00, -3.33391990e-01,\n",
              "        1.18084026e+00,  8.38481457e-01, -3.86002451e-01, -4.93159219e-01,\n",
              "        6.17165754e-01,  1.32866537e+00,  9.04348809e-02,  2.35244395e+00,\n",
              "       -5.41078537e-01, -3.11546024e-01, -8.59336771e-02, -1.38035404e+00,\n",
              "       -6.74141310e-01, -1.57018827e+00,  2.81261920e-01,  2.88450772e-01,\n",
              "        4.62828002e-01,  1.31844981e-01,  2.17581479e+00, -1.49375214e+00,\n",
              "       -1.19891108e+00, -1.10805529e+00,  1.55956587e+00, -3.61440690e-01,\n",
              "        1.52056907e+00, -2.55845568e+00, -2.70750001e+00, -3.30601530e-01,\n",
              "       -3.45178463e+00, -1.34439726e+00, -2.60887476e-01, -7.85880837e-01,\n",
              "       -1.82061196e-01,  8.76527852e-01,  2.60148511e+00, -6.33164185e-01,\n",
              "        3.32173286e-01,  1.01405237e+00, -1.31295377e+00, -2.20256862e+00,\n",
              "        4.86540780e-01, -8.80424379e-01, -1.52140238e+00, -1.67223638e+00,\n",
              "       -1.54578898e+00, -6.19218827e-01, -2.40892297e-01,  3.78134065e-01,\n",
              "       -7.17808100e-01, -1.95379371e+00, -1.38766716e+00,  1.07558419e+00,\n",
              "        1.46939776e-01, -2.24299160e+00,  2.42148143e+00, -6.52166367e-01,\n",
              "       -2.75190483e+00,  7.82268310e-01, -1.87707743e+00,  2.49762022e+00,\n",
              "       -1.80354933e+00, -2.55800154e+00, -5.98420247e-01, -3.47485119e-01,\n",
              "       -5.68279598e-01, -1.81234855e-01, -3.11849809e-01,  1.94699665e-01,\n",
              "        1.17450356e-01,  2.54145152e+00, -2.00036490e-01, -5.76522875e-01,\n",
              "       -3.14945806e-02,  1.47023500e+00,  8.80524544e-03,  1.40693800e+00,\n",
              "       -7.06817565e-01, -8.78694234e-01,  1.65408378e+00, -1.28256934e+00,\n",
              "       -4.89568563e-01,  2.20988091e-01,  3.94082018e-01,  6.38317831e-01,\n",
              "        9.21152508e-03, -1.34127940e+00, -4.06879456e-02,  6.04966968e-01,\n",
              "       -1.30311084e+00, -2.75482192e-01, -5.80604256e-01,  6.41675564e-01,\n",
              "       -2.35787939e-01, -2.81137218e-01, -1.44985817e+00, -1.31414123e+00,\n",
              "        8.93862411e-01, -1.66107741e+00,  2.00084463e+00, -1.03818126e-01,\n",
              "       -2.35210782e-01, -7.40978567e-01, -6.88565171e-01,  1.40950572e+00,\n",
              "       -1.57574541e+00,  1.57620027e+00,  3.88171262e-02,  2.07277524e+00,\n",
              "        1.76071337e+00, -2.26376540e-01,  1.50795577e+00,  1.62762350e-01,\n",
              "       -1.35751582e+00, -1.31728636e+00, -6.41402352e-01,  2.38735997e+00,\n",
              "       -5.99745685e-01, -9.27864380e-02, -1.58790476e-01,  3.06838253e+00,\n",
              "        1.25534492e+00,  3.59334852e-01,  7.88128945e-01,  1.99107547e+00,\n",
              "       -1.33644548e-01, -6.69010392e-01,  8.68792397e-01, -8.47181792e-01,\n",
              "       -3.80673311e-01,  2.85446863e-01,  9.22978240e-01,  1.38836194e+00,\n",
              "       -2.59394781e-01,  1.23542282e+00,  2.85814841e+00, -3.33684568e+00,\n",
              "       -1.75412574e+00, -2.29665935e+00,  2.84166161e-01, -2.12807624e+00,\n",
              "        1.06466148e-01,  5.32555738e-01,  8.28410929e-01,  1.20857546e+00,\n",
              "        2.31535982e+00, -1.62878366e+00, -6.18202183e-01, -4.66550274e-01,\n",
              "        1.21743521e+00, -6.38005255e-01, -8.93490148e-01, -1.47999333e-01,\n",
              "       -2.69549622e-02, -8.05294765e-02,  3.03779723e+00,  1.80321008e+00,\n",
              "       -2.39392238e+00,  1.90569858e-01,  1.60211480e+00,  6.44099809e-01,\n",
              "       -5.23983373e-01,  1.15043119e+00,  1.61945170e+00, -5.63296137e-01,\n",
              "       -3.29310519e-01,  1.56301382e-01,  1.19324128e+00,  2.88271667e-01,\n",
              "       -1.32963976e+00, -2.20757044e+00, -9.87168991e-01,  9.45229985e-01,\n",
              "       -1.29577247e+00, -9.62204998e-01, -2.02992638e-01,  8.82822499e-01,\n",
              "        3.91756714e-02, -6.89343113e-01, -9.43032083e-01, -7.49569376e-01,\n",
              "        5.88300430e-01, -3.53191750e-01, -1.62060949e-01,  1.49967904e+00,\n",
              "        1.31118652e+00, -4.43446077e-01, -4.57021226e-01,  4.06366042e-01,\n",
              "        5.05511540e-01, -2.70149401e+00,  4.48649526e-01,  7.43921174e-01,\n",
              "        1.59504116e-01,  1.42423761e+00,  3.03552553e-01, -1.01246385e+00,\n",
              "        8.77998500e-01,  6.07960223e-01, -1.85158193e+00, -1.25304205e+00])"
            ]
          },
          "metadata": {
            "tags": []
          },
          "execution_count": 81
        }
      ]
    },
    {
      "cell_type": "code",
      "metadata": {
        "id": "4Gr8o-RH6ysx"
      },
      "source": [
        "def get_weighted_vector_batch(batch, batch_vectorization_function, a=10e-3):\r\n",
        "  \"\"\"\r\n",
        "  get weighted sentence average vectors\r\n",
        "  !!! uses global get_smooth_freq\r\n",
        "\r\n",
        "  :param batch: list of lsit of str, sentence to vectorize\r\n",
        "  :param batch_vectorization_function: function list list of str -> np.array of shape (max(len(sent)), emb_dim), preprocessing and word embedding function\r\n",
        "  :param a: float, smoothing factor, optional, default=10e-3\r\n",
        "  :return: np.array of shape (len(batch), emb_dim,)\r\n",
        "  \"\"\"\r\n",
        "  word_weighting_factors = [[get_smooth_freq(word, a) for word in sent] for sent in batch]\r\n",
        "  sent_vectors = batch_vectorization_function(batch)\r\n",
        "  batch = []\r\n",
        "  for i, sent in enumerate(sent_vectors):\r\n",
        "    sent = sent[:len(word_weighting_factors[i])]  # remove padding\r\n",
        "    batch.append(np.average(sent, axis=0, weights=word_weighting_factors[i]))\r\n",
        "  return np.stack(batch)"
      ],
      "execution_count": 82,
      "outputs": []
    },
    {
      "cell_type": "code",
      "metadata": {
        "id": "vjkxm8_jeFWO"
      },
      "source": [
        "def get_weighted_vector_batch_from_vectors(batch, sent_vectors, a=10e-3):\r\n",
        "  \"\"\"\r\n",
        "  get weighted sentence average vectors\r\n",
        "  !!! uses global get_smooth_freq\r\n",
        "\r\n",
        "  :param batch: list of lsit of str, sentence to vectorize\r\n",
        "  :param sent_vectors: np.array of shape (max(len(sent)), emb_dim), word embeddings function\r\n",
        "  :param a: float, smoothing factor, optional, default=10e-3\r\n",
        "  :return: np.array of shape (len(batch), emb_dim,)\r\n",
        "  \"\"\"\r\n",
        "  word_weighting_factors = [[get_smooth_freq(word, a) for word in sent] for sent in batch]\r\n",
        "  batch = []\r\n",
        "  for i, sent in enumerate(sent_vectors):\r\n",
        "    sent = sent[:len(word_weighting_factors[i])]  # remove padding\r\n",
        "    batch.append(np.average(sent, axis=0, weights=word_weighting_factors[i]))\r\n",
        "  return np.stack(batch)"
      ],
      "execution_count": 83,
      "outputs": []
    },
    {
      "cell_type": "code",
      "metadata": {
        "id": "jmFXQxNKKl5Y",
        "colab": {
          "base_uri": "https://localhost:8080/"
        },
        "outputId": "0aa5df04-a295-450d-a8e3-21d708868b54"
      },
      "source": [
        "ex_weighted_batch = get_weighted_vector_batch([['я', 'хочу', 'спать'], ['я']], get_word_vectors_elmo_batch)"
      ],
      "execution_count": 84,
      "outputs": [
        {
          "output_type": "stream",
          "text": [
            "2021-02-20 17:15:39,006 : INFO : Warming up ELMo on 2 sentences...\n",
            "2021-02-20 17:15:39,625 : INFO : Warming up finished.\n",
            "2021-02-20 17:15:39,627 : INFO : Texts in the current batch: 2\n"
          ],
          "name": "stderr"
        }
      ]
    },
    {
      "cell_type": "code",
      "metadata": {
        "colab": {
          "base_uri": "https://localhost:8080/"
        },
        "id": "gMCOoyfL1hpF",
        "outputId": "0cafe776-3f8c-475b-894a-25316ad68b78"
      },
      "source": [
        " ex_weighted_batch.shape"
      ],
      "execution_count": 85,
      "outputs": [
        {
          "output_type": "execute_result",
          "data": {
            "text/plain": [
              "(2, 1024)"
            ]
          },
          "metadata": {
            "tags": []
          },
          "execution_count": 85
        }
      ]
    },
    {
      "cell_type": "markdown",
      "metadata": {
        "id": "ETvqHimWsd5C"
      },
      "source": [
        "### 3.1.2. Principle component removal"
      ]
    },
    {
      "cell_type": "code",
      "metadata": {
        "id": "fUHhzbJv8kUP"
      },
      "source": [
        "def compute_pc(X, npc=1):\r\n",
        "    \"\"\"\r\n",
        "    Computes the principal components. DOES NOT MAKE THE DATA ZERO MEAN!\r\n",
        "\r\n",
        "    :param X: np.ndarray of shape (len(sent), emb_dim), X[i,:] is a data point\r\n",
        "    :param npc: int > 0, number of principal components to compute, optional, default 1\r\n",
        "    :return: np.ndarray of shape (npc, emb_dim), component_[i,:] is the i-th pc\r\n",
        "    \"\"\"\r\n",
        "    svd = TruncatedSVD(n_components=npc, n_iter=7, random_state=0)\r\n",
        "    svd.fit(X)\r\n",
        "    return svd.components_\r\n",
        "\r\n",
        "def remove_pc(X, npc=1, pc=None):\r\n",
        "    \"\"\"\r\n",
        "    Removes the projection on the principal components\r\n",
        "\r\n",
        "    :param X: np.ndarray of shape (len(sent), emb_dim), X[i,:] is a data point\r\n",
        "    :param npc: int > 0, number of principal components to remove, optional, default 1\r\n",
        "    :param pc: np.ndarray of shape (1, emb_dim), optional, default None\r\n",
        "    :return: np.ndarray of shape (len(sent), emb_dim), X[i,:], XX[i, :] is the data point after removing its projection\r\n",
        "    \"\"\"\r\n",
        "    if pc is None:\r\n",
        "      pc = compute_pc(X, npc)\r\n",
        "    if npc==1:\r\n",
        "        XX = X - X.dot(pc.transpose()) * pc\r\n",
        "    else:\r\n",
        "        XX = X - X.dot(pc.transpose()).dot(pc)\r\n",
        "    return XX"
      ],
      "execution_count": 86,
      "outputs": []
    },
    {
      "cell_type": "code",
      "metadata": {
        "colab": {
          "base_uri": "https://localhost:8080/"
        },
        "id": "INMQlZe-28e-",
        "outputId": "0d3faf2b-66d0-41f5-d39e-7f6924885cf7"
      },
      "source": [
        "x = np.random.rand(1,200)\r\n",
        "print(f'shape of compute_pc:\\nx: {x.shape}\\ncompute_pc(x, 2): {compute_pc(x, 2).shape}')\r\n",
        "print()\r\n",
        "print(f'shape does not chage after removal:\\nbefore: {x.shape}\\nafter: {remove_pc(x, 2).shape}')"
      ],
      "execution_count": 87,
      "outputs": [
        {
          "output_type": "stream",
          "text": [
            "shape of compute_pc:\n",
            "x: (1, 200)\n",
            "compute_pc(x, 2): (1, 200)\n",
            "\n",
            "shape does not chage after removal:\n",
            "before: (1, 200)\n",
            "after: (1, 200)\n"
          ],
          "name": "stdout"
        },
        {
          "output_type": "stream",
          "text": [
            "/usr/local/lib/python3.6/dist-packages/sklearn/decomposition/truncated_svd.py:192: RuntimeWarning: invalid value encountered in true_divide\n",
            "  self.explained_variance_ratio_ = exp_var / full_var\n"
          ],
          "name": "stderr"
        }
      ]
    },
    {
      "cell_type": "markdown",
      "metadata": {
        "id": "azYf_9y9YFwv"
      },
      "source": [
        "We need to use some common component, which will consist of combined train sets of all the tasks"
      ]
    },
    {
      "cell_type": "code",
      "metadata": {
        "id": "3mJ6tM84jsDZ"
      },
      "source": [
        "all_train_sent = flatten([s for s, l in paraphraser['train']]) + flatten([s for s, l in XNLI['train']])"
      ],
      "execution_count": 88,
      "outputs": []
    },
    {
      "cell_type": "code",
      "metadata": {
        "id": "n2xhG-emgHqG"
      },
      "source": [
        "all_train_sent = [tokenize(s) for s in all_train_sent]"
      ],
      "execution_count": 89,
      "outputs": []
    },
    {
      "cell_type": "code",
      "metadata": {
        "id": "Q_eQs4r_ZZsE"
      },
      "source": [
        "# all_fasttext_vect = [get_weighted_vector(s, get_word_vectors_fasttext) for s in all_train_sent]\r\n",
        "# fasttext_pc_to_remove = compute_pc(np.array(all_fasttext_vect))\r\n",
        "# with open('/content/drive/MyDrive/studies/Potsdam/ANLP/Project/fc.pikle', 'wb') as f:\r\n",
        "#   pickle.dump(fasttext_pc_to_remove, f)"
      ],
      "execution_count": 90,
      "outputs": []
    },
    {
      "cell_type": "code",
      "metadata": {
        "id": "WJuwPGvpMnvX"
      },
      "source": [
        "with open('/content/drive/MyDrive/studies/Potsdam/ANLP/Project/fc.pikle', 'rb') as f:\r\n",
        "  fasttext_pc_to_remove = pickle.load(f)"
      ],
      "execution_count": 91,
      "outputs": []
    },
    {
      "cell_type": "code",
      "metadata": {
        "id": "kkeo2a3RZe4u"
      },
      "source": [
        "# all_skipgram_vect = [get_weighted_vector(s, get_word_vectors_skipgram) for s in all_train_sent]\r\n",
        "# skipgram_pc_to_remove = compute_pc(np.array(all_skipgram_vect))\r\n",
        "# with open('/content/drive/MyDrive/studies/Potsdam/ANLP/Project/sk.pikle', 'wb') as f:\r\n",
        "#   pickle.dump(skipgram_pc_to_remove, f)"
      ],
      "execution_count": 92,
      "outputs": []
    },
    {
      "cell_type": "code",
      "metadata": {
        "id": "tBCDAf7eMsRx"
      },
      "source": [
        "with open('/content/drive/MyDrive/studies/Potsdam/ANLP/Project/sk.pikle', 'rb') as f:\r\n",
        "  skipgram_pc_to_remove = pickle.load(f)"
      ],
      "execution_count": 93,
      "outputs": []
    },
    {
      "cell_type": "code",
      "metadata": {
        "id": "wPgBuyaiTyei"
      },
      "source": [
        "# elmo_bs = []\r\n",
        "# batch_size = 1000\r\n",
        "# for i in range(len(all_train_sent)//batch_size):\r\n",
        "#   mystem_analyzer = Mystem()\r\n",
        "#   if (i+1) * batch_size < len(all_train_sent):\r\n",
        "#     elmo_bs.append(get_weighted_vector_batch(all_train_sent[i*batch_size: (i+1) * batch_size], get_word_vectors_elmo_batch))\r\n",
        "#   else:\r\n",
        "#     elmo_bs.append(get_weighted_vector_batch(all_train_sent[i*batch_size:], get_word_vectors_elmo_batch))\r\n",
        "\r\n",
        "# with open('/content/drive/MyDrive/studies/Potsdam/ANLP/Project/el_b1.pikle', 'wb') as f:\r\n",
        "#   pickle.dump(elmo_bs, f)"
      ],
      "execution_count": 94,
      "outputs": []
    },
    {
      "cell_type": "code",
      "metadata": {
        "id": "qErXuI8s289Y"
      },
      "source": [
        "with open('/content/drive/MyDrive/studies/Potsdam/ANLP/Project/el_b1.pikle', 'rb') as f:\r\n",
        "  elmo_bs = pickle.load(f)"
      ],
      "execution_count": 95,
      "outputs": []
    },
    {
      "cell_type": "code",
      "metadata": {
        "colab": {
          "base_uri": "https://localhost:8080/"
        },
        "id": "vsYNESDM1Ob7",
        "outputId": "e9d74d8f-4a81-4368-a23b-516f3a779fe3"
      },
      "source": [
        "np.concatenate(elmo_bs).shape"
      ],
      "execution_count": 96,
      "outputs": [
        {
          "output_type": "execute_result",
          "data": {
            "text/plain": [
              "(20384, 1024)"
            ]
          },
          "metadata": {
            "tags": []
          },
          "execution_count": 96
        }
      ]
    },
    {
      "cell_type": "code",
      "metadata": {
        "colab": {
          "base_uri": "https://localhost:8080/"
        },
        "id": "LRX-bA4fxcKk",
        "outputId": "3be0e10b-0ff5-4324-ff44-9f1322f35a61"
      },
      "source": [
        "compute_pc(np.concatenate(elmo_bs))"
      ],
      "execution_count": 97,
      "outputs": [
        {
          "output_type": "execute_result",
          "data": {
            "text/plain": [
              "array([[-0.02249405, -0.01140614, -0.04854422, ...,  0.03363734,\n",
              "        -0.0612299 , -0.01520186]])"
            ]
          },
          "metadata": {
            "tags": []
          },
          "execution_count": 97
        }
      ]
    },
    {
      "cell_type": "code",
      "metadata": {
        "id": "UmNlZxu3T1Yf"
      },
      "source": [
        "elmo_pc_to_remove = compute_pc(np.concatenate(elmo_bs))\r\n",
        "with open('/content/drive/MyDrive/studies/Potsdam/ANLP/Project/el.pikle', 'wb') as f:\r\n",
        "  pickle.dump(elmo_pc_to_remove, f)"
      ],
      "execution_count": 98,
      "outputs": []
    },
    {
      "cell_type": "code",
      "metadata": {
        "id": "DDxJcu732Wx7"
      },
      "source": [
        "def SIF(sentence, vectorization_function, pc_vector, a=10e-3):\r\n",
        "  \"\"\"\r\n",
        "  Compute smooth inverse frequency of a sentence given a vectorization model\r\n",
        "  !!! uses global get_weighted_vector and remove_pc\r\n",
        "\r\n",
        "  :param sentence: list of str, sentence\r\n",
        "  :param vectorization_function: function list of str -> np.array of shape (len(sent), emb_dim), preprocessing and word embedding function\r\n",
        "  :param pc_vector: np.array of shape (1, emb_dim), principal component to remove\r\n",
        "  :param a: float, smoothing factor, optional, default=10e-3\r\n",
        "  :return: np.array of shape (emb_dim,), sentence vector\r\n",
        "  \"\"\"\r\n",
        "  weighted = get_weighted_vector(sentence, vectorization_function, a=a)\r\n",
        "  return remove_pc(weighted.reshape(1, -1), pc=pc_vector).squeeze()"
      ],
      "execution_count": 99,
      "outputs": []
    },
    {
      "cell_type": "code",
      "metadata": {
        "colab": {
          "base_uri": "https://localhost:8080/"
        },
        "id": "MPOu-3pZymUF",
        "outputId": "730835be-8bc2-4509-e116-ac03361d24bc"
      },
      "source": [
        "ex_w = get_weighted_vector(ex_text, get_word_vectors_fasttext)\r\n",
        "remove_pc(ex_w.reshape(1, -1), 1, pc=fasttext_pc_to_remove).squeeze()"
      ],
      "execution_count": 100,
      "outputs": [
        {
          "output_type": "execute_result",
          "data": {
            "text/plain": [
              "array([ 3.37665709e-01, -1.09491464e+00, -2.05150879e-01,  2.09754067e+00,\n",
              "        1.38353389e+00,  1.78544250e-02, -5.97146242e-01,  1.01613111e+00,\n",
              "       -4.93344449e-01, -8.89836506e-01, -1.26930079e+00,  1.69768934e-01,\n",
              "        2.45361063e-01,  1.24594263e+00, -3.83123930e-03, -3.77703871e-01,\n",
              "       -1.06434261e+00, -4.18035882e-01, -1.12084878e+00,  1.65732443e+00,\n",
              "       -8.09073217e-01, -6.63554711e-01, -1.33802721e+00, -1.01035600e+00,\n",
              "       -1.16790726e+00,  4.89718246e-01,  2.15444900e+00, -9.59247429e-01,\n",
              "       -3.02371065e-01,  8.58117021e-01,  2.98205731e-01,  1.67463347e+00,\n",
              "       -7.44100021e-01, -2.77560045e-01, -5.67833156e-01, -1.21222762e+00,\n",
              "       -1.27099683e+00, -2.58968770e-01, -2.07501456e+00, -2.74993129e-01,\n",
              "       -5.85945984e-01, -1.39672644e-01, -5.52545795e-03, -6.07166730e-01,\n",
              "       -1.35741147e-01, -2.14405501e+00,  1.37289740e-01,  3.24631490e+00,\n",
              "        4.32806853e-01, -5.08566568e-01, -7.78365606e-01,  1.51934799e-01,\n",
              "       -1.10156559e+00, -6.79588873e-01, -6.40458560e-01, -4.29317263e-01,\n",
              "       -2.55903997e-01, -2.72388706e+00,  6.04511356e-01,  7.89416076e-01,\n",
              "       -5.03536424e-01,  6.72451337e-01, -1.73264887e-01, -2.11747572e-01,\n",
              "       -1.58299004e+00,  1.27151275e+00, -4.75915900e-01, -2.08650405e+00,\n",
              "       -1.78997827e+00, -2.17534697e+00,  2.54849301e-02, -2.46207134e+00,\n",
              "       -3.44756180e-01,  1.02344517e+00, -4.55040426e-01,  2.59807079e-01,\n",
              "        1.30101143e-01, -5.81079389e-02, -6.35979949e-01, -7.82550373e-01,\n",
              "       -4.27850093e-01, -3.39747881e+00, -2.14426666e-01,  5.49568144e-01,\n",
              "       -4.21377375e-01, -8.75212284e-01,  9.52184800e-01,  1.33494211e+00,\n",
              "        1.55532821e+00, -8.34924755e-01, -1.45329568e-01, -2.98544788e-01,\n",
              "        6.59384860e-01, -1.70342773e+00, -3.24825570e-01,  1.76203474e-02,\n",
              "       -1.90529381e+00, -2.65805162e-01,  6.33388425e-01, -5.78837161e-01,\n",
              "        1.44598546e+00,  4.97882240e-01, -4.52427494e-01, -4.41120410e-01,\n",
              "        1.18276905e+00,  6.83801097e-01,  1.54315937e-01,  1.47525331e+00,\n",
              "        4.29680065e-01, -1.62115665e-01, -1.12405240e-01, -1.46696307e+00,\n",
              "        4.32175114e-02, -1.19561372e+00,  6.42641170e-01,  8.36250550e-01,\n",
              "       -3.76086156e-02, -5.32158107e-02,  1.39336167e+00, -2.02173303e+00,\n",
              "       -8.30335635e-01, -1.10002906e+00,  2.01257500e+00, -5.77195975e-02,\n",
              "        1.77368598e+00, -2.14686930e+00, -2.38274282e+00, -7.32771545e-01,\n",
              "       -2.92623226e+00, -5.40212171e-01, -1.16632180e+00, -9.06896871e-02,\n",
              "       -7.12871024e-02,  1.77376305e-01,  1.32753353e+00, -7.91175454e-01,\n",
              "       -6.58957853e-01,  3.99309560e-01, -1.52075274e+00, -2.15776439e+00,\n",
              "        1.11824856e+00, -2.80393712e-01, -1.73917768e+00, -1.95176658e+00,\n",
              "       -7.56635685e-01,  4.53483130e-01, -1.45098801e-01,  1.39441097e-01,\n",
              "       -1.17481397e+00, -6.32184082e-01, -1.54327225e+00,  9.50344567e-01,\n",
              "        5.21003171e-03, -1.87114311e+00,  1.98322021e+00, -5.32421981e-01,\n",
              "       -1.97078973e+00,  4.66966413e-01, -1.74630430e+00,  1.45230863e+00,\n",
              "       -1.48238526e+00, -9.17380401e-01, -7.50257512e-01, -5.18276807e-01,\n",
              "       -1.92445781e-01,  7.84611649e-01, -1.44539666e-01,  2.17189249e-01,\n",
              "        2.57665309e-02,  2.47670756e+00, -4.11667918e-01,  7.17643224e-01,\n",
              "        3.00998792e-01,  8.30205262e-01,  5.91952613e-01,  1.56541258e+00,\n",
              "       -1.06280050e-01, -1.35427249e+00,  6.90410698e-01, -1.74349031e+00,\n",
              "        1.62972396e-01,  2.23315539e-01, -1.11115853e-01,  2.90617138e-01,\n",
              "        2.17443350e-01, -4.75369552e-01, -5.91078750e-02,  2.20285710e-01,\n",
              "       -5.94037117e-01, -8.62701788e-02,  2.36720554e-01,  2.31783805e-01,\n",
              "       -1.52180835e-01, -7.18834464e-01, -1.44848104e+00, -2.27471910e+00,\n",
              "       -1.31837822e-01, -1.62576461e+00,  1.90261136e+00, -3.09286797e-01,\n",
              "       -2.29072808e-01,  3.56075073e-01,  1.62187488e-01,  1.73949555e+00,\n",
              "       -1.05012335e+00,  8.79719811e-01, -3.44820111e-01,  3.38034530e+00,\n",
              "        1.14610857e+00,  3.91652877e-01,  1.21102338e+00,  6.68947761e-02,\n",
              "       -1.12326843e+00, -1.10403497e+00, -1.15469925e+00,  2.31847109e+00,\n",
              "       -8.61328711e-01,  3.55630682e-02, -5.63599717e-01,  3.22521220e+00,\n",
              "        8.32525949e-01,  5.94083863e-01,  3.49344600e-01,  1.05939549e+00,\n",
              "        3.15501768e-01, -6.11708049e-02,  6.35576885e-01, -1.83810972e-01,\n",
              "       -5.81872267e-01, -3.08606551e-03,  4.40822727e-01,  1.36414659e+00,\n",
              "       -2.97921267e-01,  6.30338427e-01,  1.93712382e+00, -2.87833557e+00,\n",
              "       -1.11328566e+00, -2.34268408e+00, -2.31657352e-02, -2.31475782e+00,\n",
              "       -5.66920925e-01,  7.41173340e-01,  1.59733954e+00,  1.04654016e+00,\n",
              "        2.10316741e+00, -1.47478551e+00, -2.79169784e-01, -7.87040651e-01,\n",
              "        1.52508478e+00, -1.68683117e+00, -3.72921360e-01, -5.96160648e-01,\n",
              "        2.53884387e-01, -1.32345213e+00,  2.42965494e+00,  1.92797543e+00,\n",
              "       -2.24732659e+00, -3.71593543e-02,  1.63032490e+00,  2.17067809e-01,\n",
              "       -3.14589657e-01,  8.62609697e-01,  1.91435022e+00, -2.78524341e-01,\n",
              "       -5.98264718e-01,  1.25364625e-01,  4.00127713e-01, -1.45985628e-01,\n",
              "       -1.05455559e+00, -1.72725356e+00, -1.07357740e+00,  1.54485970e+00,\n",
              "       -3.78191804e-01,  6.10060747e-01, -1.20496213e-01,  1.56657769e-01,\n",
              "       -3.01156461e-01, -5.66247401e-01, -1.39368079e+00, -7.95748395e-01,\n",
              "        2.80219604e-01,  1.93833962e-01, -6.25674131e-01,  1.15878506e+00,\n",
              "        1.19948684e+00, -5.09283714e-01, -6.85325196e-01, -4.58328856e-01,\n",
              "        9.97664337e-01, -1.82069850e+00,  5.62007409e-02,  1.93847888e-01,\n",
              "       -7.19146082e-02,  9.63864592e-01,  2.24629163e-02, -9.21179224e-01,\n",
              "        9.24017805e-01,  1.77436099e+00, -2.39833969e+00, -9.77155228e-01])"
            ]
          },
          "metadata": {
            "tags": []
          },
          "execution_count": 100
        }
      ]
    },
    {
      "cell_type": "code",
      "metadata": {
        "colab": {
          "base_uri": "https://localhost:8080/"
        },
        "id": "n8RXGZm_yAmE",
        "outputId": "5850b4cb-859a-47b8-fd4e-81048a8b7ff1"
      },
      "source": [
        "SIF(ex_text, get_word_vectors_fasttext, fasttext_pc_to_remove).shape"
      ],
      "execution_count": 101,
      "outputs": [
        {
          "output_type": "execute_result",
          "data": {
            "text/plain": [
              "(300,)"
            ]
          },
          "metadata": {
            "tags": []
          },
          "execution_count": 101
        }
      ]
    },
    {
      "cell_type": "markdown",
      "metadata": {
        "id": "wiAHISpZt8Pg"
      },
      "source": [
        "## 3.2 CPM"
      ]
    },
    {
      "cell_type": "markdown",
      "metadata": {
        "id": "r1Kuq7Kjd0a-"
      },
      "source": [
        "### 3.2.1. Power Mean\r\n",
        "$\\left(\\frac{x^p_1 + \\dots + x^p_n}{n} \\right)^{1/p}; p \\in \\mathbb{R} \\cup {\\pm \\infty}$"
      ]
    },
    {
      "cell_type": "markdown",
      "metadata": {
        "id": "5t_WtNNWQWgF"
      },
      "source": [
        "\"We chose several intuitive values for power mean in addition to the ones already tried out, namely p = −1 (harmonic mean), p = 0.5, p = 2 (quadratic mean), and p = 3 (cubic mean). Table 4 reports the average performances over all tasks. We notice that p = 3 is the most effective power mean here and p = −1 is (by far) least effective. We discuss below why p = −1 hurts performances in this case.\""
      ]
    },
    {
      "cell_type": "code",
      "metadata": {
        "id": "29qYEj9xOchv"
      },
      "source": [
        "def get_power_mean(word_vectors, powers=[3.0]):\r\n",
        "  \"\"\"\r\n",
        "  Compute the power mean of a list of vectors\r\n",
        "\r\n",
        "  :param word_vectors: np.array of shape(len_sent, emb_dim)\r\n",
        "  :param powers: list of non-zero float or {'inf', '-inf'}, powers, optional, default=[3.0]\r\n",
        "  :return: np.array of shape(emb_dim*len(power))\r\n",
        "  \"\"\"\r\n",
        "  ps = []\r\n",
        "  for p in powers:\r\n",
        "    if p == 'inf':\r\n",
        "      ps.append(np.max(word_vectors, axis=0))\r\n",
        "    elif p == '-inf':\r\n",
        "      ps.append(np.min(word_vectors, axis=0))     \r\n",
        "    elif type(p) == float or type(p) == int:\r\n",
        "      # pow = word_vectors ** p \r\n",
        "      # sum = np.sum(pow, axis = 0) / pow.shape[0]\r\n",
        "      # ps.append(sum ** (1/p))\r\n",
        "      p = float(p)\r\n",
        "      ps.append(np.power(np.mean(np.power(np.array(word_vectors, dtype=complex), p), axis=0), 1/p).real)\r\n",
        "    else:\r\n",
        "      print(p)\r\n",
        "  if len(ps) == 1:\r\n",
        "    return ps[0]\r\n",
        "  return np.concatenate(ps)"
      ],
      "execution_count": 102,
      "outputs": []
    },
    {
      "cell_type": "code",
      "metadata": {
        "colab": {
          "base_uri": "https://localhost:8080/"
        },
        "id": "4XLx8VVR93Dh",
        "outputId": "27bb1217-bfe1-4ac4-8f39-cd6f5445c863"
      },
      "source": [
        "get_power_mean(get_word_vectors_fasttext(ex_text), powers=[0.5, 3, 'inf']).shape"
      ],
      "execution_count": 103,
      "outputs": [
        {
          "output_type": "execute_result",
          "data": {
            "text/plain": [
              "(900,)"
            ]
          },
          "metadata": {
            "tags": []
          },
          "execution_count": 103
        }
      ]
    },
    {
      "cell_type": "markdown",
      "metadata": {
        "id": "Azs51kO_dwev"
      },
      "source": [
        "### 3.2.2. Concatenate from different methods\r\n",
        "$s^{(i)} = H_{p1}(W^{(i)})\\oplus \\dots \\oplus H_{pK}(W^{(i)})$"
      ]
    },
    {
      "cell_type": "code",
      "metadata": {
        "id": "vRD-P7EsyK3N"
      },
      "source": [
        "def CPM(sentence, vectorization_functions, powers):\r\n",
        "  \"\"\"\r\n",
        "  Compute concatenated power mean representation of a sentence given several vectorization models\r\n",
        "  !!! uses global get_power_mean\r\n",
        "  \r\n",
        "  :param sentence: list of str, sentence\r\n",
        "  :param vectorization_functions: list of functions list of str -> np.array of shape (len(sent), emb_dim), preprocessing and word embedding function\r\n",
        "  :param powers: list of non-zero float or {'inf', '-inf'}, powers\r\n",
        "  \"\"\"\r\n",
        "  representations = [s2w(sentence) for s2w in vectorization_functions]\r\n",
        "  power_representations = [get_power_mean(representation, powers=powers) for representation in representations]\r\n",
        "  return np.concatenate(power_representations)"
      ],
      "execution_count": 104,
      "outputs": []
    },
    {
      "cell_type": "code",
      "metadata": {
        "id": "yAdy7m0OnAbX"
      },
      "source": [
        "def CPM_from_vectors(representations, powers):\r\n",
        "  \"\"\"\r\n",
        "  Compute concatenated power mean representation of a sentence given sentences vectorized with different methods\r\n",
        "  !!! uses global get_power_mean\r\n",
        "  \r\n",
        "  :param representations: list of np.array of shape (len(sent), emb_dim), word embeddings of different methods\r\n",
        "  :param powers: list of non-zero float or {'inf', '-inf'}, powers\r\n",
        "  \"\"\"\r\n",
        "  power_representations = [get_power_mean(representation, powers=powers) for representation in representations]\r\n",
        "  return np.concatenate(power_representations)"
      ],
      "execution_count": 150,
      "outputs": []
    },
    {
      "cell_type": "code",
      "metadata": {
        "colab": {
          "base_uri": "https://localhost:8080/"
        },
        "id": "yHhbWFYkF-OJ",
        "outputId": "e12a9c57-7a8a-4ceb-b58b-9cdbb0b08374"
      },
      "source": [
        "CPM(ex_text, [get_word_vectors_fasttext, get_word_vectors_skipgram], [2, 'inf']).shape"
      ],
      "execution_count": 105,
      "outputs": [
        {
          "output_type": "execute_result",
          "data": {
            "text/plain": [
              "(1200,)"
            ]
          },
          "metadata": {
            "tags": []
          },
          "execution_count": 105
        }
      ]
    },
    {
      "cell_type": "markdown",
      "metadata": {
        "id": "lcAFj57UIkIa"
      },
      "source": [
        "# 4. MSR Evaluation\r\n",
        "\r\n",
        "**pipleine**:\r\n",
        "\r\n",
        "tokenize -> vectorize -> predict -> evaluate\r\n",
        "\r\n",
        "\r\n",
        "\r\n",
        "The [description](https://www.cs.york.ac.uk/semeval-2012/task6/data/uploads/datasets/train-readme.txt) of the original task.\r\n",
        "\r\n",
        "The oficial score is based on Pearson correlation. \r\n",
        "\r\n",
        "<br>\r\n",
        "\r\n",
        "**Gold Standard**\r\n",
        "\r\n",
        "The gold standard contains a score between 0 and 5 for each pair of\r\n",
        "sentences, with the following interpretation:\r\n",
        "\r\n",
        "(5) The two sentences are completely equivalent, as they mean the same\r\n",
        "    thing.  \r\n",
        "\r\n",
        "      The bird is bathing in the sink.  \r\n",
        "      Birdie is washing itself in the water basin.\r\n",
        "\r\n",
        "(4) The two sentences are mostly equivalent, but some unimportant\r\n",
        "    details differ.\r\n",
        "\r\n",
        "      In May 2010, the troops attempted to invade Kabul.\r\n",
        "      The US army invaded Kabul on May 7th last year, 2010.\r\n",
        "\r\n",
        "(3) The two sentences are roughly equivalent, but some important\r\n",
        "    information differs/missing.\r\n",
        "\r\n",
        "      John said he is considered a witness but not a suspect.\r\n",
        "      \"He is not a suspect anymore.\" John said.\r\n",
        "\r\n",
        "(2) The two sentences are not equivalent, but share some details.\r\n",
        "\r\n",
        "      They flew out of the nest in groups.\r\n",
        "      They flew into the nest together.\r\n",
        "\r\n",
        "(1) The two sentences are not equivalent, but are on the same topic.\r\n",
        "\r\n",
        "      The woman is playing the violin.\r\n",
        "      The young lady enjoys listening to the guitar.\r\n",
        "\r\n",
        "(0) The two sentences are on different topics.\r\n",
        "\r\n",
        "      John went horse back riding at dawn with a whole group of friends.\r\n",
        "      Sunrise at dawn is a magnificent view to take in if you wake up\r\n",
        "      early enough for it.\r\n"
      ]
    },
    {
      "cell_type": "code",
      "metadata": {
        "id": "AzUtmG9fIxJw"
      },
      "source": [
        "tokenized_STS = [[tokenize(s) for s in pair[0]] for pair in STS['test']]"
      ],
      "execution_count": 106,
      "outputs": []
    },
    {
      "cell_type": "code",
      "metadata": {
        "id": "XrnXTmlNMSfE"
      },
      "source": [
        "STS_target = [pair[1] for pair in STS['test']]"
      ],
      "execution_count": 107,
      "outputs": []
    },
    {
      "cell_type": "code",
      "metadata": {
        "colab": {
          "base_uri": "https://localhost:8080/",
          "height": 493
        },
        "id": "U4-_FsO2WjPy",
        "outputId": "cefa512a-0d7e-4a3d-be16-b0c3863b8af1"
      },
      "source": [
        "!pip install pandas --upgrade"
      ],
      "execution_count": 108,
      "outputs": [
        {
          "output_type": "stream",
          "text": [
            "Requirement already satisfied: pandas in /usr/local/lib/python3.6/dist-packages (0.23.1)\n",
            "Collecting pandas\n",
            "  Downloading pandas-1.1.5-cp36-cp36m-manylinux1_x86_64.whl (9.5 MB)\n",
            "\u001b[K     |████████████████████████████████| 9.5 MB 4.9 MB/s \n",
            "\u001b[?25hRequirement already satisfied: pytz>=2017.2 in /usr/local/lib/python3.6/dist-packages (from pandas) (2018.9)\n",
            "Requirement already satisfied: python-dateutil>=2.7.3 in /usr/local/lib/python3.6/dist-packages (from pandas) (2.8.1)\n",
            "Requirement already satisfied: numpy>=1.15.4 in /usr/local/lib/python3.6/dist-packages (from pandas) (1.19.5)\n",
            "Requirement already satisfied: six>=1.5 in /usr/local/lib/python3.6/dist-packages (from python-dateutil>=2.7.3->pandas) (1.15.0)\n",
            "Installing collected packages: pandas\n",
            "  Attempting uninstall: pandas\n",
            "    Found existing installation: pandas 0.23.1\n",
            "    Uninstalling pandas-0.23.1:\n",
            "      Successfully uninstalled pandas-0.23.1\n",
            "\u001b[31mERROR: pip's dependency resolver does not currently take into account all the packages that are installed. This behaviour is the source of the following dependency conflicts.\n",
            "plotnine 0.6.0 requires scipy>=1.2.0, but you have scipy 1.1.0 which is incompatible.\n",
            "google-colab 1.0.0 requires requests~=2.23.0, but you have requests 2.25.1 which is incompatible.\n",
            "fbprophet 0.7.1 requires tqdm>=4.36.1, but you have tqdm 4.23.4 which is incompatible.\n",
            "deeppavloveval 0.1 requires gensim==2.3.0, but you have gensim 3.8.0 which is incompatible.\n",
            "deeppavlov 0.4.0 requires h5py==2.8.0, but you have h5py 2.10.0 which is incompatible.\n",
            "deeppavlov 0.4.0 requires numpy==1.14.5, but you have numpy 1.19.5 which is incompatible.\n",
            "deeppavlov 0.4.0 requires pandas==0.23.1, but you have pandas 1.1.5 which is incompatible.\n",
            "deeppavlov 0.4.0 requires requests==2.19.1, but you have requests 2.25.1 which is incompatible.\u001b[0m\n",
            "Successfully installed pandas-1.1.5\n"
          ],
          "name": "stdout"
        },
        {
          "output_type": "display_data",
          "data": {
            "application/vnd.colab-display-data+json": {
              "pip_warning": {
                "packages": [
                  "pandas"
                ]
              }
            }
          },
          "metadata": {
            "tags": []
          }
        }
      ]
    },
    {
      "cell_type": "code",
      "metadata": {
        "id": "OztMxyMNWj9f"
      },
      "source": [
        "import pandas as pd\r\n",
        "mystem_analyzer = Mystem() "
      ],
      "execution_count": 184,
      "outputs": []
    },
    {
      "cell_type": "code",
      "metadata": {
        "colab": {
          "base_uri": "https://localhost:8080/",
          "height": 49
        },
        "id": "FV9EOF-COVB0",
        "outputId": "aabf95e1-de81-46fe-faab-b48977fed6ce"
      },
      "source": [
        "res_columns = ['method', 'vectors', 'SIF_a', 'CPM_powers', 'pearson_r', 'pearson_p']\r\n",
        "res_df = pd.DataFrame(columns=res_columns)\r\n",
        "res_df"
      ],
      "execution_count": 132,
      "outputs": [
        {
          "output_type": "execute_result",
          "data": {
            "text/html": [
              "<div>\n",
              "<style scoped>\n",
              "    .dataframe tbody tr th:only-of-type {\n",
              "        vertical-align: middle;\n",
              "    }\n",
              "\n",
              "    .dataframe tbody tr th {\n",
              "        vertical-align: top;\n",
              "    }\n",
              "\n",
              "    .dataframe thead th {\n",
              "        text-align: right;\n",
              "    }\n",
              "</style>\n",
              "<table border=\"1\" class=\"dataframe\">\n",
              "  <thead>\n",
              "    <tr style=\"text-align: right;\">\n",
              "      <th></th>\n",
              "      <th>method</th>\n",
              "      <th>vectors</th>\n",
              "      <th>SIF_a</th>\n",
              "      <th>CPM_powers</th>\n",
              "      <th>pearson_r</th>\n",
              "      <th>pearson_p</th>\n",
              "    </tr>\n",
              "  </thead>\n",
              "  <tbody>\n",
              "  </tbody>\n",
              "</table>\n",
              "</div>"
            ],
            "text/plain": [
              "Empty DataFrame\n",
              "Columns: [method, vectors, SIF_a, CPM_powers, pearson_r, pearson_p]\n",
              "Index: []"
            ]
          },
          "metadata": {
            "tags": []
          },
          "execution_count": 132
        }
      ]
    },
    {
      "cell_type": "markdown",
      "metadata": {
        "id": "fWB0Bj0rMp5f"
      },
      "source": [
        "### 4.1. Test across SIF methods"
      ]
    },
    {
      "cell_type": "markdown",
      "metadata": {
        "id": "eKDJNcmuRy1-"
      },
      "source": [
        "#### 4.1.1. Fasttext"
      ]
    },
    {
      "cell_type": "code",
      "metadata": {
        "colab": {
          "base_uri": "https://localhost:8080/",
          "height": 80
        },
        "id": "LS-VxyH8SOhv",
        "outputId": "f76a6c72-da2a-45ec-9ef2-251c6be84bb1"
      },
      "source": [
        "# a=10e-2\r\n",
        "fasttext_pred =[cos_sim(*[SIF(s, get_word_vectors_fasttext, fasttext_pc_to_remove, a=10e-2) for s in tokenized_pair]) for tokenized_pair in tokenized_STS]\r\n",
        "r, p = pearsonr(fasttext_pred, STS_target)\r\n",
        "res_df = res_df.append(pd.DataFrame([['SIF', 'fasttext', 10e-2, np.nan, r, p]], columns=res_columns), ignore_index=True)\r\n",
        "res_df"
      ],
      "execution_count": 133,
      "outputs": [
        {
          "output_type": "execute_result",
          "data": {
            "text/html": [
              "<div>\n",
              "<style scoped>\n",
              "    .dataframe tbody tr th:only-of-type {\n",
              "        vertical-align: middle;\n",
              "    }\n",
              "\n",
              "    .dataframe tbody tr th {\n",
              "        vertical-align: top;\n",
              "    }\n",
              "\n",
              "    .dataframe thead th {\n",
              "        text-align: right;\n",
              "    }\n",
              "</style>\n",
              "<table border=\"1\" class=\"dataframe\">\n",
              "  <thead>\n",
              "    <tr style=\"text-align: right;\">\n",
              "      <th></th>\n",
              "      <th>method</th>\n",
              "      <th>vectors</th>\n",
              "      <th>SIF_a</th>\n",
              "      <th>CPM_powers</th>\n",
              "      <th>pearson_r</th>\n",
              "      <th>pearson_p</th>\n",
              "    </tr>\n",
              "  </thead>\n",
              "  <tbody>\n",
              "    <tr>\n",
              "      <th>0</th>\n",
              "      <td>SIF</td>\n",
              "      <td>fasttext</td>\n",
              "      <td>0.1</td>\n",
              "      <td>NaN</td>\n",
              "      <td>0.715789</td>\n",
              "      <td>9.138716e-119</td>\n",
              "    </tr>\n",
              "  </tbody>\n",
              "</table>\n",
              "</div>"
            ],
            "text/plain": [
              "  method   vectors  SIF_a  CPM_powers  pearson_r      pearson_p\n",
              "0    SIF  fasttext    0.1         NaN   0.715789  9.138716e-119"
            ]
          },
          "metadata": {
            "tags": []
          },
          "execution_count": 133
        }
      ]
    },
    {
      "cell_type": "code",
      "metadata": {
        "colab": {
          "base_uri": "https://localhost:8080/",
          "height": 111
        },
        "id": "J8nZwBqNNkSB",
        "outputId": "ac99ab8e-99c4-4cd0-d4de-9e9a7bf37ba1"
      },
      "source": [
        "# a=10e-3\r\n",
        "fasttext_pred =[cos_sim(*[SIF(s, get_word_vectors_fasttext, fasttext_pc_to_remove) for s in tokenized_pair]) for tokenized_pair in tokenized_STS]\r\n",
        "r, p = pearsonr(fasttext_pred, STS_target)\r\n",
        "res_df = res_df.append(pd.DataFrame([['SIF', 'fasttext', 10e-3, np.nan, r, p]], columns=res_columns), ignore_index=True)\r\n",
        "res_df"
      ],
      "execution_count": 134,
      "outputs": [
        {
          "output_type": "execute_result",
          "data": {
            "text/html": [
              "<div>\n",
              "<style scoped>\n",
              "    .dataframe tbody tr th:only-of-type {\n",
              "        vertical-align: middle;\n",
              "    }\n",
              "\n",
              "    .dataframe tbody tr th {\n",
              "        vertical-align: top;\n",
              "    }\n",
              "\n",
              "    .dataframe thead th {\n",
              "        text-align: right;\n",
              "    }\n",
              "</style>\n",
              "<table border=\"1\" class=\"dataframe\">\n",
              "  <thead>\n",
              "    <tr style=\"text-align: right;\">\n",
              "      <th></th>\n",
              "      <th>method</th>\n",
              "      <th>vectors</th>\n",
              "      <th>SIF_a</th>\n",
              "      <th>CPM_powers</th>\n",
              "      <th>pearson_r</th>\n",
              "      <th>pearson_p</th>\n",
              "    </tr>\n",
              "  </thead>\n",
              "  <tbody>\n",
              "    <tr>\n",
              "      <th>0</th>\n",
              "      <td>SIF</td>\n",
              "      <td>fasttext</td>\n",
              "      <td>0.10</td>\n",
              "      <td>NaN</td>\n",
              "      <td>0.715789</td>\n",
              "      <td>9.138716e-119</td>\n",
              "    </tr>\n",
              "    <tr>\n",
              "      <th>1</th>\n",
              "      <td>SIF</td>\n",
              "      <td>fasttext</td>\n",
              "      <td>0.01</td>\n",
              "      <td>NaN</td>\n",
              "      <td>0.730136</td>\n",
              "      <td>7.780063e-126</td>\n",
              "    </tr>\n",
              "  </tbody>\n",
              "</table>\n",
              "</div>"
            ],
            "text/plain": [
              "  method   vectors  SIF_a  CPM_powers  pearson_r      pearson_p\n",
              "0    SIF  fasttext   0.10         NaN   0.715789  9.138716e-119\n",
              "1    SIF  fasttext   0.01         NaN   0.730136  7.780063e-126"
            ]
          },
          "metadata": {
            "tags": []
          },
          "execution_count": 134
        }
      ]
    },
    {
      "cell_type": "code",
      "metadata": {
        "colab": {
          "base_uri": "https://localhost:8080/",
          "height": 142
        },
        "id": "ABScQJl6R_YH",
        "outputId": "3d91326f-858f-4b33-b6dd-7d95bde8b73e"
      },
      "source": [
        "# a=10e-4\r\n",
        "fasttext_pred =[cos_sim(*[SIF(s, get_word_vectors_fasttext, fasttext_pc_to_remove, a=10e-4) for s in tokenized_pair]) for tokenized_pair in tokenized_STS]\r\n",
        "r, p = pearsonr(fasttext_pred, STS_target)\r\n",
        "res_df = res_df.append(pd.DataFrame([['SIF', 'fasttext', 10e-4, np.nan, r, p]], columns=res_columns), ignore_index=True)\r\n",
        "res_df"
      ],
      "execution_count": 135,
      "outputs": [
        {
          "output_type": "execute_result",
          "data": {
            "text/html": [
              "<div>\n",
              "<style scoped>\n",
              "    .dataframe tbody tr th:only-of-type {\n",
              "        vertical-align: middle;\n",
              "    }\n",
              "\n",
              "    .dataframe tbody tr th {\n",
              "        vertical-align: top;\n",
              "    }\n",
              "\n",
              "    .dataframe thead th {\n",
              "        text-align: right;\n",
              "    }\n",
              "</style>\n",
              "<table border=\"1\" class=\"dataframe\">\n",
              "  <thead>\n",
              "    <tr style=\"text-align: right;\">\n",
              "      <th></th>\n",
              "      <th>method</th>\n",
              "      <th>vectors</th>\n",
              "      <th>SIF_a</th>\n",
              "      <th>CPM_powers</th>\n",
              "      <th>pearson_r</th>\n",
              "      <th>pearson_p</th>\n",
              "    </tr>\n",
              "  </thead>\n",
              "  <tbody>\n",
              "    <tr>\n",
              "      <th>0</th>\n",
              "      <td>SIF</td>\n",
              "      <td>fasttext</td>\n",
              "      <td>0.100</td>\n",
              "      <td>NaN</td>\n",
              "      <td>0.715789</td>\n",
              "      <td>9.138716e-119</td>\n",
              "    </tr>\n",
              "    <tr>\n",
              "      <th>1</th>\n",
              "      <td>SIF</td>\n",
              "      <td>fasttext</td>\n",
              "      <td>0.010</td>\n",
              "      <td>NaN</td>\n",
              "      <td>0.730136</td>\n",
              "      <td>7.780063e-126</td>\n",
              "    </tr>\n",
              "    <tr>\n",
              "      <th>2</th>\n",
              "      <td>SIF</td>\n",
              "      <td>fasttext</td>\n",
              "      <td>0.001</td>\n",
              "      <td>NaN</td>\n",
              "      <td>0.748385</td>\n",
              "      <td>1.629812e-135</td>\n",
              "    </tr>\n",
              "  </tbody>\n",
              "</table>\n",
              "</div>"
            ],
            "text/plain": [
              "  method   vectors  SIF_a  CPM_powers  pearson_r      pearson_p\n",
              "0    SIF  fasttext  0.100         NaN   0.715789  9.138716e-119\n",
              "1    SIF  fasttext  0.010         NaN   0.730136  7.780063e-126\n",
              "2    SIF  fasttext  0.001         NaN   0.748385  1.629812e-135"
            ]
          },
          "metadata": {
            "tags": []
          },
          "execution_count": 135
        }
      ]
    },
    {
      "cell_type": "code",
      "metadata": {
        "colab": {
          "base_uri": "https://localhost:8080/",
          "height": 173
        },
        "id": "lp8tZUChSJKh",
        "outputId": "dff3b2aa-d7b2-4ced-bf2c-53d74c1b99f5"
      },
      "source": [
        "# a=10e-5\r\n",
        "fasttext_pred =[cos_sim(*[SIF(s, get_word_vectors_fasttext, fasttext_pc_to_remove, a=10e-5) for s in tokenized_pair]) for tokenized_pair in tokenized_STS]\r\n",
        "r, p = pearsonr(fasttext_pred, STS_target)\r\n",
        "res_df = res_df.append(pd.DataFrame([['SIF', 'fasttext', 10e-5, np.nan, r, p]], columns=res_columns), ignore_index=True)\r\n",
        "res_df"
      ],
      "execution_count": 136,
      "outputs": [
        {
          "output_type": "execute_result",
          "data": {
            "text/html": [
              "<div>\n",
              "<style scoped>\n",
              "    .dataframe tbody tr th:only-of-type {\n",
              "        vertical-align: middle;\n",
              "    }\n",
              "\n",
              "    .dataframe tbody tr th {\n",
              "        vertical-align: top;\n",
              "    }\n",
              "\n",
              "    .dataframe thead th {\n",
              "        text-align: right;\n",
              "    }\n",
              "</style>\n",
              "<table border=\"1\" class=\"dataframe\">\n",
              "  <thead>\n",
              "    <tr style=\"text-align: right;\">\n",
              "      <th></th>\n",
              "      <th>method</th>\n",
              "      <th>vectors</th>\n",
              "      <th>SIF_a</th>\n",
              "      <th>CPM_powers</th>\n",
              "      <th>pearson_r</th>\n",
              "      <th>pearson_p</th>\n",
              "    </tr>\n",
              "  </thead>\n",
              "  <tbody>\n",
              "    <tr>\n",
              "      <th>0</th>\n",
              "      <td>SIF</td>\n",
              "      <td>fasttext</td>\n",
              "      <td>0.1000</td>\n",
              "      <td>NaN</td>\n",
              "      <td>0.715789</td>\n",
              "      <td>9.138716e-119</td>\n",
              "    </tr>\n",
              "    <tr>\n",
              "      <th>1</th>\n",
              "      <td>SIF</td>\n",
              "      <td>fasttext</td>\n",
              "      <td>0.0100</td>\n",
              "      <td>NaN</td>\n",
              "      <td>0.730136</td>\n",
              "      <td>7.780063e-126</td>\n",
              "    </tr>\n",
              "    <tr>\n",
              "      <th>2</th>\n",
              "      <td>SIF</td>\n",
              "      <td>fasttext</td>\n",
              "      <td>0.0010</td>\n",
              "      <td>NaN</td>\n",
              "      <td>0.748385</td>\n",
              "      <td>1.629812e-135</td>\n",
              "    </tr>\n",
              "    <tr>\n",
              "      <th>3</th>\n",
              "      <td>SIF</td>\n",
              "      <td>fasttext</td>\n",
              "      <td>0.0001</td>\n",
              "      <td>NaN</td>\n",
              "      <td>0.737164</td>\n",
              "      <td>1.816586e-129</td>\n",
              "    </tr>\n",
              "  </tbody>\n",
              "</table>\n",
              "</div>"
            ],
            "text/plain": [
              "  method   vectors   SIF_a  CPM_powers  pearson_r      pearson_p\n",
              "0    SIF  fasttext  0.1000         NaN   0.715789  9.138716e-119\n",
              "1    SIF  fasttext  0.0100         NaN   0.730136  7.780063e-126\n",
              "2    SIF  fasttext  0.0010         NaN   0.748385  1.629812e-135\n",
              "3    SIF  fasttext  0.0001         NaN   0.737164  1.816586e-129"
            ]
          },
          "metadata": {
            "tags": []
          },
          "execution_count": 136
        }
      ]
    },
    {
      "cell_type": "markdown",
      "metadata": {
        "id": "r3bNXcuXSZen"
      },
      "source": [
        "#### 4.1.2. SkipGram"
      ]
    },
    {
      "cell_type": "code",
      "metadata": {
        "colab": {
          "base_uri": "https://localhost:8080/",
          "height": 204
        },
        "id": "RC-vbMQrSerk",
        "outputId": "2ddaa31b-eb3e-4ffa-814c-18b897cdbaeb"
      },
      "source": [
        "# a=10e-2\r\n",
        "skipgram_pred =[cos_sim(*[SIF(s, get_word_vectors_skipgram, skipgram_pc_to_remove, a=10e-2) for s in tokenized_pair]) for tokenized_pair in tokenized_STS]\r\n",
        "r, p = pearsonr(skipgram_pred, STS_target)\r\n",
        "res_df = res_df.append(pd.DataFrame([['SIF', 'skipgram', 10e-2, np.nan, r, p]], columns=res_columns), ignore_index=True)\r\n",
        "res_df"
      ],
      "execution_count": 137,
      "outputs": [
        {
          "output_type": "execute_result",
          "data": {
            "text/html": [
              "<div>\n",
              "<style scoped>\n",
              "    .dataframe tbody tr th:only-of-type {\n",
              "        vertical-align: middle;\n",
              "    }\n",
              "\n",
              "    .dataframe tbody tr th {\n",
              "        vertical-align: top;\n",
              "    }\n",
              "\n",
              "    .dataframe thead th {\n",
              "        text-align: right;\n",
              "    }\n",
              "</style>\n",
              "<table border=\"1\" class=\"dataframe\">\n",
              "  <thead>\n",
              "    <tr style=\"text-align: right;\">\n",
              "      <th></th>\n",
              "      <th>method</th>\n",
              "      <th>vectors</th>\n",
              "      <th>SIF_a</th>\n",
              "      <th>CPM_powers</th>\n",
              "      <th>pearson_r</th>\n",
              "      <th>pearson_p</th>\n",
              "    </tr>\n",
              "  </thead>\n",
              "  <tbody>\n",
              "    <tr>\n",
              "      <th>0</th>\n",
              "      <td>SIF</td>\n",
              "      <td>fasttext</td>\n",
              "      <td>0.1000</td>\n",
              "      <td>NaN</td>\n",
              "      <td>0.715789</td>\n",
              "      <td>9.138716e-119</td>\n",
              "    </tr>\n",
              "    <tr>\n",
              "      <th>1</th>\n",
              "      <td>SIF</td>\n",
              "      <td>fasttext</td>\n",
              "      <td>0.0100</td>\n",
              "      <td>NaN</td>\n",
              "      <td>0.730136</td>\n",
              "      <td>7.780063e-126</td>\n",
              "    </tr>\n",
              "    <tr>\n",
              "      <th>2</th>\n",
              "      <td>SIF</td>\n",
              "      <td>fasttext</td>\n",
              "      <td>0.0010</td>\n",
              "      <td>NaN</td>\n",
              "      <td>0.748385</td>\n",
              "      <td>1.629812e-135</td>\n",
              "    </tr>\n",
              "    <tr>\n",
              "      <th>3</th>\n",
              "      <td>SIF</td>\n",
              "      <td>fasttext</td>\n",
              "      <td>0.0001</td>\n",
              "      <td>NaN</td>\n",
              "      <td>0.737164</td>\n",
              "      <td>1.816586e-129</td>\n",
              "    </tr>\n",
              "    <tr>\n",
              "      <th>4</th>\n",
              "      <td>SIF</td>\n",
              "      <td>skipgram</td>\n",
              "      <td>0.1000</td>\n",
              "      <td>NaN</td>\n",
              "      <td>0.762348</td>\n",
              "      <td>1.669354e-143</td>\n",
              "    </tr>\n",
              "  </tbody>\n",
              "</table>\n",
              "</div>"
            ],
            "text/plain": [
              "  method   vectors   SIF_a  CPM_powers  pearson_r      pearson_p\n",
              "0    SIF  fasttext  0.1000         NaN   0.715789  9.138716e-119\n",
              "1    SIF  fasttext  0.0100         NaN   0.730136  7.780063e-126\n",
              "2    SIF  fasttext  0.0010         NaN   0.748385  1.629812e-135\n",
              "3    SIF  fasttext  0.0001         NaN   0.737164  1.816586e-129\n",
              "4    SIF  skipgram  0.1000         NaN   0.762348  1.669354e-143"
            ]
          },
          "metadata": {
            "tags": []
          },
          "execution_count": 137
        }
      ]
    },
    {
      "cell_type": "code",
      "metadata": {
        "colab": {
          "base_uri": "https://localhost:8080/",
          "height": 235
        },
        "id": "d_vA5FUnSrjh",
        "outputId": "1314e0d3-a7b8-4170-e4fa-7e5f7324a9f4"
      },
      "source": [
        "# a=10e-3\r\n",
        "skipgram_pred =[cos_sim(*[SIF(s, get_word_vectors_skipgram, skipgram_pc_to_remove, a=10e-3) for s in tokenized_pair]) for tokenized_pair in tokenized_STS]\r\n",
        "r, p = pearsonr(skipgram_pred, STS_target)\r\n",
        "res_df = res_df.append(pd.DataFrame([['SIF', 'skipgram', 10e-3, np.nan, r, p]], columns=res_columns), ignore_index=True)\r\n",
        "res_df"
      ],
      "execution_count": 138,
      "outputs": [
        {
          "output_type": "execute_result",
          "data": {
            "text/html": [
              "<div>\n",
              "<style scoped>\n",
              "    .dataframe tbody tr th:only-of-type {\n",
              "        vertical-align: middle;\n",
              "    }\n",
              "\n",
              "    .dataframe tbody tr th {\n",
              "        vertical-align: top;\n",
              "    }\n",
              "\n",
              "    .dataframe thead th {\n",
              "        text-align: right;\n",
              "    }\n",
              "</style>\n",
              "<table border=\"1\" class=\"dataframe\">\n",
              "  <thead>\n",
              "    <tr style=\"text-align: right;\">\n",
              "      <th></th>\n",
              "      <th>method</th>\n",
              "      <th>vectors</th>\n",
              "      <th>SIF_a</th>\n",
              "      <th>CPM_powers</th>\n",
              "      <th>pearson_r</th>\n",
              "      <th>pearson_p</th>\n",
              "    </tr>\n",
              "  </thead>\n",
              "  <tbody>\n",
              "    <tr>\n",
              "      <th>0</th>\n",
              "      <td>SIF</td>\n",
              "      <td>fasttext</td>\n",
              "      <td>0.1000</td>\n",
              "      <td>NaN</td>\n",
              "      <td>0.715789</td>\n",
              "      <td>9.138716e-119</td>\n",
              "    </tr>\n",
              "    <tr>\n",
              "      <th>1</th>\n",
              "      <td>SIF</td>\n",
              "      <td>fasttext</td>\n",
              "      <td>0.0100</td>\n",
              "      <td>NaN</td>\n",
              "      <td>0.730136</td>\n",
              "      <td>7.780063e-126</td>\n",
              "    </tr>\n",
              "    <tr>\n",
              "      <th>2</th>\n",
              "      <td>SIF</td>\n",
              "      <td>fasttext</td>\n",
              "      <td>0.0010</td>\n",
              "      <td>NaN</td>\n",
              "      <td>0.748385</td>\n",
              "      <td>1.629812e-135</td>\n",
              "    </tr>\n",
              "    <tr>\n",
              "      <th>3</th>\n",
              "      <td>SIF</td>\n",
              "      <td>fasttext</td>\n",
              "      <td>0.0001</td>\n",
              "      <td>NaN</td>\n",
              "      <td>0.737164</td>\n",
              "      <td>1.816586e-129</td>\n",
              "    </tr>\n",
              "    <tr>\n",
              "      <th>4</th>\n",
              "      <td>SIF</td>\n",
              "      <td>skipgram</td>\n",
              "      <td>0.1000</td>\n",
              "      <td>NaN</td>\n",
              "      <td>0.762348</td>\n",
              "      <td>1.669354e-143</td>\n",
              "    </tr>\n",
              "    <tr>\n",
              "      <th>5</th>\n",
              "      <td>SIF</td>\n",
              "      <td>skipgram</td>\n",
              "      <td>0.0100</td>\n",
              "      <td>NaN</td>\n",
              "      <td>0.762406</td>\n",
              "      <td>1.543852e-143</td>\n",
              "    </tr>\n",
              "  </tbody>\n",
              "</table>\n",
              "</div>"
            ],
            "text/plain": [
              "  method   vectors   SIF_a  CPM_powers  pearson_r      pearson_p\n",
              "0    SIF  fasttext  0.1000         NaN   0.715789  9.138716e-119\n",
              "1    SIF  fasttext  0.0100         NaN   0.730136  7.780063e-126\n",
              "2    SIF  fasttext  0.0010         NaN   0.748385  1.629812e-135\n",
              "3    SIF  fasttext  0.0001         NaN   0.737164  1.816586e-129\n",
              "4    SIF  skipgram  0.1000         NaN   0.762348  1.669354e-143\n",
              "5    SIF  skipgram  0.0100         NaN   0.762406  1.543852e-143"
            ]
          },
          "metadata": {
            "tags": []
          },
          "execution_count": 138
        }
      ]
    },
    {
      "cell_type": "code",
      "metadata": {
        "colab": {
          "base_uri": "https://localhost:8080/",
          "height": 266
        },
        "id": "cK8JnR9kSwBb",
        "outputId": "4236e360-6fde-4ef5-dc43-f917ef0d6ad3"
      },
      "source": [
        "# a=10e-4\r\n",
        "skipgram_pred =[cos_sim(*[SIF(s, get_word_vectors_skipgram, skipgram_pc_to_remove, a=10e-4) for s in tokenized_pair]) for tokenized_pair in tokenized_STS]\r\n",
        "r, p = pearsonr(skipgram_pred, STS_target)\r\n",
        "res_df = res_df.append(pd.DataFrame([['SIF', 'skipgram', 10e-4, np.nan, r, p]], columns=res_columns), ignore_index=True)\r\n",
        "res_df"
      ],
      "execution_count": 139,
      "outputs": [
        {
          "output_type": "execute_result",
          "data": {
            "text/html": [
              "<div>\n",
              "<style scoped>\n",
              "    .dataframe tbody tr th:only-of-type {\n",
              "        vertical-align: middle;\n",
              "    }\n",
              "\n",
              "    .dataframe tbody tr th {\n",
              "        vertical-align: top;\n",
              "    }\n",
              "\n",
              "    .dataframe thead th {\n",
              "        text-align: right;\n",
              "    }\n",
              "</style>\n",
              "<table border=\"1\" class=\"dataframe\">\n",
              "  <thead>\n",
              "    <tr style=\"text-align: right;\">\n",
              "      <th></th>\n",
              "      <th>method</th>\n",
              "      <th>vectors</th>\n",
              "      <th>SIF_a</th>\n",
              "      <th>CPM_powers</th>\n",
              "      <th>pearson_r</th>\n",
              "      <th>pearson_p</th>\n",
              "    </tr>\n",
              "  </thead>\n",
              "  <tbody>\n",
              "    <tr>\n",
              "      <th>0</th>\n",
              "      <td>SIF</td>\n",
              "      <td>fasttext</td>\n",
              "      <td>0.1000</td>\n",
              "      <td>NaN</td>\n",
              "      <td>0.715789</td>\n",
              "      <td>9.138716e-119</td>\n",
              "    </tr>\n",
              "    <tr>\n",
              "      <th>1</th>\n",
              "      <td>SIF</td>\n",
              "      <td>fasttext</td>\n",
              "      <td>0.0100</td>\n",
              "      <td>NaN</td>\n",
              "      <td>0.730136</td>\n",
              "      <td>7.780063e-126</td>\n",
              "    </tr>\n",
              "    <tr>\n",
              "      <th>2</th>\n",
              "      <td>SIF</td>\n",
              "      <td>fasttext</td>\n",
              "      <td>0.0010</td>\n",
              "      <td>NaN</td>\n",
              "      <td>0.748385</td>\n",
              "      <td>1.629812e-135</td>\n",
              "    </tr>\n",
              "    <tr>\n",
              "      <th>3</th>\n",
              "      <td>SIF</td>\n",
              "      <td>fasttext</td>\n",
              "      <td>0.0001</td>\n",
              "      <td>NaN</td>\n",
              "      <td>0.737164</td>\n",
              "      <td>1.816586e-129</td>\n",
              "    </tr>\n",
              "    <tr>\n",
              "      <th>4</th>\n",
              "      <td>SIF</td>\n",
              "      <td>skipgram</td>\n",
              "      <td>0.1000</td>\n",
              "      <td>NaN</td>\n",
              "      <td>0.762348</td>\n",
              "      <td>1.669354e-143</td>\n",
              "    </tr>\n",
              "    <tr>\n",
              "      <th>5</th>\n",
              "      <td>SIF</td>\n",
              "      <td>skipgram</td>\n",
              "      <td>0.0100</td>\n",
              "      <td>NaN</td>\n",
              "      <td>0.762406</td>\n",
              "      <td>1.543852e-143</td>\n",
              "    </tr>\n",
              "    <tr>\n",
              "      <th>6</th>\n",
              "      <td>SIF</td>\n",
              "      <td>skipgram</td>\n",
              "      <td>0.0010</td>\n",
              "      <td>NaN</td>\n",
              "      <td>0.757371</td>\n",
              "      <td>1.356280e-140</td>\n",
              "    </tr>\n",
              "  </tbody>\n",
              "</table>\n",
              "</div>"
            ],
            "text/plain": [
              "  method   vectors   SIF_a  CPM_powers  pearson_r      pearson_p\n",
              "0    SIF  fasttext  0.1000         NaN   0.715789  9.138716e-119\n",
              "1    SIF  fasttext  0.0100         NaN   0.730136  7.780063e-126\n",
              "2    SIF  fasttext  0.0010         NaN   0.748385  1.629812e-135\n",
              "3    SIF  fasttext  0.0001         NaN   0.737164  1.816586e-129\n",
              "4    SIF  skipgram  0.1000         NaN   0.762348  1.669354e-143\n",
              "5    SIF  skipgram  0.0100         NaN   0.762406  1.543852e-143\n",
              "6    SIF  skipgram  0.0010         NaN   0.757371  1.356280e-140"
            ]
          },
          "metadata": {
            "tags": []
          },
          "execution_count": 139
        }
      ]
    },
    {
      "cell_type": "code",
      "metadata": {
        "colab": {
          "base_uri": "https://localhost:8080/",
          "height": 297
        },
        "id": "VsjndBl1S4MJ",
        "outputId": "d50d2859-13d8-458a-b7cf-e52306fd7979"
      },
      "source": [
        "# a=10e-5\r\n",
        "skipgram_pred =[cos_sim(*[SIF(s, get_word_vectors_skipgram, skipgram_pc_to_remove, a=10e-5) for s in tokenized_pair]) for tokenized_pair in tokenized_STS]\r\n",
        "r, p = pearsonr(skipgram_pred, STS_target)\r\n",
        "res_df = res_df.append(pd.DataFrame([['SIF', 'skipgram', 10e-5, np.nan, r, p]], columns=res_columns), ignore_index=True)\r\n",
        "res_df"
      ],
      "execution_count": 140,
      "outputs": [
        {
          "output_type": "execute_result",
          "data": {
            "text/html": [
              "<div>\n",
              "<style scoped>\n",
              "    .dataframe tbody tr th:only-of-type {\n",
              "        vertical-align: middle;\n",
              "    }\n",
              "\n",
              "    .dataframe tbody tr th {\n",
              "        vertical-align: top;\n",
              "    }\n",
              "\n",
              "    .dataframe thead th {\n",
              "        text-align: right;\n",
              "    }\n",
              "</style>\n",
              "<table border=\"1\" class=\"dataframe\">\n",
              "  <thead>\n",
              "    <tr style=\"text-align: right;\">\n",
              "      <th></th>\n",
              "      <th>method</th>\n",
              "      <th>vectors</th>\n",
              "      <th>SIF_a</th>\n",
              "      <th>CPM_powers</th>\n",
              "      <th>pearson_r</th>\n",
              "      <th>pearson_p</th>\n",
              "    </tr>\n",
              "  </thead>\n",
              "  <tbody>\n",
              "    <tr>\n",
              "      <th>0</th>\n",
              "      <td>SIF</td>\n",
              "      <td>fasttext</td>\n",
              "      <td>0.1000</td>\n",
              "      <td>NaN</td>\n",
              "      <td>0.715789</td>\n",
              "      <td>9.138716e-119</td>\n",
              "    </tr>\n",
              "    <tr>\n",
              "      <th>1</th>\n",
              "      <td>SIF</td>\n",
              "      <td>fasttext</td>\n",
              "      <td>0.0100</td>\n",
              "      <td>NaN</td>\n",
              "      <td>0.730136</td>\n",
              "      <td>7.780063e-126</td>\n",
              "    </tr>\n",
              "    <tr>\n",
              "      <th>2</th>\n",
              "      <td>SIF</td>\n",
              "      <td>fasttext</td>\n",
              "      <td>0.0010</td>\n",
              "      <td>NaN</td>\n",
              "      <td>0.748385</td>\n",
              "      <td>1.629812e-135</td>\n",
              "    </tr>\n",
              "    <tr>\n",
              "      <th>3</th>\n",
              "      <td>SIF</td>\n",
              "      <td>fasttext</td>\n",
              "      <td>0.0001</td>\n",
              "      <td>NaN</td>\n",
              "      <td>0.737164</td>\n",
              "      <td>1.816586e-129</td>\n",
              "    </tr>\n",
              "    <tr>\n",
              "      <th>4</th>\n",
              "      <td>SIF</td>\n",
              "      <td>skipgram</td>\n",
              "      <td>0.1000</td>\n",
              "      <td>NaN</td>\n",
              "      <td>0.762348</td>\n",
              "      <td>1.669354e-143</td>\n",
              "    </tr>\n",
              "    <tr>\n",
              "      <th>5</th>\n",
              "      <td>SIF</td>\n",
              "      <td>skipgram</td>\n",
              "      <td>0.0100</td>\n",
              "      <td>NaN</td>\n",
              "      <td>0.762406</td>\n",
              "      <td>1.543852e-143</td>\n",
              "    </tr>\n",
              "    <tr>\n",
              "      <th>6</th>\n",
              "      <td>SIF</td>\n",
              "      <td>skipgram</td>\n",
              "      <td>0.0010</td>\n",
              "      <td>NaN</td>\n",
              "      <td>0.757371</td>\n",
              "      <td>1.356280e-140</td>\n",
              "    </tr>\n",
              "    <tr>\n",
              "      <th>7</th>\n",
              "      <td>SIF</td>\n",
              "      <td>skipgram</td>\n",
              "      <td>0.0001</td>\n",
              "      <td>NaN</td>\n",
              "      <td>0.740220</td>\n",
              "      <td>4.401062e-131</td>\n",
              "    </tr>\n",
              "  </tbody>\n",
              "</table>\n",
              "</div>"
            ],
            "text/plain": [
              "  method   vectors   SIF_a  CPM_powers  pearson_r      pearson_p\n",
              "0    SIF  fasttext  0.1000         NaN   0.715789  9.138716e-119\n",
              "1    SIF  fasttext  0.0100         NaN   0.730136  7.780063e-126\n",
              "2    SIF  fasttext  0.0010         NaN   0.748385  1.629812e-135\n",
              "3    SIF  fasttext  0.0001         NaN   0.737164  1.816586e-129\n",
              "4    SIF  skipgram  0.1000         NaN   0.762348  1.669354e-143\n",
              "5    SIF  skipgram  0.0100         NaN   0.762406  1.543852e-143\n",
              "6    SIF  skipgram  0.0010         NaN   0.757371  1.356280e-140\n",
              "7    SIF  skipgram  0.0001         NaN   0.740220  4.401062e-131"
            ]
          },
          "metadata": {
            "tags": []
          },
          "execution_count": 140
        }
      ]
    },
    {
      "cell_type": "code",
      "metadata": {
        "id": "uFosHPajXTj5"
      },
      "source": [
        "res_df.to_csv('/content/drive/MyDrive/studies/Potsdam/ANLP/Project/res.csv', index=False)"
      ],
      "execution_count": 199,
      "outputs": []
    },
    {
      "cell_type": "markdown",
      "metadata": {
        "id": "jclKJfAPS_WR"
      },
      "source": [
        "#### 4.1.3 ELMo"
      ]
    },
    {
      "cell_type": "code",
      "metadata": {
        "id": "AGTU8pFyawER"
      },
      "source": [
        "res_columns = ['method', 'vectors', 'SIF_a', 'CPM_powers', 'pearson_r', 'pearson_p']\r\n",
        "res_df = pd.read_csv('/content/drive/MyDrive/studies/Potsdam/ANLP/Project/res.csv')"
      ],
      "execution_count": 136,
      "outputs": []
    },
    {
      "cell_type": "code",
      "metadata": {
        "colab": {
          "base_uri": "https://localhost:8080/"
        },
        "id": "mKphSRmfdPv_",
        "outputId": "2db71cbf-b0fd-4b4c-c455-356853f56eb0"
      },
      "source": [
        "elmo_vecs_STS_flat = get_word_vectors_elmo_batch(flatten(tokenized_STS))"
      ],
      "execution_count": 112,
      "outputs": [
        {
          "output_type": "stream",
          "text": [
            "2021-02-20 17:22:32,798 : INFO : Warming up ELMo on 32 sentences...\n",
            "2021-02-20 17:22:34,697 : INFO : Warming up finished.\n",
            "2021-02-20 17:22:34,700 : INFO : Texts in the current batch: 32\n",
            "2021-02-20 17:22:36,385 : INFO : Texts in the current batch: 32\n",
            "2021-02-20 17:22:38,007 : INFO : Texts in the current batch: 32\n",
            "2021-02-20 17:22:39,466 : INFO : Texts in the current batch: 32\n",
            "2021-02-20 17:22:40,905 : INFO : Texts in the current batch: 32\n",
            "2021-02-20 17:22:42,172 : INFO : Texts in the current batch: 32\n",
            "2021-02-20 17:22:43,653 : INFO : Texts in the current batch: 32\n",
            "2021-02-20 17:22:45,131 : INFO : Texts in the current batch: 32\n",
            "2021-02-20 17:22:46,740 : INFO : Texts in the current batch: 32\n",
            "2021-02-20 17:22:48,360 : INFO : Texts in the current batch: 32\n",
            "2021-02-20 17:22:49,972 : INFO : Texts in the current batch: 32\n",
            "2021-02-20 17:22:51,616 : INFO : Texts in the current batch: 32\n",
            "2021-02-20 17:22:53,811 : INFO : Texts in the current batch: 32\n",
            "2021-02-20 17:22:55,272 : INFO : Texts in the current batch: 32\n",
            "2021-02-20 17:22:56,937 : INFO : Texts in the current batch: 32\n",
            "2021-02-20 17:22:58,598 : INFO : Texts in the current batch: 32\n",
            "2021-02-20 17:23:00,088 : INFO : Texts in the current batch: 32\n",
            "2021-02-20 17:23:01,702 : INFO : Texts in the current batch: 32\n",
            "2021-02-20 17:23:03,502 : INFO : Texts in the current batch: 32\n",
            "2021-02-20 17:23:05,698 : INFO : Texts in the current batch: 32\n",
            "2021-02-20 17:23:07,318 : INFO : Texts in the current batch: 32\n",
            "2021-02-20 17:23:08,993 : INFO : Texts in the current batch: 32\n",
            "2021-02-20 17:23:11,500 : INFO : Texts in the current batch: 32\n",
            "2021-02-20 17:23:13,291 : INFO : Texts in the current batch: 32\n",
            "2021-02-20 17:23:14,764 : INFO : Texts in the current batch: 32\n",
            "2021-02-20 17:23:16,579 : INFO : Texts in the current batch: 32\n",
            "2021-02-20 17:23:18,840 : INFO : Texts in the current batch: 32\n",
            "2021-02-20 17:23:21,386 : INFO : Texts in the current batch: 32\n",
            "2021-02-20 17:23:22,997 : INFO : Texts in the current batch: 32\n",
            "2021-02-20 17:23:24,630 : INFO : Texts in the current batch: 32\n",
            "2021-02-20 17:23:26,750 : INFO : Texts in the current batch: 32\n",
            "2021-02-20 17:23:28,894 : INFO : Texts in the current batch: 32\n",
            "2021-02-20 17:23:32,804 : INFO : Texts in the current batch: 32\n",
            "2021-02-20 17:23:36,300 : INFO : Texts in the current batch: 32\n",
            "2021-02-20 17:23:37,938 : INFO : Texts in the current batch: 32\n",
            "2021-02-20 17:23:40,128 : INFO : Texts in the current batch: 32\n",
            "2021-02-20 17:23:41,749 : INFO : Texts in the current batch: 32\n",
            "2021-02-20 17:23:43,936 : INFO : Texts in the current batch: 32\n",
            "2021-02-20 17:23:45,928 : INFO : Texts in the current batch: 32\n",
            "2021-02-20 17:23:47,387 : INFO : Texts in the current batch: 32\n",
            "2021-02-20 17:23:49,033 : INFO : Texts in the current batch: 32\n",
            "2021-02-20 17:23:51,012 : INFO : Texts in the current batch: 32\n",
            "2021-02-20 17:23:53,179 : INFO : Texts in the current batch: 32\n",
            "2021-02-20 17:23:56,064 : INFO : Texts in the current batch: 32\n",
            "2021-02-20 17:23:58,456 : INFO : Texts in the current batch: 32\n",
            "2021-02-20 17:24:01,246 : INFO : Texts in the current batch: 32\n",
            "2021-02-20 17:24:03,055 : INFO : Texts in the current batch: 28\n"
          ],
          "name": "stderr"
        }
      ]
    },
    {
      "cell_type": "code",
      "metadata": {
        "colab": {
          "base_uri": "https://localhost:8080/",
          "height": 328
        },
        "id": "lAUkdyN2eyX4",
        "outputId": "01ee73f7-29ed-44cc-a83a-b8aac8bcb600"
      },
      "source": [
        "# a=10e-2\r\n",
        "\r\n",
        "elmo_weighted_vecs_STS_flat = get_weighted_vector_batch_from_vectors(flatten(tokenized_STS), elmo_vecs_STS_flat, a=10e-2)\r\n",
        "elmo_SIF = np.apply_along_axis(lambda s: remove_pc(s.reshape(1, -1), pc=elmo_pc_to_remove).squeeze(), 1, elmo_weighted_vecs_STS_flat)\r\n",
        "\r\n",
        "elmo_SIF_pairs = []\r\n",
        "for i in range(elmo_SIF.shape[0]):\r\n",
        "  if i % 2 == 0:\r\n",
        "    elmo_SIF_pairs.append((elmo_SIF[i], elmo_SIF[i+1]))\r\n",
        "\r\n",
        "elmo_pred = [cos_sim(*pair) for pair in elmo_SIF_pairs]\r\n",
        "r, p = pearsonr(elmo_pred, STS_target)\r\n",
        "res_df = res_df.append(pd.DataFrame([['SIF', 'ELMo', 10e-2, np.nan, r, p]], columns=res_columns), ignore_index=True)\r\n",
        "res_df"
      ],
      "execution_count": 137,
      "outputs": [
        {
          "output_type": "execute_result",
          "data": {
            "text/html": [
              "<div>\n",
              "<style scoped>\n",
              "    .dataframe tbody tr th:only-of-type {\n",
              "        vertical-align: middle;\n",
              "    }\n",
              "\n",
              "    .dataframe tbody tr th {\n",
              "        vertical-align: top;\n",
              "    }\n",
              "\n",
              "    .dataframe thead th {\n",
              "        text-align: right;\n",
              "    }\n",
              "</style>\n",
              "<table border=\"1\" class=\"dataframe\">\n",
              "  <thead>\n",
              "    <tr style=\"text-align: right;\">\n",
              "      <th></th>\n",
              "      <th>method</th>\n",
              "      <th>vectors</th>\n",
              "      <th>SIF_a</th>\n",
              "      <th>CPM_powers</th>\n",
              "      <th>pearson_r</th>\n",
              "      <th>pearson_p</th>\n",
              "    </tr>\n",
              "  </thead>\n",
              "  <tbody>\n",
              "    <tr>\n",
              "      <th>0</th>\n",
              "      <td>SIF</td>\n",
              "      <td>fasttext</td>\n",
              "      <td>0.1000</td>\n",
              "      <td>NaN</td>\n",
              "      <td>0.715789</td>\n",
              "      <td>9.138716e-119</td>\n",
              "    </tr>\n",
              "    <tr>\n",
              "      <th>1</th>\n",
              "      <td>SIF</td>\n",
              "      <td>fasttext</td>\n",
              "      <td>0.0100</td>\n",
              "      <td>NaN</td>\n",
              "      <td>0.730136</td>\n",
              "      <td>7.780063e-126</td>\n",
              "    </tr>\n",
              "    <tr>\n",
              "      <th>2</th>\n",
              "      <td>SIF</td>\n",
              "      <td>fasttext</td>\n",
              "      <td>0.0010</td>\n",
              "      <td>NaN</td>\n",
              "      <td>0.748385</td>\n",
              "      <td>1.629812e-135</td>\n",
              "    </tr>\n",
              "    <tr>\n",
              "      <th>3</th>\n",
              "      <td>SIF</td>\n",
              "      <td>fasttext</td>\n",
              "      <td>0.0001</td>\n",
              "      <td>NaN</td>\n",
              "      <td>0.737164</td>\n",
              "      <td>1.816586e-129</td>\n",
              "    </tr>\n",
              "    <tr>\n",
              "      <th>4</th>\n",
              "      <td>SIF</td>\n",
              "      <td>skipgram</td>\n",
              "      <td>0.1000</td>\n",
              "      <td>NaN</td>\n",
              "      <td>0.762348</td>\n",
              "      <td>1.669354e-143</td>\n",
              "    </tr>\n",
              "    <tr>\n",
              "      <th>5</th>\n",
              "      <td>SIF</td>\n",
              "      <td>skipgram</td>\n",
              "      <td>0.0100</td>\n",
              "      <td>NaN</td>\n",
              "      <td>0.762406</td>\n",
              "      <td>1.543852e-143</td>\n",
              "    </tr>\n",
              "    <tr>\n",
              "      <th>6</th>\n",
              "      <td>SIF</td>\n",
              "      <td>skipgram</td>\n",
              "      <td>0.0010</td>\n",
              "      <td>NaN</td>\n",
              "      <td>0.757371</td>\n",
              "      <td>1.356280e-140</td>\n",
              "    </tr>\n",
              "    <tr>\n",
              "      <th>7</th>\n",
              "      <td>SIF</td>\n",
              "      <td>skipgram</td>\n",
              "      <td>0.0001</td>\n",
              "      <td>NaN</td>\n",
              "      <td>0.740220</td>\n",
              "      <td>4.401062e-131</td>\n",
              "    </tr>\n",
              "    <tr>\n",
              "      <th>8</th>\n",
              "      <td>SIF</td>\n",
              "      <td>ELMo</td>\n",
              "      <td>0.1000</td>\n",
              "      <td>NaN</td>\n",
              "      <td>0.736663</td>\n",
              "      <td>3.329499e-129</td>\n",
              "    </tr>\n",
              "  </tbody>\n",
              "</table>\n",
              "</div>"
            ],
            "text/plain": [
              "  method   vectors   SIF_a  CPM_powers  pearson_r      pearson_p\n",
              "0    SIF  fasttext  0.1000         NaN   0.715789  9.138716e-119\n",
              "1    SIF  fasttext  0.0100         NaN   0.730136  7.780063e-126\n",
              "2    SIF  fasttext  0.0010         NaN   0.748385  1.629812e-135\n",
              "3    SIF  fasttext  0.0001         NaN   0.737164  1.816586e-129\n",
              "4    SIF  skipgram  0.1000         NaN   0.762348  1.669354e-143\n",
              "5    SIF  skipgram  0.0100         NaN   0.762406  1.543852e-143\n",
              "6    SIF  skipgram  0.0010         NaN   0.757371  1.356280e-140\n",
              "7    SIF  skipgram  0.0001         NaN   0.740220  4.401062e-131\n",
              "8    SIF      ELMo  0.1000         NaN   0.736663  3.329499e-129"
            ]
          },
          "metadata": {
            "tags": []
          },
          "execution_count": 137
        }
      ]
    },
    {
      "cell_type": "code",
      "metadata": {
        "colab": {
          "base_uri": "https://localhost:8080/",
          "height": 359
        },
        "id": "JVncPBPpjTTy",
        "outputId": "12965e9a-f826-4f76-fdc7-4dd2b4b3cb8b"
      },
      "source": [
        "# a=10e-3\r\n",
        "\r\n",
        "elmo_weighted_vecs_STS_flat = get_weighted_vector_batch_from_vectors(flatten(tokenized_STS), elmo_vecs_STS_flat, a=10e-3)\r\n",
        "elmo_SIF = np.apply_along_axis(lambda s: remove_pc(s.reshape(1, -1), pc=elmo_pc_to_remove).squeeze(), 1, elmo_weighted_vecs_STS_flat)\r\n",
        "\r\n",
        "elmo_SIF_pairs = []\r\n",
        "for i in range(elmo_SIF.shape[0]):\r\n",
        "  if i % 2 == 0:\r\n",
        "    elmo_SIF_pairs.append((elmo_SIF[i], elmo_SIF[i+1]))\r\n",
        "\r\n",
        "elmo_pred = [cos_sim(*pair) for pair in elmo_SIF_pairs]\r\n",
        "r, p = pearsonr(elmo_pred, STS_target)\r\n",
        "res_df = res_df.append(pd.DataFrame([['SIF', 'ELMo', 10e-3, np.nan, r, p]], columns=res_columns), ignore_index=True)\r\n",
        "res_df"
      ],
      "execution_count": 138,
      "outputs": [
        {
          "output_type": "execute_result",
          "data": {
            "text/html": [
              "<div>\n",
              "<style scoped>\n",
              "    .dataframe tbody tr th:only-of-type {\n",
              "        vertical-align: middle;\n",
              "    }\n",
              "\n",
              "    .dataframe tbody tr th {\n",
              "        vertical-align: top;\n",
              "    }\n",
              "\n",
              "    .dataframe thead th {\n",
              "        text-align: right;\n",
              "    }\n",
              "</style>\n",
              "<table border=\"1\" class=\"dataframe\">\n",
              "  <thead>\n",
              "    <tr style=\"text-align: right;\">\n",
              "      <th></th>\n",
              "      <th>method</th>\n",
              "      <th>vectors</th>\n",
              "      <th>SIF_a</th>\n",
              "      <th>CPM_powers</th>\n",
              "      <th>pearson_r</th>\n",
              "      <th>pearson_p</th>\n",
              "    </tr>\n",
              "  </thead>\n",
              "  <tbody>\n",
              "    <tr>\n",
              "      <th>0</th>\n",
              "      <td>SIF</td>\n",
              "      <td>fasttext</td>\n",
              "      <td>0.1000</td>\n",
              "      <td>NaN</td>\n",
              "      <td>0.715789</td>\n",
              "      <td>9.138716e-119</td>\n",
              "    </tr>\n",
              "    <tr>\n",
              "      <th>1</th>\n",
              "      <td>SIF</td>\n",
              "      <td>fasttext</td>\n",
              "      <td>0.0100</td>\n",
              "      <td>NaN</td>\n",
              "      <td>0.730136</td>\n",
              "      <td>7.780063e-126</td>\n",
              "    </tr>\n",
              "    <tr>\n",
              "      <th>2</th>\n",
              "      <td>SIF</td>\n",
              "      <td>fasttext</td>\n",
              "      <td>0.0010</td>\n",
              "      <td>NaN</td>\n",
              "      <td>0.748385</td>\n",
              "      <td>1.629812e-135</td>\n",
              "    </tr>\n",
              "    <tr>\n",
              "      <th>3</th>\n",
              "      <td>SIF</td>\n",
              "      <td>fasttext</td>\n",
              "      <td>0.0001</td>\n",
              "      <td>NaN</td>\n",
              "      <td>0.737164</td>\n",
              "      <td>1.816586e-129</td>\n",
              "    </tr>\n",
              "    <tr>\n",
              "      <th>4</th>\n",
              "      <td>SIF</td>\n",
              "      <td>skipgram</td>\n",
              "      <td>0.1000</td>\n",
              "      <td>NaN</td>\n",
              "      <td>0.762348</td>\n",
              "      <td>1.669354e-143</td>\n",
              "    </tr>\n",
              "    <tr>\n",
              "      <th>5</th>\n",
              "      <td>SIF</td>\n",
              "      <td>skipgram</td>\n",
              "      <td>0.0100</td>\n",
              "      <td>NaN</td>\n",
              "      <td>0.762406</td>\n",
              "      <td>1.543852e-143</td>\n",
              "    </tr>\n",
              "    <tr>\n",
              "      <th>6</th>\n",
              "      <td>SIF</td>\n",
              "      <td>skipgram</td>\n",
              "      <td>0.0010</td>\n",
              "      <td>NaN</td>\n",
              "      <td>0.757371</td>\n",
              "      <td>1.356280e-140</td>\n",
              "    </tr>\n",
              "    <tr>\n",
              "      <th>7</th>\n",
              "      <td>SIF</td>\n",
              "      <td>skipgram</td>\n",
              "      <td>0.0001</td>\n",
              "      <td>NaN</td>\n",
              "      <td>0.740220</td>\n",
              "      <td>4.401062e-131</td>\n",
              "    </tr>\n",
              "    <tr>\n",
              "      <th>8</th>\n",
              "      <td>SIF</td>\n",
              "      <td>ELMo</td>\n",
              "      <td>0.1000</td>\n",
              "      <td>NaN</td>\n",
              "      <td>0.736663</td>\n",
              "      <td>3.329499e-129</td>\n",
              "    </tr>\n",
              "    <tr>\n",
              "      <th>9</th>\n",
              "      <td>SIF</td>\n",
              "      <td>ELMo</td>\n",
              "      <td>0.0100</td>\n",
              "      <td>NaN</td>\n",
              "      <td>0.739083</td>\n",
              "      <td>1.766553e-130</td>\n",
              "    </tr>\n",
              "  </tbody>\n",
              "</table>\n",
              "</div>"
            ],
            "text/plain": [
              "  method   vectors   SIF_a  CPM_powers  pearson_r      pearson_p\n",
              "0    SIF  fasttext  0.1000         NaN   0.715789  9.138716e-119\n",
              "1    SIF  fasttext  0.0100         NaN   0.730136  7.780063e-126\n",
              "2    SIF  fasttext  0.0010         NaN   0.748385  1.629812e-135\n",
              "3    SIF  fasttext  0.0001         NaN   0.737164  1.816586e-129\n",
              "4    SIF  skipgram  0.1000         NaN   0.762348  1.669354e-143\n",
              "5    SIF  skipgram  0.0100         NaN   0.762406  1.543852e-143\n",
              "6    SIF  skipgram  0.0010         NaN   0.757371  1.356280e-140\n",
              "7    SIF  skipgram  0.0001         NaN   0.740220  4.401062e-131\n",
              "8    SIF      ELMo  0.1000         NaN   0.736663  3.329499e-129\n",
              "9    SIF      ELMo  0.0100         NaN   0.739083  1.766553e-130"
            ]
          },
          "metadata": {
            "tags": []
          },
          "execution_count": 138
        }
      ]
    },
    {
      "cell_type": "code",
      "metadata": {
        "colab": {
          "base_uri": "https://localhost:8080/",
          "height": 390
        },
        "id": "Hm_l-ZgBjXW5",
        "outputId": "c8cbf828-014b-4b73-fad8-2a42d381a8ec"
      },
      "source": [
        "# a=10e-4\r\n",
        "\r\n",
        "elmo_weighted_vecs_STS_flat = get_weighted_vector_batch_from_vectors(flatten(tokenized_STS), elmo_vecs_STS_flat, a=10e-4)\r\n",
        "elmo_SIF = np.apply_along_axis(lambda s: remove_pc(s.reshape(1, -1), pc=elmo_pc_to_remove).squeeze(), 1, elmo_weighted_vecs_STS_flat)\r\n",
        "\r\n",
        "elmo_SIF_pairs = []\r\n",
        "for i in range(elmo_SIF.shape[0]):\r\n",
        "  if i % 2 == 0:\r\n",
        "    elmo_SIF_pairs.append((elmo_SIF[i], elmo_SIF[i+1]))\r\n",
        "\r\n",
        "elmo_pred = [cos_sim(*pair) for pair in elmo_SIF_pairs]\r\n",
        "r, p = pearsonr(elmo_pred, STS_target)\r\n",
        "res_df = res_df.append(pd.DataFrame([['SIF', 'ELMo', 10e-4, np.nan, r, p]], columns=res_columns), ignore_index=True)\r\n",
        "res_df"
      ],
      "execution_count": 139,
      "outputs": [
        {
          "output_type": "execute_result",
          "data": {
            "text/html": [
              "<div>\n",
              "<style scoped>\n",
              "    .dataframe tbody tr th:only-of-type {\n",
              "        vertical-align: middle;\n",
              "    }\n",
              "\n",
              "    .dataframe tbody tr th {\n",
              "        vertical-align: top;\n",
              "    }\n",
              "\n",
              "    .dataframe thead th {\n",
              "        text-align: right;\n",
              "    }\n",
              "</style>\n",
              "<table border=\"1\" class=\"dataframe\">\n",
              "  <thead>\n",
              "    <tr style=\"text-align: right;\">\n",
              "      <th></th>\n",
              "      <th>method</th>\n",
              "      <th>vectors</th>\n",
              "      <th>SIF_a</th>\n",
              "      <th>CPM_powers</th>\n",
              "      <th>pearson_r</th>\n",
              "      <th>pearson_p</th>\n",
              "    </tr>\n",
              "  </thead>\n",
              "  <tbody>\n",
              "    <tr>\n",
              "      <th>0</th>\n",
              "      <td>SIF</td>\n",
              "      <td>fasttext</td>\n",
              "      <td>0.1000</td>\n",
              "      <td>NaN</td>\n",
              "      <td>0.715789</td>\n",
              "      <td>9.138716e-119</td>\n",
              "    </tr>\n",
              "    <tr>\n",
              "      <th>1</th>\n",
              "      <td>SIF</td>\n",
              "      <td>fasttext</td>\n",
              "      <td>0.0100</td>\n",
              "      <td>NaN</td>\n",
              "      <td>0.730136</td>\n",
              "      <td>7.780063e-126</td>\n",
              "    </tr>\n",
              "    <tr>\n",
              "      <th>2</th>\n",
              "      <td>SIF</td>\n",
              "      <td>fasttext</td>\n",
              "      <td>0.0010</td>\n",
              "      <td>NaN</td>\n",
              "      <td>0.748385</td>\n",
              "      <td>1.629812e-135</td>\n",
              "    </tr>\n",
              "    <tr>\n",
              "      <th>3</th>\n",
              "      <td>SIF</td>\n",
              "      <td>fasttext</td>\n",
              "      <td>0.0001</td>\n",
              "      <td>NaN</td>\n",
              "      <td>0.737164</td>\n",
              "      <td>1.816586e-129</td>\n",
              "    </tr>\n",
              "    <tr>\n",
              "      <th>4</th>\n",
              "      <td>SIF</td>\n",
              "      <td>skipgram</td>\n",
              "      <td>0.1000</td>\n",
              "      <td>NaN</td>\n",
              "      <td>0.762348</td>\n",
              "      <td>1.669354e-143</td>\n",
              "    </tr>\n",
              "    <tr>\n",
              "      <th>5</th>\n",
              "      <td>SIF</td>\n",
              "      <td>skipgram</td>\n",
              "      <td>0.0100</td>\n",
              "      <td>NaN</td>\n",
              "      <td>0.762406</td>\n",
              "      <td>1.543852e-143</td>\n",
              "    </tr>\n",
              "    <tr>\n",
              "      <th>6</th>\n",
              "      <td>SIF</td>\n",
              "      <td>skipgram</td>\n",
              "      <td>0.0010</td>\n",
              "      <td>NaN</td>\n",
              "      <td>0.757371</td>\n",
              "      <td>1.356280e-140</td>\n",
              "    </tr>\n",
              "    <tr>\n",
              "      <th>7</th>\n",
              "      <td>SIF</td>\n",
              "      <td>skipgram</td>\n",
              "      <td>0.0001</td>\n",
              "      <td>NaN</td>\n",
              "      <td>0.740220</td>\n",
              "      <td>4.401062e-131</td>\n",
              "    </tr>\n",
              "    <tr>\n",
              "      <th>8</th>\n",
              "      <td>SIF</td>\n",
              "      <td>ELMo</td>\n",
              "      <td>0.1000</td>\n",
              "      <td>NaN</td>\n",
              "      <td>0.736663</td>\n",
              "      <td>3.329499e-129</td>\n",
              "    </tr>\n",
              "    <tr>\n",
              "      <th>9</th>\n",
              "      <td>SIF</td>\n",
              "      <td>ELMo</td>\n",
              "      <td>0.0100</td>\n",
              "      <td>NaN</td>\n",
              "      <td>0.739083</td>\n",
              "      <td>1.766553e-130</td>\n",
              "    </tr>\n",
              "    <tr>\n",
              "      <th>10</th>\n",
              "      <td>SIF</td>\n",
              "      <td>ELMo</td>\n",
              "      <td>0.0010</td>\n",
              "      <td>NaN</td>\n",
              "      <td>0.743325</td>\n",
              "      <td>9.510188e-133</td>\n",
              "    </tr>\n",
              "  </tbody>\n",
              "</table>\n",
              "</div>"
            ],
            "text/plain": [
              "   method   vectors   SIF_a  CPM_powers  pearson_r      pearson_p\n",
              "0     SIF  fasttext  0.1000         NaN   0.715789  9.138716e-119\n",
              "1     SIF  fasttext  0.0100         NaN   0.730136  7.780063e-126\n",
              "2     SIF  fasttext  0.0010         NaN   0.748385  1.629812e-135\n",
              "3     SIF  fasttext  0.0001         NaN   0.737164  1.816586e-129\n",
              "4     SIF  skipgram  0.1000         NaN   0.762348  1.669354e-143\n",
              "5     SIF  skipgram  0.0100         NaN   0.762406  1.543852e-143\n",
              "6     SIF  skipgram  0.0010         NaN   0.757371  1.356280e-140\n",
              "7     SIF  skipgram  0.0001         NaN   0.740220  4.401062e-131\n",
              "8     SIF      ELMo  0.1000         NaN   0.736663  3.329499e-129\n",
              "9     SIF      ELMo  0.0100         NaN   0.739083  1.766553e-130\n",
              "10    SIF      ELMo  0.0010         NaN   0.743325  9.510188e-133"
            ]
          },
          "metadata": {
            "tags": []
          },
          "execution_count": 139
        }
      ]
    },
    {
      "cell_type": "code",
      "metadata": {
        "colab": {
          "base_uri": "https://localhost:8080/",
          "height": 421
        },
        "id": "qnlyVxYmjZ0V",
        "outputId": "6ea4f43a-1c9a-4d28-c360-c1914f187edb"
      },
      "source": [
        "# a=10e-5\r\n",
        "\r\n",
        "elmo_weighted_vecs_STS_flat = get_weighted_vector_batch_from_vectors(flatten(tokenized_STS), elmo_vecs_STS_flat, a=10e-5)\r\n",
        "elmo_SIF = np.apply_along_axis(lambda s: remove_pc(s.reshape(1, -1), pc=elmo_pc_to_remove).squeeze(), 1, elmo_weighted_vecs_STS_flat)\r\n",
        "\r\n",
        "elmo_SIF_pairs = []\r\n",
        "for i in range(elmo_SIF.shape[0]):\r\n",
        "  if i % 2 == 0:\r\n",
        "    elmo_SIF_pairs.append((elmo_SIF[i], elmo_SIF[i+1]))\r\n",
        "\r\n",
        "elmo_pred = [cos_sim(*pair) for pair in elmo_SIF_pairs]\r\n",
        "r, p = pearsonr(elmo_pred, STS_target)\r\n",
        "res_df = res_df.append(pd.DataFrame([['SIF', 'ELMo', 10e-5, np.nan, r, p]], columns=res_columns), ignore_index=True)\r\n",
        "res_df"
      ],
      "execution_count": 140,
      "outputs": [
        {
          "output_type": "execute_result",
          "data": {
            "text/html": [
              "<div>\n",
              "<style scoped>\n",
              "    .dataframe tbody tr th:only-of-type {\n",
              "        vertical-align: middle;\n",
              "    }\n",
              "\n",
              "    .dataframe tbody tr th {\n",
              "        vertical-align: top;\n",
              "    }\n",
              "\n",
              "    .dataframe thead th {\n",
              "        text-align: right;\n",
              "    }\n",
              "</style>\n",
              "<table border=\"1\" class=\"dataframe\">\n",
              "  <thead>\n",
              "    <tr style=\"text-align: right;\">\n",
              "      <th></th>\n",
              "      <th>method</th>\n",
              "      <th>vectors</th>\n",
              "      <th>SIF_a</th>\n",
              "      <th>CPM_powers</th>\n",
              "      <th>pearson_r</th>\n",
              "      <th>pearson_p</th>\n",
              "    </tr>\n",
              "  </thead>\n",
              "  <tbody>\n",
              "    <tr>\n",
              "      <th>0</th>\n",
              "      <td>SIF</td>\n",
              "      <td>fasttext</td>\n",
              "      <td>0.1000</td>\n",
              "      <td>NaN</td>\n",
              "      <td>0.715789</td>\n",
              "      <td>9.138716e-119</td>\n",
              "    </tr>\n",
              "    <tr>\n",
              "      <th>1</th>\n",
              "      <td>SIF</td>\n",
              "      <td>fasttext</td>\n",
              "      <td>0.0100</td>\n",
              "      <td>NaN</td>\n",
              "      <td>0.730136</td>\n",
              "      <td>7.780063e-126</td>\n",
              "    </tr>\n",
              "    <tr>\n",
              "      <th>2</th>\n",
              "      <td>SIF</td>\n",
              "      <td>fasttext</td>\n",
              "      <td>0.0010</td>\n",
              "      <td>NaN</td>\n",
              "      <td>0.748385</td>\n",
              "      <td>1.629812e-135</td>\n",
              "    </tr>\n",
              "    <tr>\n",
              "      <th>3</th>\n",
              "      <td>SIF</td>\n",
              "      <td>fasttext</td>\n",
              "      <td>0.0001</td>\n",
              "      <td>NaN</td>\n",
              "      <td>0.737164</td>\n",
              "      <td>1.816586e-129</td>\n",
              "    </tr>\n",
              "    <tr>\n",
              "      <th>4</th>\n",
              "      <td>SIF</td>\n",
              "      <td>skipgram</td>\n",
              "      <td>0.1000</td>\n",
              "      <td>NaN</td>\n",
              "      <td>0.762348</td>\n",
              "      <td>1.669354e-143</td>\n",
              "    </tr>\n",
              "    <tr>\n",
              "      <th>5</th>\n",
              "      <td>SIF</td>\n",
              "      <td>skipgram</td>\n",
              "      <td>0.0100</td>\n",
              "      <td>NaN</td>\n",
              "      <td>0.762406</td>\n",
              "      <td>1.543852e-143</td>\n",
              "    </tr>\n",
              "    <tr>\n",
              "      <th>6</th>\n",
              "      <td>SIF</td>\n",
              "      <td>skipgram</td>\n",
              "      <td>0.0010</td>\n",
              "      <td>NaN</td>\n",
              "      <td>0.757371</td>\n",
              "      <td>1.356280e-140</td>\n",
              "    </tr>\n",
              "    <tr>\n",
              "      <th>7</th>\n",
              "      <td>SIF</td>\n",
              "      <td>skipgram</td>\n",
              "      <td>0.0001</td>\n",
              "      <td>NaN</td>\n",
              "      <td>0.740220</td>\n",
              "      <td>4.401062e-131</td>\n",
              "    </tr>\n",
              "    <tr>\n",
              "      <th>8</th>\n",
              "      <td>SIF</td>\n",
              "      <td>ELMo</td>\n",
              "      <td>0.1000</td>\n",
              "      <td>NaN</td>\n",
              "      <td>0.736663</td>\n",
              "      <td>3.329499e-129</td>\n",
              "    </tr>\n",
              "    <tr>\n",
              "      <th>9</th>\n",
              "      <td>SIF</td>\n",
              "      <td>ELMo</td>\n",
              "      <td>0.0100</td>\n",
              "      <td>NaN</td>\n",
              "      <td>0.739083</td>\n",
              "      <td>1.766553e-130</td>\n",
              "    </tr>\n",
              "    <tr>\n",
              "      <th>10</th>\n",
              "      <td>SIF</td>\n",
              "      <td>ELMo</td>\n",
              "      <td>0.0010</td>\n",
              "      <td>NaN</td>\n",
              "      <td>0.743325</td>\n",
              "      <td>9.510188e-133</td>\n",
              "    </tr>\n",
              "    <tr>\n",
              "      <th>11</th>\n",
              "      <td>SIF</td>\n",
              "      <td>ELMo</td>\n",
              "      <td>0.0001</td>\n",
              "      <td>NaN</td>\n",
              "      <td>0.736762</td>\n",
              "      <td>2.952221e-129</td>\n",
              "    </tr>\n",
              "  </tbody>\n",
              "</table>\n",
              "</div>"
            ],
            "text/plain": [
              "   method   vectors   SIF_a  CPM_powers  pearson_r      pearson_p\n",
              "0     SIF  fasttext  0.1000         NaN   0.715789  9.138716e-119\n",
              "1     SIF  fasttext  0.0100         NaN   0.730136  7.780063e-126\n",
              "2     SIF  fasttext  0.0010         NaN   0.748385  1.629812e-135\n",
              "3     SIF  fasttext  0.0001         NaN   0.737164  1.816586e-129\n",
              "4     SIF  skipgram  0.1000         NaN   0.762348  1.669354e-143\n",
              "5     SIF  skipgram  0.0100         NaN   0.762406  1.543852e-143\n",
              "6     SIF  skipgram  0.0010         NaN   0.757371  1.356280e-140\n",
              "7     SIF  skipgram  0.0001         NaN   0.740220  4.401062e-131\n",
              "8     SIF      ELMo  0.1000         NaN   0.736663  3.329499e-129\n",
              "9     SIF      ELMo  0.0100         NaN   0.739083  1.766553e-130\n",
              "10    SIF      ELMo  0.0010         NaN   0.743325  9.510188e-133\n",
              "11    SIF      ELMo  0.0001         NaN   0.736762  2.952221e-129"
            ]
          },
          "metadata": {
            "tags": []
          },
          "execution_count": 140
        }
      ]
    },
    {
      "cell_type": "markdown",
      "metadata": {
        "id": "qbWmM3bDNmzr"
      },
      "source": [
        "### 4.2. Test across CPM methods"
      ]
    },
    {
      "cell_type": "markdown",
      "metadata": {
        "id": "xZGG0rDAj6bd"
      },
      "source": [
        "#### 4.2.1 Fasttext + SkipGram"
      ]
    },
    {
      "cell_type": "code",
      "metadata": {
        "colab": {
          "base_uri": "https://localhost:8080/",
          "height": 452
        },
        "id": "L_PG_9NOjzVB",
        "outputId": "b7a68d27-95d3-4f1f-98ed-ab62b395a949"
      },
      "source": [
        "# 1 +- inf\r\n",
        "fs_pred =[cos_sim(*[CPM(s, [get_word_vectors_fasttext, get_word_vectors_skipgram], [1, 'inf', '-inf']) for s in tokenized_pair]) for tokenized_pair in tokenized_STS]\r\n",
        "r, p = pearsonr(fs_pred, STS_target)\r\n",
        "res_df = res_df.append(pd.DataFrame([['CPM', 'fasttext+skipgram', np.nan, '1, inf, -inf', r, p]], columns=res_columns), ignore_index=True)\r\n",
        "res_df"
      ],
      "execution_count": 145,
      "outputs": [
        {
          "output_type": "execute_result",
          "data": {
            "text/html": [
              "<div>\n",
              "<style scoped>\n",
              "    .dataframe tbody tr th:only-of-type {\n",
              "        vertical-align: middle;\n",
              "    }\n",
              "\n",
              "    .dataframe tbody tr th {\n",
              "        vertical-align: top;\n",
              "    }\n",
              "\n",
              "    .dataframe thead th {\n",
              "        text-align: right;\n",
              "    }\n",
              "</style>\n",
              "<table border=\"1\" class=\"dataframe\">\n",
              "  <thead>\n",
              "    <tr style=\"text-align: right;\">\n",
              "      <th></th>\n",
              "      <th>method</th>\n",
              "      <th>vectors</th>\n",
              "      <th>SIF_a</th>\n",
              "      <th>CPM_powers</th>\n",
              "      <th>pearson_r</th>\n",
              "      <th>pearson_p</th>\n",
              "    </tr>\n",
              "  </thead>\n",
              "  <tbody>\n",
              "    <tr>\n",
              "      <th>0</th>\n",
              "      <td>SIF</td>\n",
              "      <td>fasttext</td>\n",
              "      <td>0.1000</td>\n",
              "      <td>NaN</td>\n",
              "      <td>0.715789</td>\n",
              "      <td>9.138716e-119</td>\n",
              "    </tr>\n",
              "    <tr>\n",
              "      <th>1</th>\n",
              "      <td>SIF</td>\n",
              "      <td>fasttext</td>\n",
              "      <td>0.0100</td>\n",
              "      <td>NaN</td>\n",
              "      <td>0.730136</td>\n",
              "      <td>7.780063e-126</td>\n",
              "    </tr>\n",
              "    <tr>\n",
              "      <th>2</th>\n",
              "      <td>SIF</td>\n",
              "      <td>fasttext</td>\n",
              "      <td>0.0010</td>\n",
              "      <td>NaN</td>\n",
              "      <td>0.748385</td>\n",
              "      <td>1.629812e-135</td>\n",
              "    </tr>\n",
              "    <tr>\n",
              "      <th>3</th>\n",
              "      <td>SIF</td>\n",
              "      <td>fasttext</td>\n",
              "      <td>0.0001</td>\n",
              "      <td>NaN</td>\n",
              "      <td>0.737164</td>\n",
              "      <td>1.816586e-129</td>\n",
              "    </tr>\n",
              "    <tr>\n",
              "      <th>4</th>\n",
              "      <td>SIF</td>\n",
              "      <td>skipgram</td>\n",
              "      <td>0.1000</td>\n",
              "      <td>NaN</td>\n",
              "      <td>0.762348</td>\n",
              "      <td>1.669354e-143</td>\n",
              "    </tr>\n",
              "    <tr>\n",
              "      <th>5</th>\n",
              "      <td>SIF</td>\n",
              "      <td>skipgram</td>\n",
              "      <td>0.0100</td>\n",
              "      <td>NaN</td>\n",
              "      <td>0.762406</td>\n",
              "      <td>1.543852e-143</td>\n",
              "    </tr>\n",
              "    <tr>\n",
              "      <th>6</th>\n",
              "      <td>SIF</td>\n",
              "      <td>skipgram</td>\n",
              "      <td>0.0010</td>\n",
              "      <td>NaN</td>\n",
              "      <td>0.757371</td>\n",
              "      <td>1.356280e-140</td>\n",
              "    </tr>\n",
              "    <tr>\n",
              "      <th>7</th>\n",
              "      <td>SIF</td>\n",
              "      <td>skipgram</td>\n",
              "      <td>0.0001</td>\n",
              "      <td>NaN</td>\n",
              "      <td>0.740220</td>\n",
              "      <td>4.401062e-131</td>\n",
              "    </tr>\n",
              "    <tr>\n",
              "      <th>8</th>\n",
              "      <td>SIF</td>\n",
              "      <td>ELMo</td>\n",
              "      <td>0.1000</td>\n",
              "      <td>NaN</td>\n",
              "      <td>0.736663</td>\n",
              "      <td>3.329499e-129</td>\n",
              "    </tr>\n",
              "    <tr>\n",
              "      <th>9</th>\n",
              "      <td>SIF</td>\n",
              "      <td>ELMo</td>\n",
              "      <td>0.0100</td>\n",
              "      <td>NaN</td>\n",
              "      <td>0.739083</td>\n",
              "      <td>1.766553e-130</td>\n",
              "    </tr>\n",
              "    <tr>\n",
              "      <th>10</th>\n",
              "      <td>SIF</td>\n",
              "      <td>ELMo</td>\n",
              "      <td>0.0010</td>\n",
              "      <td>NaN</td>\n",
              "      <td>0.743325</td>\n",
              "      <td>9.510188e-133</td>\n",
              "    </tr>\n",
              "    <tr>\n",
              "      <th>11</th>\n",
              "      <td>SIF</td>\n",
              "      <td>ELMo</td>\n",
              "      <td>0.0001</td>\n",
              "      <td>NaN</td>\n",
              "      <td>0.736762</td>\n",
              "      <td>2.952221e-129</td>\n",
              "    </tr>\n",
              "    <tr>\n",
              "      <th>12</th>\n",
              "      <td>CPM</td>\n",
              "      <td>fasttext+skipgram</td>\n",
              "      <td>NaN</td>\n",
              "      <td>1, inf, -inf</td>\n",
              "      <td>0.661207</td>\n",
              "      <td>1.896094e-95</td>\n",
              "    </tr>\n",
              "  </tbody>\n",
              "</table>\n",
              "</div>"
            ],
            "text/plain": [
              "   method            vectors   SIF_a    CPM_powers  pearson_r      pearson_p\n",
              "0     SIF           fasttext  0.1000           NaN   0.715789  9.138716e-119\n",
              "1     SIF           fasttext  0.0100           NaN   0.730136  7.780063e-126\n",
              "2     SIF           fasttext  0.0010           NaN   0.748385  1.629812e-135\n",
              "3     SIF           fasttext  0.0001           NaN   0.737164  1.816586e-129\n",
              "4     SIF           skipgram  0.1000           NaN   0.762348  1.669354e-143\n",
              "5     SIF           skipgram  0.0100           NaN   0.762406  1.543852e-143\n",
              "6     SIF           skipgram  0.0010           NaN   0.757371  1.356280e-140\n",
              "7     SIF           skipgram  0.0001           NaN   0.740220  4.401062e-131\n",
              "8     SIF               ELMo  0.1000           NaN   0.736663  3.329499e-129\n",
              "9     SIF               ELMo  0.0100           NaN   0.739083  1.766553e-130\n",
              "10    SIF               ELMo  0.0010           NaN   0.743325  9.510188e-133\n",
              "11    SIF               ELMo  0.0001           NaN   0.736762  2.952221e-129\n",
              "12    CPM  fasttext+skipgram     NaN  1, inf, -inf   0.661207   1.896094e-95"
            ]
          },
          "metadata": {
            "tags": []
          },
          "execution_count": 145
        }
      ]
    },
    {
      "cell_type": "code",
      "metadata": {
        "colab": {
          "base_uri": "https://localhost:8080/",
          "height": 483
        },
        "id": "qrh6IbvgmBo0",
        "outputId": "8cfbeedb-c66a-4ad4-9a70-0189a2dc8ea6"
      },
      "source": [
        "# 1 2 +- inf\r\n",
        "fs_pred =[cos_sim(*[CPM(s, [get_word_vectors_fasttext, get_word_vectors_skipgram], [1, 2, 'inf', '-inf']) for s in tokenized_pair]) for tokenized_pair in tokenized_STS]\r\n",
        "r, p = pearsonr(fs_pred, STS_target)\r\n",
        "res_df = res_df.append(pd.DataFrame([['CPM', 'fasttext+skipgram', np.nan, '1, 2, inf, -inf', r, p]], columns=res_columns), ignore_index=True)\r\n",
        "res_df"
      ],
      "execution_count": 146,
      "outputs": [
        {
          "output_type": "execute_result",
          "data": {
            "text/html": [
              "<div>\n",
              "<style scoped>\n",
              "    .dataframe tbody tr th:only-of-type {\n",
              "        vertical-align: middle;\n",
              "    }\n",
              "\n",
              "    .dataframe tbody tr th {\n",
              "        vertical-align: top;\n",
              "    }\n",
              "\n",
              "    .dataframe thead th {\n",
              "        text-align: right;\n",
              "    }\n",
              "</style>\n",
              "<table border=\"1\" class=\"dataframe\">\n",
              "  <thead>\n",
              "    <tr style=\"text-align: right;\">\n",
              "      <th></th>\n",
              "      <th>method</th>\n",
              "      <th>vectors</th>\n",
              "      <th>SIF_a</th>\n",
              "      <th>CPM_powers</th>\n",
              "      <th>pearson_r</th>\n",
              "      <th>pearson_p</th>\n",
              "    </tr>\n",
              "  </thead>\n",
              "  <tbody>\n",
              "    <tr>\n",
              "      <th>0</th>\n",
              "      <td>SIF</td>\n",
              "      <td>fasttext</td>\n",
              "      <td>0.1000</td>\n",
              "      <td>NaN</td>\n",
              "      <td>0.715789</td>\n",
              "      <td>9.138716e-119</td>\n",
              "    </tr>\n",
              "    <tr>\n",
              "      <th>1</th>\n",
              "      <td>SIF</td>\n",
              "      <td>fasttext</td>\n",
              "      <td>0.0100</td>\n",
              "      <td>NaN</td>\n",
              "      <td>0.730136</td>\n",
              "      <td>7.780063e-126</td>\n",
              "    </tr>\n",
              "    <tr>\n",
              "      <th>2</th>\n",
              "      <td>SIF</td>\n",
              "      <td>fasttext</td>\n",
              "      <td>0.0010</td>\n",
              "      <td>NaN</td>\n",
              "      <td>0.748385</td>\n",
              "      <td>1.629812e-135</td>\n",
              "    </tr>\n",
              "    <tr>\n",
              "      <th>3</th>\n",
              "      <td>SIF</td>\n",
              "      <td>fasttext</td>\n",
              "      <td>0.0001</td>\n",
              "      <td>NaN</td>\n",
              "      <td>0.737164</td>\n",
              "      <td>1.816586e-129</td>\n",
              "    </tr>\n",
              "    <tr>\n",
              "      <th>4</th>\n",
              "      <td>SIF</td>\n",
              "      <td>skipgram</td>\n",
              "      <td>0.1000</td>\n",
              "      <td>NaN</td>\n",
              "      <td>0.762348</td>\n",
              "      <td>1.669354e-143</td>\n",
              "    </tr>\n",
              "    <tr>\n",
              "      <th>5</th>\n",
              "      <td>SIF</td>\n",
              "      <td>skipgram</td>\n",
              "      <td>0.0100</td>\n",
              "      <td>NaN</td>\n",
              "      <td>0.762406</td>\n",
              "      <td>1.543852e-143</td>\n",
              "    </tr>\n",
              "    <tr>\n",
              "      <th>6</th>\n",
              "      <td>SIF</td>\n",
              "      <td>skipgram</td>\n",
              "      <td>0.0010</td>\n",
              "      <td>NaN</td>\n",
              "      <td>0.757371</td>\n",
              "      <td>1.356280e-140</td>\n",
              "    </tr>\n",
              "    <tr>\n",
              "      <th>7</th>\n",
              "      <td>SIF</td>\n",
              "      <td>skipgram</td>\n",
              "      <td>0.0001</td>\n",
              "      <td>NaN</td>\n",
              "      <td>0.740220</td>\n",
              "      <td>4.401062e-131</td>\n",
              "    </tr>\n",
              "    <tr>\n",
              "      <th>8</th>\n",
              "      <td>SIF</td>\n",
              "      <td>ELMo</td>\n",
              "      <td>0.1000</td>\n",
              "      <td>NaN</td>\n",
              "      <td>0.736663</td>\n",
              "      <td>3.329499e-129</td>\n",
              "    </tr>\n",
              "    <tr>\n",
              "      <th>9</th>\n",
              "      <td>SIF</td>\n",
              "      <td>ELMo</td>\n",
              "      <td>0.0100</td>\n",
              "      <td>NaN</td>\n",
              "      <td>0.739083</td>\n",
              "      <td>1.766553e-130</td>\n",
              "    </tr>\n",
              "    <tr>\n",
              "      <th>10</th>\n",
              "      <td>SIF</td>\n",
              "      <td>ELMo</td>\n",
              "      <td>0.0010</td>\n",
              "      <td>NaN</td>\n",
              "      <td>0.743325</td>\n",
              "      <td>9.510188e-133</td>\n",
              "    </tr>\n",
              "    <tr>\n",
              "      <th>11</th>\n",
              "      <td>SIF</td>\n",
              "      <td>ELMo</td>\n",
              "      <td>0.0001</td>\n",
              "      <td>NaN</td>\n",
              "      <td>0.736762</td>\n",
              "      <td>2.952221e-129</td>\n",
              "    </tr>\n",
              "    <tr>\n",
              "      <th>12</th>\n",
              "      <td>CPM</td>\n",
              "      <td>fasttext+skipgram</td>\n",
              "      <td>NaN</td>\n",
              "      <td>1, inf, -inf</td>\n",
              "      <td>0.661207</td>\n",
              "      <td>1.896094e-95</td>\n",
              "    </tr>\n",
              "    <tr>\n",
              "      <th>13</th>\n",
              "      <td>CPM</td>\n",
              "      <td>fasttext+skipgram</td>\n",
              "      <td>NaN</td>\n",
              "      <td>1, 2, inf, -inf</td>\n",
              "      <td>0.665719</td>\n",
              "      <td>3.447837e-97</td>\n",
              "    </tr>\n",
              "  </tbody>\n",
              "</table>\n",
              "</div>"
            ],
            "text/plain": [
              "   method            vectors   SIF_a       CPM_powers  pearson_r      pearson_p\n",
              "0     SIF           fasttext  0.1000              NaN   0.715789  9.138716e-119\n",
              "1     SIF           fasttext  0.0100              NaN   0.730136  7.780063e-126\n",
              "2     SIF           fasttext  0.0010              NaN   0.748385  1.629812e-135\n",
              "3     SIF           fasttext  0.0001              NaN   0.737164  1.816586e-129\n",
              "4     SIF           skipgram  0.1000              NaN   0.762348  1.669354e-143\n",
              "5     SIF           skipgram  0.0100              NaN   0.762406  1.543852e-143\n",
              "6     SIF           skipgram  0.0010              NaN   0.757371  1.356280e-140\n",
              "7     SIF           skipgram  0.0001              NaN   0.740220  4.401062e-131\n",
              "8     SIF               ELMo  0.1000              NaN   0.736663  3.329499e-129\n",
              "9     SIF               ELMo  0.0100              NaN   0.739083  1.766553e-130\n",
              "10    SIF               ELMo  0.0010              NaN   0.743325  9.510188e-133\n",
              "11    SIF               ELMo  0.0001              NaN   0.736762  2.952221e-129\n",
              "12    CPM  fasttext+skipgram     NaN     1, inf, -inf   0.661207   1.896094e-95\n",
              "13    CPM  fasttext+skipgram     NaN  1, 2, inf, -inf   0.665719   3.447837e-97"
            ]
          },
          "metadata": {
            "tags": []
          },
          "execution_count": 146
        }
      ]
    },
    {
      "cell_type": "code",
      "metadata": {
        "colab": {
          "base_uri": "https://localhost:8080/",
          "height": 514
        },
        "id": "cfwu5P_mmGs2",
        "outputId": "381e71ce-d78a-4135-e8bf-efd6a677b1c5"
      },
      "source": [
        "# 1 2 3 +- inf\r\n",
        "fs_pred =[cos_sim(*[CPM(s, [get_word_vectors_fasttext, get_word_vectors_skipgram], [1, 2, 3, 'inf', '-inf']) for s in tokenized_pair]) for tokenized_pair in tokenized_STS]\r\n",
        "r, p = pearsonr(fs_pred, STS_target)\r\n",
        "res_df = res_df.append(pd.DataFrame([['CPM', 'fasttext+skipgram', np.nan, '1, 2, 3, inf, -inf', r, p]], columns=res_columns), ignore_index=True)\r\n",
        "res_df"
      ],
      "execution_count": 147,
      "outputs": [
        {
          "output_type": "execute_result",
          "data": {
            "text/html": [
              "<div>\n",
              "<style scoped>\n",
              "    .dataframe tbody tr th:only-of-type {\n",
              "        vertical-align: middle;\n",
              "    }\n",
              "\n",
              "    .dataframe tbody tr th {\n",
              "        vertical-align: top;\n",
              "    }\n",
              "\n",
              "    .dataframe thead th {\n",
              "        text-align: right;\n",
              "    }\n",
              "</style>\n",
              "<table border=\"1\" class=\"dataframe\">\n",
              "  <thead>\n",
              "    <tr style=\"text-align: right;\">\n",
              "      <th></th>\n",
              "      <th>method</th>\n",
              "      <th>vectors</th>\n",
              "      <th>SIF_a</th>\n",
              "      <th>CPM_powers</th>\n",
              "      <th>pearson_r</th>\n",
              "      <th>pearson_p</th>\n",
              "    </tr>\n",
              "  </thead>\n",
              "  <tbody>\n",
              "    <tr>\n",
              "      <th>0</th>\n",
              "      <td>SIF</td>\n",
              "      <td>fasttext</td>\n",
              "      <td>0.1000</td>\n",
              "      <td>NaN</td>\n",
              "      <td>0.715789</td>\n",
              "      <td>9.138716e-119</td>\n",
              "    </tr>\n",
              "    <tr>\n",
              "      <th>1</th>\n",
              "      <td>SIF</td>\n",
              "      <td>fasttext</td>\n",
              "      <td>0.0100</td>\n",
              "      <td>NaN</td>\n",
              "      <td>0.730136</td>\n",
              "      <td>7.780063e-126</td>\n",
              "    </tr>\n",
              "    <tr>\n",
              "      <th>2</th>\n",
              "      <td>SIF</td>\n",
              "      <td>fasttext</td>\n",
              "      <td>0.0010</td>\n",
              "      <td>NaN</td>\n",
              "      <td>0.748385</td>\n",
              "      <td>1.629812e-135</td>\n",
              "    </tr>\n",
              "    <tr>\n",
              "      <th>3</th>\n",
              "      <td>SIF</td>\n",
              "      <td>fasttext</td>\n",
              "      <td>0.0001</td>\n",
              "      <td>NaN</td>\n",
              "      <td>0.737164</td>\n",
              "      <td>1.816586e-129</td>\n",
              "    </tr>\n",
              "    <tr>\n",
              "      <th>4</th>\n",
              "      <td>SIF</td>\n",
              "      <td>skipgram</td>\n",
              "      <td>0.1000</td>\n",
              "      <td>NaN</td>\n",
              "      <td>0.762348</td>\n",
              "      <td>1.669354e-143</td>\n",
              "    </tr>\n",
              "    <tr>\n",
              "      <th>5</th>\n",
              "      <td>SIF</td>\n",
              "      <td>skipgram</td>\n",
              "      <td>0.0100</td>\n",
              "      <td>NaN</td>\n",
              "      <td>0.762406</td>\n",
              "      <td>1.543852e-143</td>\n",
              "    </tr>\n",
              "    <tr>\n",
              "      <th>6</th>\n",
              "      <td>SIF</td>\n",
              "      <td>skipgram</td>\n",
              "      <td>0.0010</td>\n",
              "      <td>NaN</td>\n",
              "      <td>0.757371</td>\n",
              "      <td>1.356280e-140</td>\n",
              "    </tr>\n",
              "    <tr>\n",
              "      <th>7</th>\n",
              "      <td>SIF</td>\n",
              "      <td>skipgram</td>\n",
              "      <td>0.0001</td>\n",
              "      <td>NaN</td>\n",
              "      <td>0.740220</td>\n",
              "      <td>4.401062e-131</td>\n",
              "    </tr>\n",
              "    <tr>\n",
              "      <th>8</th>\n",
              "      <td>SIF</td>\n",
              "      <td>ELMo</td>\n",
              "      <td>0.1000</td>\n",
              "      <td>NaN</td>\n",
              "      <td>0.736663</td>\n",
              "      <td>3.329499e-129</td>\n",
              "    </tr>\n",
              "    <tr>\n",
              "      <th>9</th>\n",
              "      <td>SIF</td>\n",
              "      <td>ELMo</td>\n",
              "      <td>0.0100</td>\n",
              "      <td>NaN</td>\n",
              "      <td>0.739083</td>\n",
              "      <td>1.766553e-130</td>\n",
              "    </tr>\n",
              "    <tr>\n",
              "      <th>10</th>\n",
              "      <td>SIF</td>\n",
              "      <td>ELMo</td>\n",
              "      <td>0.0010</td>\n",
              "      <td>NaN</td>\n",
              "      <td>0.743325</td>\n",
              "      <td>9.510188e-133</td>\n",
              "    </tr>\n",
              "    <tr>\n",
              "      <th>11</th>\n",
              "      <td>SIF</td>\n",
              "      <td>ELMo</td>\n",
              "      <td>0.0001</td>\n",
              "      <td>NaN</td>\n",
              "      <td>0.736762</td>\n",
              "      <td>2.952221e-129</td>\n",
              "    </tr>\n",
              "    <tr>\n",
              "      <th>12</th>\n",
              "      <td>CPM</td>\n",
              "      <td>fasttext+skipgram</td>\n",
              "      <td>NaN</td>\n",
              "      <td>1, inf, -inf</td>\n",
              "      <td>0.661207</td>\n",
              "      <td>1.896094e-95</td>\n",
              "    </tr>\n",
              "    <tr>\n",
              "      <th>13</th>\n",
              "      <td>CPM</td>\n",
              "      <td>fasttext+skipgram</td>\n",
              "      <td>NaN</td>\n",
              "      <td>1, 2, inf, -inf</td>\n",
              "      <td>0.665719</td>\n",
              "      <td>3.447837e-97</td>\n",
              "    </tr>\n",
              "    <tr>\n",
              "      <th>14</th>\n",
              "      <td>CPM</td>\n",
              "      <td>fasttext+skipgram</td>\n",
              "      <td>NaN</td>\n",
              "      <td>1, 2, 3, inf, -inf</td>\n",
              "      <td>0.668972</td>\n",
              "      <td>1.836667e-98</td>\n",
              "    </tr>\n",
              "  </tbody>\n",
              "</table>\n",
              "</div>"
            ],
            "text/plain": [
              "   method            vectors  ...  pearson_r      pearson_p\n",
              "0     SIF           fasttext  ...   0.715789  9.138716e-119\n",
              "1     SIF           fasttext  ...   0.730136  7.780063e-126\n",
              "2     SIF           fasttext  ...   0.748385  1.629812e-135\n",
              "3     SIF           fasttext  ...   0.737164  1.816586e-129\n",
              "4     SIF           skipgram  ...   0.762348  1.669354e-143\n",
              "5     SIF           skipgram  ...   0.762406  1.543852e-143\n",
              "6     SIF           skipgram  ...   0.757371  1.356280e-140\n",
              "7     SIF           skipgram  ...   0.740220  4.401062e-131\n",
              "8     SIF               ELMo  ...   0.736663  3.329499e-129\n",
              "9     SIF               ELMo  ...   0.739083  1.766553e-130\n",
              "10    SIF               ELMo  ...   0.743325  9.510188e-133\n",
              "11    SIF               ELMo  ...   0.736762  2.952221e-129\n",
              "12    CPM  fasttext+skipgram  ...   0.661207   1.896094e-95\n",
              "13    CPM  fasttext+skipgram  ...   0.665719   3.447837e-97\n",
              "14    CPM  fasttext+skipgram  ...   0.668972   1.836667e-98\n",
              "\n",
              "[15 rows x 6 columns]"
            ]
          },
          "metadata": {
            "tags": []
          },
          "execution_count": 147
        }
      ]
    },
    {
      "cell_type": "code",
      "metadata": {
        "colab": {
          "base_uri": "https://localhost:8080/",
          "height": 545
        },
        "id": "qVNI0MSMmLcN",
        "outputId": "e4d2d3c2-df22-4e21-b075-1ebccc49d506"
      },
      "source": [
        "# 0.5, 1 2 3 +- inf\r\n",
        "fs_pred =[cos_sim(*[CPM(s, [get_word_vectors_fasttext, get_word_vectors_skipgram], [0.5, 1, 2, 3, 'inf', '-inf']) for s in tokenized_pair]) for tokenized_pair in tokenized_STS]\r\n",
        "r, p = pearsonr(fs_pred, STS_target)\r\n",
        "res_df = res_df.append(pd.DataFrame([['CPM', 'fasttext+skipgram', np.nan, '0.5, 1, 2, 3, inf, -inf', r, p]], columns=res_columns), ignore_index=True)\r\n",
        "res_df"
      ],
      "execution_count": 148,
      "outputs": [
        {
          "output_type": "execute_result",
          "data": {
            "text/html": [
              "<div>\n",
              "<style scoped>\n",
              "    .dataframe tbody tr th:only-of-type {\n",
              "        vertical-align: middle;\n",
              "    }\n",
              "\n",
              "    .dataframe tbody tr th {\n",
              "        vertical-align: top;\n",
              "    }\n",
              "\n",
              "    .dataframe thead th {\n",
              "        text-align: right;\n",
              "    }\n",
              "</style>\n",
              "<table border=\"1\" class=\"dataframe\">\n",
              "  <thead>\n",
              "    <tr style=\"text-align: right;\">\n",
              "      <th></th>\n",
              "      <th>method</th>\n",
              "      <th>vectors</th>\n",
              "      <th>SIF_a</th>\n",
              "      <th>CPM_powers</th>\n",
              "      <th>pearson_r</th>\n",
              "      <th>pearson_p</th>\n",
              "    </tr>\n",
              "  </thead>\n",
              "  <tbody>\n",
              "    <tr>\n",
              "      <th>0</th>\n",
              "      <td>SIF</td>\n",
              "      <td>fasttext</td>\n",
              "      <td>0.1000</td>\n",
              "      <td>NaN</td>\n",
              "      <td>0.715789</td>\n",
              "      <td>9.138716e-119</td>\n",
              "    </tr>\n",
              "    <tr>\n",
              "      <th>1</th>\n",
              "      <td>SIF</td>\n",
              "      <td>fasttext</td>\n",
              "      <td>0.0100</td>\n",
              "      <td>NaN</td>\n",
              "      <td>0.730136</td>\n",
              "      <td>7.780063e-126</td>\n",
              "    </tr>\n",
              "    <tr>\n",
              "      <th>2</th>\n",
              "      <td>SIF</td>\n",
              "      <td>fasttext</td>\n",
              "      <td>0.0010</td>\n",
              "      <td>NaN</td>\n",
              "      <td>0.748385</td>\n",
              "      <td>1.629812e-135</td>\n",
              "    </tr>\n",
              "    <tr>\n",
              "      <th>3</th>\n",
              "      <td>SIF</td>\n",
              "      <td>fasttext</td>\n",
              "      <td>0.0001</td>\n",
              "      <td>NaN</td>\n",
              "      <td>0.737164</td>\n",
              "      <td>1.816586e-129</td>\n",
              "    </tr>\n",
              "    <tr>\n",
              "      <th>4</th>\n",
              "      <td>SIF</td>\n",
              "      <td>skipgram</td>\n",
              "      <td>0.1000</td>\n",
              "      <td>NaN</td>\n",
              "      <td>0.762348</td>\n",
              "      <td>1.669354e-143</td>\n",
              "    </tr>\n",
              "    <tr>\n",
              "      <th>5</th>\n",
              "      <td>SIF</td>\n",
              "      <td>skipgram</td>\n",
              "      <td>0.0100</td>\n",
              "      <td>NaN</td>\n",
              "      <td>0.762406</td>\n",
              "      <td>1.543852e-143</td>\n",
              "    </tr>\n",
              "    <tr>\n",
              "      <th>6</th>\n",
              "      <td>SIF</td>\n",
              "      <td>skipgram</td>\n",
              "      <td>0.0010</td>\n",
              "      <td>NaN</td>\n",
              "      <td>0.757371</td>\n",
              "      <td>1.356280e-140</td>\n",
              "    </tr>\n",
              "    <tr>\n",
              "      <th>7</th>\n",
              "      <td>SIF</td>\n",
              "      <td>skipgram</td>\n",
              "      <td>0.0001</td>\n",
              "      <td>NaN</td>\n",
              "      <td>0.740220</td>\n",
              "      <td>4.401062e-131</td>\n",
              "    </tr>\n",
              "    <tr>\n",
              "      <th>8</th>\n",
              "      <td>SIF</td>\n",
              "      <td>ELMo</td>\n",
              "      <td>0.1000</td>\n",
              "      <td>NaN</td>\n",
              "      <td>0.736663</td>\n",
              "      <td>3.329499e-129</td>\n",
              "    </tr>\n",
              "    <tr>\n",
              "      <th>9</th>\n",
              "      <td>SIF</td>\n",
              "      <td>ELMo</td>\n",
              "      <td>0.0100</td>\n",
              "      <td>NaN</td>\n",
              "      <td>0.739083</td>\n",
              "      <td>1.766553e-130</td>\n",
              "    </tr>\n",
              "    <tr>\n",
              "      <th>10</th>\n",
              "      <td>SIF</td>\n",
              "      <td>ELMo</td>\n",
              "      <td>0.0010</td>\n",
              "      <td>NaN</td>\n",
              "      <td>0.743325</td>\n",
              "      <td>9.510188e-133</td>\n",
              "    </tr>\n",
              "    <tr>\n",
              "      <th>11</th>\n",
              "      <td>SIF</td>\n",
              "      <td>ELMo</td>\n",
              "      <td>0.0001</td>\n",
              "      <td>NaN</td>\n",
              "      <td>0.736762</td>\n",
              "      <td>2.952221e-129</td>\n",
              "    </tr>\n",
              "    <tr>\n",
              "      <th>12</th>\n",
              "      <td>CPM</td>\n",
              "      <td>fasttext+skipgram</td>\n",
              "      <td>NaN</td>\n",
              "      <td>1, inf, -inf</td>\n",
              "      <td>0.661207</td>\n",
              "      <td>1.896094e-95</td>\n",
              "    </tr>\n",
              "    <tr>\n",
              "      <th>13</th>\n",
              "      <td>CPM</td>\n",
              "      <td>fasttext+skipgram</td>\n",
              "      <td>NaN</td>\n",
              "      <td>1, 2, inf, -inf</td>\n",
              "      <td>0.665719</td>\n",
              "      <td>3.447837e-97</td>\n",
              "    </tr>\n",
              "    <tr>\n",
              "      <th>14</th>\n",
              "      <td>CPM</td>\n",
              "      <td>fasttext+skipgram</td>\n",
              "      <td>NaN</td>\n",
              "      <td>1, 2, 3, inf, -inf</td>\n",
              "      <td>0.668972</td>\n",
              "      <td>1.836667e-98</td>\n",
              "    </tr>\n",
              "    <tr>\n",
              "      <th>15</th>\n",
              "      <td>CPM</td>\n",
              "      <td>fasttext+skipgram</td>\n",
              "      <td>NaN</td>\n",
              "      <td>0.5, 1, 2, 3, inf, -inf</td>\n",
              "      <td>0.673378</td>\n",
              "      <td>3.257330e-100</td>\n",
              "    </tr>\n",
              "  </tbody>\n",
              "</table>\n",
              "</div>"
            ],
            "text/plain": [
              "   method            vectors  ...  pearson_r      pearson_p\n",
              "0     SIF           fasttext  ...   0.715789  9.138716e-119\n",
              "1     SIF           fasttext  ...   0.730136  7.780063e-126\n",
              "2     SIF           fasttext  ...   0.748385  1.629812e-135\n",
              "3     SIF           fasttext  ...   0.737164  1.816586e-129\n",
              "4     SIF           skipgram  ...   0.762348  1.669354e-143\n",
              "5     SIF           skipgram  ...   0.762406  1.543852e-143\n",
              "6     SIF           skipgram  ...   0.757371  1.356280e-140\n",
              "7     SIF           skipgram  ...   0.740220  4.401062e-131\n",
              "8     SIF               ELMo  ...   0.736663  3.329499e-129\n",
              "9     SIF               ELMo  ...   0.739083  1.766553e-130\n",
              "10    SIF               ELMo  ...   0.743325  9.510188e-133\n",
              "11    SIF               ELMo  ...   0.736762  2.952221e-129\n",
              "12    CPM  fasttext+skipgram  ...   0.661207   1.896094e-95\n",
              "13    CPM  fasttext+skipgram  ...   0.665719   3.447837e-97\n",
              "14    CPM  fasttext+skipgram  ...   0.668972   1.836667e-98\n",
              "15    CPM  fasttext+skipgram  ...   0.673378  3.257330e-100\n",
              "\n",
              "[16 rows x 6 columns]"
            ]
          },
          "metadata": {
            "tags": []
          },
          "execution_count": 148
        }
      ]
    },
    {
      "cell_type": "markdown",
      "metadata": {
        "id": "wdsTIRzFmkfh"
      },
      "source": [
        "#### 4.2.2. Fasttext + ELMo"
      ]
    },
    {
      "cell_type": "code",
      "metadata": {
        "id": "26WjXsZ3n1wA"
      },
      "source": [
        "fasttext_vecs_STS_flat = [get_word_vectors_fasttext(s) for s in flatten(tokenized_STS)]"
      ],
      "execution_count": 152,
      "outputs": []
    },
    {
      "cell_type": "code",
      "metadata": {
        "id": "As-6Pl2Fn-o2"
      },
      "source": [
        "fe_pairs = []\r\n",
        "for i in range(elmo_vecs_STS_flat.shape[0]):\r\n",
        "  if i % 2 == 0:\r\n",
        "    fe_pairs.append(([elmo_vecs_STS_flat[i], fasttext_vecs_STS_flat[i]], [elmo_vecs_STS_flat[i+1], fasttext_vecs_STS_flat[i+1]]))"
      ],
      "execution_count": 164,
      "outputs": []
    },
    {
      "cell_type": "code",
      "metadata": {
        "colab": {
          "base_uri": "https://localhost:8080/",
          "height": 576
        },
        "id": "Rr6tY_F2qJGG",
        "outputId": "1562b334-a70f-43b5-8d31-a9d89299d95b"
      },
      "source": [
        "# 1 +- inf\r\n",
        "fe_pred = [cos_sim(CPM_from_vectors(representation_pair[0], [1, 'inf', '-inf']), CPM_from_vectors(representation_pair[1], [1, 'inf', '-inf'])) for  representation_pair in fe_pairs]\r\n",
        "r, p = pearsonr(fe_pred, STS_target)\r\n",
        "res_df = res_df.append(pd.DataFrame([['CPM', 'fasttext+ELMo', np.nan, '1, inf, -inf', r, p]], columns=res_columns), ignore_index=True)\r\n",
        "res_df"
      ],
      "execution_count": 178,
      "outputs": [
        {
          "output_type": "execute_result",
          "data": {
            "text/html": [
              "<div>\n",
              "<style scoped>\n",
              "    .dataframe tbody tr th:only-of-type {\n",
              "        vertical-align: middle;\n",
              "    }\n",
              "\n",
              "    .dataframe tbody tr th {\n",
              "        vertical-align: top;\n",
              "    }\n",
              "\n",
              "    .dataframe thead th {\n",
              "        text-align: right;\n",
              "    }\n",
              "</style>\n",
              "<table border=\"1\" class=\"dataframe\">\n",
              "  <thead>\n",
              "    <tr style=\"text-align: right;\">\n",
              "      <th></th>\n",
              "      <th>method</th>\n",
              "      <th>vectors</th>\n",
              "      <th>SIF_a</th>\n",
              "      <th>CPM_powers</th>\n",
              "      <th>pearson_r</th>\n",
              "      <th>pearson_p</th>\n",
              "    </tr>\n",
              "  </thead>\n",
              "  <tbody>\n",
              "    <tr>\n",
              "      <th>0</th>\n",
              "      <td>SIF</td>\n",
              "      <td>fasttext</td>\n",
              "      <td>0.1000</td>\n",
              "      <td>NaN</td>\n",
              "      <td>0.715789</td>\n",
              "      <td>9.138716e-119</td>\n",
              "    </tr>\n",
              "    <tr>\n",
              "      <th>1</th>\n",
              "      <td>SIF</td>\n",
              "      <td>fasttext</td>\n",
              "      <td>0.0100</td>\n",
              "      <td>NaN</td>\n",
              "      <td>0.730136</td>\n",
              "      <td>7.780063e-126</td>\n",
              "    </tr>\n",
              "    <tr>\n",
              "      <th>2</th>\n",
              "      <td>SIF</td>\n",
              "      <td>fasttext</td>\n",
              "      <td>0.0010</td>\n",
              "      <td>NaN</td>\n",
              "      <td>0.748385</td>\n",
              "      <td>1.629812e-135</td>\n",
              "    </tr>\n",
              "    <tr>\n",
              "      <th>3</th>\n",
              "      <td>SIF</td>\n",
              "      <td>fasttext</td>\n",
              "      <td>0.0001</td>\n",
              "      <td>NaN</td>\n",
              "      <td>0.737164</td>\n",
              "      <td>1.816586e-129</td>\n",
              "    </tr>\n",
              "    <tr>\n",
              "      <th>4</th>\n",
              "      <td>SIF</td>\n",
              "      <td>skipgram</td>\n",
              "      <td>0.1000</td>\n",
              "      <td>NaN</td>\n",
              "      <td>0.762348</td>\n",
              "      <td>1.669354e-143</td>\n",
              "    </tr>\n",
              "    <tr>\n",
              "      <th>5</th>\n",
              "      <td>SIF</td>\n",
              "      <td>skipgram</td>\n",
              "      <td>0.0100</td>\n",
              "      <td>NaN</td>\n",
              "      <td>0.762406</td>\n",
              "      <td>1.543852e-143</td>\n",
              "    </tr>\n",
              "    <tr>\n",
              "      <th>6</th>\n",
              "      <td>SIF</td>\n",
              "      <td>skipgram</td>\n",
              "      <td>0.0010</td>\n",
              "      <td>NaN</td>\n",
              "      <td>0.757371</td>\n",
              "      <td>1.356280e-140</td>\n",
              "    </tr>\n",
              "    <tr>\n",
              "      <th>7</th>\n",
              "      <td>SIF</td>\n",
              "      <td>skipgram</td>\n",
              "      <td>0.0001</td>\n",
              "      <td>NaN</td>\n",
              "      <td>0.740220</td>\n",
              "      <td>4.401062e-131</td>\n",
              "    </tr>\n",
              "    <tr>\n",
              "      <th>8</th>\n",
              "      <td>SIF</td>\n",
              "      <td>ELMo</td>\n",
              "      <td>0.1000</td>\n",
              "      <td>NaN</td>\n",
              "      <td>0.736663</td>\n",
              "      <td>3.329499e-129</td>\n",
              "    </tr>\n",
              "    <tr>\n",
              "      <th>9</th>\n",
              "      <td>SIF</td>\n",
              "      <td>ELMo</td>\n",
              "      <td>0.0100</td>\n",
              "      <td>NaN</td>\n",
              "      <td>0.739083</td>\n",
              "      <td>1.766553e-130</td>\n",
              "    </tr>\n",
              "    <tr>\n",
              "      <th>10</th>\n",
              "      <td>SIF</td>\n",
              "      <td>ELMo</td>\n",
              "      <td>0.0010</td>\n",
              "      <td>NaN</td>\n",
              "      <td>0.743325</td>\n",
              "      <td>9.510188e-133</td>\n",
              "    </tr>\n",
              "    <tr>\n",
              "      <th>11</th>\n",
              "      <td>SIF</td>\n",
              "      <td>ELMo</td>\n",
              "      <td>0.0001</td>\n",
              "      <td>NaN</td>\n",
              "      <td>0.736762</td>\n",
              "      <td>2.952221e-129</td>\n",
              "    </tr>\n",
              "    <tr>\n",
              "      <th>12</th>\n",
              "      <td>CPM</td>\n",
              "      <td>fasttext+skipgram</td>\n",
              "      <td>NaN</td>\n",
              "      <td>1, inf, -inf</td>\n",
              "      <td>0.661207</td>\n",
              "      <td>1.896094e-95</td>\n",
              "    </tr>\n",
              "    <tr>\n",
              "      <th>13</th>\n",
              "      <td>CPM</td>\n",
              "      <td>fasttext+skipgram</td>\n",
              "      <td>NaN</td>\n",
              "      <td>1, 2, inf, -inf</td>\n",
              "      <td>0.665719</td>\n",
              "      <td>3.447837e-97</td>\n",
              "    </tr>\n",
              "    <tr>\n",
              "      <th>14</th>\n",
              "      <td>CPM</td>\n",
              "      <td>fasttext+skipgram</td>\n",
              "      <td>NaN</td>\n",
              "      <td>1, 2, 3, inf, -inf</td>\n",
              "      <td>0.668972</td>\n",
              "      <td>1.836667e-98</td>\n",
              "    </tr>\n",
              "    <tr>\n",
              "      <th>15</th>\n",
              "      <td>CPM</td>\n",
              "      <td>fasttext+skipgram</td>\n",
              "      <td>NaN</td>\n",
              "      <td>0.5, 1, 2, 3, inf, -inf</td>\n",
              "      <td>0.673378</td>\n",
              "      <td>3.257330e-100</td>\n",
              "    </tr>\n",
              "    <tr>\n",
              "      <th>16</th>\n",
              "      <td>CPM</td>\n",
              "      <td>fasttext+ELMo</td>\n",
              "      <td>NaN</td>\n",
              "      <td>1, inf, -inf</td>\n",
              "      <td>0.667405</td>\n",
              "      <td>7.581796e-98</td>\n",
              "    </tr>\n",
              "  </tbody>\n",
              "</table>\n",
              "</div>"
            ],
            "text/plain": [
              "   method            vectors  ...  pearson_r      pearson_p\n",
              "0     SIF           fasttext  ...   0.715789  9.138716e-119\n",
              "1     SIF           fasttext  ...   0.730136  7.780063e-126\n",
              "2     SIF           fasttext  ...   0.748385  1.629812e-135\n",
              "3     SIF           fasttext  ...   0.737164  1.816586e-129\n",
              "4     SIF           skipgram  ...   0.762348  1.669354e-143\n",
              "5     SIF           skipgram  ...   0.762406  1.543852e-143\n",
              "6     SIF           skipgram  ...   0.757371  1.356280e-140\n",
              "7     SIF           skipgram  ...   0.740220  4.401062e-131\n",
              "8     SIF               ELMo  ...   0.736663  3.329499e-129\n",
              "9     SIF               ELMo  ...   0.739083  1.766553e-130\n",
              "10    SIF               ELMo  ...   0.743325  9.510188e-133\n",
              "11    SIF               ELMo  ...   0.736762  2.952221e-129\n",
              "12    CPM  fasttext+skipgram  ...   0.661207   1.896094e-95\n",
              "13    CPM  fasttext+skipgram  ...   0.665719   3.447837e-97\n",
              "14    CPM  fasttext+skipgram  ...   0.668972   1.836667e-98\n",
              "15    CPM  fasttext+skipgram  ...   0.673378  3.257330e-100\n",
              "16    CPM      fasttext+ELMo  ...   0.667405   7.581796e-98\n",
              "\n",
              "[17 rows x 6 columns]"
            ]
          },
          "metadata": {
            "tags": []
          },
          "execution_count": 178
        }
      ]
    },
    {
      "cell_type": "code",
      "metadata": {
        "colab": {
          "base_uri": "https://localhost:8080/",
          "height": 607
        },
        "id": "uO-ew4ehtqks",
        "outputId": "52a8d89d-bb92-4b79-d21b-4749c46afe7a"
      },
      "source": [
        "# 1 2 +- inf\r\n",
        "fe_pred = [cos_sim(CPM_from_vectors(representation_pair[0], [1, 2, 'inf', '-inf']), CPM_from_vectors(representation_pair[1], [1, 2, 'inf', '-inf'])) for  representation_pair in fe_pairs]\r\n",
        "r, p = pearsonr(fe_pred, STS_target)\r\n",
        "res_df = res_df.append(pd.DataFrame([['CPM', 'fasttext+ELMo', np.nan, '1, 2, inf, -inf', r, p]], columns=res_columns), ignore_index=True)\r\n",
        "res_df"
      ],
      "execution_count": 179,
      "outputs": [
        {
          "output_type": "execute_result",
          "data": {
            "text/html": [
              "<div>\n",
              "<style scoped>\n",
              "    .dataframe tbody tr th:only-of-type {\n",
              "        vertical-align: middle;\n",
              "    }\n",
              "\n",
              "    .dataframe tbody tr th {\n",
              "        vertical-align: top;\n",
              "    }\n",
              "\n",
              "    .dataframe thead th {\n",
              "        text-align: right;\n",
              "    }\n",
              "</style>\n",
              "<table border=\"1\" class=\"dataframe\">\n",
              "  <thead>\n",
              "    <tr style=\"text-align: right;\">\n",
              "      <th></th>\n",
              "      <th>method</th>\n",
              "      <th>vectors</th>\n",
              "      <th>SIF_a</th>\n",
              "      <th>CPM_powers</th>\n",
              "      <th>pearson_r</th>\n",
              "      <th>pearson_p</th>\n",
              "    </tr>\n",
              "  </thead>\n",
              "  <tbody>\n",
              "    <tr>\n",
              "      <th>0</th>\n",
              "      <td>SIF</td>\n",
              "      <td>fasttext</td>\n",
              "      <td>0.1000</td>\n",
              "      <td>NaN</td>\n",
              "      <td>0.715789</td>\n",
              "      <td>9.138716e-119</td>\n",
              "    </tr>\n",
              "    <tr>\n",
              "      <th>1</th>\n",
              "      <td>SIF</td>\n",
              "      <td>fasttext</td>\n",
              "      <td>0.0100</td>\n",
              "      <td>NaN</td>\n",
              "      <td>0.730136</td>\n",
              "      <td>7.780063e-126</td>\n",
              "    </tr>\n",
              "    <tr>\n",
              "      <th>2</th>\n",
              "      <td>SIF</td>\n",
              "      <td>fasttext</td>\n",
              "      <td>0.0010</td>\n",
              "      <td>NaN</td>\n",
              "      <td>0.748385</td>\n",
              "      <td>1.629812e-135</td>\n",
              "    </tr>\n",
              "    <tr>\n",
              "      <th>3</th>\n",
              "      <td>SIF</td>\n",
              "      <td>fasttext</td>\n",
              "      <td>0.0001</td>\n",
              "      <td>NaN</td>\n",
              "      <td>0.737164</td>\n",
              "      <td>1.816586e-129</td>\n",
              "    </tr>\n",
              "    <tr>\n",
              "      <th>4</th>\n",
              "      <td>SIF</td>\n",
              "      <td>skipgram</td>\n",
              "      <td>0.1000</td>\n",
              "      <td>NaN</td>\n",
              "      <td>0.762348</td>\n",
              "      <td>1.669354e-143</td>\n",
              "    </tr>\n",
              "    <tr>\n",
              "      <th>5</th>\n",
              "      <td>SIF</td>\n",
              "      <td>skipgram</td>\n",
              "      <td>0.0100</td>\n",
              "      <td>NaN</td>\n",
              "      <td>0.762406</td>\n",
              "      <td>1.543852e-143</td>\n",
              "    </tr>\n",
              "    <tr>\n",
              "      <th>6</th>\n",
              "      <td>SIF</td>\n",
              "      <td>skipgram</td>\n",
              "      <td>0.0010</td>\n",
              "      <td>NaN</td>\n",
              "      <td>0.757371</td>\n",
              "      <td>1.356280e-140</td>\n",
              "    </tr>\n",
              "    <tr>\n",
              "      <th>7</th>\n",
              "      <td>SIF</td>\n",
              "      <td>skipgram</td>\n",
              "      <td>0.0001</td>\n",
              "      <td>NaN</td>\n",
              "      <td>0.740220</td>\n",
              "      <td>4.401062e-131</td>\n",
              "    </tr>\n",
              "    <tr>\n",
              "      <th>8</th>\n",
              "      <td>SIF</td>\n",
              "      <td>ELMo</td>\n",
              "      <td>0.1000</td>\n",
              "      <td>NaN</td>\n",
              "      <td>0.736663</td>\n",
              "      <td>3.329499e-129</td>\n",
              "    </tr>\n",
              "    <tr>\n",
              "      <th>9</th>\n",
              "      <td>SIF</td>\n",
              "      <td>ELMo</td>\n",
              "      <td>0.0100</td>\n",
              "      <td>NaN</td>\n",
              "      <td>0.739083</td>\n",
              "      <td>1.766553e-130</td>\n",
              "    </tr>\n",
              "    <tr>\n",
              "      <th>10</th>\n",
              "      <td>SIF</td>\n",
              "      <td>ELMo</td>\n",
              "      <td>0.0010</td>\n",
              "      <td>NaN</td>\n",
              "      <td>0.743325</td>\n",
              "      <td>9.510188e-133</td>\n",
              "    </tr>\n",
              "    <tr>\n",
              "      <th>11</th>\n",
              "      <td>SIF</td>\n",
              "      <td>ELMo</td>\n",
              "      <td>0.0001</td>\n",
              "      <td>NaN</td>\n",
              "      <td>0.736762</td>\n",
              "      <td>2.952221e-129</td>\n",
              "    </tr>\n",
              "    <tr>\n",
              "      <th>12</th>\n",
              "      <td>CPM</td>\n",
              "      <td>fasttext+skipgram</td>\n",
              "      <td>NaN</td>\n",
              "      <td>1, inf, -inf</td>\n",
              "      <td>0.661207</td>\n",
              "      <td>1.896094e-95</td>\n",
              "    </tr>\n",
              "    <tr>\n",
              "      <th>13</th>\n",
              "      <td>CPM</td>\n",
              "      <td>fasttext+skipgram</td>\n",
              "      <td>NaN</td>\n",
              "      <td>1, 2, inf, -inf</td>\n",
              "      <td>0.665719</td>\n",
              "      <td>3.447837e-97</td>\n",
              "    </tr>\n",
              "    <tr>\n",
              "      <th>14</th>\n",
              "      <td>CPM</td>\n",
              "      <td>fasttext+skipgram</td>\n",
              "      <td>NaN</td>\n",
              "      <td>1, 2, 3, inf, -inf</td>\n",
              "      <td>0.668972</td>\n",
              "      <td>1.836667e-98</td>\n",
              "    </tr>\n",
              "    <tr>\n",
              "      <th>15</th>\n",
              "      <td>CPM</td>\n",
              "      <td>fasttext+skipgram</td>\n",
              "      <td>NaN</td>\n",
              "      <td>0.5, 1, 2, 3, inf, -inf</td>\n",
              "      <td>0.673378</td>\n",
              "      <td>3.257330e-100</td>\n",
              "    </tr>\n",
              "    <tr>\n",
              "      <th>16</th>\n",
              "      <td>CPM</td>\n",
              "      <td>fasttext+ELMo</td>\n",
              "      <td>NaN</td>\n",
              "      <td>1, inf, -inf</td>\n",
              "      <td>0.667405</td>\n",
              "      <td>7.581796e-98</td>\n",
              "    </tr>\n",
              "    <tr>\n",
              "      <th>17</th>\n",
              "      <td>CPM</td>\n",
              "      <td>fasttext+ELMo</td>\n",
              "      <td>NaN</td>\n",
              "      <td>1, 2, inf, -inf</td>\n",
              "      <td>0.671302</td>\n",
              "      <td>2.197286e-99</td>\n",
              "    </tr>\n",
              "  </tbody>\n",
              "</table>\n",
              "</div>"
            ],
            "text/plain": [
              "   method            vectors  ...  pearson_r      pearson_p\n",
              "0     SIF           fasttext  ...   0.715789  9.138716e-119\n",
              "1     SIF           fasttext  ...   0.730136  7.780063e-126\n",
              "2     SIF           fasttext  ...   0.748385  1.629812e-135\n",
              "3     SIF           fasttext  ...   0.737164  1.816586e-129\n",
              "4     SIF           skipgram  ...   0.762348  1.669354e-143\n",
              "5     SIF           skipgram  ...   0.762406  1.543852e-143\n",
              "6     SIF           skipgram  ...   0.757371  1.356280e-140\n",
              "7     SIF           skipgram  ...   0.740220  4.401062e-131\n",
              "8     SIF               ELMo  ...   0.736663  3.329499e-129\n",
              "9     SIF               ELMo  ...   0.739083  1.766553e-130\n",
              "10    SIF               ELMo  ...   0.743325  9.510188e-133\n",
              "11    SIF               ELMo  ...   0.736762  2.952221e-129\n",
              "12    CPM  fasttext+skipgram  ...   0.661207   1.896094e-95\n",
              "13    CPM  fasttext+skipgram  ...   0.665719   3.447837e-97\n",
              "14    CPM  fasttext+skipgram  ...   0.668972   1.836667e-98\n",
              "15    CPM  fasttext+skipgram  ...   0.673378  3.257330e-100\n",
              "16    CPM      fasttext+ELMo  ...   0.667405   7.581796e-98\n",
              "17    CPM      fasttext+ELMo  ...   0.671302   2.197286e-99\n",
              "\n",
              "[18 rows x 6 columns]"
            ]
          },
          "metadata": {
            "tags": []
          },
          "execution_count": 179
        }
      ]
    },
    {
      "cell_type": "code",
      "metadata": {
        "colab": {
          "base_uri": "https://localhost:8080/",
          "height": 638
        },
        "id": "ft-_eUFdtwqO",
        "outputId": "147eb778-5f99-47cd-85a8-2f17f072d7d7"
      },
      "source": [
        "# 1 2 3 +- inf\r\n",
        "fe_pred = [cos_sim(CPM_from_vectors(representation_pair[0], [1, 2, 3, 'inf', '-inf']), CPM_from_vectors(representation_pair[1], [1, 2, 3, 'inf', '-inf'])) for  representation_pair in fe_pairs]\r\n",
        "r, p = pearsonr(fe_pred, STS_target)\r\n",
        "res_df = res_df.append(pd.DataFrame([['CPM', 'fasttext+ELMo', np.nan, '1, 2, 3, inf, -inf', r, p]], columns=res_columns), ignore_index=True)\r\n",
        "res_df"
      ],
      "execution_count": 180,
      "outputs": [
        {
          "output_type": "execute_result",
          "data": {
            "text/html": [
              "<div>\n",
              "<style scoped>\n",
              "    .dataframe tbody tr th:only-of-type {\n",
              "        vertical-align: middle;\n",
              "    }\n",
              "\n",
              "    .dataframe tbody tr th {\n",
              "        vertical-align: top;\n",
              "    }\n",
              "\n",
              "    .dataframe thead th {\n",
              "        text-align: right;\n",
              "    }\n",
              "</style>\n",
              "<table border=\"1\" class=\"dataframe\">\n",
              "  <thead>\n",
              "    <tr style=\"text-align: right;\">\n",
              "      <th></th>\n",
              "      <th>method</th>\n",
              "      <th>vectors</th>\n",
              "      <th>SIF_a</th>\n",
              "      <th>CPM_powers</th>\n",
              "      <th>pearson_r</th>\n",
              "      <th>pearson_p</th>\n",
              "    </tr>\n",
              "  </thead>\n",
              "  <tbody>\n",
              "    <tr>\n",
              "      <th>0</th>\n",
              "      <td>SIF</td>\n",
              "      <td>fasttext</td>\n",
              "      <td>0.1000</td>\n",
              "      <td>NaN</td>\n",
              "      <td>0.715789</td>\n",
              "      <td>9.138716e-119</td>\n",
              "    </tr>\n",
              "    <tr>\n",
              "      <th>1</th>\n",
              "      <td>SIF</td>\n",
              "      <td>fasttext</td>\n",
              "      <td>0.0100</td>\n",
              "      <td>NaN</td>\n",
              "      <td>0.730136</td>\n",
              "      <td>7.780063e-126</td>\n",
              "    </tr>\n",
              "    <tr>\n",
              "      <th>2</th>\n",
              "      <td>SIF</td>\n",
              "      <td>fasttext</td>\n",
              "      <td>0.0010</td>\n",
              "      <td>NaN</td>\n",
              "      <td>0.748385</td>\n",
              "      <td>1.629812e-135</td>\n",
              "    </tr>\n",
              "    <tr>\n",
              "      <th>3</th>\n",
              "      <td>SIF</td>\n",
              "      <td>fasttext</td>\n",
              "      <td>0.0001</td>\n",
              "      <td>NaN</td>\n",
              "      <td>0.737164</td>\n",
              "      <td>1.816586e-129</td>\n",
              "    </tr>\n",
              "    <tr>\n",
              "      <th>4</th>\n",
              "      <td>SIF</td>\n",
              "      <td>skipgram</td>\n",
              "      <td>0.1000</td>\n",
              "      <td>NaN</td>\n",
              "      <td>0.762348</td>\n",
              "      <td>1.669354e-143</td>\n",
              "    </tr>\n",
              "    <tr>\n",
              "      <th>5</th>\n",
              "      <td>SIF</td>\n",
              "      <td>skipgram</td>\n",
              "      <td>0.0100</td>\n",
              "      <td>NaN</td>\n",
              "      <td>0.762406</td>\n",
              "      <td>1.543852e-143</td>\n",
              "    </tr>\n",
              "    <tr>\n",
              "      <th>6</th>\n",
              "      <td>SIF</td>\n",
              "      <td>skipgram</td>\n",
              "      <td>0.0010</td>\n",
              "      <td>NaN</td>\n",
              "      <td>0.757371</td>\n",
              "      <td>1.356280e-140</td>\n",
              "    </tr>\n",
              "    <tr>\n",
              "      <th>7</th>\n",
              "      <td>SIF</td>\n",
              "      <td>skipgram</td>\n",
              "      <td>0.0001</td>\n",
              "      <td>NaN</td>\n",
              "      <td>0.740220</td>\n",
              "      <td>4.401062e-131</td>\n",
              "    </tr>\n",
              "    <tr>\n",
              "      <th>8</th>\n",
              "      <td>SIF</td>\n",
              "      <td>ELMo</td>\n",
              "      <td>0.1000</td>\n",
              "      <td>NaN</td>\n",
              "      <td>0.736663</td>\n",
              "      <td>3.329499e-129</td>\n",
              "    </tr>\n",
              "    <tr>\n",
              "      <th>9</th>\n",
              "      <td>SIF</td>\n",
              "      <td>ELMo</td>\n",
              "      <td>0.0100</td>\n",
              "      <td>NaN</td>\n",
              "      <td>0.739083</td>\n",
              "      <td>1.766553e-130</td>\n",
              "    </tr>\n",
              "    <tr>\n",
              "      <th>10</th>\n",
              "      <td>SIF</td>\n",
              "      <td>ELMo</td>\n",
              "      <td>0.0010</td>\n",
              "      <td>NaN</td>\n",
              "      <td>0.743325</td>\n",
              "      <td>9.510188e-133</td>\n",
              "    </tr>\n",
              "    <tr>\n",
              "      <th>11</th>\n",
              "      <td>SIF</td>\n",
              "      <td>ELMo</td>\n",
              "      <td>0.0001</td>\n",
              "      <td>NaN</td>\n",
              "      <td>0.736762</td>\n",
              "      <td>2.952221e-129</td>\n",
              "    </tr>\n",
              "    <tr>\n",
              "      <th>12</th>\n",
              "      <td>CPM</td>\n",
              "      <td>fasttext+skipgram</td>\n",
              "      <td>NaN</td>\n",
              "      <td>1, inf, -inf</td>\n",
              "      <td>0.661207</td>\n",
              "      <td>1.896094e-95</td>\n",
              "    </tr>\n",
              "    <tr>\n",
              "      <th>13</th>\n",
              "      <td>CPM</td>\n",
              "      <td>fasttext+skipgram</td>\n",
              "      <td>NaN</td>\n",
              "      <td>1, 2, inf, -inf</td>\n",
              "      <td>0.665719</td>\n",
              "      <td>3.447837e-97</td>\n",
              "    </tr>\n",
              "    <tr>\n",
              "      <th>14</th>\n",
              "      <td>CPM</td>\n",
              "      <td>fasttext+skipgram</td>\n",
              "      <td>NaN</td>\n",
              "      <td>1, 2, 3, inf, -inf</td>\n",
              "      <td>0.668972</td>\n",
              "      <td>1.836667e-98</td>\n",
              "    </tr>\n",
              "    <tr>\n",
              "      <th>15</th>\n",
              "      <td>CPM</td>\n",
              "      <td>fasttext+skipgram</td>\n",
              "      <td>NaN</td>\n",
              "      <td>0.5, 1, 2, 3, inf, -inf</td>\n",
              "      <td>0.673378</td>\n",
              "      <td>3.257330e-100</td>\n",
              "    </tr>\n",
              "    <tr>\n",
              "      <th>16</th>\n",
              "      <td>CPM</td>\n",
              "      <td>fasttext+ELMo</td>\n",
              "      <td>NaN</td>\n",
              "      <td>1, inf, -inf</td>\n",
              "      <td>0.667405</td>\n",
              "      <td>7.581796e-98</td>\n",
              "    </tr>\n",
              "    <tr>\n",
              "      <th>17</th>\n",
              "      <td>CPM</td>\n",
              "      <td>fasttext+ELMo</td>\n",
              "      <td>NaN</td>\n",
              "      <td>1, 2, inf, -inf</td>\n",
              "      <td>0.671302</td>\n",
              "      <td>2.197286e-99</td>\n",
              "    </tr>\n",
              "    <tr>\n",
              "      <th>18</th>\n",
              "      <td>CPM</td>\n",
              "      <td>fasttext+ELMo</td>\n",
              "      <td>NaN</td>\n",
              "      <td>1, 2, 3, inf, -inf</td>\n",
              "      <td>0.674145</td>\n",
              "      <td>1.604114e-100</td>\n",
              "    </tr>\n",
              "  </tbody>\n",
              "</table>\n",
              "</div>"
            ],
            "text/plain": [
              "   method            vectors  ...  pearson_r      pearson_p\n",
              "0     SIF           fasttext  ...   0.715789  9.138716e-119\n",
              "1     SIF           fasttext  ...   0.730136  7.780063e-126\n",
              "2     SIF           fasttext  ...   0.748385  1.629812e-135\n",
              "3     SIF           fasttext  ...   0.737164  1.816586e-129\n",
              "4     SIF           skipgram  ...   0.762348  1.669354e-143\n",
              "5     SIF           skipgram  ...   0.762406  1.543852e-143\n",
              "6     SIF           skipgram  ...   0.757371  1.356280e-140\n",
              "7     SIF           skipgram  ...   0.740220  4.401062e-131\n",
              "8     SIF               ELMo  ...   0.736663  3.329499e-129\n",
              "9     SIF               ELMo  ...   0.739083  1.766553e-130\n",
              "10    SIF               ELMo  ...   0.743325  9.510188e-133\n",
              "11    SIF               ELMo  ...   0.736762  2.952221e-129\n",
              "12    CPM  fasttext+skipgram  ...   0.661207   1.896094e-95\n",
              "13    CPM  fasttext+skipgram  ...   0.665719   3.447837e-97\n",
              "14    CPM  fasttext+skipgram  ...   0.668972   1.836667e-98\n",
              "15    CPM  fasttext+skipgram  ...   0.673378  3.257330e-100\n",
              "16    CPM      fasttext+ELMo  ...   0.667405   7.581796e-98\n",
              "17    CPM      fasttext+ELMo  ...   0.671302   2.197286e-99\n",
              "18    CPM      fasttext+ELMo  ...   0.674145  1.604114e-100\n",
              "\n",
              "[19 rows x 6 columns]"
            ]
          },
          "metadata": {
            "tags": []
          },
          "execution_count": 180
        }
      ]
    },
    {
      "cell_type": "code",
      "metadata": {
        "colab": {
          "base_uri": "https://localhost:8080/",
          "height": 669
        },
        "id": "gDqYM_9kt6vM",
        "outputId": "fde8d59c-6368-4bdd-b0fd-2e475f9e08d2"
      },
      "source": [
        "# 0.5 1 2 3 +- inf\r\n",
        "fe_pred = [cos_sim(CPM_from_vectors(representation_pair[0], [0.5, 1, 2, 3, 'inf', '-inf']), CPM_from_vectors(representation_pair[1], [0.5, 1, 2, 3, 'inf', '-inf'])) for  representation_pair in fe_pairs]\r\n",
        "r, p = pearsonr(fe_pred, STS_target)\r\n",
        "res_df = res_df.append(pd.DataFrame([['CPM', 'fasttext+ELMo', np.nan, '0.5, 1, 2, 3, inf, -inf', r, p]], columns=res_columns), ignore_index=True)\r\n",
        "res_df"
      ],
      "execution_count": 181,
      "outputs": [
        {
          "output_type": "execute_result",
          "data": {
            "text/html": [
              "<div>\n",
              "<style scoped>\n",
              "    .dataframe tbody tr th:only-of-type {\n",
              "        vertical-align: middle;\n",
              "    }\n",
              "\n",
              "    .dataframe tbody tr th {\n",
              "        vertical-align: top;\n",
              "    }\n",
              "\n",
              "    .dataframe thead th {\n",
              "        text-align: right;\n",
              "    }\n",
              "</style>\n",
              "<table border=\"1\" class=\"dataframe\">\n",
              "  <thead>\n",
              "    <tr style=\"text-align: right;\">\n",
              "      <th></th>\n",
              "      <th>method</th>\n",
              "      <th>vectors</th>\n",
              "      <th>SIF_a</th>\n",
              "      <th>CPM_powers</th>\n",
              "      <th>pearson_r</th>\n",
              "      <th>pearson_p</th>\n",
              "    </tr>\n",
              "  </thead>\n",
              "  <tbody>\n",
              "    <tr>\n",
              "      <th>0</th>\n",
              "      <td>SIF</td>\n",
              "      <td>fasttext</td>\n",
              "      <td>0.1000</td>\n",
              "      <td>NaN</td>\n",
              "      <td>0.715789</td>\n",
              "      <td>9.138716e-119</td>\n",
              "    </tr>\n",
              "    <tr>\n",
              "      <th>1</th>\n",
              "      <td>SIF</td>\n",
              "      <td>fasttext</td>\n",
              "      <td>0.0100</td>\n",
              "      <td>NaN</td>\n",
              "      <td>0.730136</td>\n",
              "      <td>7.780063e-126</td>\n",
              "    </tr>\n",
              "    <tr>\n",
              "      <th>2</th>\n",
              "      <td>SIF</td>\n",
              "      <td>fasttext</td>\n",
              "      <td>0.0010</td>\n",
              "      <td>NaN</td>\n",
              "      <td>0.748385</td>\n",
              "      <td>1.629812e-135</td>\n",
              "    </tr>\n",
              "    <tr>\n",
              "      <th>3</th>\n",
              "      <td>SIF</td>\n",
              "      <td>fasttext</td>\n",
              "      <td>0.0001</td>\n",
              "      <td>NaN</td>\n",
              "      <td>0.737164</td>\n",
              "      <td>1.816586e-129</td>\n",
              "    </tr>\n",
              "    <tr>\n",
              "      <th>4</th>\n",
              "      <td>SIF</td>\n",
              "      <td>skipgram</td>\n",
              "      <td>0.1000</td>\n",
              "      <td>NaN</td>\n",
              "      <td>0.762348</td>\n",
              "      <td>1.669354e-143</td>\n",
              "    </tr>\n",
              "    <tr>\n",
              "      <th>5</th>\n",
              "      <td>SIF</td>\n",
              "      <td>skipgram</td>\n",
              "      <td>0.0100</td>\n",
              "      <td>NaN</td>\n",
              "      <td>0.762406</td>\n",
              "      <td>1.543852e-143</td>\n",
              "    </tr>\n",
              "    <tr>\n",
              "      <th>6</th>\n",
              "      <td>SIF</td>\n",
              "      <td>skipgram</td>\n",
              "      <td>0.0010</td>\n",
              "      <td>NaN</td>\n",
              "      <td>0.757371</td>\n",
              "      <td>1.356280e-140</td>\n",
              "    </tr>\n",
              "    <tr>\n",
              "      <th>7</th>\n",
              "      <td>SIF</td>\n",
              "      <td>skipgram</td>\n",
              "      <td>0.0001</td>\n",
              "      <td>NaN</td>\n",
              "      <td>0.740220</td>\n",
              "      <td>4.401062e-131</td>\n",
              "    </tr>\n",
              "    <tr>\n",
              "      <th>8</th>\n",
              "      <td>SIF</td>\n",
              "      <td>ELMo</td>\n",
              "      <td>0.1000</td>\n",
              "      <td>NaN</td>\n",
              "      <td>0.736663</td>\n",
              "      <td>3.329499e-129</td>\n",
              "    </tr>\n",
              "    <tr>\n",
              "      <th>9</th>\n",
              "      <td>SIF</td>\n",
              "      <td>ELMo</td>\n",
              "      <td>0.0100</td>\n",
              "      <td>NaN</td>\n",
              "      <td>0.739083</td>\n",
              "      <td>1.766553e-130</td>\n",
              "    </tr>\n",
              "    <tr>\n",
              "      <th>10</th>\n",
              "      <td>SIF</td>\n",
              "      <td>ELMo</td>\n",
              "      <td>0.0010</td>\n",
              "      <td>NaN</td>\n",
              "      <td>0.743325</td>\n",
              "      <td>9.510188e-133</td>\n",
              "    </tr>\n",
              "    <tr>\n",
              "      <th>11</th>\n",
              "      <td>SIF</td>\n",
              "      <td>ELMo</td>\n",
              "      <td>0.0001</td>\n",
              "      <td>NaN</td>\n",
              "      <td>0.736762</td>\n",
              "      <td>2.952221e-129</td>\n",
              "    </tr>\n",
              "    <tr>\n",
              "      <th>12</th>\n",
              "      <td>CPM</td>\n",
              "      <td>fasttext+skipgram</td>\n",
              "      <td>NaN</td>\n",
              "      <td>1, inf, -inf</td>\n",
              "      <td>0.661207</td>\n",
              "      <td>1.896094e-95</td>\n",
              "    </tr>\n",
              "    <tr>\n",
              "      <th>13</th>\n",
              "      <td>CPM</td>\n",
              "      <td>fasttext+skipgram</td>\n",
              "      <td>NaN</td>\n",
              "      <td>1, 2, inf, -inf</td>\n",
              "      <td>0.665719</td>\n",
              "      <td>3.447837e-97</td>\n",
              "    </tr>\n",
              "    <tr>\n",
              "      <th>14</th>\n",
              "      <td>CPM</td>\n",
              "      <td>fasttext+skipgram</td>\n",
              "      <td>NaN</td>\n",
              "      <td>1, 2, 3, inf, -inf</td>\n",
              "      <td>0.668972</td>\n",
              "      <td>1.836667e-98</td>\n",
              "    </tr>\n",
              "    <tr>\n",
              "      <th>15</th>\n",
              "      <td>CPM</td>\n",
              "      <td>fasttext+skipgram</td>\n",
              "      <td>NaN</td>\n",
              "      <td>0.5, 1, 2, 3, inf, -inf</td>\n",
              "      <td>0.673378</td>\n",
              "      <td>3.257330e-100</td>\n",
              "    </tr>\n",
              "    <tr>\n",
              "      <th>16</th>\n",
              "      <td>CPM</td>\n",
              "      <td>fasttext+ELMo</td>\n",
              "      <td>NaN</td>\n",
              "      <td>1, inf, -inf</td>\n",
              "      <td>0.667405</td>\n",
              "      <td>7.581796e-98</td>\n",
              "    </tr>\n",
              "    <tr>\n",
              "      <th>17</th>\n",
              "      <td>CPM</td>\n",
              "      <td>fasttext+ELMo</td>\n",
              "      <td>NaN</td>\n",
              "      <td>1, 2, inf, -inf</td>\n",
              "      <td>0.671302</td>\n",
              "      <td>2.197286e-99</td>\n",
              "    </tr>\n",
              "    <tr>\n",
              "      <th>18</th>\n",
              "      <td>CPM</td>\n",
              "      <td>fasttext+ELMo</td>\n",
              "      <td>NaN</td>\n",
              "      <td>1, 2, 3, inf, -inf</td>\n",
              "      <td>0.674145</td>\n",
              "      <td>1.604114e-100</td>\n",
              "    </tr>\n",
              "    <tr>\n",
              "      <th>19</th>\n",
              "      <td>CPM</td>\n",
              "      <td>fasttext+ELMo</td>\n",
              "      <td>NaN</td>\n",
              "      <td>0.5, 1, 2, 3, inf, -inf</td>\n",
              "      <td>0.677663</td>\n",
              "      <td>6.035801e-102</td>\n",
              "    </tr>\n",
              "  </tbody>\n",
              "</table>\n",
              "</div>"
            ],
            "text/plain": [
              "   method            vectors  ...  pearson_r      pearson_p\n",
              "0     SIF           fasttext  ...   0.715789  9.138716e-119\n",
              "1     SIF           fasttext  ...   0.730136  7.780063e-126\n",
              "2     SIF           fasttext  ...   0.748385  1.629812e-135\n",
              "3     SIF           fasttext  ...   0.737164  1.816586e-129\n",
              "4     SIF           skipgram  ...   0.762348  1.669354e-143\n",
              "5     SIF           skipgram  ...   0.762406  1.543852e-143\n",
              "6     SIF           skipgram  ...   0.757371  1.356280e-140\n",
              "7     SIF           skipgram  ...   0.740220  4.401062e-131\n",
              "8     SIF               ELMo  ...   0.736663  3.329499e-129\n",
              "9     SIF               ELMo  ...   0.739083  1.766553e-130\n",
              "10    SIF               ELMo  ...   0.743325  9.510188e-133\n",
              "11    SIF               ELMo  ...   0.736762  2.952221e-129\n",
              "12    CPM  fasttext+skipgram  ...   0.661207   1.896094e-95\n",
              "13    CPM  fasttext+skipgram  ...   0.665719   3.447837e-97\n",
              "14    CPM  fasttext+skipgram  ...   0.668972   1.836667e-98\n",
              "15    CPM  fasttext+skipgram  ...   0.673378  3.257330e-100\n",
              "16    CPM      fasttext+ELMo  ...   0.667405   7.581796e-98\n",
              "17    CPM      fasttext+ELMo  ...   0.671302   2.197286e-99\n",
              "18    CPM      fasttext+ELMo  ...   0.674145  1.604114e-100\n",
              "19    CPM      fasttext+ELMo  ...   0.677663  6.035801e-102\n",
              "\n",
              "[20 rows x 6 columns]"
            ]
          },
          "metadata": {
            "tags": []
          },
          "execution_count": 181
        }
      ]
    },
    {
      "cell_type": "markdown",
      "metadata": {
        "id": "q9e2mUVcuDu1"
      },
      "source": [
        "#### 4.2.3 SkipGram + ELMo"
      ]
    },
    {
      "cell_type": "code",
      "metadata": {
        "id": "icNBQx70uWiV"
      },
      "source": [
        "skipgram_vecs_STS_flat = [get_word_vectors_skipgram(s) for s in flatten(tokenized_STS)]"
      ],
      "execution_count": 185,
      "outputs": []
    },
    {
      "cell_type": "code",
      "metadata": {
        "id": "k9tCv7nduWiX"
      },
      "source": [
        "se_pairs = []\r\n",
        "for i in range(elmo_vecs_STS_flat.shape[0]):\r\n",
        "  if i % 2 == 0:\r\n",
        "    se_pairs.append(([elmo_vecs_STS_flat[i], skipgram_vecs_STS_flat[i]], [elmo_vecs_STS_flat[i+1], skipgram_vecs_STS_flat[i+1]]))"
      ],
      "execution_count": 186,
      "outputs": []
    },
    {
      "cell_type": "code",
      "metadata": {
        "colab": {
          "base_uri": "https://localhost:8080/",
          "height": 700
        },
        "id": "_Em_lzk7uWiY",
        "outputId": "a6a868f8-73ba-4e78-f7d8-b1006bea3b73"
      },
      "source": [
        "# 1 +- inf\r\n",
        "se_pred = [cos_sim(CPM_from_vectors(representation_pair[0], [1, 'inf', '-inf']), CPM_from_vectors(representation_pair[1], [1, 'inf', '-inf'])) for  representation_pair in se_pairs]\r\n",
        "r, p = pearsonr(se_pred, STS_target)\r\n",
        "res_df = res_df.append(pd.DataFrame([['CPM', 'skipgram+ELMo', np.nan, '1, inf, -inf', r, p]], columns=res_columns), ignore_index=True)\r\n",
        "res_df"
      ],
      "execution_count": 189,
      "outputs": [
        {
          "output_type": "execute_result",
          "data": {
            "text/html": [
              "<div>\n",
              "<style scoped>\n",
              "    .dataframe tbody tr th:only-of-type {\n",
              "        vertical-align: middle;\n",
              "    }\n",
              "\n",
              "    .dataframe tbody tr th {\n",
              "        vertical-align: top;\n",
              "    }\n",
              "\n",
              "    .dataframe thead th {\n",
              "        text-align: right;\n",
              "    }\n",
              "</style>\n",
              "<table border=\"1\" class=\"dataframe\">\n",
              "  <thead>\n",
              "    <tr style=\"text-align: right;\">\n",
              "      <th></th>\n",
              "      <th>method</th>\n",
              "      <th>vectors</th>\n",
              "      <th>SIF_a</th>\n",
              "      <th>CPM_powers</th>\n",
              "      <th>pearson_r</th>\n",
              "      <th>pearson_p</th>\n",
              "    </tr>\n",
              "  </thead>\n",
              "  <tbody>\n",
              "    <tr>\n",
              "      <th>0</th>\n",
              "      <td>SIF</td>\n",
              "      <td>fasttext</td>\n",
              "      <td>0.1000</td>\n",
              "      <td>NaN</td>\n",
              "      <td>0.715789</td>\n",
              "      <td>9.138716e-119</td>\n",
              "    </tr>\n",
              "    <tr>\n",
              "      <th>1</th>\n",
              "      <td>SIF</td>\n",
              "      <td>fasttext</td>\n",
              "      <td>0.0100</td>\n",
              "      <td>NaN</td>\n",
              "      <td>0.730136</td>\n",
              "      <td>7.780063e-126</td>\n",
              "    </tr>\n",
              "    <tr>\n",
              "      <th>2</th>\n",
              "      <td>SIF</td>\n",
              "      <td>fasttext</td>\n",
              "      <td>0.0010</td>\n",
              "      <td>NaN</td>\n",
              "      <td>0.748385</td>\n",
              "      <td>1.629812e-135</td>\n",
              "    </tr>\n",
              "    <tr>\n",
              "      <th>3</th>\n",
              "      <td>SIF</td>\n",
              "      <td>fasttext</td>\n",
              "      <td>0.0001</td>\n",
              "      <td>NaN</td>\n",
              "      <td>0.737164</td>\n",
              "      <td>1.816586e-129</td>\n",
              "    </tr>\n",
              "    <tr>\n",
              "      <th>4</th>\n",
              "      <td>SIF</td>\n",
              "      <td>skipgram</td>\n",
              "      <td>0.1000</td>\n",
              "      <td>NaN</td>\n",
              "      <td>0.762348</td>\n",
              "      <td>1.669354e-143</td>\n",
              "    </tr>\n",
              "    <tr>\n",
              "      <th>5</th>\n",
              "      <td>SIF</td>\n",
              "      <td>skipgram</td>\n",
              "      <td>0.0100</td>\n",
              "      <td>NaN</td>\n",
              "      <td>0.762406</td>\n",
              "      <td>1.543852e-143</td>\n",
              "    </tr>\n",
              "    <tr>\n",
              "      <th>6</th>\n",
              "      <td>SIF</td>\n",
              "      <td>skipgram</td>\n",
              "      <td>0.0010</td>\n",
              "      <td>NaN</td>\n",
              "      <td>0.757371</td>\n",
              "      <td>1.356280e-140</td>\n",
              "    </tr>\n",
              "    <tr>\n",
              "      <th>7</th>\n",
              "      <td>SIF</td>\n",
              "      <td>skipgram</td>\n",
              "      <td>0.0001</td>\n",
              "      <td>NaN</td>\n",
              "      <td>0.740220</td>\n",
              "      <td>4.401062e-131</td>\n",
              "    </tr>\n",
              "    <tr>\n",
              "      <th>8</th>\n",
              "      <td>SIF</td>\n",
              "      <td>ELMo</td>\n",
              "      <td>0.1000</td>\n",
              "      <td>NaN</td>\n",
              "      <td>0.736663</td>\n",
              "      <td>3.329499e-129</td>\n",
              "    </tr>\n",
              "    <tr>\n",
              "      <th>9</th>\n",
              "      <td>SIF</td>\n",
              "      <td>ELMo</td>\n",
              "      <td>0.0100</td>\n",
              "      <td>NaN</td>\n",
              "      <td>0.739083</td>\n",
              "      <td>1.766553e-130</td>\n",
              "    </tr>\n",
              "    <tr>\n",
              "      <th>10</th>\n",
              "      <td>SIF</td>\n",
              "      <td>ELMo</td>\n",
              "      <td>0.0010</td>\n",
              "      <td>NaN</td>\n",
              "      <td>0.743325</td>\n",
              "      <td>9.510188e-133</td>\n",
              "    </tr>\n",
              "    <tr>\n",
              "      <th>11</th>\n",
              "      <td>SIF</td>\n",
              "      <td>ELMo</td>\n",
              "      <td>0.0001</td>\n",
              "      <td>NaN</td>\n",
              "      <td>0.736762</td>\n",
              "      <td>2.952221e-129</td>\n",
              "    </tr>\n",
              "    <tr>\n",
              "      <th>12</th>\n",
              "      <td>CPM</td>\n",
              "      <td>fasttext+skipgram</td>\n",
              "      <td>NaN</td>\n",
              "      <td>1, inf, -inf</td>\n",
              "      <td>0.661207</td>\n",
              "      <td>1.896094e-95</td>\n",
              "    </tr>\n",
              "    <tr>\n",
              "      <th>13</th>\n",
              "      <td>CPM</td>\n",
              "      <td>fasttext+skipgram</td>\n",
              "      <td>NaN</td>\n",
              "      <td>1, 2, inf, -inf</td>\n",
              "      <td>0.665719</td>\n",
              "      <td>3.447837e-97</td>\n",
              "    </tr>\n",
              "    <tr>\n",
              "      <th>14</th>\n",
              "      <td>CPM</td>\n",
              "      <td>fasttext+skipgram</td>\n",
              "      <td>NaN</td>\n",
              "      <td>1, 2, 3, inf, -inf</td>\n",
              "      <td>0.668972</td>\n",
              "      <td>1.836667e-98</td>\n",
              "    </tr>\n",
              "    <tr>\n",
              "      <th>15</th>\n",
              "      <td>CPM</td>\n",
              "      <td>fasttext+skipgram</td>\n",
              "      <td>NaN</td>\n",
              "      <td>0.5, 1, 2, 3, inf, -inf</td>\n",
              "      <td>0.673378</td>\n",
              "      <td>3.257330e-100</td>\n",
              "    </tr>\n",
              "    <tr>\n",
              "      <th>16</th>\n",
              "      <td>CPM</td>\n",
              "      <td>fasttext+ELMo</td>\n",
              "      <td>NaN</td>\n",
              "      <td>1, inf, -inf</td>\n",
              "      <td>0.667405</td>\n",
              "      <td>7.581796e-98</td>\n",
              "    </tr>\n",
              "    <tr>\n",
              "      <th>17</th>\n",
              "      <td>CPM</td>\n",
              "      <td>fasttext+ELMo</td>\n",
              "      <td>NaN</td>\n",
              "      <td>1, 2, inf, -inf</td>\n",
              "      <td>0.671302</td>\n",
              "      <td>2.197286e-99</td>\n",
              "    </tr>\n",
              "    <tr>\n",
              "      <th>18</th>\n",
              "      <td>CPM</td>\n",
              "      <td>fasttext+ELMo</td>\n",
              "      <td>NaN</td>\n",
              "      <td>1, 2, 3, inf, -inf</td>\n",
              "      <td>0.674145</td>\n",
              "      <td>1.604114e-100</td>\n",
              "    </tr>\n",
              "    <tr>\n",
              "      <th>19</th>\n",
              "      <td>CPM</td>\n",
              "      <td>fasttext+ELMo</td>\n",
              "      <td>NaN</td>\n",
              "      <td>0.5, 1, 2, 3, inf, -inf</td>\n",
              "      <td>0.677663</td>\n",
              "      <td>6.035801e-102</td>\n",
              "    </tr>\n",
              "    <tr>\n",
              "      <th>20</th>\n",
              "      <td>CPM</td>\n",
              "      <td>skipgram+ELMo</td>\n",
              "      <td>NaN</td>\n",
              "      <td>1, inf, -inf</td>\n",
              "      <td>0.729254</td>\n",
              "      <td>2.183016e-125</td>\n",
              "    </tr>\n",
              "  </tbody>\n",
              "</table>\n",
              "</div>"
            ],
            "text/plain": [
              "   method            vectors  ...  pearson_r      pearson_p\n",
              "0     SIF           fasttext  ...   0.715789  9.138716e-119\n",
              "1     SIF           fasttext  ...   0.730136  7.780063e-126\n",
              "2     SIF           fasttext  ...   0.748385  1.629812e-135\n",
              "3     SIF           fasttext  ...   0.737164  1.816586e-129\n",
              "4     SIF           skipgram  ...   0.762348  1.669354e-143\n",
              "5     SIF           skipgram  ...   0.762406  1.543852e-143\n",
              "6     SIF           skipgram  ...   0.757371  1.356280e-140\n",
              "7     SIF           skipgram  ...   0.740220  4.401062e-131\n",
              "8     SIF               ELMo  ...   0.736663  3.329499e-129\n",
              "9     SIF               ELMo  ...   0.739083  1.766553e-130\n",
              "10    SIF               ELMo  ...   0.743325  9.510188e-133\n",
              "11    SIF               ELMo  ...   0.736762  2.952221e-129\n",
              "12    CPM  fasttext+skipgram  ...   0.661207   1.896094e-95\n",
              "13    CPM  fasttext+skipgram  ...   0.665719   3.447837e-97\n",
              "14    CPM  fasttext+skipgram  ...   0.668972   1.836667e-98\n",
              "15    CPM  fasttext+skipgram  ...   0.673378  3.257330e-100\n",
              "16    CPM      fasttext+ELMo  ...   0.667405   7.581796e-98\n",
              "17    CPM      fasttext+ELMo  ...   0.671302   2.197286e-99\n",
              "18    CPM      fasttext+ELMo  ...   0.674145  1.604114e-100\n",
              "19    CPM      fasttext+ELMo  ...   0.677663  6.035801e-102\n",
              "20    CPM      skipgram+ELMo  ...   0.729254  2.183016e-125\n",
              "\n",
              "[21 rows x 6 columns]"
            ]
          },
          "metadata": {
            "tags": []
          },
          "execution_count": 189
        }
      ]
    },
    {
      "cell_type": "code",
      "metadata": {
        "colab": {
          "base_uri": "https://localhost:8080/",
          "height": 731
        },
        "id": "IUZuH3dzuv6n",
        "outputId": "1abeeed0-0321-4e04-ed07-6f9b75b6f773"
      },
      "source": [
        "# 1 2 +- inf\r\n",
        "se_pred = [cos_sim(CPM_from_vectors(representation_pair[0], [1, 2, 'inf', '-inf']), CPM_from_vectors(representation_pair[1], [1, 2, 'inf', '-inf'])) for  representation_pair in se_pairs]\r\n",
        "r, p = pearsonr(se_pred, STS_target)\r\n",
        "res_df = res_df.append(pd.DataFrame([['CPM', 'skipgram+ELMo', np.nan, '1, 2, inf, -inf', r, p]], columns=res_columns), ignore_index=True)\r\n",
        "res_df"
      ],
      "execution_count": 190,
      "outputs": [
        {
          "output_type": "execute_result",
          "data": {
            "text/html": [
              "<div>\n",
              "<style scoped>\n",
              "    .dataframe tbody tr th:only-of-type {\n",
              "        vertical-align: middle;\n",
              "    }\n",
              "\n",
              "    .dataframe tbody tr th {\n",
              "        vertical-align: top;\n",
              "    }\n",
              "\n",
              "    .dataframe thead th {\n",
              "        text-align: right;\n",
              "    }\n",
              "</style>\n",
              "<table border=\"1\" class=\"dataframe\">\n",
              "  <thead>\n",
              "    <tr style=\"text-align: right;\">\n",
              "      <th></th>\n",
              "      <th>method</th>\n",
              "      <th>vectors</th>\n",
              "      <th>SIF_a</th>\n",
              "      <th>CPM_powers</th>\n",
              "      <th>pearson_r</th>\n",
              "      <th>pearson_p</th>\n",
              "    </tr>\n",
              "  </thead>\n",
              "  <tbody>\n",
              "    <tr>\n",
              "      <th>0</th>\n",
              "      <td>SIF</td>\n",
              "      <td>fasttext</td>\n",
              "      <td>0.1000</td>\n",
              "      <td>NaN</td>\n",
              "      <td>0.715789</td>\n",
              "      <td>9.138716e-119</td>\n",
              "    </tr>\n",
              "    <tr>\n",
              "      <th>1</th>\n",
              "      <td>SIF</td>\n",
              "      <td>fasttext</td>\n",
              "      <td>0.0100</td>\n",
              "      <td>NaN</td>\n",
              "      <td>0.730136</td>\n",
              "      <td>7.780063e-126</td>\n",
              "    </tr>\n",
              "    <tr>\n",
              "      <th>2</th>\n",
              "      <td>SIF</td>\n",
              "      <td>fasttext</td>\n",
              "      <td>0.0010</td>\n",
              "      <td>NaN</td>\n",
              "      <td>0.748385</td>\n",
              "      <td>1.629812e-135</td>\n",
              "    </tr>\n",
              "    <tr>\n",
              "      <th>3</th>\n",
              "      <td>SIF</td>\n",
              "      <td>fasttext</td>\n",
              "      <td>0.0001</td>\n",
              "      <td>NaN</td>\n",
              "      <td>0.737164</td>\n",
              "      <td>1.816586e-129</td>\n",
              "    </tr>\n",
              "    <tr>\n",
              "      <th>4</th>\n",
              "      <td>SIF</td>\n",
              "      <td>skipgram</td>\n",
              "      <td>0.1000</td>\n",
              "      <td>NaN</td>\n",
              "      <td>0.762348</td>\n",
              "      <td>1.669354e-143</td>\n",
              "    </tr>\n",
              "    <tr>\n",
              "      <th>5</th>\n",
              "      <td>SIF</td>\n",
              "      <td>skipgram</td>\n",
              "      <td>0.0100</td>\n",
              "      <td>NaN</td>\n",
              "      <td>0.762406</td>\n",
              "      <td>1.543852e-143</td>\n",
              "    </tr>\n",
              "    <tr>\n",
              "      <th>6</th>\n",
              "      <td>SIF</td>\n",
              "      <td>skipgram</td>\n",
              "      <td>0.0010</td>\n",
              "      <td>NaN</td>\n",
              "      <td>0.757371</td>\n",
              "      <td>1.356280e-140</td>\n",
              "    </tr>\n",
              "    <tr>\n",
              "      <th>7</th>\n",
              "      <td>SIF</td>\n",
              "      <td>skipgram</td>\n",
              "      <td>0.0001</td>\n",
              "      <td>NaN</td>\n",
              "      <td>0.740220</td>\n",
              "      <td>4.401062e-131</td>\n",
              "    </tr>\n",
              "    <tr>\n",
              "      <th>8</th>\n",
              "      <td>SIF</td>\n",
              "      <td>ELMo</td>\n",
              "      <td>0.1000</td>\n",
              "      <td>NaN</td>\n",
              "      <td>0.736663</td>\n",
              "      <td>3.329499e-129</td>\n",
              "    </tr>\n",
              "    <tr>\n",
              "      <th>9</th>\n",
              "      <td>SIF</td>\n",
              "      <td>ELMo</td>\n",
              "      <td>0.0100</td>\n",
              "      <td>NaN</td>\n",
              "      <td>0.739083</td>\n",
              "      <td>1.766553e-130</td>\n",
              "    </tr>\n",
              "    <tr>\n",
              "      <th>10</th>\n",
              "      <td>SIF</td>\n",
              "      <td>ELMo</td>\n",
              "      <td>0.0010</td>\n",
              "      <td>NaN</td>\n",
              "      <td>0.743325</td>\n",
              "      <td>9.510188e-133</td>\n",
              "    </tr>\n",
              "    <tr>\n",
              "      <th>11</th>\n",
              "      <td>SIF</td>\n",
              "      <td>ELMo</td>\n",
              "      <td>0.0001</td>\n",
              "      <td>NaN</td>\n",
              "      <td>0.736762</td>\n",
              "      <td>2.952221e-129</td>\n",
              "    </tr>\n",
              "    <tr>\n",
              "      <th>12</th>\n",
              "      <td>CPM</td>\n",
              "      <td>fasttext+skipgram</td>\n",
              "      <td>NaN</td>\n",
              "      <td>1, inf, -inf</td>\n",
              "      <td>0.661207</td>\n",
              "      <td>1.896094e-95</td>\n",
              "    </tr>\n",
              "    <tr>\n",
              "      <th>13</th>\n",
              "      <td>CPM</td>\n",
              "      <td>fasttext+skipgram</td>\n",
              "      <td>NaN</td>\n",
              "      <td>1, 2, inf, -inf</td>\n",
              "      <td>0.665719</td>\n",
              "      <td>3.447837e-97</td>\n",
              "    </tr>\n",
              "    <tr>\n",
              "      <th>14</th>\n",
              "      <td>CPM</td>\n",
              "      <td>fasttext+skipgram</td>\n",
              "      <td>NaN</td>\n",
              "      <td>1, 2, 3, inf, -inf</td>\n",
              "      <td>0.668972</td>\n",
              "      <td>1.836667e-98</td>\n",
              "    </tr>\n",
              "    <tr>\n",
              "      <th>15</th>\n",
              "      <td>CPM</td>\n",
              "      <td>fasttext+skipgram</td>\n",
              "      <td>NaN</td>\n",
              "      <td>0.5, 1, 2, 3, inf, -inf</td>\n",
              "      <td>0.673378</td>\n",
              "      <td>3.257330e-100</td>\n",
              "    </tr>\n",
              "    <tr>\n",
              "      <th>16</th>\n",
              "      <td>CPM</td>\n",
              "      <td>fasttext+ELMo</td>\n",
              "      <td>NaN</td>\n",
              "      <td>1, inf, -inf</td>\n",
              "      <td>0.667405</td>\n",
              "      <td>7.581796e-98</td>\n",
              "    </tr>\n",
              "    <tr>\n",
              "      <th>17</th>\n",
              "      <td>CPM</td>\n",
              "      <td>fasttext+ELMo</td>\n",
              "      <td>NaN</td>\n",
              "      <td>1, 2, inf, -inf</td>\n",
              "      <td>0.671302</td>\n",
              "      <td>2.197286e-99</td>\n",
              "    </tr>\n",
              "    <tr>\n",
              "      <th>18</th>\n",
              "      <td>CPM</td>\n",
              "      <td>fasttext+ELMo</td>\n",
              "      <td>NaN</td>\n",
              "      <td>1, 2, 3, inf, -inf</td>\n",
              "      <td>0.674145</td>\n",
              "      <td>1.604114e-100</td>\n",
              "    </tr>\n",
              "    <tr>\n",
              "      <th>19</th>\n",
              "      <td>CPM</td>\n",
              "      <td>fasttext+ELMo</td>\n",
              "      <td>NaN</td>\n",
              "      <td>0.5, 1, 2, 3, inf, -inf</td>\n",
              "      <td>0.677663</td>\n",
              "      <td>6.035801e-102</td>\n",
              "    </tr>\n",
              "    <tr>\n",
              "      <th>20</th>\n",
              "      <td>CPM</td>\n",
              "      <td>skipgram+ELMo</td>\n",
              "      <td>NaN</td>\n",
              "      <td>1, inf, -inf</td>\n",
              "      <td>0.729254</td>\n",
              "      <td>2.183016e-125</td>\n",
              "    </tr>\n",
              "    <tr>\n",
              "      <th>21</th>\n",
              "      <td>CPM</td>\n",
              "      <td>skipgram+ELMo</td>\n",
              "      <td>NaN</td>\n",
              "      <td>1, 2, inf, -inf</td>\n",
              "      <td>0.729293</td>\n",
              "      <td>2.085082e-125</td>\n",
              "    </tr>\n",
              "  </tbody>\n",
              "</table>\n",
              "</div>"
            ],
            "text/plain": [
              "   method            vectors  ...  pearson_r      pearson_p\n",
              "0     SIF           fasttext  ...   0.715789  9.138716e-119\n",
              "1     SIF           fasttext  ...   0.730136  7.780063e-126\n",
              "2     SIF           fasttext  ...   0.748385  1.629812e-135\n",
              "3     SIF           fasttext  ...   0.737164  1.816586e-129\n",
              "4     SIF           skipgram  ...   0.762348  1.669354e-143\n",
              "5     SIF           skipgram  ...   0.762406  1.543852e-143\n",
              "6     SIF           skipgram  ...   0.757371  1.356280e-140\n",
              "7     SIF           skipgram  ...   0.740220  4.401062e-131\n",
              "8     SIF               ELMo  ...   0.736663  3.329499e-129\n",
              "9     SIF               ELMo  ...   0.739083  1.766553e-130\n",
              "10    SIF               ELMo  ...   0.743325  9.510188e-133\n",
              "11    SIF               ELMo  ...   0.736762  2.952221e-129\n",
              "12    CPM  fasttext+skipgram  ...   0.661207   1.896094e-95\n",
              "13    CPM  fasttext+skipgram  ...   0.665719   3.447837e-97\n",
              "14    CPM  fasttext+skipgram  ...   0.668972   1.836667e-98\n",
              "15    CPM  fasttext+skipgram  ...   0.673378  3.257330e-100\n",
              "16    CPM      fasttext+ELMo  ...   0.667405   7.581796e-98\n",
              "17    CPM      fasttext+ELMo  ...   0.671302   2.197286e-99\n",
              "18    CPM      fasttext+ELMo  ...   0.674145  1.604114e-100\n",
              "19    CPM      fasttext+ELMo  ...   0.677663  6.035801e-102\n",
              "20    CPM      skipgram+ELMo  ...   0.729254  2.183016e-125\n",
              "21    CPM      skipgram+ELMo  ...   0.729293  2.085082e-125\n",
              "\n",
              "[22 rows x 6 columns]"
            ]
          },
          "metadata": {
            "tags": []
          },
          "execution_count": 190
        }
      ]
    },
    {
      "cell_type": "code",
      "metadata": {
        "colab": {
          "base_uri": "https://localhost:8080/",
          "height": 762
        },
        "id": "FQifXDMiu1Fw",
        "outputId": "4c913e2b-75cc-4ede-ae05-f69be5239170"
      },
      "source": [
        "# 1 2 3 +- inf\r\n",
        "se_pred = [cos_sim(CPM_from_vectors(representation_pair[0], [1, 2, 3, 'inf', '-inf']), CPM_from_vectors(representation_pair[1], [1, 2, 3, 'inf', '-inf'])) for  representation_pair in se_pairs]\r\n",
        "r, p = pearsonr(se_pred, STS_target)\r\n",
        "res_df = res_df.append(pd.DataFrame([['CPM', 'skipgram+ELMo', np.nan, '1, 2, 3, inf, -inf', r, p]], columns=res_columns), ignore_index=True)\r\n",
        "res_df"
      ],
      "execution_count": 191,
      "outputs": [
        {
          "output_type": "execute_result",
          "data": {
            "text/html": [
              "<div>\n",
              "<style scoped>\n",
              "    .dataframe tbody tr th:only-of-type {\n",
              "        vertical-align: middle;\n",
              "    }\n",
              "\n",
              "    .dataframe tbody tr th {\n",
              "        vertical-align: top;\n",
              "    }\n",
              "\n",
              "    .dataframe thead th {\n",
              "        text-align: right;\n",
              "    }\n",
              "</style>\n",
              "<table border=\"1\" class=\"dataframe\">\n",
              "  <thead>\n",
              "    <tr style=\"text-align: right;\">\n",
              "      <th></th>\n",
              "      <th>method</th>\n",
              "      <th>vectors</th>\n",
              "      <th>SIF_a</th>\n",
              "      <th>CPM_powers</th>\n",
              "      <th>pearson_r</th>\n",
              "      <th>pearson_p</th>\n",
              "    </tr>\n",
              "  </thead>\n",
              "  <tbody>\n",
              "    <tr>\n",
              "      <th>0</th>\n",
              "      <td>SIF</td>\n",
              "      <td>fasttext</td>\n",
              "      <td>0.1000</td>\n",
              "      <td>NaN</td>\n",
              "      <td>0.715789</td>\n",
              "      <td>9.138716e-119</td>\n",
              "    </tr>\n",
              "    <tr>\n",
              "      <th>1</th>\n",
              "      <td>SIF</td>\n",
              "      <td>fasttext</td>\n",
              "      <td>0.0100</td>\n",
              "      <td>NaN</td>\n",
              "      <td>0.730136</td>\n",
              "      <td>7.780063e-126</td>\n",
              "    </tr>\n",
              "    <tr>\n",
              "      <th>2</th>\n",
              "      <td>SIF</td>\n",
              "      <td>fasttext</td>\n",
              "      <td>0.0010</td>\n",
              "      <td>NaN</td>\n",
              "      <td>0.748385</td>\n",
              "      <td>1.629812e-135</td>\n",
              "    </tr>\n",
              "    <tr>\n",
              "      <th>3</th>\n",
              "      <td>SIF</td>\n",
              "      <td>fasttext</td>\n",
              "      <td>0.0001</td>\n",
              "      <td>NaN</td>\n",
              "      <td>0.737164</td>\n",
              "      <td>1.816586e-129</td>\n",
              "    </tr>\n",
              "    <tr>\n",
              "      <th>4</th>\n",
              "      <td>SIF</td>\n",
              "      <td>skipgram</td>\n",
              "      <td>0.1000</td>\n",
              "      <td>NaN</td>\n",
              "      <td>0.762348</td>\n",
              "      <td>1.669354e-143</td>\n",
              "    </tr>\n",
              "    <tr>\n",
              "      <th>5</th>\n",
              "      <td>SIF</td>\n",
              "      <td>skipgram</td>\n",
              "      <td>0.0100</td>\n",
              "      <td>NaN</td>\n",
              "      <td>0.762406</td>\n",
              "      <td>1.543852e-143</td>\n",
              "    </tr>\n",
              "    <tr>\n",
              "      <th>6</th>\n",
              "      <td>SIF</td>\n",
              "      <td>skipgram</td>\n",
              "      <td>0.0010</td>\n",
              "      <td>NaN</td>\n",
              "      <td>0.757371</td>\n",
              "      <td>1.356280e-140</td>\n",
              "    </tr>\n",
              "    <tr>\n",
              "      <th>7</th>\n",
              "      <td>SIF</td>\n",
              "      <td>skipgram</td>\n",
              "      <td>0.0001</td>\n",
              "      <td>NaN</td>\n",
              "      <td>0.740220</td>\n",
              "      <td>4.401062e-131</td>\n",
              "    </tr>\n",
              "    <tr>\n",
              "      <th>8</th>\n",
              "      <td>SIF</td>\n",
              "      <td>ELMo</td>\n",
              "      <td>0.1000</td>\n",
              "      <td>NaN</td>\n",
              "      <td>0.736663</td>\n",
              "      <td>3.329499e-129</td>\n",
              "    </tr>\n",
              "    <tr>\n",
              "      <th>9</th>\n",
              "      <td>SIF</td>\n",
              "      <td>ELMo</td>\n",
              "      <td>0.0100</td>\n",
              "      <td>NaN</td>\n",
              "      <td>0.739083</td>\n",
              "      <td>1.766553e-130</td>\n",
              "    </tr>\n",
              "    <tr>\n",
              "      <th>10</th>\n",
              "      <td>SIF</td>\n",
              "      <td>ELMo</td>\n",
              "      <td>0.0010</td>\n",
              "      <td>NaN</td>\n",
              "      <td>0.743325</td>\n",
              "      <td>9.510188e-133</td>\n",
              "    </tr>\n",
              "    <tr>\n",
              "      <th>11</th>\n",
              "      <td>SIF</td>\n",
              "      <td>ELMo</td>\n",
              "      <td>0.0001</td>\n",
              "      <td>NaN</td>\n",
              "      <td>0.736762</td>\n",
              "      <td>2.952221e-129</td>\n",
              "    </tr>\n",
              "    <tr>\n",
              "      <th>12</th>\n",
              "      <td>CPM</td>\n",
              "      <td>fasttext+skipgram</td>\n",
              "      <td>NaN</td>\n",
              "      <td>1, inf, -inf</td>\n",
              "      <td>0.661207</td>\n",
              "      <td>1.896094e-95</td>\n",
              "    </tr>\n",
              "    <tr>\n",
              "      <th>13</th>\n",
              "      <td>CPM</td>\n",
              "      <td>fasttext+skipgram</td>\n",
              "      <td>NaN</td>\n",
              "      <td>1, 2, inf, -inf</td>\n",
              "      <td>0.665719</td>\n",
              "      <td>3.447837e-97</td>\n",
              "    </tr>\n",
              "    <tr>\n",
              "      <th>14</th>\n",
              "      <td>CPM</td>\n",
              "      <td>fasttext+skipgram</td>\n",
              "      <td>NaN</td>\n",
              "      <td>1, 2, 3, inf, -inf</td>\n",
              "      <td>0.668972</td>\n",
              "      <td>1.836667e-98</td>\n",
              "    </tr>\n",
              "    <tr>\n",
              "      <th>15</th>\n",
              "      <td>CPM</td>\n",
              "      <td>fasttext+skipgram</td>\n",
              "      <td>NaN</td>\n",
              "      <td>0.5, 1, 2, 3, inf, -inf</td>\n",
              "      <td>0.673378</td>\n",
              "      <td>3.257330e-100</td>\n",
              "    </tr>\n",
              "    <tr>\n",
              "      <th>16</th>\n",
              "      <td>CPM</td>\n",
              "      <td>fasttext+ELMo</td>\n",
              "      <td>NaN</td>\n",
              "      <td>1, inf, -inf</td>\n",
              "      <td>0.667405</td>\n",
              "      <td>7.581796e-98</td>\n",
              "    </tr>\n",
              "    <tr>\n",
              "      <th>17</th>\n",
              "      <td>CPM</td>\n",
              "      <td>fasttext+ELMo</td>\n",
              "      <td>NaN</td>\n",
              "      <td>1, 2, inf, -inf</td>\n",
              "      <td>0.671302</td>\n",
              "      <td>2.197286e-99</td>\n",
              "    </tr>\n",
              "    <tr>\n",
              "      <th>18</th>\n",
              "      <td>CPM</td>\n",
              "      <td>fasttext+ELMo</td>\n",
              "      <td>NaN</td>\n",
              "      <td>1, 2, 3, inf, -inf</td>\n",
              "      <td>0.674145</td>\n",
              "      <td>1.604114e-100</td>\n",
              "    </tr>\n",
              "    <tr>\n",
              "      <th>19</th>\n",
              "      <td>CPM</td>\n",
              "      <td>fasttext+ELMo</td>\n",
              "      <td>NaN</td>\n",
              "      <td>0.5, 1, 2, 3, inf, -inf</td>\n",
              "      <td>0.677663</td>\n",
              "      <td>6.035801e-102</td>\n",
              "    </tr>\n",
              "    <tr>\n",
              "      <th>20</th>\n",
              "      <td>CPM</td>\n",
              "      <td>skipgram+ELMo</td>\n",
              "      <td>NaN</td>\n",
              "      <td>1, inf, -inf</td>\n",
              "      <td>0.729254</td>\n",
              "      <td>2.183016e-125</td>\n",
              "    </tr>\n",
              "    <tr>\n",
              "      <th>21</th>\n",
              "      <td>CPM</td>\n",
              "      <td>skipgram+ELMo</td>\n",
              "      <td>NaN</td>\n",
              "      <td>1, 2, inf, -inf</td>\n",
              "      <td>0.729293</td>\n",
              "      <td>2.085082e-125</td>\n",
              "    </tr>\n",
              "    <tr>\n",
              "      <th>22</th>\n",
              "      <td>CPM</td>\n",
              "      <td>skipgram+ELMo</td>\n",
              "      <td>NaN</td>\n",
              "      <td>1, 2, 3, inf, -inf</td>\n",
              "      <td>0.730366</td>\n",
              "      <td>5.944836e-126</td>\n",
              "    </tr>\n",
              "  </tbody>\n",
              "</table>\n",
              "</div>"
            ],
            "text/plain": [
              "   method            vectors  ...  pearson_r      pearson_p\n",
              "0     SIF           fasttext  ...   0.715789  9.138716e-119\n",
              "1     SIF           fasttext  ...   0.730136  7.780063e-126\n",
              "2     SIF           fasttext  ...   0.748385  1.629812e-135\n",
              "3     SIF           fasttext  ...   0.737164  1.816586e-129\n",
              "4     SIF           skipgram  ...   0.762348  1.669354e-143\n",
              "5     SIF           skipgram  ...   0.762406  1.543852e-143\n",
              "6     SIF           skipgram  ...   0.757371  1.356280e-140\n",
              "7     SIF           skipgram  ...   0.740220  4.401062e-131\n",
              "8     SIF               ELMo  ...   0.736663  3.329499e-129\n",
              "9     SIF               ELMo  ...   0.739083  1.766553e-130\n",
              "10    SIF               ELMo  ...   0.743325  9.510188e-133\n",
              "11    SIF               ELMo  ...   0.736762  2.952221e-129\n",
              "12    CPM  fasttext+skipgram  ...   0.661207   1.896094e-95\n",
              "13    CPM  fasttext+skipgram  ...   0.665719   3.447837e-97\n",
              "14    CPM  fasttext+skipgram  ...   0.668972   1.836667e-98\n",
              "15    CPM  fasttext+skipgram  ...   0.673378  3.257330e-100\n",
              "16    CPM      fasttext+ELMo  ...   0.667405   7.581796e-98\n",
              "17    CPM      fasttext+ELMo  ...   0.671302   2.197286e-99\n",
              "18    CPM      fasttext+ELMo  ...   0.674145  1.604114e-100\n",
              "19    CPM      fasttext+ELMo  ...   0.677663  6.035801e-102\n",
              "20    CPM      skipgram+ELMo  ...   0.729254  2.183016e-125\n",
              "21    CPM      skipgram+ELMo  ...   0.729293  2.085082e-125\n",
              "22    CPM      skipgram+ELMo  ...   0.730366  5.944836e-126\n",
              "\n",
              "[23 rows x 6 columns]"
            ]
          },
          "metadata": {
            "tags": []
          },
          "execution_count": 191
        }
      ]
    },
    {
      "cell_type": "code",
      "metadata": {
        "colab": {
          "base_uri": "https://localhost:8080/",
          "height": 793
        },
        "id": "geNi2ditu5rY",
        "outputId": "96f378b6-d5e1-4ae1-9e8b-7328bc55591b"
      },
      "source": [
        "# 0.5 1 2 3 +- inf\r\n",
        "se_pred = [cos_sim(CPM_from_vectors(representation_pair[0], [0.5, 1, 2, 3, 'inf', '-inf']), CPM_from_vectors(representation_pair[1], [0.5, 1, 2, 3, 'inf', '-inf'])) for  representation_pair in se_pairs]\r\n",
        "r, p = pearsonr(se_pred, STS_target)\r\n",
        "res_df = res_df.append(pd.DataFrame([['CPM', 'skipgram+ELMo', np.nan, '0.5, 1, 2, 3, inf, -inf', r, p]], columns=res_columns), ignore_index=True)\r\n",
        "res_df"
      ],
      "execution_count": 192,
      "outputs": [
        {
          "output_type": "execute_result",
          "data": {
            "text/html": [
              "<div>\n",
              "<style scoped>\n",
              "    .dataframe tbody tr th:only-of-type {\n",
              "        vertical-align: middle;\n",
              "    }\n",
              "\n",
              "    .dataframe tbody tr th {\n",
              "        vertical-align: top;\n",
              "    }\n",
              "\n",
              "    .dataframe thead th {\n",
              "        text-align: right;\n",
              "    }\n",
              "</style>\n",
              "<table border=\"1\" class=\"dataframe\">\n",
              "  <thead>\n",
              "    <tr style=\"text-align: right;\">\n",
              "      <th></th>\n",
              "      <th>method</th>\n",
              "      <th>vectors</th>\n",
              "      <th>SIF_a</th>\n",
              "      <th>CPM_powers</th>\n",
              "      <th>pearson_r</th>\n",
              "      <th>pearson_p</th>\n",
              "    </tr>\n",
              "  </thead>\n",
              "  <tbody>\n",
              "    <tr>\n",
              "      <th>0</th>\n",
              "      <td>SIF</td>\n",
              "      <td>fasttext</td>\n",
              "      <td>0.1000</td>\n",
              "      <td>NaN</td>\n",
              "      <td>0.715789</td>\n",
              "      <td>9.138716e-119</td>\n",
              "    </tr>\n",
              "    <tr>\n",
              "      <th>1</th>\n",
              "      <td>SIF</td>\n",
              "      <td>fasttext</td>\n",
              "      <td>0.0100</td>\n",
              "      <td>NaN</td>\n",
              "      <td>0.730136</td>\n",
              "      <td>7.780063e-126</td>\n",
              "    </tr>\n",
              "    <tr>\n",
              "      <th>2</th>\n",
              "      <td>SIF</td>\n",
              "      <td>fasttext</td>\n",
              "      <td>0.0010</td>\n",
              "      <td>NaN</td>\n",
              "      <td>0.748385</td>\n",
              "      <td>1.629812e-135</td>\n",
              "    </tr>\n",
              "    <tr>\n",
              "      <th>3</th>\n",
              "      <td>SIF</td>\n",
              "      <td>fasttext</td>\n",
              "      <td>0.0001</td>\n",
              "      <td>NaN</td>\n",
              "      <td>0.737164</td>\n",
              "      <td>1.816586e-129</td>\n",
              "    </tr>\n",
              "    <tr>\n",
              "      <th>4</th>\n",
              "      <td>SIF</td>\n",
              "      <td>skipgram</td>\n",
              "      <td>0.1000</td>\n",
              "      <td>NaN</td>\n",
              "      <td>0.762348</td>\n",
              "      <td>1.669354e-143</td>\n",
              "    </tr>\n",
              "    <tr>\n",
              "      <th>5</th>\n",
              "      <td>SIF</td>\n",
              "      <td>skipgram</td>\n",
              "      <td>0.0100</td>\n",
              "      <td>NaN</td>\n",
              "      <td>0.762406</td>\n",
              "      <td>1.543852e-143</td>\n",
              "    </tr>\n",
              "    <tr>\n",
              "      <th>6</th>\n",
              "      <td>SIF</td>\n",
              "      <td>skipgram</td>\n",
              "      <td>0.0010</td>\n",
              "      <td>NaN</td>\n",
              "      <td>0.757371</td>\n",
              "      <td>1.356280e-140</td>\n",
              "    </tr>\n",
              "    <tr>\n",
              "      <th>7</th>\n",
              "      <td>SIF</td>\n",
              "      <td>skipgram</td>\n",
              "      <td>0.0001</td>\n",
              "      <td>NaN</td>\n",
              "      <td>0.740220</td>\n",
              "      <td>4.401062e-131</td>\n",
              "    </tr>\n",
              "    <tr>\n",
              "      <th>8</th>\n",
              "      <td>SIF</td>\n",
              "      <td>ELMo</td>\n",
              "      <td>0.1000</td>\n",
              "      <td>NaN</td>\n",
              "      <td>0.736663</td>\n",
              "      <td>3.329499e-129</td>\n",
              "    </tr>\n",
              "    <tr>\n",
              "      <th>9</th>\n",
              "      <td>SIF</td>\n",
              "      <td>ELMo</td>\n",
              "      <td>0.0100</td>\n",
              "      <td>NaN</td>\n",
              "      <td>0.739083</td>\n",
              "      <td>1.766553e-130</td>\n",
              "    </tr>\n",
              "    <tr>\n",
              "      <th>10</th>\n",
              "      <td>SIF</td>\n",
              "      <td>ELMo</td>\n",
              "      <td>0.0010</td>\n",
              "      <td>NaN</td>\n",
              "      <td>0.743325</td>\n",
              "      <td>9.510188e-133</td>\n",
              "    </tr>\n",
              "    <tr>\n",
              "      <th>11</th>\n",
              "      <td>SIF</td>\n",
              "      <td>ELMo</td>\n",
              "      <td>0.0001</td>\n",
              "      <td>NaN</td>\n",
              "      <td>0.736762</td>\n",
              "      <td>2.952221e-129</td>\n",
              "    </tr>\n",
              "    <tr>\n",
              "      <th>12</th>\n",
              "      <td>CPM</td>\n",
              "      <td>fasttext+skipgram</td>\n",
              "      <td>NaN</td>\n",
              "      <td>1, inf, -inf</td>\n",
              "      <td>0.661207</td>\n",
              "      <td>1.896094e-95</td>\n",
              "    </tr>\n",
              "    <tr>\n",
              "      <th>13</th>\n",
              "      <td>CPM</td>\n",
              "      <td>fasttext+skipgram</td>\n",
              "      <td>NaN</td>\n",
              "      <td>1, 2, inf, -inf</td>\n",
              "      <td>0.665719</td>\n",
              "      <td>3.447837e-97</td>\n",
              "    </tr>\n",
              "    <tr>\n",
              "      <th>14</th>\n",
              "      <td>CPM</td>\n",
              "      <td>fasttext+skipgram</td>\n",
              "      <td>NaN</td>\n",
              "      <td>1, 2, 3, inf, -inf</td>\n",
              "      <td>0.668972</td>\n",
              "      <td>1.836667e-98</td>\n",
              "    </tr>\n",
              "    <tr>\n",
              "      <th>15</th>\n",
              "      <td>CPM</td>\n",
              "      <td>fasttext+skipgram</td>\n",
              "      <td>NaN</td>\n",
              "      <td>0.5, 1, 2, 3, inf, -inf</td>\n",
              "      <td>0.673378</td>\n",
              "      <td>3.257330e-100</td>\n",
              "    </tr>\n",
              "    <tr>\n",
              "      <th>16</th>\n",
              "      <td>CPM</td>\n",
              "      <td>fasttext+ELMo</td>\n",
              "      <td>NaN</td>\n",
              "      <td>1, inf, -inf</td>\n",
              "      <td>0.667405</td>\n",
              "      <td>7.581796e-98</td>\n",
              "    </tr>\n",
              "    <tr>\n",
              "      <th>17</th>\n",
              "      <td>CPM</td>\n",
              "      <td>fasttext+ELMo</td>\n",
              "      <td>NaN</td>\n",
              "      <td>1, 2, inf, -inf</td>\n",
              "      <td>0.671302</td>\n",
              "      <td>2.197286e-99</td>\n",
              "    </tr>\n",
              "    <tr>\n",
              "      <th>18</th>\n",
              "      <td>CPM</td>\n",
              "      <td>fasttext+ELMo</td>\n",
              "      <td>NaN</td>\n",
              "      <td>1, 2, 3, inf, -inf</td>\n",
              "      <td>0.674145</td>\n",
              "      <td>1.604114e-100</td>\n",
              "    </tr>\n",
              "    <tr>\n",
              "      <th>19</th>\n",
              "      <td>CPM</td>\n",
              "      <td>fasttext+ELMo</td>\n",
              "      <td>NaN</td>\n",
              "      <td>0.5, 1, 2, 3, inf, -inf</td>\n",
              "      <td>0.677663</td>\n",
              "      <td>6.035801e-102</td>\n",
              "    </tr>\n",
              "    <tr>\n",
              "      <th>20</th>\n",
              "      <td>CPM</td>\n",
              "      <td>skipgram+ELMo</td>\n",
              "      <td>NaN</td>\n",
              "      <td>1, inf, -inf</td>\n",
              "      <td>0.729254</td>\n",
              "      <td>2.183016e-125</td>\n",
              "    </tr>\n",
              "    <tr>\n",
              "      <th>21</th>\n",
              "      <td>CPM</td>\n",
              "      <td>skipgram+ELMo</td>\n",
              "      <td>NaN</td>\n",
              "      <td>1, 2, inf, -inf</td>\n",
              "      <td>0.729293</td>\n",
              "      <td>2.085082e-125</td>\n",
              "    </tr>\n",
              "    <tr>\n",
              "      <th>22</th>\n",
              "      <td>CPM</td>\n",
              "      <td>skipgram+ELMo</td>\n",
              "      <td>NaN</td>\n",
              "      <td>1, 2, 3, inf, -inf</td>\n",
              "      <td>0.730366</td>\n",
              "      <td>5.944836e-126</td>\n",
              "    </tr>\n",
              "    <tr>\n",
              "      <th>23</th>\n",
              "      <td>CPM</td>\n",
              "      <td>skipgram+ELMo</td>\n",
              "      <td>NaN</td>\n",
              "      <td>0.5, 1, 2, 3, inf, -inf</td>\n",
              "      <td>0.729749</td>\n",
              "      <td>1.223939e-125</td>\n",
              "    </tr>\n",
              "  </tbody>\n",
              "</table>\n",
              "</div>"
            ],
            "text/plain": [
              "   method            vectors  ...  pearson_r      pearson_p\n",
              "0     SIF           fasttext  ...   0.715789  9.138716e-119\n",
              "1     SIF           fasttext  ...   0.730136  7.780063e-126\n",
              "2     SIF           fasttext  ...   0.748385  1.629812e-135\n",
              "3     SIF           fasttext  ...   0.737164  1.816586e-129\n",
              "4     SIF           skipgram  ...   0.762348  1.669354e-143\n",
              "5     SIF           skipgram  ...   0.762406  1.543852e-143\n",
              "6     SIF           skipgram  ...   0.757371  1.356280e-140\n",
              "7     SIF           skipgram  ...   0.740220  4.401062e-131\n",
              "8     SIF               ELMo  ...   0.736663  3.329499e-129\n",
              "9     SIF               ELMo  ...   0.739083  1.766553e-130\n",
              "10    SIF               ELMo  ...   0.743325  9.510188e-133\n",
              "11    SIF               ELMo  ...   0.736762  2.952221e-129\n",
              "12    CPM  fasttext+skipgram  ...   0.661207   1.896094e-95\n",
              "13    CPM  fasttext+skipgram  ...   0.665719   3.447837e-97\n",
              "14    CPM  fasttext+skipgram  ...   0.668972   1.836667e-98\n",
              "15    CPM  fasttext+skipgram  ...   0.673378  3.257330e-100\n",
              "16    CPM      fasttext+ELMo  ...   0.667405   7.581796e-98\n",
              "17    CPM      fasttext+ELMo  ...   0.671302   2.197286e-99\n",
              "18    CPM      fasttext+ELMo  ...   0.674145  1.604114e-100\n",
              "19    CPM      fasttext+ELMo  ...   0.677663  6.035801e-102\n",
              "20    CPM      skipgram+ELMo  ...   0.729254  2.183016e-125\n",
              "21    CPM      skipgram+ELMo  ...   0.729293  2.085082e-125\n",
              "22    CPM      skipgram+ELMo  ...   0.730366  5.944836e-126\n",
              "23    CPM      skipgram+ELMo  ...   0.729749  1.223939e-125\n",
              "\n",
              "[24 rows x 6 columns]"
            ]
          },
          "metadata": {
            "tags": []
          },
          "execution_count": 192
        }
      ]
    },
    {
      "cell_type": "markdown",
      "metadata": {
        "id": "6IdtmW2vvBoW"
      },
      "source": [
        "#### 4.2.4 Fasttext + SkipGram + ELMo"
      ]
    },
    {
      "cell_type": "code",
      "metadata": {
        "id": "jNutFQZcvKtX"
      },
      "source": [
        "fse_pairs = []\r\n",
        "for i in range(elmo_vecs_STS_flat.shape[0]):\r\n",
        "  if i % 2 == 0:\r\n",
        "    fse_pairs.append(([elmo_vecs_STS_flat[i], skipgram_vecs_STS_flat[i], fasttext_vecs_STS_flat[i]], [elmo_vecs_STS_flat[i+1], skipgram_vecs_STS_flat[i+1], fasttext_vecs_STS_flat[i+1]]))"
      ],
      "execution_count": 193,
      "outputs": []
    },
    {
      "cell_type": "code",
      "metadata": {
        "colab": {
          "base_uri": "https://localhost:8080/",
          "height": 824
        },
        "id": "Rc7N87AmvcIz",
        "outputId": "bd6a187f-029e-4016-f334-04777b7fb825"
      },
      "source": [
        "# 1 +- inf\r\n",
        "fse_pred = [cos_sim(CPM_from_vectors(representation_pair[0], [1, 'inf', '-inf']), CPM_from_vectors(representation_pair[1], [1, 'inf', '-inf'])) for  representation_pair in fse_pairs]\r\n",
        "r, p = pearsonr(fse_pred, STS_target)\r\n",
        "res_df = res_df.append(pd.DataFrame([['CPM', 'fasttext+skipgram+ELMo', np.nan, '1, inf, -inf', r, p]], columns=res_columns), ignore_index=True)\r\n",
        "res_df"
      ],
      "execution_count": 194,
      "outputs": [
        {
          "output_type": "execute_result",
          "data": {
            "text/html": [
              "<div>\n",
              "<style scoped>\n",
              "    .dataframe tbody tr th:only-of-type {\n",
              "        vertical-align: middle;\n",
              "    }\n",
              "\n",
              "    .dataframe tbody tr th {\n",
              "        vertical-align: top;\n",
              "    }\n",
              "\n",
              "    .dataframe thead th {\n",
              "        text-align: right;\n",
              "    }\n",
              "</style>\n",
              "<table border=\"1\" class=\"dataframe\">\n",
              "  <thead>\n",
              "    <tr style=\"text-align: right;\">\n",
              "      <th></th>\n",
              "      <th>method</th>\n",
              "      <th>vectors</th>\n",
              "      <th>SIF_a</th>\n",
              "      <th>CPM_powers</th>\n",
              "      <th>pearson_r</th>\n",
              "      <th>pearson_p</th>\n",
              "    </tr>\n",
              "  </thead>\n",
              "  <tbody>\n",
              "    <tr>\n",
              "      <th>0</th>\n",
              "      <td>SIF</td>\n",
              "      <td>fasttext</td>\n",
              "      <td>0.1000</td>\n",
              "      <td>NaN</td>\n",
              "      <td>0.715789</td>\n",
              "      <td>9.138716e-119</td>\n",
              "    </tr>\n",
              "    <tr>\n",
              "      <th>1</th>\n",
              "      <td>SIF</td>\n",
              "      <td>fasttext</td>\n",
              "      <td>0.0100</td>\n",
              "      <td>NaN</td>\n",
              "      <td>0.730136</td>\n",
              "      <td>7.780063e-126</td>\n",
              "    </tr>\n",
              "    <tr>\n",
              "      <th>2</th>\n",
              "      <td>SIF</td>\n",
              "      <td>fasttext</td>\n",
              "      <td>0.0010</td>\n",
              "      <td>NaN</td>\n",
              "      <td>0.748385</td>\n",
              "      <td>1.629812e-135</td>\n",
              "    </tr>\n",
              "    <tr>\n",
              "      <th>3</th>\n",
              "      <td>SIF</td>\n",
              "      <td>fasttext</td>\n",
              "      <td>0.0001</td>\n",
              "      <td>NaN</td>\n",
              "      <td>0.737164</td>\n",
              "      <td>1.816586e-129</td>\n",
              "    </tr>\n",
              "    <tr>\n",
              "      <th>4</th>\n",
              "      <td>SIF</td>\n",
              "      <td>skipgram</td>\n",
              "      <td>0.1000</td>\n",
              "      <td>NaN</td>\n",
              "      <td>0.762348</td>\n",
              "      <td>1.669354e-143</td>\n",
              "    </tr>\n",
              "    <tr>\n",
              "      <th>5</th>\n",
              "      <td>SIF</td>\n",
              "      <td>skipgram</td>\n",
              "      <td>0.0100</td>\n",
              "      <td>NaN</td>\n",
              "      <td>0.762406</td>\n",
              "      <td>1.543852e-143</td>\n",
              "    </tr>\n",
              "    <tr>\n",
              "      <th>6</th>\n",
              "      <td>SIF</td>\n",
              "      <td>skipgram</td>\n",
              "      <td>0.0010</td>\n",
              "      <td>NaN</td>\n",
              "      <td>0.757371</td>\n",
              "      <td>1.356280e-140</td>\n",
              "    </tr>\n",
              "    <tr>\n",
              "      <th>7</th>\n",
              "      <td>SIF</td>\n",
              "      <td>skipgram</td>\n",
              "      <td>0.0001</td>\n",
              "      <td>NaN</td>\n",
              "      <td>0.740220</td>\n",
              "      <td>4.401062e-131</td>\n",
              "    </tr>\n",
              "    <tr>\n",
              "      <th>8</th>\n",
              "      <td>SIF</td>\n",
              "      <td>ELMo</td>\n",
              "      <td>0.1000</td>\n",
              "      <td>NaN</td>\n",
              "      <td>0.736663</td>\n",
              "      <td>3.329499e-129</td>\n",
              "    </tr>\n",
              "    <tr>\n",
              "      <th>9</th>\n",
              "      <td>SIF</td>\n",
              "      <td>ELMo</td>\n",
              "      <td>0.0100</td>\n",
              "      <td>NaN</td>\n",
              "      <td>0.739083</td>\n",
              "      <td>1.766553e-130</td>\n",
              "    </tr>\n",
              "    <tr>\n",
              "      <th>10</th>\n",
              "      <td>SIF</td>\n",
              "      <td>ELMo</td>\n",
              "      <td>0.0010</td>\n",
              "      <td>NaN</td>\n",
              "      <td>0.743325</td>\n",
              "      <td>9.510188e-133</td>\n",
              "    </tr>\n",
              "    <tr>\n",
              "      <th>11</th>\n",
              "      <td>SIF</td>\n",
              "      <td>ELMo</td>\n",
              "      <td>0.0001</td>\n",
              "      <td>NaN</td>\n",
              "      <td>0.736762</td>\n",
              "      <td>2.952221e-129</td>\n",
              "    </tr>\n",
              "    <tr>\n",
              "      <th>12</th>\n",
              "      <td>CPM</td>\n",
              "      <td>fasttext+skipgram</td>\n",
              "      <td>NaN</td>\n",
              "      <td>1, inf, -inf</td>\n",
              "      <td>0.661207</td>\n",
              "      <td>1.896094e-95</td>\n",
              "    </tr>\n",
              "    <tr>\n",
              "      <th>13</th>\n",
              "      <td>CPM</td>\n",
              "      <td>fasttext+skipgram</td>\n",
              "      <td>NaN</td>\n",
              "      <td>1, 2, inf, -inf</td>\n",
              "      <td>0.665719</td>\n",
              "      <td>3.447837e-97</td>\n",
              "    </tr>\n",
              "    <tr>\n",
              "      <th>14</th>\n",
              "      <td>CPM</td>\n",
              "      <td>fasttext+skipgram</td>\n",
              "      <td>NaN</td>\n",
              "      <td>1, 2, 3, inf, -inf</td>\n",
              "      <td>0.668972</td>\n",
              "      <td>1.836667e-98</td>\n",
              "    </tr>\n",
              "    <tr>\n",
              "      <th>15</th>\n",
              "      <td>CPM</td>\n",
              "      <td>fasttext+skipgram</td>\n",
              "      <td>NaN</td>\n",
              "      <td>0.5, 1, 2, 3, inf, -inf</td>\n",
              "      <td>0.673378</td>\n",
              "      <td>3.257330e-100</td>\n",
              "    </tr>\n",
              "    <tr>\n",
              "      <th>16</th>\n",
              "      <td>CPM</td>\n",
              "      <td>fasttext+ELMo</td>\n",
              "      <td>NaN</td>\n",
              "      <td>1, inf, -inf</td>\n",
              "      <td>0.667405</td>\n",
              "      <td>7.581796e-98</td>\n",
              "    </tr>\n",
              "    <tr>\n",
              "      <th>17</th>\n",
              "      <td>CPM</td>\n",
              "      <td>fasttext+ELMo</td>\n",
              "      <td>NaN</td>\n",
              "      <td>1, 2, inf, -inf</td>\n",
              "      <td>0.671302</td>\n",
              "      <td>2.197286e-99</td>\n",
              "    </tr>\n",
              "    <tr>\n",
              "      <th>18</th>\n",
              "      <td>CPM</td>\n",
              "      <td>fasttext+ELMo</td>\n",
              "      <td>NaN</td>\n",
              "      <td>1, 2, 3, inf, -inf</td>\n",
              "      <td>0.674145</td>\n",
              "      <td>1.604114e-100</td>\n",
              "    </tr>\n",
              "    <tr>\n",
              "      <th>19</th>\n",
              "      <td>CPM</td>\n",
              "      <td>fasttext+ELMo</td>\n",
              "      <td>NaN</td>\n",
              "      <td>0.5, 1, 2, 3, inf, -inf</td>\n",
              "      <td>0.677663</td>\n",
              "      <td>6.035801e-102</td>\n",
              "    </tr>\n",
              "    <tr>\n",
              "      <th>20</th>\n",
              "      <td>CPM</td>\n",
              "      <td>skipgram+ELMo</td>\n",
              "      <td>NaN</td>\n",
              "      <td>1, inf, -inf</td>\n",
              "      <td>0.729254</td>\n",
              "      <td>2.183016e-125</td>\n",
              "    </tr>\n",
              "    <tr>\n",
              "      <th>21</th>\n",
              "      <td>CPM</td>\n",
              "      <td>skipgram+ELMo</td>\n",
              "      <td>NaN</td>\n",
              "      <td>1, 2, inf, -inf</td>\n",
              "      <td>0.729293</td>\n",
              "      <td>2.085082e-125</td>\n",
              "    </tr>\n",
              "    <tr>\n",
              "      <th>22</th>\n",
              "      <td>CPM</td>\n",
              "      <td>skipgram+ELMo</td>\n",
              "      <td>NaN</td>\n",
              "      <td>1, 2, 3, inf, -inf</td>\n",
              "      <td>0.730366</td>\n",
              "      <td>5.944836e-126</td>\n",
              "    </tr>\n",
              "    <tr>\n",
              "      <th>23</th>\n",
              "      <td>CPM</td>\n",
              "      <td>skipgram+ELMo</td>\n",
              "      <td>NaN</td>\n",
              "      <td>0.5, 1, 2, 3, inf, -inf</td>\n",
              "      <td>0.729749</td>\n",
              "      <td>1.223939e-125</td>\n",
              "    </tr>\n",
              "    <tr>\n",
              "      <th>24</th>\n",
              "      <td>CPM</td>\n",
              "      <td>fasttext+skipgram+ELMo</td>\n",
              "      <td>NaN</td>\n",
              "      <td>1, inf, -inf</td>\n",
              "      <td>0.668476</td>\n",
              "      <td>2.878547e-98</td>\n",
              "    </tr>\n",
              "  </tbody>\n",
              "</table>\n",
              "</div>"
            ],
            "text/plain": [
              "   method                 vectors  ...  pearson_r      pearson_p\n",
              "0     SIF                fasttext  ...   0.715789  9.138716e-119\n",
              "1     SIF                fasttext  ...   0.730136  7.780063e-126\n",
              "2     SIF                fasttext  ...   0.748385  1.629812e-135\n",
              "3     SIF                fasttext  ...   0.737164  1.816586e-129\n",
              "4     SIF                skipgram  ...   0.762348  1.669354e-143\n",
              "5     SIF                skipgram  ...   0.762406  1.543852e-143\n",
              "6     SIF                skipgram  ...   0.757371  1.356280e-140\n",
              "7     SIF                skipgram  ...   0.740220  4.401062e-131\n",
              "8     SIF                    ELMo  ...   0.736663  3.329499e-129\n",
              "9     SIF                    ELMo  ...   0.739083  1.766553e-130\n",
              "10    SIF                    ELMo  ...   0.743325  9.510188e-133\n",
              "11    SIF                    ELMo  ...   0.736762  2.952221e-129\n",
              "12    CPM       fasttext+skipgram  ...   0.661207   1.896094e-95\n",
              "13    CPM       fasttext+skipgram  ...   0.665719   3.447837e-97\n",
              "14    CPM       fasttext+skipgram  ...   0.668972   1.836667e-98\n",
              "15    CPM       fasttext+skipgram  ...   0.673378  3.257330e-100\n",
              "16    CPM           fasttext+ELMo  ...   0.667405   7.581796e-98\n",
              "17    CPM           fasttext+ELMo  ...   0.671302   2.197286e-99\n",
              "18    CPM           fasttext+ELMo  ...   0.674145  1.604114e-100\n",
              "19    CPM           fasttext+ELMo  ...   0.677663  6.035801e-102\n",
              "20    CPM           skipgram+ELMo  ...   0.729254  2.183016e-125\n",
              "21    CPM           skipgram+ELMo  ...   0.729293  2.085082e-125\n",
              "22    CPM           skipgram+ELMo  ...   0.730366  5.944836e-126\n",
              "23    CPM           skipgram+ELMo  ...   0.729749  1.223939e-125\n",
              "24    CPM  fasttext+skipgram+ELMo  ...   0.668476   2.878547e-98\n",
              "\n",
              "[25 rows x 6 columns]"
            ]
          },
          "metadata": {
            "tags": []
          },
          "execution_count": 194
        }
      ]
    },
    {
      "cell_type": "code",
      "metadata": {
        "colab": {
          "base_uri": "https://localhost:8080/",
          "height": 855
        },
        "id": "q-2OdniTvj9z",
        "outputId": "dee2f2d3-45ba-4333-94fc-9c6813f91ddc"
      },
      "source": [
        "# 1 2 +- inf\r\n",
        "fse_pred = [cos_sim(CPM_from_vectors(representation_pair[0], [1, 2, 'inf', '-inf']), CPM_from_vectors(representation_pair[1], [1, 2, 'inf', '-inf'])) for  representation_pair in fse_pairs]\r\n",
        "r, p = pearsonr(fse_pred, STS_target)\r\n",
        "res_df = res_df.append(pd.DataFrame([['CPM', 'fasttext+skipgram+ELMo', np.nan, '1, 2, inf, -inf', r, p]], columns=res_columns), ignore_index=True)\r\n",
        "res_df"
      ],
      "execution_count": 196,
      "outputs": [
        {
          "output_type": "execute_result",
          "data": {
            "text/html": [
              "<div>\n",
              "<style scoped>\n",
              "    .dataframe tbody tr th:only-of-type {\n",
              "        vertical-align: middle;\n",
              "    }\n",
              "\n",
              "    .dataframe tbody tr th {\n",
              "        vertical-align: top;\n",
              "    }\n",
              "\n",
              "    .dataframe thead th {\n",
              "        text-align: right;\n",
              "    }\n",
              "</style>\n",
              "<table border=\"1\" class=\"dataframe\">\n",
              "  <thead>\n",
              "    <tr style=\"text-align: right;\">\n",
              "      <th></th>\n",
              "      <th>method</th>\n",
              "      <th>vectors</th>\n",
              "      <th>SIF_a</th>\n",
              "      <th>CPM_powers</th>\n",
              "      <th>pearson_r</th>\n",
              "      <th>pearson_p</th>\n",
              "    </tr>\n",
              "  </thead>\n",
              "  <tbody>\n",
              "    <tr>\n",
              "      <th>0</th>\n",
              "      <td>SIF</td>\n",
              "      <td>fasttext</td>\n",
              "      <td>0.1000</td>\n",
              "      <td>NaN</td>\n",
              "      <td>0.715789</td>\n",
              "      <td>9.138716e-119</td>\n",
              "    </tr>\n",
              "    <tr>\n",
              "      <th>1</th>\n",
              "      <td>SIF</td>\n",
              "      <td>fasttext</td>\n",
              "      <td>0.0100</td>\n",
              "      <td>NaN</td>\n",
              "      <td>0.730136</td>\n",
              "      <td>7.780063e-126</td>\n",
              "    </tr>\n",
              "    <tr>\n",
              "      <th>2</th>\n",
              "      <td>SIF</td>\n",
              "      <td>fasttext</td>\n",
              "      <td>0.0010</td>\n",
              "      <td>NaN</td>\n",
              "      <td>0.748385</td>\n",
              "      <td>1.629812e-135</td>\n",
              "    </tr>\n",
              "    <tr>\n",
              "      <th>3</th>\n",
              "      <td>SIF</td>\n",
              "      <td>fasttext</td>\n",
              "      <td>0.0001</td>\n",
              "      <td>NaN</td>\n",
              "      <td>0.737164</td>\n",
              "      <td>1.816586e-129</td>\n",
              "    </tr>\n",
              "    <tr>\n",
              "      <th>4</th>\n",
              "      <td>SIF</td>\n",
              "      <td>skipgram</td>\n",
              "      <td>0.1000</td>\n",
              "      <td>NaN</td>\n",
              "      <td>0.762348</td>\n",
              "      <td>1.669354e-143</td>\n",
              "    </tr>\n",
              "    <tr>\n",
              "      <th>5</th>\n",
              "      <td>SIF</td>\n",
              "      <td>skipgram</td>\n",
              "      <td>0.0100</td>\n",
              "      <td>NaN</td>\n",
              "      <td>0.762406</td>\n",
              "      <td>1.543852e-143</td>\n",
              "    </tr>\n",
              "    <tr>\n",
              "      <th>6</th>\n",
              "      <td>SIF</td>\n",
              "      <td>skipgram</td>\n",
              "      <td>0.0010</td>\n",
              "      <td>NaN</td>\n",
              "      <td>0.757371</td>\n",
              "      <td>1.356280e-140</td>\n",
              "    </tr>\n",
              "    <tr>\n",
              "      <th>7</th>\n",
              "      <td>SIF</td>\n",
              "      <td>skipgram</td>\n",
              "      <td>0.0001</td>\n",
              "      <td>NaN</td>\n",
              "      <td>0.740220</td>\n",
              "      <td>4.401062e-131</td>\n",
              "    </tr>\n",
              "    <tr>\n",
              "      <th>8</th>\n",
              "      <td>SIF</td>\n",
              "      <td>ELMo</td>\n",
              "      <td>0.1000</td>\n",
              "      <td>NaN</td>\n",
              "      <td>0.736663</td>\n",
              "      <td>3.329499e-129</td>\n",
              "    </tr>\n",
              "    <tr>\n",
              "      <th>9</th>\n",
              "      <td>SIF</td>\n",
              "      <td>ELMo</td>\n",
              "      <td>0.0100</td>\n",
              "      <td>NaN</td>\n",
              "      <td>0.739083</td>\n",
              "      <td>1.766553e-130</td>\n",
              "    </tr>\n",
              "    <tr>\n",
              "      <th>10</th>\n",
              "      <td>SIF</td>\n",
              "      <td>ELMo</td>\n",
              "      <td>0.0010</td>\n",
              "      <td>NaN</td>\n",
              "      <td>0.743325</td>\n",
              "      <td>9.510188e-133</td>\n",
              "    </tr>\n",
              "    <tr>\n",
              "      <th>11</th>\n",
              "      <td>SIF</td>\n",
              "      <td>ELMo</td>\n",
              "      <td>0.0001</td>\n",
              "      <td>NaN</td>\n",
              "      <td>0.736762</td>\n",
              "      <td>2.952221e-129</td>\n",
              "    </tr>\n",
              "    <tr>\n",
              "      <th>12</th>\n",
              "      <td>CPM</td>\n",
              "      <td>fasttext+skipgram</td>\n",
              "      <td>NaN</td>\n",
              "      <td>1, inf, -inf</td>\n",
              "      <td>0.661207</td>\n",
              "      <td>1.896094e-95</td>\n",
              "    </tr>\n",
              "    <tr>\n",
              "      <th>13</th>\n",
              "      <td>CPM</td>\n",
              "      <td>fasttext+skipgram</td>\n",
              "      <td>NaN</td>\n",
              "      <td>1, 2, inf, -inf</td>\n",
              "      <td>0.665719</td>\n",
              "      <td>3.447837e-97</td>\n",
              "    </tr>\n",
              "    <tr>\n",
              "      <th>14</th>\n",
              "      <td>CPM</td>\n",
              "      <td>fasttext+skipgram</td>\n",
              "      <td>NaN</td>\n",
              "      <td>1, 2, 3, inf, -inf</td>\n",
              "      <td>0.668972</td>\n",
              "      <td>1.836667e-98</td>\n",
              "    </tr>\n",
              "    <tr>\n",
              "      <th>15</th>\n",
              "      <td>CPM</td>\n",
              "      <td>fasttext+skipgram</td>\n",
              "      <td>NaN</td>\n",
              "      <td>0.5, 1, 2, 3, inf, -inf</td>\n",
              "      <td>0.673378</td>\n",
              "      <td>3.257330e-100</td>\n",
              "    </tr>\n",
              "    <tr>\n",
              "      <th>16</th>\n",
              "      <td>CPM</td>\n",
              "      <td>fasttext+ELMo</td>\n",
              "      <td>NaN</td>\n",
              "      <td>1, inf, -inf</td>\n",
              "      <td>0.667405</td>\n",
              "      <td>7.581796e-98</td>\n",
              "    </tr>\n",
              "    <tr>\n",
              "      <th>17</th>\n",
              "      <td>CPM</td>\n",
              "      <td>fasttext+ELMo</td>\n",
              "      <td>NaN</td>\n",
              "      <td>1, 2, inf, -inf</td>\n",
              "      <td>0.671302</td>\n",
              "      <td>2.197286e-99</td>\n",
              "    </tr>\n",
              "    <tr>\n",
              "      <th>18</th>\n",
              "      <td>CPM</td>\n",
              "      <td>fasttext+ELMo</td>\n",
              "      <td>NaN</td>\n",
              "      <td>1, 2, 3, inf, -inf</td>\n",
              "      <td>0.674145</td>\n",
              "      <td>1.604114e-100</td>\n",
              "    </tr>\n",
              "    <tr>\n",
              "      <th>19</th>\n",
              "      <td>CPM</td>\n",
              "      <td>fasttext+ELMo</td>\n",
              "      <td>NaN</td>\n",
              "      <td>0.5, 1, 2, 3, inf, -inf</td>\n",
              "      <td>0.677663</td>\n",
              "      <td>6.035801e-102</td>\n",
              "    </tr>\n",
              "    <tr>\n",
              "      <th>20</th>\n",
              "      <td>CPM</td>\n",
              "      <td>skipgram+ELMo</td>\n",
              "      <td>NaN</td>\n",
              "      <td>1, inf, -inf</td>\n",
              "      <td>0.729254</td>\n",
              "      <td>2.183016e-125</td>\n",
              "    </tr>\n",
              "    <tr>\n",
              "      <th>21</th>\n",
              "      <td>CPM</td>\n",
              "      <td>skipgram+ELMo</td>\n",
              "      <td>NaN</td>\n",
              "      <td>1, 2, inf, -inf</td>\n",
              "      <td>0.729293</td>\n",
              "      <td>2.085082e-125</td>\n",
              "    </tr>\n",
              "    <tr>\n",
              "      <th>22</th>\n",
              "      <td>CPM</td>\n",
              "      <td>skipgram+ELMo</td>\n",
              "      <td>NaN</td>\n",
              "      <td>1, 2, 3, inf, -inf</td>\n",
              "      <td>0.730366</td>\n",
              "      <td>5.944836e-126</td>\n",
              "    </tr>\n",
              "    <tr>\n",
              "      <th>23</th>\n",
              "      <td>CPM</td>\n",
              "      <td>skipgram+ELMo</td>\n",
              "      <td>NaN</td>\n",
              "      <td>0.5, 1, 2, 3, inf, -inf</td>\n",
              "      <td>0.729749</td>\n",
              "      <td>1.223939e-125</td>\n",
              "    </tr>\n",
              "    <tr>\n",
              "      <th>24</th>\n",
              "      <td>CPM</td>\n",
              "      <td>fasttext+skipgram+ELMo</td>\n",
              "      <td>NaN</td>\n",
              "      <td>1, inf, -inf</td>\n",
              "      <td>0.668476</td>\n",
              "      <td>2.878547e-98</td>\n",
              "    </tr>\n",
              "    <tr>\n",
              "      <th>25</th>\n",
              "      <td>CPM</td>\n",
              "      <td>fasttext+skipgram+ELMo</td>\n",
              "      <td>NaN</td>\n",
              "      <td>1, 2, inf, -inf</td>\n",
              "      <td>0.672416</td>\n",
              "      <td>7.904279e-100</td>\n",
              "    </tr>\n",
              "  </tbody>\n",
              "</table>\n",
              "</div>"
            ],
            "text/plain": [
              "   method                 vectors  ...  pearson_r      pearson_p\n",
              "0     SIF                fasttext  ...   0.715789  9.138716e-119\n",
              "1     SIF                fasttext  ...   0.730136  7.780063e-126\n",
              "2     SIF                fasttext  ...   0.748385  1.629812e-135\n",
              "3     SIF                fasttext  ...   0.737164  1.816586e-129\n",
              "4     SIF                skipgram  ...   0.762348  1.669354e-143\n",
              "5     SIF                skipgram  ...   0.762406  1.543852e-143\n",
              "6     SIF                skipgram  ...   0.757371  1.356280e-140\n",
              "7     SIF                skipgram  ...   0.740220  4.401062e-131\n",
              "8     SIF                    ELMo  ...   0.736663  3.329499e-129\n",
              "9     SIF                    ELMo  ...   0.739083  1.766553e-130\n",
              "10    SIF                    ELMo  ...   0.743325  9.510188e-133\n",
              "11    SIF                    ELMo  ...   0.736762  2.952221e-129\n",
              "12    CPM       fasttext+skipgram  ...   0.661207   1.896094e-95\n",
              "13    CPM       fasttext+skipgram  ...   0.665719   3.447837e-97\n",
              "14    CPM       fasttext+skipgram  ...   0.668972   1.836667e-98\n",
              "15    CPM       fasttext+skipgram  ...   0.673378  3.257330e-100\n",
              "16    CPM           fasttext+ELMo  ...   0.667405   7.581796e-98\n",
              "17    CPM           fasttext+ELMo  ...   0.671302   2.197286e-99\n",
              "18    CPM           fasttext+ELMo  ...   0.674145  1.604114e-100\n",
              "19    CPM           fasttext+ELMo  ...   0.677663  6.035801e-102\n",
              "20    CPM           skipgram+ELMo  ...   0.729254  2.183016e-125\n",
              "21    CPM           skipgram+ELMo  ...   0.729293  2.085082e-125\n",
              "22    CPM           skipgram+ELMo  ...   0.730366  5.944836e-126\n",
              "23    CPM           skipgram+ELMo  ...   0.729749  1.223939e-125\n",
              "24    CPM  fasttext+skipgram+ELMo  ...   0.668476   2.878547e-98\n",
              "25    CPM  fasttext+skipgram+ELMo  ...   0.672416  7.904279e-100\n",
              "\n",
              "[26 rows x 6 columns]"
            ]
          },
          "metadata": {
            "tags": []
          },
          "execution_count": 196
        }
      ]
    },
    {
      "cell_type": "code",
      "metadata": {
        "colab": {
          "base_uri": "https://localhost:8080/",
          "height": 886
        },
        "id": "F58ZiK6_vqJF",
        "outputId": "2b1ffd56-3ac1-4f8a-a66d-ff937958c3ac"
      },
      "source": [
        "# 1 2 3 +- inf\r\n",
        "fse_pred = [cos_sim(CPM_from_vectors(representation_pair[0], [1, 2, 3, 'inf', '-inf']), CPM_from_vectors(representation_pair[1], [1, 2, 3, 'inf', '-inf'])) for  representation_pair in fse_pairs]\r\n",
        "r, p = pearsonr(fse_pred, STS_target)\r\n",
        "res_df = res_df.append(pd.DataFrame([['CPM', 'fasttext+skipgram+ELMo', np.nan, '1, 2, 3, inf, -inf', r, p]], columns=res_columns), ignore_index=True)\r\n",
        "res_df"
      ],
      "execution_count": 197,
      "outputs": [
        {
          "output_type": "execute_result",
          "data": {
            "text/html": [
              "<div>\n",
              "<style scoped>\n",
              "    .dataframe tbody tr th:only-of-type {\n",
              "        vertical-align: middle;\n",
              "    }\n",
              "\n",
              "    .dataframe tbody tr th {\n",
              "        vertical-align: top;\n",
              "    }\n",
              "\n",
              "    .dataframe thead th {\n",
              "        text-align: right;\n",
              "    }\n",
              "</style>\n",
              "<table border=\"1\" class=\"dataframe\">\n",
              "  <thead>\n",
              "    <tr style=\"text-align: right;\">\n",
              "      <th></th>\n",
              "      <th>method</th>\n",
              "      <th>vectors</th>\n",
              "      <th>SIF_a</th>\n",
              "      <th>CPM_powers</th>\n",
              "      <th>pearson_r</th>\n",
              "      <th>pearson_p</th>\n",
              "    </tr>\n",
              "  </thead>\n",
              "  <tbody>\n",
              "    <tr>\n",
              "      <th>0</th>\n",
              "      <td>SIF</td>\n",
              "      <td>fasttext</td>\n",
              "      <td>0.1000</td>\n",
              "      <td>NaN</td>\n",
              "      <td>0.715789</td>\n",
              "      <td>9.138716e-119</td>\n",
              "    </tr>\n",
              "    <tr>\n",
              "      <th>1</th>\n",
              "      <td>SIF</td>\n",
              "      <td>fasttext</td>\n",
              "      <td>0.0100</td>\n",
              "      <td>NaN</td>\n",
              "      <td>0.730136</td>\n",
              "      <td>7.780063e-126</td>\n",
              "    </tr>\n",
              "    <tr>\n",
              "      <th>2</th>\n",
              "      <td>SIF</td>\n",
              "      <td>fasttext</td>\n",
              "      <td>0.0010</td>\n",
              "      <td>NaN</td>\n",
              "      <td>0.748385</td>\n",
              "      <td>1.629812e-135</td>\n",
              "    </tr>\n",
              "    <tr>\n",
              "      <th>3</th>\n",
              "      <td>SIF</td>\n",
              "      <td>fasttext</td>\n",
              "      <td>0.0001</td>\n",
              "      <td>NaN</td>\n",
              "      <td>0.737164</td>\n",
              "      <td>1.816586e-129</td>\n",
              "    </tr>\n",
              "    <tr>\n",
              "      <th>4</th>\n",
              "      <td>SIF</td>\n",
              "      <td>skipgram</td>\n",
              "      <td>0.1000</td>\n",
              "      <td>NaN</td>\n",
              "      <td>0.762348</td>\n",
              "      <td>1.669354e-143</td>\n",
              "    </tr>\n",
              "    <tr>\n",
              "      <th>5</th>\n",
              "      <td>SIF</td>\n",
              "      <td>skipgram</td>\n",
              "      <td>0.0100</td>\n",
              "      <td>NaN</td>\n",
              "      <td>0.762406</td>\n",
              "      <td>1.543852e-143</td>\n",
              "    </tr>\n",
              "    <tr>\n",
              "      <th>6</th>\n",
              "      <td>SIF</td>\n",
              "      <td>skipgram</td>\n",
              "      <td>0.0010</td>\n",
              "      <td>NaN</td>\n",
              "      <td>0.757371</td>\n",
              "      <td>1.356280e-140</td>\n",
              "    </tr>\n",
              "    <tr>\n",
              "      <th>7</th>\n",
              "      <td>SIF</td>\n",
              "      <td>skipgram</td>\n",
              "      <td>0.0001</td>\n",
              "      <td>NaN</td>\n",
              "      <td>0.740220</td>\n",
              "      <td>4.401062e-131</td>\n",
              "    </tr>\n",
              "    <tr>\n",
              "      <th>8</th>\n",
              "      <td>SIF</td>\n",
              "      <td>ELMo</td>\n",
              "      <td>0.1000</td>\n",
              "      <td>NaN</td>\n",
              "      <td>0.736663</td>\n",
              "      <td>3.329499e-129</td>\n",
              "    </tr>\n",
              "    <tr>\n",
              "      <th>9</th>\n",
              "      <td>SIF</td>\n",
              "      <td>ELMo</td>\n",
              "      <td>0.0100</td>\n",
              "      <td>NaN</td>\n",
              "      <td>0.739083</td>\n",
              "      <td>1.766553e-130</td>\n",
              "    </tr>\n",
              "    <tr>\n",
              "      <th>10</th>\n",
              "      <td>SIF</td>\n",
              "      <td>ELMo</td>\n",
              "      <td>0.0010</td>\n",
              "      <td>NaN</td>\n",
              "      <td>0.743325</td>\n",
              "      <td>9.510188e-133</td>\n",
              "    </tr>\n",
              "    <tr>\n",
              "      <th>11</th>\n",
              "      <td>SIF</td>\n",
              "      <td>ELMo</td>\n",
              "      <td>0.0001</td>\n",
              "      <td>NaN</td>\n",
              "      <td>0.736762</td>\n",
              "      <td>2.952221e-129</td>\n",
              "    </tr>\n",
              "    <tr>\n",
              "      <th>12</th>\n",
              "      <td>CPM</td>\n",
              "      <td>fasttext+skipgram</td>\n",
              "      <td>NaN</td>\n",
              "      <td>1, inf, -inf</td>\n",
              "      <td>0.661207</td>\n",
              "      <td>1.896094e-95</td>\n",
              "    </tr>\n",
              "    <tr>\n",
              "      <th>13</th>\n",
              "      <td>CPM</td>\n",
              "      <td>fasttext+skipgram</td>\n",
              "      <td>NaN</td>\n",
              "      <td>1, 2, inf, -inf</td>\n",
              "      <td>0.665719</td>\n",
              "      <td>3.447837e-97</td>\n",
              "    </tr>\n",
              "    <tr>\n",
              "      <th>14</th>\n",
              "      <td>CPM</td>\n",
              "      <td>fasttext+skipgram</td>\n",
              "      <td>NaN</td>\n",
              "      <td>1, 2, 3, inf, -inf</td>\n",
              "      <td>0.668972</td>\n",
              "      <td>1.836667e-98</td>\n",
              "    </tr>\n",
              "    <tr>\n",
              "      <th>15</th>\n",
              "      <td>CPM</td>\n",
              "      <td>fasttext+skipgram</td>\n",
              "      <td>NaN</td>\n",
              "      <td>0.5, 1, 2, 3, inf, -inf</td>\n",
              "      <td>0.673378</td>\n",
              "      <td>3.257330e-100</td>\n",
              "    </tr>\n",
              "    <tr>\n",
              "      <th>16</th>\n",
              "      <td>CPM</td>\n",
              "      <td>fasttext+ELMo</td>\n",
              "      <td>NaN</td>\n",
              "      <td>1, inf, -inf</td>\n",
              "      <td>0.667405</td>\n",
              "      <td>7.581796e-98</td>\n",
              "    </tr>\n",
              "    <tr>\n",
              "      <th>17</th>\n",
              "      <td>CPM</td>\n",
              "      <td>fasttext+ELMo</td>\n",
              "      <td>NaN</td>\n",
              "      <td>1, 2, inf, -inf</td>\n",
              "      <td>0.671302</td>\n",
              "      <td>2.197286e-99</td>\n",
              "    </tr>\n",
              "    <tr>\n",
              "      <th>18</th>\n",
              "      <td>CPM</td>\n",
              "      <td>fasttext+ELMo</td>\n",
              "      <td>NaN</td>\n",
              "      <td>1, 2, 3, inf, -inf</td>\n",
              "      <td>0.674145</td>\n",
              "      <td>1.604114e-100</td>\n",
              "    </tr>\n",
              "    <tr>\n",
              "      <th>19</th>\n",
              "      <td>CPM</td>\n",
              "      <td>fasttext+ELMo</td>\n",
              "      <td>NaN</td>\n",
              "      <td>0.5, 1, 2, 3, inf, -inf</td>\n",
              "      <td>0.677663</td>\n",
              "      <td>6.035801e-102</td>\n",
              "    </tr>\n",
              "    <tr>\n",
              "      <th>20</th>\n",
              "      <td>CPM</td>\n",
              "      <td>skipgram+ELMo</td>\n",
              "      <td>NaN</td>\n",
              "      <td>1, inf, -inf</td>\n",
              "      <td>0.729254</td>\n",
              "      <td>2.183016e-125</td>\n",
              "    </tr>\n",
              "    <tr>\n",
              "      <th>21</th>\n",
              "      <td>CPM</td>\n",
              "      <td>skipgram+ELMo</td>\n",
              "      <td>NaN</td>\n",
              "      <td>1, 2, inf, -inf</td>\n",
              "      <td>0.729293</td>\n",
              "      <td>2.085082e-125</td>\n",
              "    </tr>\n",
              "    <tr>\n",
              "      <th>22</th>\n",
              "      <td>CPM</td>\n",
              "      <td>skipgram+ELMo</td>\n",
              "      <td>NaN</td>\n",
              "      <td>1, 2, 3, inf, -inf</td>\n",
              "      <td>0.730366</td>\n",
              "      <td>5.944836e-126</td>\n",
              "    </tr>\n",
              "    <tr>\n",
              "      <th>23</th>\n",
              "      <td>CPM</td>\n",
              "      <td>skipgram+ELMo</td>\n",
              "      <td>NaN</td>\n",
              "      <td>0.5, 1, 2, 3, inf, -inf</td>\n",
              "      <td>0.729749</td>\n",
              "      <td>1.223939e-125</td>\n",
              "    </tr>\n",
              "    <tr>\n",
              "      <th>24</th>\n",
              "      <td>CPM</td>\n",
              "      <td>fasttext+skipgram+ELMo</td>\n",
              "      <td>NaN</td>\n",
              "      <td>1, inf, -inf</td>\n",
              "      <td>0.668476</td>\n",
              "      <td>2.878547e-98</td>\n",
              "    </tr>\n",
              "    <tr>\n",
              "      <th>25</th>\n",
              "      <td>CPM</td>\n",
              "      <td>fasttext+skipgram+ELMo</td>\n",
              "      <td>NaN</td>\n",
              "      <td>1, 2, inf, -inf</td>\n",
              "      <td>0.672416</td>\n",
              "      <td>7.904279e-100</td>\n",
              "    </tr>\n",
              "    <tr>\n",
              "      <th>26</th>\n",
              "      <td>CPM</td>\n",
              "      <td>fasttext+skipgram+ELMo</td>\n",
              "      <td>NaN</td>\n",
              "      <td>1, 2, 3, inf, -inf</td>\n",
              "      <td>0.675292</td>\n",
              "      <td>5.531272e-101</td>\n",
              "    </tr>\n",
              "  </tbody>\n",
              "</table>\n",
              "</div>"
            ],
            "text/plain": [
              "   method                 vectors  ...  pearson_r      pearson_p\n",
              "0     SIF                fasttext  ...   0.715789  9.138716e-119\n",
              "1     SIF                fasttext  ...   0.730136  7.780063e-126\n",
              "2     SIF                fasttext  ...   0.748385  1.629812e-135\n",
              "3     SIF                fasttext  ...   0.737164  1.816586e-129\n",
              "4     SIF                skipgram  ...   0.762348  1.669354e-143\n",
              "5     SIF                skipgram  ...   0.762406  1.543852e-143\n",
              "6     SIF                skipgram  ...   0.757371  1.356280e-140\n",
              "7     SIF                skipgram  ...   0.740220  4.401062e-131\n",
              "8     SIF                    ELMo  ...   0.736663  3.329499e-129\n",
              "9     SIF                    ELMo  ...   0.739083  1.766553e-130\n",
              "10    SIF                    ELMo  ...   0.743325  9.510188e-133\n",
              "11    SIF                    ELMo  ...   0.736762  2.952221e-129\n",
              "12    CPM       fasttext+skipgram  ...   0.661207   1.896094e-95\n",
              "13    CPM       fasttext+skipgram  ...   0.665719   3.447837e-97\n",
              "14    CPM       fasttext+skipgram  ...   0.668972   1.836667e-98\n",
              "15    CPM       fasttext+skipgram  ...   0.673378  3.257330e-100\n",
              "16    CPM           fasttext+ELMo  ...   0.667405   7.581796e-98\n",
              "17    CPM           fasttext+ELMo  ...   0.671302   2.197286e-99\n",
              "18    CPM           fasttext+ELMo  ...   0.674145  1.604114e-100\n",
              "19    CPM           fasttext+ELMo  ...   0.677663  6.035801e-102\n",
              "20    CPM           skipgram+ELMo  ...   0.729254  2.183016e-125\n",
              "21    CPM           skipgram+ELMo  ...   0.729293  2.085082e-125\n",
              "22    CPM           skipgram+ELMo  ...   0.730366  5.944836e-126\n",
              "23    CPM           skipgram+ELMo  ...   0.729749  1.223939e-125\n",
              "24    CPM  fasttext+skipgram+ELMo  ...   0.668476   2.878547e-98\n",
              "25    CPM  fasttext+skipgram+ELMo  ...   0.672416  7.904279e-100\n",
              "26    CPM  fasttext+skipgram+ELMo  ...   0.675292  5.531272e-101\n",
              "\n",
              "[27 rows x 6 columns]"
            ]
          },
          "metadata": {
            "tags": []
          },
          "execution_count": 197
        }
      ]
    },
    {
      "cell_type": "code",
      "metadata": {
        "colab": {
          "base_uri": "https://localhost:8080/",
          "height": 917
        },
        "id": "lPW1llQVv0PQ",
        "outputId": "8a4c6dd8-2356-4c6c-955b-780e2bb6e69e"
      },
      "source": [
        "# 0.5 1 2 3 +- inf\r\n",
        "fse_pred = [cos_sim(CPM_from_vectors(representation_pair[0], [0.5, 1, 2, 3, 'inf', '-inf']), CPM_from_vectors(representation_pair[1], [0.5, 1, 2, 3, 'inf', '-inf'])) for  representation_pair in fse_pairs]\r\n",
        "r, p = pearsonr(fse_pred, STS_target)\r\n",
        "res_df = res_df.append(pd.DataFrame([['CPM', 'fasttext+skipgram+ELMo', np.nan, '0.5, 1, 2, 3, inf, -inf', r, p]], columns=res_columns), ignore_index=True)\r\n",
        "res_df"
      ],
      "execution_count": 198,
      "outputs": [
        {
          "output_type": "execute_result",
          "data": {
            "text/html": [
              "<div>\n",
              "<style scoped>\n",
              "    .dataframe tbody tr th:only-of-type {\n",
              "        vertical-align: middle;\n",
              "    }\n",
              "\n",
              "    .dataframe tbody tr th {\n",
              "        vertical-align: top;\n",
              "    }\n",
              "\n",
              "    .dataframe thead th {\n",
              "        text-align: right;\n",
              "    }\n",
              "</style>\n",
              "<table border=\"1\" class=\"dataframe\">\n",
              "  <thead>\n",
              "    <tr style=\"text-align: right;\">\n",
              "      <th></th>\n",
              "      <th>method</th>\n",
              "      <th>vectors</th>\n",
              "      <th>SIF_a</th>\n",
              "      <th>CPM_powers</th>\n",
              "      <th>pearson_r</th>\n",
              "      <th>pearson_p</th>\n",
              "    </tr>\n",
              "  </thead>\n",
              "  <tbody>\n",
              "    <tr>\n",
              "      <th>0</th>\n",
              "      <td>SIF</td>\n",
              "      <td>fasttext</td>\n",
              "      <td>0.1000</td>\n",
              "      <td>NaN</td>\n",
              "      <td>0.715789</td>\n",
              "      <td>9.138716e-119</td>\n",
              "    </tr>\n",
              "    <tr>\n",
              "      <th>1</th>\n",
              "      <td>SIF</td>\n",
              "      <td>fasttext</td>\n",
              "      <td>0.0100</td>\n",
              "      <td>NaN</td>\n",
              "      <td>0.730136</td>\n",
              "      <td>7.780063e-126</td>\n",
              "    </tr>\n",
              "    <tr>\n",
              "      <th>2</th>\n",
              "      <td>SIF</td>\n",
              "      <td>fasttext</td>\n",
              "      <td>0.0010</td>\n",
              "      <td>NaN</td>\n",
              "      <td>0.748385</td>\n",
              "      <td>1.629812e-135</td>\n",
              "    </tr>\n",
              "    <tr>\n",
              "      <th>3</th>\n",
              "      <td>SIF</td>\n",
              "      <td>fasttext</td>\n",
              "      <td>0.0001</td>\n",
              "      <td>NaN</td>\n",
              "      <td>0.737164</td>\n",
              "      <td>1.816586e-129</td>\n",
              "    </tr>\n",
              "    <tr>\n",
              "      <th>4</th>\n",
              "      <td>SIF</td>\n",
              "      <td>skipgram</td>\n",
              "      <td>0.1000</td>\n",
              "      <td>NaN</td>\n",
              "      <td>0.762348</td>\n",
              "      <td>1.669354e-143</td>\n",
              "    </tr>\n",
              "    <tr>\n",
              "      <th>5</th>\n",
              "      <td>SIF</td>\n",
              "      <td>skipgram</td>\n",
              "      <td>0.0100</td>\n",
              "      <td>NaN</td>\n",
              "      <td>0.762406</td>\n",
              "      <td>1.543852e-143</td>\n",
              "    </tr>\n",
              "    <tr>\n",
              "      <th>6</th>\n",
              "      <td>SIF</td>\n",
              "      <td>skipgram</td>\n",
              "      <td>0.0010</td>\n",
              "      <td>NaN</td>\n",
              "      <td>0.757371</td>\n",
              "      <td>1.356280e-140</td>\n",
              "    </tr>\n",
              "    <tr>\n",
              "      <th>7</th>\n",
              "      <td>SIF</td>\n",
              "      <td>skipgram</td>\n",
              "      <td>0.0001</td>\n",
              "      <td>NaN</td>\n",
              "      <td>0.740220</td>\n",
              "      <td>4.401062e-131</td>\n",
              "    </tr>\n",
              "    <tr>\n",
              "      <th>8</th>\n",
              "      <td>SIF</td>\n",
              "      <td>ELMo</td>\n",
              "      <td>0.1000</td>\n",
              "      <td>NaN</td>\n",
              "      <td>0.736663</td>\n",
              "      <td>3.329499e-129</td>\n",
              "    </tr>\n",
              "    <tr>\n",
              "      <th>9</th>\n",
              "      <td>SIF</td>\n",
              "      <td>ELMo</td>\n",
              "      <td>0.0100</td>\n",
              "      <td>NaN</td>\n",
              "      <td>0.739083</td>\n",
              "      <td>1.766553e-130</td>\n",
              "    </tr>\n",
              "    <tr>\n",
              "      <th>10</th>\n",
              "      <td>SIF</td>\n",
              "      <td>ELMo</td>\n",
              "      <td>0.0010</td>\n",
              "      <td>NaN</td>\n",
              "      <td>0.743325</td>\n",
              "      <td>9.510188e-133</td>\n",
              "    </tr>\n",
              "    <tr>\n",
              "      <th>11</th>\n",
              "      <td>SIF</td>\n",
              "      <td>ELMo</td>\n",
              "      <td>0.0001</td>\n",
              "      <td>NaN</td>\n",
              "      <td>0.736762</td>\n",
              "      <td>2.952221e-129</td>\n",
              "    </tr>\n",
              "    <tr>\n",
              "      <th>12</th>\n",
              "      <td>CPM</td>\n",
              "      <td>fasttext+skipgram</td>\n",
              "      <td>NaN</td>\n",
              "      <td>1, inf, -inf</td>\n",
              "      <td>0.661207</td>\n",
              "      <td>1.896094e-95</td>\n",
              "    </tr>\n",
              "    <tr>\n",
              "      <th>13</th>\n",
              "      <td>CPM</td>\n",
              "      <td>fasttext+skipgram</td>\n",
              "      <td>NaN</td>\n",
              "      <td>1, 2, inf, -inf</td>\n",
              "      <td>0.665719</td>\n",
              "      <td>3.447837e-97</td>\n",
              "    </tr>\n",
              "    <tr>\n",
              "      <th>14</th>\n",
              "      <td>CPM</td>\n",
              "      <td>fasttext+skipgram</td>\n",
              "      <td>NaN</td>\n",
              "      <td>1, 2, 3, inf, -inf</td>\n",
              "      <td>0.668972</td>\n",
              "      <td>1.836667e-98</td>\n",
              "    </tr>\n",
              "    <tr>\n",
              "      <th>15</th>\n",
              "      <td>CPM</td>\n",
              "      <td>fasttext+skipgram</td>\n",
              "      <td>NaN</td>\n",
              "      <td>0.5, 1, 2, 3, inf, -inf</td>\n",
              "      <td>0.673378</td>\n",
              "      <td>3.257330e-100</td>\n",
              "    </tr>\n",
              "    <tr>\n",
              "      <th>16</th>\n",
              "      <td>CPM</td>\n",
              "      <td>fasttext+ELMo</td>\n",
              "      <td>NaN</td>\n",
              "      <td>1, inf, -inf</td>\n",
              "      <td>0.667405</td>\n",
              "      <td>7.581796e-98</td>\n",
              "    </tr>\n",
              "    <tr>\n",
              "      <th>17</th>\n",
              "      <td>CPM</td>\n",
              "      <td>fasttext+ELMo</td>\n",
              "      <td>NaN</td>\n",
              "      <td>1, 2, inf, -inf</td>\n",
              "      <td>0.671302</td>\n",
              "      <td>2.197286e-99</td>\n",
              "    </tr>\n",
              "    <tr>\n",
              "      <th>18</th>\n",
              "      <td>CPM</td>\n",
              "      <td>fasttext+ELMo</td>\n",
              "      <td>NaN</td>\n",
              "      <td>1, 2, 3, inf, -inf</td>\n",
              "      <td>0.674145</td>\n",
              "      <td>1.604114e-100</td>\n",
              "    </tr>\n",
              "    <tr>\n",
              "      <th>19</th>\n",
              "      <td>CPM</td>\n",
              "      <td>fasttext+ELMo</td>\n",
              "      <td>NaN</td>\n",
              "      <td>0.5, 1, 2, 3, inf, -inf</td>\n",
              "      <td>0.677663</td>\n",
              "      <td>6.035801e-102</td>\n",
              "    </tr>\n",
              "    <tr>\n",
              "      <th>20</th>\n",
              "      <td>CPM</td>\n",
              "      <td>skipgram+ELMo</td>\n",
              "      <td>NaN</td>\n",
              "      <td>1, inf, -inf</td>\n",
              "      <td>0.729254</td>\n",
              "      <td>2.183016e-125</td>\n",
              "    </tr>\n",
              "    <tr>\n",
              "      <th>21</th>\n",
              "      <td>CPM</td>\n",
              "      <td>skipgram+ELMo</td>\n",
              "      <td>NaN</td>\n",
              "      <td>1, 2, inf, -inf</td>\n",
              "      <td>0.729293</td>\n",
              "      <td>2.085082e-125</td>\n",
              "    </tr>\n",
              "    <tr>\n",
              "      <th>22</th>\n",
              "      <td>CPM</td>\n",
              "      <td>skipgram+ELMo</td>\n",
              "      <td>NaN</td>\n",
              "      <td>1, 2, 3, inf, -inf</td>\n",
              "      <td>0.730366</td>\n",
              "      <td>5.944836e-126</td>\n",
              "    </tr>\n",
              "    <tr>\n",
              "      <th>23</th>\n",
              "      <td>CPM</td>\n",
              "      <td>skipgram+ELMo</td>\n",
              "      <td>NaN</td>\n",
              "      <td>0.5, 1, 2, 3, inf, -inf</td>\n",
              "      <td>0.729749</td>\n",
              "      <td>1.223939e-125</td>\n",
              "    </tr>\n",
              "    <tr>\n",
              "      <th>24</th>\n",
              "      <td>CPM</td>\n",
              "      <td>fasttext+skipgram+ELMo</td>\n",
              "      <td>NaN</td>\n",
              "      <td>1, inf, -inf</td>\n",
              "      <td>0.668476</td>\n",
              "      <td>2.878547e-98</td>\n",
              "    </tr>\n",
              "    <tr>\n",
              "      <th>25</th>\n",
              "      <td>CPM</td>\n",
              "      <td>fasttext+skipgram+ELMo</td>\n",
              "      <td>NaN</td>\n",
              "      <td>1, 2, inf, -inf</td>\n",
              "      <td>0.672416</td>\n",
              "      <td>7.904279e-100</td>\n",
              "    </tr>\n",
              "    <tr>\n",
              "      <th>26</th>\n",
              "      <td>CPM</td>\n",
              "      <td>fasttext+skipgram+ELMo</td>\n",
              "      <td>NaN</td>\n",
              "      <td>1, 2, 3, inf, -inf</td>\n",
              "      <td>0.675292</td>\n",
              "      <td>5.531272e-101</td>\n",
              "    </tr>\n",
              "    <tr>\n",
              "      <th>27</th>\n",
              "      <td>CPM</td>\n",
              "      <td>fasttext+skipgram+ELMo</td>\n",
              "      <td>NaN</td>\n",
              "      <td>0.5, 1, 2, 3, inf, -inf</td>\n",
              "      <td>0.678724</td>\n",
              "      <td>2.225140e-102</td>\n",
              "    </tr>\n",
              "  </tbody>\n",
              "</table>\n",
              "</div>"
            ],
            "text/plain": [
              "   method                 vectors  ...  pearson_r      pearson_p\n",
              "0     SIF                fasttext  ...   0.715789  9.138716e-119\n",
              "1     SIF                fasttext  ...   0.730136  7.780063e-126\n",
              "2     SIF                fasttext  ...   0.748385  1.629812e-135\n",
              "3     SIF                fasttext  ...   0.737164  1.816586e-129\n",
              "4     SIF                skipgram  ...   0.762348  1.669354e-143\n",
              "5     SIF                skipgram  ...   0.762406  1.543852e-143\n",
              "6     SIF                skipgram  ...   0.757371  1.356280e-140\n",
              "7     SIF                skipgram  ...   0.740220  4.401062e-131\n",
              "8     SIF                    ELMo  ...   0.736663  3.329499e-129\n",
              "9     SIF                    ELMo  ...   0.739083  1.766553e-130\n",
              "10    SIF                    ELMo  ...   0.743325  9.510188e-133\n",
              "11    SIF                    ELMo  ...   0.736762  2.952221e-129\n",
              "12    CPM       fasttext+skipgram  ...   0.661207   1.896094e-95\n",
              "13    CPM       fasttext+skipgram  ...   0.665719   3.447837e-97\n",
              "14    CPM       fasttext+skipgram  ...   0.668972   1.836667e-98\n",
              "15    CPM       fasttext+skipgram  ...   0.673378  3.257330e-100\n",
              "16    CPM           fasttext+ELMo  ...   0.667405   7.581796e-98\n",
              "17    CPM           fasttext+ELMo  ...   0.671302   2.197286e-99\n",
              "18    CPM           fasttext+ELMo  ...   0.674145  1.604114e-100\n",
              "19    CPM           fasttext+ELMo  ...   0.677663  6.035801e-102\n",
              "20    CPM           skipgram+ELMo  ...   0.729254  2.183016e-125\n",
              "21    CPM           skipgram+ELMo  ...   0.729293  2.085082e-125\n",
              "22    CPM           skipgram+ELMo  ...   0.730366  5.944836e-126\n",
              "23    CPM           skipgram+ELMo  ...   0.729749  1.223939e-125\n",
              "24    CPM  fasttext+skipgram+ELMo  ...   0.668476   2.878547e-98\n",
              "25    CPM  fasttext+skipgram+ELMo  ...   0.672416  7.904279e-100\n",
              "26    CPM  fasttext+skipgram+ELMo  ...   0.675292  5.531272e-101\n",
              "27    CPM  fasttext+skipgram+ELMo  ...   0.678724  2.225140e-102\n",
              "\n",
              "[28 rows x 6 columns]"
            ]
          },
          "metadata": {
            "tags": []
          },
          "execution_count": 198
        }
      ]
    },
    {
      "cell_type": "markdown",
      "metadata": {
        "id": "Rim7JXq-3i9L"
      },
      "source": [
        "## 4.3 Results"
      ]
    },
    {
      "cell_type": "code",
      "metadata": {
        "colab": {
          "base_uri": "https://localhost:8080/",
          "height": 628
        },
        "id": "oISIeSJW3utw",
        "outputId": "600dd790-0511-458e-ccf0-36f8f6572c4e"
      },
      "source": [
        "res_df.sort_values(['pearson_r'], ascending=False).style.background_gradient(axis=0, cmap='Reds')"
      ],
      "execution_count": 220,
      "outputs": [
        {
          "output_type": "execute_result",
          "data": {
            "text/html": [
              "<style  type=\"text/css\" >\n",
              "#T_1a608f6c_73b0_11eb_86d8_0242ac1c0002row0_col2,#T_1a608f6c_73b0_11eb_86d8_0242ac1c0002row6_col2,#T_1a608f6c_73b0_11eb_86d8_0242ac1c0002row11_col2,#T_1a608f6c_73b0_11eb_86d8_0242ac1c0002row22_col4{\n",
              "            background-color:  #fee5d8;\n",
              "            color:  #000000;\n",
              "        }#T_1a608f6c_73b0_11eb_86d8_0242ac1c0002row0_col4,#T_1a608f6c_73b0_11eb_86d8_0242ac1c0002row1_col2,#T_1a608f6c_73b0_11eb_86d8_0242ac1c0002row1_col4,#T_1a608f6c_73b0_11eb_86d8_0242ac1c0002row9_col2,#T_1a608f6c_73b0_11eb_86d8_0242ac1c0002row15_col2,#T_1a608f6c_73b0_11eb_86d8_0242ac1c0002row27_col5{\n",
              "            background-color:  #67000d;\n",
              "            color:  #f1f1f1;\n",
              "        }#T_1a608f6c_73b0_11eb_86d8_0242ac1c0002row0_col5,#T_1a608f6c_73b0_11eb_86d8_0242ac1c0002row1_col5,#T_1a608f6c_73b0_11eb_86d8_0242ac1c0002row2_col5,#T_1a608f6c_73b0_11eb_86d8_0242ac1c0002row3_col5,#T_1a608f6c_73b0_11eb_86d8_0242ac1c0002row4_col5,#T_1a608f6c_73b0_11eb_86d8_0242ac1c0002row5_col2,#T_1a608f6c_73b0_11eb_86d8_0242ac1c0002row5_col5,#T_1a608f6c_73b0_11eb_86d8_0242ac1c0002row6_col5,#T_1a608f6c_73b0_11eb_86d8_0242ac1c0002row7_col2,#T_1a608f6c_73b0_11eb_86d8_0242ac1c0002row7_col5,#T_1a608f6c_73b0_11eb_86d8_0242ac1c0002row8_col2,#T_1a608f6c_73b0_11eb_86d8_0242ac1c0002row8_col5,#T_1a608f6c_73b0_11eb_86d8_0242ac1c0002row9_col5,#T_1a608f6c_73b0_11eb_86d8_0242ac1c0002row10_col5,#T_1a608f6c_73b0_11eb_86d8_0242ac1c0002row11_col5,#T_1a608f6c_73b0_11eb_86d8_0242ac1c0002row12_col5,#T_1a608f6c_73b0_11eb_86d8_0242ac1c0002row13_col5,#T_1a608f6c_73b0_11eb_86d8_0242ac1c0002row14_col5,#T_1a608f6c_73b0_11eb_86d8_0242ac1c0002row15_col5,#T_1a608f6c_73b0_11eb_86d8_0242ac1c0002row16_col5,#T_1a608f6c_73b0_11eb_86d8_0242ac1c0002row17_col5,#T_1a608f6c_73b0_11eb_86d8_0242ac1c0002row18_col5,#T_1a608f6c_73b0_11eb_86d8_0242ac1c0002row19_col5,#T_1a608f6c_73b0_11eb_86d8_0242ac1c0002row20_col5,#T_1a608f6c_73b0_11eb_86d8_0242ac1c0002row21_col5,#T_1a608f6c_73b0_11eb_86d8_0242ac1c0002row22_col5,#T_1a608f6c_73b0_11eb_86d8_0242ac1c0002row23_col5,#T_1a608f6c_73b0_11eb_86d8_0242ac1c0002row24_col5,#T_1a608f6c_73b0_11eb_86d8_0242ac1c0002row27_col4{\n",
              "            background-color:  #fff5f0;\n",
              "            color:  #000000;\n",
              "        }#T_1a608f6c_73b0_11eb_86d8_0242ac1c0002row2_col2,#T_1a608f6c_73b0_11eb_86d8_0242ac1c0002row3_col2,#T_1a608f6c_73b0_11eb_86d8_0242ac1c0002row4_col2{\n",
              "            background-color:  #fff4ee;\n",
              "            color:  #000000;\n",
              "        }#T_1a608f6c_73b0_11eb_86d8_0242ac1c0002row2_col4{\n",
              "            background-color:  #7e0610;\n",
              "            color:  #f1f1f1;\n",
              "        }#T_1a608f6c_73b0_11eb_86d8_0242ac1c0002row3_col4{\n",
              "            background-color:  #a91016;\n",
              "            color:  #f1f1f1;\n",
              "        }#T_1a608f6c_73b0_11eb_86d8_0242ac1c0002row4_col4{\n",
              "            background-color:  #b81419;\n",
              "            color:  #f1f1f1;\n",
              "        }#T_1a608f6c_73b0_11eb_86d8_0242ac1c0002row5_col4{\n",
              "            background-color:  #c2161b;\n",
              "            color:  #f1f1f1;\n",
              "        }#T_1a608f6c_73b0_11eb_86d8_0242ac1c0002row6_col4{\n",
              "            background-color:  #c4161c;\n",
              "            color:  #f1f1f1;\n",
              "        }#T_1a608f6c_73b0_11eb_86d8_0242ac1c0002row7_col4{\n",
              "            background-color:  #ca181d;\n",
              "            color:  #f1f1f1;\n",
              "        }#T_1a608f6c_73b0_11eb_86d8_0242ac1c0002row8_col4{\n",
              "            background-color:  #cb181d;\n",
              "            color:  #f1f1f1;\n",
              "        }#T_1a608f6c_73b0_11eb_86d8_0242ac1c0002row9_col4{\n",
              "            background-color:  #cc191e;\n",
              "            color:  #f1f1f1;\n",
              "        }#T_1a608f6c_73b0_11eb_86d8_0242ac1c0002row10_col2,#T_1a608f6c_73b0_11eb_86d8_0242ac1c0002row12_col2,#T_1a608f6c_73b0_11eb_86d8_0242ac1c0002row13_col2,#T_1a608f6c_73b0_11eb_86d8_0242ac1c0002row14_col2,#T_1a608f6c_73b0_11eb_86d8_0242ac1c0002row16_col2,#T_1a608f6c_73b0_11eb_86d8_0242ac1c0002row17_col2,#T_1a608f6c_73b0_11eb_86d8_0242ac1c0002row18_col2,#T_1a608f6c_73b0_11eb_86d8_0242ac1c0002row19_col2,#T_1a608f6c_73b0_11eb_86d8_0242ac1c0002row20_col2,#T_1a608f6c_73b0_11eb_86d8_0242ac1c0002row21_col2,#T_1a608f6c_73b0_11eb_86d8_0242ac1c0002row22_col2,#T_1a608f6c_73b0_11eb_86d8_0242ac1c0002row23_col2,#T_1a608f6c_73b0_11eb_86d8_0242ac1c0002row24_col2,#T_1a608f6c_73b0_11eb_86d8_0242ac1c0002row25_col2,#T_1a608f6c_73b0_11eb_86d8_0242ac1c0002row26_col2,#T_1a608f6c_73b0_11eb_86d8_0242ac1c0002row27_col2{\n",
              "            background-color:  #000000;\n",
              "            color:  #f1f1f1;\n",
              "        }#T_1a608f6c_73b0_11eb_86d8_0242ac1c0002row10_col4,#T_1a608f6c_73b0_11eb_86d8_0242ac1c0002row11_col4{\n",
              "            background-color:  #de2b25;\n",
              "            color:  #f1f1f1;\n",
              "        }#T_1a608f6c_73b0_11eb_86d8_0242ac1c0002row12_col4{\n",
              "            background-color:  #e02c26;\n",
              "            color:  #f1f1f1;\n",
              "        }#T_1a608f6c_73b0_11eb_86d8_0242ac1c0002row13_col4,#T_1a608f6c_73b0_11eb_86d8_0242ac1c0002row14_col4{\n",
              "            background-color:  #e12d26;\n",
              "            color:  #f1f1f1;\n",
              "        }#T_1a608f6c_73b0_11eb_86d8_0242ac1c0002row15_col4{\n",
              "            background-color:  #f75b40;\n",
              "            color:  #000000;\n",
              "        }#T_1a608f6c_73b0_11eb_86d8_0242ac1c0002row16_col4{\n",
              "            background-color:  #fdd2bf;\n",
              "            color:  #000000;\n",
              "        }#T_1a608f6c_73b0_11eb_86d8_0242ac1c0002row17_col4{\n",
              "            background-color:  #fdd5c4;\n",
              "            color:  #000000;\n",
              "        }#T_1a608f6c_73b0_11eb_86d8_0242ac1c0002row18_col4{\n",
              "            background-color:  #fedccd;\n",
              "            color:  #000000;\n",
              "        }#T_1a608f6c_73b0_11eb_86d8_0242ac1c0002row19_col4{\n",
              "            background-color:  #fee0d2;\n",
              "            color:  #000000;\n",
              "        }#T_1a608f6c_73b0_11eb_86d8_0242ac1c0002row20_col4{\n",
              "            background-color:  #fee1d4;\n",
              "            color:  #000000;\n",
              "        }#T_1a608f6c_73b0_11eb_86d8_0242ac1c0002row21_col4{\n",
              "            background-color:  #fee3d6;\n",
              "            color:  #000000;\n",
              "        }#T_1a608f6c_73b0_11eb_86d8_0242ac1c0002row23_col4{\n",
              "            background-color:  #fee8de;\n",
              "            color:  #000000;\n",
              "        }#T_1a608f6c_73b0_11eb_86d8_0242ac1c0002row24_col4{\n",
              "            background-color:  #fee9df;\n",
              "            color:  #000000;\n",
              "        }#T_1a608f6c_73b0_11eb_86d8_0242ac1c0002row25_col4{\n",
              "            background-color:  #ffebe2;\n",
              "            color:  #000000;\n",
              "        }#T_1a608f6c_73b0_11eb_86d8_0242ac1c0002row25_col5{\n",
              "            background-color:  #fff4ef;\n",
              "            color:  #000000;\n",
              "        }#T_1a608f6c_73b0_11eb_86d8_0242ac1c0002row26_col4{\n",
              "            background-color:  #ffeee6;\n",
              "            color:  #000000;\n",
              "        }#T_1a608f6c_73b0_11eb_86d8_0242ac1c0002row26_col5{\n",
              "            background-color:  #fff2ec;\n",
              "            color:  #000000;\n",
              "        }</style><table id=\"T_1a608f6c_73b0_11eb_86d8_0242ac1c0002\" ><thead>    <tr>        <th class=\"blank level0\" ></th>        <th class=\"col_heading level0 col0\" >method</th>        <th class=\"col_heading level0 col1\" >vectors</th>        <th class=\"col_heading level0 col2\" >SIF_a</th>        <th class=\"col_heading level0 col3\" >CPM_powers</th>        <th class=\"col_heading level0 col4\" >pearson_r</th>        <th class=\"col_heading level0 col5\" >pearson_p</th>        <th class=\"col_heading level0 col6\" >sig</th>    </tr></thead><tbody>\n",
              "                <tr>\n",
              "                        <th id=\"T_1a608f6c_73b0_11eb_86d8_0242ac1c0002level0_row0\" class=\"row_heading level0 row0\" >5</th>\n",
              "                        <td id=\"T_1a608f6c_73b0_11eb_86d8_0242ac1c0002row0_col0\" class=\"data row0 col0\" >SIF</td>\n",
              "                        <td id=\"T_1a608f6c_73b0_11eb_86d8_0242ac1c0002row0_col1\" class=\"data row0 col1\" >skipgram</td>\n",
              "                        <td id=\"T_1a608f6c_73b0_11eb_86d8_0242ac1c0002row0_col2\" class=\"data row0 col2\" >0.010000</td>\n",
              "                        <td id=\"T_1a608f6c_73b0_11eb_86d8_0242ac1c0002row0_col3\" class=\"data row0 col3\" >nan</td>\n",
              "                        <td id=\"T_1a608f6c_73b0_11eb_86d8_0242ac1c0002row0_col4\" class=\"data row0 col4\" >0.762406</td>\n",
              "                        <td id=\"T_1a608f6c_73b0_11eb_86d8_0242ac1c0002row0_col5\" class=\"data row0 col5\" >0.000000</td>\n",
              "                        <td id=\"T_1a608f6c_73b0_11eb_86d8_0242ac1c0002row0_col6\" class=\"data row0 col6\" >True</td>\n",
              "            </tr>\n",
              "            <tr>\n",
              "                        <th id=\"T_1a608f6c_73b0_11eb_86d8_0242ac1c0002level0_row1\" class=\"row_heading level0 row1\" >4</th>\n",
              "                        <td id=\"T_1a608f6c_73b0_11eb_86d8_0242ac1c0002row1_col0\" class=\"data row1 col0\" >SIF</td>\n",
              "                        <td id=\"T_1a608f6c_73b0_11eb_86d8_0242ac1c0002row1_col1\" class=\"data row1 col1\" >skipgram</td>\n",
              "                        <td id=\"T_1a608f6c_73b0_11eb_86d8_0242ac1c0002row1_col2\" class=\"data row1 col2\" >0.100000</td>\n",
              "                        <td id=\"T_1a608f6c_73b0_11eb_86d8_0242ac1c0002row1_col3\" class=\"data row1 col3\" >nan</td>\n",
              "                        <td id=\"T_1a608f6c_73b0_11eb_86d8_0242ac1c0002row1_col4\" class=\"data row1 col4\" >0.762348</td>\n",
              "                        <td id=\"T_1a608f6c_73b0_11eb_86d8_0242ac1c0002row1_col5\" class=\"data row1 col5\" >0.000000</td>\n",
              "                        <td id=\"T_1a608f6c_73b0_11eb_86d8_0242ac1c0002row1_col6\" class=\"data row1 col6\" >True</td>\n",
              "            </tr>\n",
              "            <tr>\n",
              "                        <th id=\"T_1a608f6c_73b0_11eb_86d8_0242ac1c0002level0_row2\" class=\"row_heading level0 row2\" >6</th>\n",
              "                        <td id=\"T_1a608f6c_73b0_11eb_86d8_0242ac1c0002row2_col0\" class=\"data row2 col0\" >SIF</td>\n",
              "                        <td id=\"T_1a608f6c_73b0_11eb_86d8_0242ac1c0002row2_col1\" class=\"data row2 col1\" >skipgram</td>\n",
              "                        <td id=\"T_1a608f6c_73b0_11eb_86d8_0242ac1c0002row2_col2\" class=\"data row2 col2\" >0.001000</td>\n",
              "                        <td id=\"T_1a608f6c_73b0_11eb_86d8_0242ac1c0002row2_col3\" class=\"data row2 col3\" >nan</td>\n",
              "                        <td id=\"T_1a608f6c_73b0_11eb_86d8_0242ac1c0002row2_col4\" class=\"data row2 col4\" >0.757371</td>\n",
              "                        <td id=\"T_1a608f6c_73b0_11eb_86d8_0242ac1c0002row2_col5\" class=\"data row2 col5\" >0.000000</td>\n",
              "                        <td id=\"T_1a608f6c_73b0_11eb_86d8_0242ac1c0002row2_col6\" class=\"data row2 col6\" >True</td>\n",
              "            </tr>\n",
              "            <tr>\n",
              "                        <th id=\"T_1a608f6c_73b0_11eb_86d8_0242ac1c0002level0_row3\" class=\"row_heading level0 row3\" >2</th>\n",
              "                        <td id=\"T_1a608f6c_73b0_11eb_86d8_0242ac1c0002row3_col0\" class=\"data row3 col0\" >SIF</td>\n",
              "                        <td id=\"T_1a608f6c_73b0_11eb_86d8_0242ac1c0002row3_col1\" class=\"data row3 col1\" >fasttext</td>\n",
              "                        <td id=\"T_1a608f6c_73b0_11eb_86d8_0242ac1c0002row3_col2\" class=\"data row3 col2\" >0.001000</td>\n",
              "                        <td id=\"T_1a608f6c_73b0_11eb_86d8_0242ac1c0002row3_col3\" class=\"data row3 col3\" >nan</td>\n",
              "                        <td id=\"T_1a608f6c_73b0_11eb_86d8_0242ac1c0002row3_col4\" class=\"data row3 col4\" >0.748385</td>\n",
              "                        <td id=\"T_1a608f6c_73b0_11eb_86d8_0242ac1c0002row3_col5\" class=\"data row3 col5\" >0.000000</td>\n",
              "                        <td id=\"T_1a608f6c_73b0_11eb_86d8_0242ac1c0002row3_col6\" class=\"data row3 col6\" >True</td>\n",
              "            </tr>\n",
              "            <tr>\n",
              "                        <th id=\"T_1a608f6c_73b0_11eb_86d8_0242ac1c0002level0_row4\" class=\"row_heading level0 row4\" >10</th>\n",
              "                        <td id=\"T_1a608f6c_73b0_11eb_86d8_0242ac1c0002row4_col0\" class=\"data row4 col0\" >SIF</td>\n",
              "                        <td id=\"T_1a608f6c_73b0_11eb_86d8_0242ac1c0002row4_col1\" class=\"data row4 col1\" >ELMo</td>\n",
              "                        <td id=\"T_1a608f6c_73b0_11eb_86d8_0242ac1c0002row4_col2\" class=\"data row4 col2\" >0.001000</td>\n",
              "                        <td id=\"T_1a608f6c_73b0_11eb_86d8_0242ac1c0002row4_col3\" class=\"data row4 col3\" >nan</td>\n",
              "                        <td id=\"T_1a608f6c_73b0_11eb_86d8_0242ac1c0002row4_col4\" class=\"data row4 col4\" >0.743325</td>\n",
              "                        <td id=\"T_1a608f6c_73b0_11eb_86d8_0242ac1c0002row4_col5\" class=\"data row4 col5\" >0.000000</td>\n",
              "                        <td id=\"T_1a608f6c_73b0_11eb_86d8_0242ac1c0002row4_col6\" class=\"data row4 col6\" >True</td>\n",
              "            </tr>\n",
              "            <tr>\n",
              "                        <th id=\"T_1a608f6c_73b0_11eb_86d8_0242ac1c0002level0_row5\" class=\"row_heading level0 row5\" >7</th>\n",
              "                        <td id=\"T_1a608f6c_73b0_11eb_86d8_0242ac1c0002row5_col0\" class=\"data row5 col0\" >SIF</td>\n",
              "                        <td id=\"T_1a608f6c_73b0_11eb_86d8_0242ac1c0002row5_col1\" class=\"data row5 col1\" >skipgram</td>\n",
              "                        <td id=\"T_1a608f6c_73b0_11eb_86d8_0242ac1c0002row5_col2\" class=\"data row5 col2\" >0.000100</td>\n",
              "                        <td id=\"T_1a608f6c_73b0_11eb_86d8_0242ac1c0002row5_col3\" class=\"data row5 col3\" >nan</td>\n",
              "                        <td id=\"T_1a608f6c_73b0_11eb_86d8_0242ac1c0002row5_col4\" class=\"data row5 col4\" >0.740220</td>\n",
              "                        <td id=\"T_1a608f6c_73b0_11eb_86d8_0242ac1c0002row5_col5\" class=\"data row5 col5\" >0.000000</td>\n",
              "                        <td id=\"T_1a608f6c_73b0_11eb_86d8_0242ac1c0002row5_col6\" class=\"data row5 col6\" >True</td>\n",
              "            </tr>\n",
              "            <tr>\n",
              "                        <th id=\"T_1a608f6c_73b0_11eb_86d8_0242ac1c0002level0_row6\" class=\"row_heading level0 row6\" >9</th>\n",
              "                        <td id=\"T_1a608f6c_73b0_11eb_86d8_0242ac1c0002row6_col0\" class=\"data row6 col0\" >SIF</td>\n",
              "                        <td id=\"T_1a608f6c_73b0_11eb_86d8_0242ac1c0002row6_col1\" class=\"data row6 col1\" >ELMo</td>\n",
              "                        <td id=\"T_1a608f6c_73b0_11eb_86d8_0242ac1c0002row6_col2\" class=\"data row6 col2\" >0.010000</td>\n",
              "                        <td id=\"T_1a608f6c_73b0_11eb_86d8_0242ac1c0002row6_col3\" class=\"data row6 col3\" >nan</td>\n",
              "                        <td id=\"T_1a608f6c_73b0_11eb_86d8_0242ac1c0002row6_col4\" class=\"data row6 col4\" >0.739083</td>\n",
              "                        <td id=\"T_1a608f6c_73b0_11eb_86d8_0242ac1c0002row6_col5\" class=\"data row6 col5\" >0.000000</td>\n",
              "                        <td id=\"T_1a608f6c_73b0_11eb_86d8_0242ac1c0002row6_col6\" class=\"data row6 col6\" >True</td>\n",
              "            </tr>\n",
              "            <tr>\n",
              "                        <th id=\"T_1a608f6c_73b0_11eb_86d8_0242ac1c0002level0_row7\" class=\"row_heading level0 row7\" >3</th>\n",
              "                        <td id=\"T_1a608f6c_73b0_11eb_86d8_0242ac1c0002row7_col0\" class=\"data row7 col0\" >SIF</td>\n",
              "                        <td id=\"T_1a608f6c_73b0_11eb_86d8_0242ac1c0002row7_col1\" class=\"data row7 col1\" >fasttext</td>\n",
              "                        <td id=\"T_1a608f6c_73b0_11eb_86d8_0242ac1c0002row7_col2\" class=\"data row7 col2\" >0.000100</td>\n",
              "                        <td id=\"T_1a608f6c_73b0_11eb_86d8_0242ac1c0002row7_col3\" class=\"data row7 col3\" >nan</td>\n",
              "                        <td id=\"T_1a608f6c_73b0_11eb_86d8_0242ac1c0002row7_col4\" class=\"data row7 col4\" >0.737164</td>\n",
              "                        <td id=\"T_1a608f6c_73b0_11eb_86d8_0242ac1c0002row7_col5\" class=\"data row7 col5\" >0.000000</td>\n",
              "                        <td id=\"T_1a608f6c_73b0_11eb_86d8_0242ac1c0002row7_col6\" class=\"data row7 col6\" >True</td>\n",
              "            </tr>\n",
              "            <tr>\n",
              "                        <th id=\"T_1a608f6c_73b0_11eb_86d8_0242ac1c0002level0_row8\" class=\"row_heading level0 row8\" >11</th>\n",
              "                        <td id=\"T_1a608f6c_73b0_11eb_86d8_0242ac1c0002row8_col0\" class=\"data row8 col0\" >SIF</td>\n",
              "                        <td id=\"T_1a608f6c_73b0_11eb_86d8_0242ac1c0002row8_col1\" class=\"data row8 col1\" >ELMo</td>\n",
              "                        <td id=\"T_1a608f6c_73b0_11eb_86d8_0242ac1c0002row8_col2\" class=\"data row8 col2\" >0.000100</td>\n",
              "                        <td id=\"T_1a608f6c_73b0_11eb_86d8_0242ac1c0002row8_col3\" class=\"data row8 col3\" >nan</td>\n",
              "                        <td id=\"T_1a608f6c_73b0_11eb_86d8_0242ac1c0002row8_col4\" class=\"data row8 col4\" >0.736762</td>\n",
              "                        <td id=\"T_1a608f6c_73b0_11eb_86d8_0242ac1c0002row8_col5\" class=\"data row8 col5\" >0.000000</td>\n",
              "                        <td id=\"T_1a608f6c_73b0_11eb_86d8_0242ac1c0002row8_col6\" class=\"data row8 col6\" >True</td>\n",
              "            </tr>\n",
              "            <tr>\n",
              "                        <th id=\"T_1a608f6c_73b0_11eb_86d8_0242ac1c0002level0_row9\" class=\"row_heading level0 row9\" >8</th>\n",
              "                        <td id=\"T_1a608f6c_73b0_11eb_86d8_0242ac1c0002row9_col0\" class=\"data row9 col0\" >SIF</td>\n",
              "                        <td id=\"T_1a608f6c_73b0_11eb_86d8_0242ac1c0002row9_col1\" class=\"data row9 col1\" >ELMo</td>\n",
              "                        <td id=\"T_1a608f6c_73b0_11eb_86d8_0242ac1c0002row9_col2\" class=\"data row9 col2\" >0.100000</td>\n",
              "                        <td id=\"T_1a608f6c_73b0_11eb_86d8_0242ac1c0002row9_col3\" class=\"data row9 col3\" >nan</td>\n",
              "                        <td id=\"T_1a608f6c_73b0_11eb_86d8_0242ac1c0002row9_col4\" class=\"data row9 col4\" >0.736663</td>\n",
              "                        <td id=\"T_1a608f6c_73b0_11eb_86d8_0242ac1c0002row9_col5\" class=\"data row9 col5\" >0.000000</td>\n",
              "                        <td id=\"T_1a608f6c_73b0_11eb_86d8_0242ac1c0002row9_col6\" class=\"data row9 col6\" >True</td>\n",
              "            </tr>\n",
              "            <tr>\n",
              "                        <th id=\"T_1a608f6c_73b0_11eb_86d8_0242ac1c0002level0_row10\" class=\"row_heading level0 row10\" >22</th>\n",
              "                        <td id=\"T_1a608f6c_73b0_11eb_86d8_0242ac1c0002row10_col0\" class=\"data row10 col0\" >CPM</td>\n",
              "                        <td id=\"T_1a608f6c_73b0_11eb_86d8_0242ac1c0002row10_col1\" class=\"data row10 col1\" >skipgram+ELMo</td>\n",
              "                        <td id=\"T_1a608f6c_73b0_11eb_86d8_0242ac1c0002row10_col2\" class=\"data row10 col2\" >nan</td>\n",
              "                        <td id=\"T_1a608f6c_73b0_11eb_86d8_0242ac1c0002row10_col3\" class=\"data row10 col3\" >1, 2, 3, inf, -inf</td>\n",
              "                        <td id=\"T_1a608f6c_73b0_11eb_86d8_0242ac1c0002row10_col4\" class=\"data row10 col4\" >0.730366</td>\n",
              "                        <td id=\"T_1a608f6c_73b0_11eb_86d8_0242ac1c0002row10_col5\" class=\"data row10 col5\" >0.000000</td>\n",
              "                        <td id=\"T_1a608f6c_73b0_11eb_86d8_0242ac1c0002row10_col6\" class=\"data row10 col6\" >True</td>\n",
              "            </tr>\n",
              "            <tr>\n",
              "                        <th id=\"T_1a608f6c_73b0_11eb_86d8_0242ac1c0002level0_row11\" class=\"row_heading level0 row11\" >1</th>\n",
              "                        <td id=\"T_1a608f6c_73b0_11eb_86d8_0242ac1c0002row11_col0\" class=\"data row11 col0\" >SIF</td>\n",
              "                        <td id=\"T_1a608f6c_73b0_11eb_86d8_0242ac1c0002row11_col1\" class=\"data row11 col1\" >fasttext</td>\n",
              "                        <td id=\"T_1a608f6c_73b0_11eb_86d8_0242ac1c0002row11_col2\" class=\"data row11 col2\" >0.010000</td>\n",
              "                        <td id=\"T_1a608f6c_73b0_11eb_86d8_0242ac1c0002row11_col3\" class=\"data row11 col3\" >nan</td>\n",
              "                        <td id=\"T_1a608f6c_73b0_11eb_86d8_0242ac1c0002row11_col4\" class=\"data row11 col4\" >0.730136</td>\n",
              "                        <td id=\"T_1a608f6c_73b0_11eb_86d8_0242ac1c0002row11_col5\" class=\"data row11 col5\" >0.000000</td>\n",
              "                        <td id=\"T_1a608f6c_73b0_11eb_86d8_0242ac1c0002row11_col6\" class=\"data row11 col6\" >True</td>\n",
              "            </tr>\n",
              "            <tr>\n",
              "                        <th id=\"T_1a608f6c_73b0_11eb_86d8_0242ac1c0002level0_row12\" class=\"row_heading level0 row12\" >23</th>\n",
              "                        <td id=\"T_1a608f6c_73b0_11eb_86d8_0242ac1c0002row12_col0\" class=\"data row12 col0\" >CPM</td>\n",
              "                        <td id=\"T_1a608f6c_73b0_11eb_86d8_0242ac1c0002row12_col1\" class=\"data row12 col1\" >skipgram+ELMo</td>\n",
              "                        <td id=\"T_1a608f6c_73b0_11eb_86d8_0242ac1c0002row12_col2\" class=\"data row12 col2\" >nan</td>\n",
              "                        <td id=\"T_1a608f6c_73b0_11eb_86d8_0242ac1c0002row12_col3\" class=\"data row12 col3\" >0.5, 1, 2, 3, inf, -inf</td>\n",
              "                        <td id=\"T_1a608f6c_73b0_11eb_86d8_0242ac1c0002row12_col4\" class=\"data row12 col4\" >0.729749</td>\n",
              "                        <td id=\"T_1a608f6c_73b0_11eb_86d8_0242ac1c0002row12_col5\" class=\"data row12 col5\" >0.000000</td>\n",
              "                        <td id=\"T_1a608f6c_73b0_11eb_86d8_0242ac1c0002row12_col6\" class=\"data row12 col6\" >True</td>\n",
              "            </tr>\n",
              "            <tr>\n",
              "                        <th id=\"T_1a608f6c_73b0_11eb_86d8_0242ac1c0002level0_row13\" class=\"row_heading level0 row13\" >21</th>\n",
              "                        <td id=\"T_1a608f6c_73b0_11eb_86d8_0242ac1c0002row13_col0\" class=\"data row13 col0\" >CPM</td>\n",
              "                        <td id=\"T_1a608f6c_73b0_11eb_86d8_0242ac1c0002row13_col1\" class=\"data row13 col1\" >skipgram+ELMo</td>\n",
              "                        <td id=\"T_1a608f6c_73b0_11eb_86d8_0242ac1c0002row13_col2\" class=\"data row13 col2\" >nan</td>\n",
              "                        <td id=\"T_1a608f6c_73b0_11eb_86d8_0242ac1c0002row13_col3\" class=\"data row13 col3\" >1, 2, inf, -inf</td>\n",
              "                        <td id=\"T_1a608f6c_73b0_11eb_86d8_0242ac1c0002row13_col4\" class=\"data row13 col4\" >0.729293</td>\n",
              "                        <td id=\"T_1a608f6c_73b0_11eb_86d8_0242ac1c0002row13_col5\" class=\"data row13 col5\" >0.000000</td>\n",
              "                        <td id=\"T_1a608f6c_73b0_11eb_86d8_0242ac1c0002row13_col6\" class=\"data row13 col6\" >True</td>\n",
              "            </tr>\n",
              "            <tr>\n",
              "                        <th id=\"T_1a608f6c_73b0_11eb_86d8_0242ac1c0002level0_row14\" class=\"row_heading level0 row14\" >20</th>\n",
              "                        <td id=\"T_1a608f6c_73b0_11eb_86d8_0242ac1c0002row14_col0\" class=\"data row14 col0\" >CPM</td>\n",
              "                        <td id=\"T_1a608f6c_73b0_11eb_86d8_0242ac1c0002row14_col1\" class=\"data row14 col1\" >skipgram+ELMo</td>\n",
              "                        <td id=\"T_1a608f6c_73b0_11eb_86d8_0242ac1c0002row14_col2\" class=\"data row14 col2\" >nan</td>\n",
              "                        <td id=\"T_1a608f6c_73b0_11eb_86d8_0242ac1c0002row14_col3\" class=\"data row14 col3\" >1, inf, -inf</td>\n",
              "                        <td id=\"T_1a608f6c_73b0_11eb_86d8_0242ac1c0002row14_col4\" class=\"data row14 col4\" >0.729254</td>\n",
              "                        <td id=\"T_1a608f6c_73b0_11eb_86d8_0242ac1c0002row14_col5\" class=\"data row14 col5\" >0.000000</td>\n",
              "                        <td id=\"T_1a608f6c_73b0_11eb_86d8_0242ac1c0002row14_col6\" class=\"data row14 col6\" >True</td>\n",
              "            </tr>\n",
              "            <tr>\n",
              "                        <th id=\"T_1a608f6c_73b0_11eb_86d8_0242ac1c0002level0_row15\" class=\"row_heading level0 row15\" >0</th>\n",
              "                        <td id=\"T_1a608f6c_73b0_11eb_86d8_0242ac1c0002row15_col0\" class=\"data row15 col0\" >SIF</td>\n",
              "                        <td id=\"T_1a608f6c_73b0_11eb_86d8_0242ac1c0002row15_col1\" class=\"data row15 col1\" >fasttext</td>\n",
              "                        <td id=\"T_1a608f6c_73b0_11eb_86d8_0242ac1c0002row15_col2\" class=\"data row15 col2\" >0.100000</td>\n",
              "                        <td id=\"T_1a608f6c_73b0_11eb_86d8_0242ac1c0002row15_col3\" class=\"data row15 col3\" >nan</td>\n",
              "                        <td id=\"T_1a608f6c_73b0_11eb_86d8_0242ac1c0002row15_col4\" class=\"data row15 col4\" >0.715789</td>\n",
              "                        <td id=\"T_1a608f6c_73b0_11eb_86d8_0242ac1c0002row15_col5\" class=\"data row15 col5\" >0.000000</td>\n",
              "                        <td id=\"T_1a608f6c_73b0_11eb_86d8_0242ac1c0002row15_col6\" class=\"data row15 col6\" >True</td>\n",
              "            </tr>\n",
              "            <tr>\n",
              "                        <th id=\"T_1a608f6c_73b0_11eb_86d8_0242ac1c0002level0_row16\" class=\"row_heading level0 row16\" >27</th>\n",
              "                        <td id=\"T_1a608f6c_73b0_11eb_86d8_0242ac1c0002row16_col0\" class=\"data row16 col0\" >CPM</td>\n",
              "                        <td id=\"T_1a608f6c_73b0_11eb_86d8_0242ac1c0002row16_col1\" class=\"data row16 col1\" >fasttext+skipgram+ELMo</td>\n",
              "                        <td id=\"T_1a608f6c_73b0_11eb_86d8_0242ac1c0002row16_col2\" class=\"data row16 col2\" >nan</td>\n",
              "                        <td id=\"T_1a608f6c_73b0_11eb_86d8_0242ac1c0002row16_col3\" class=\"data row16 col3\" >0.5, 1, 2, 3, inf, -inf</td>\n",
              "                        <td id=\"T_1a608f6c_73b0_11eb_86d8_0242ac1c0002row16_col4\" class=\"data row16 col4\" >0.678724</td>\n",
              "                        <td id=\"T_1a608f6c_73b0_11eb_86d8_0242ac1c0002row16_col5\" class=\"data row16 col5\" >0.000000</td>\n",
              "                        <td id=\"T_1a608f6c_73b0_11eb_86d8_0242ac1c0002row16_col6\" class=\"data row16 col6\" >True</td>\n",
              "            </tr>\n",
              "            <tr>\n",
              "                        <th id=\"T_1a608f6c_73b0_11eb_86d8_0242ac1c0002level0_row17\" class=\"row_heading level0 row17\" >19</th>\n",
              "                        <td id=\"T_1a608f6c_73b0_11eb_86d8_0242ac1c0002row17_col0\" class=\"data row17 col0\" >CPM</td>\n",
              "                        <td id=\"T_1a608f6c_73b0_11eb_86d8_0242ac1c0002row17_col1\" class=\"data row17 col1\" >fasttext+ELMo</td>\n",
              "                        <td id=\"T_1a608f6c_73b0_11eb_86d8_0242ac1c0002row17_col2\" class=\"data row17 col2\" >nan</td>\n",
              "                        <td id=\"T_1a608f6c_73b0_11eb_86d8_0242ac1c0002row17_col3\" class=\"data row17 col3\" >0.5, 1, 2, 3, inf, -inf</td>\n",
              "                        <td id=\"T_1a608f6c_73b0_11eb_86d8_0242ac1c0002row17_col4\" class=\"data row17 col4\" >0.677663</td>\n",
              "                        <td id=\"T_1a608f6c_73b0_11eb_86d8_0242ac1c0002row17_col5\" class=\"data row17 col5\" >0.000000</td>\n",
              "                        <td id=\"T_1a608f6c_73b0_11eb_86d8_0242ac1c0002row17_col6\" class=\"data row17 col6\" >True</td>\n",
              "            </tr>\n",
              "            <tr>\n",
              "                        <th id=\"T_1a608f6c_73b0_11eb_86d8_0242ac1c0002level0_row18\" class=\"row_heading level0 row18\" >26</th>\n",
              "                        <td id=\"T_1a608f6c_73b0_11eb_86d8_0242ac1c0002row18_col0\" class=\"data row18 col0\" >CPM</td>\n",
              "                        <td id=\"T_1a608f6c_73b0_11eb_86d8_0242ac1c0002row18_col1\" class=\"data row18 col1\" >fasttext+skipgram+ELMo</td>\n",
              "                        <td id=\"T_1a608f6c_73b0_11eb_86d8_0242ac1c0002row18_col2\" class=\"data row18 col2\" >nan</td>\n",
              "                        <td id=\"T_1a608f6c_73b0_11eb_86d8_0242ac1c0002row18_col3\" class=\"data row18 col3\" >1, 2, 3, inf, -inf</td>\n",
              "                        <td id=\"T_1a608f6c_73b0_11eb_86d8_0242ac1c0002row18_col4\" class=\"data row18 col4\" >0.675292</td>\n",
              "                        <td id=\"T_1a608f6c_73b0_11eb_86d8_0242ac1c0002row18_col5\" class=\"data row18 col5\" >0.000000</td>\n",
              "                        <td id=\"T_1a608f6c_73b0_11eb_86d8_0242ac1c0002row18_col6\" class=\"data row18 col6\" >True</td>\n",
              "            </tr>\n",
              "            <tr>\n",
              "                        <th id=\"T_1a608f6c_73b0_11eb_86d8_0242ac1c0002level0_row19\" class=\"row_heading level0 row19\" >18</th>\n",
              "                        <td id=\"T_1a608f6c_73b0_11eb_86d8_0242ac1c0002row19_col0\" class=\"data row19 col0\" >CPM</td>\n",
              "                        <td id=\"T_1a608f6c_73b0_11eb_86d8_0242ac1c0002row19_col1\" class=\"data row19 col1\" >fasttext+ELMo</td>\n",
              "                        <td id=\"T_1a608f6c_73b0_11eb_86d8_0242ac1c0002row19_col2\" class=\"data row19 col2\" >nan</td>\n",
              "                        <td id=\"T_1a608f6c_73b0_11eb_86d8_0242ac1c0002row19_col3\" class=\"data row19 col3\" >1, 2, 3, inf, -inf</td>\n",
              "                        <td id=\"T_1a608f6c_73b0_11eb_86d8_0242ac1c0002row19_col4\" class=\"data row19 col4\" >0.674145</td>\n",
              "                        <td id=\"T_1a608f6c_73b0_11eb_86d8_0242ac1c0002row19_col5\" class=\"data row19 col5\" >0.000000</td>\n",
              "                        <td id=\"T_1a608f6c_73b0_11eb_86d8_0242ac1c0002row19_col6\" class=\"data row19 col6\" >True</td>\n",
              "            </tr>\n",
              "            <tr>\n",
              "                        <th id=\"T_1a608f6c_73b0_11eb_86d8_0242ac1c0002level0_row20\" class=\"row_heading level0 row20\" >15</th>\n",
              "                        <td id=\"T_1a608f6c_73b0_11eb_86d8_0242ac1c0002row20_col0\" class=\"data row20 col0\" >CPM</td>\n",
              "                        <td id=\"T_1a608f6c_73b0_11eb_86d8_0242ac1c0002row20_col1\" class=\"data row20 col1\" >fasttext+skipgram</td>\n",
              "                        <td id=\"T_1a608f6c_73b0_11eb_86d8_0242ac1c0002row20_col2\" class=\"data row20 col2\" >nan</td>\n",
              "                        <td id=\"T_1a608f6c_73b0_11eb_86d8_0242ac1c0002row20_col3\" class=\"data row20 col3\" >0.5, 1, 2, 3, inf, -inf</td>\n",
              "                        <td id=\"T_1a608f6c_73b0_11eb_86d8_0242ac1c0002row20_col4\" class=\"data row20 col4\" >0.673378</td>\n",
              "                        <td id=\"T_1a608f6c_73b0_11eb_86d8_0242ac1c0002row20_col5\" class=\"data row20 col5\" >0.000000</td>\n",
              "                        <td id=\"T_1a608f6c_73b0_11eb_86d8_0242ac1c0002row20_col6\" class=\"data row20 col6\" >True</td>\n",
              "            </tr>\n",
              "            <tr>\n",
              "                        <th id=\"T_1a608f6c_73b0_11eb_86d8_0242ac1c0002level0_row21\" class=\"row_heading level0 row21\" >25</th>\n",
              "                        <td id=\"T_1a608f6c_73b0_11eb_86d8_0242ac1c0002row21_col0\" class=\"data row21 col0\" >CPM</td>\n",
              "                        <td id=\"T_1a608f6c_73b0_11eb_86d8_0242ac1c0002row21_col1\" class=\"data row21 col1\" >fasttext+skipgram+ELMo</td>\n",
              "                        <td id=\"T_1a608f6c_73b0_11eb_86d8_0242ac1c0002row21_col2\" class=\"data row21 col2\" >nan</td>\n",
              "                        <td id=\"T_1a608f6c_73b0_11eb_86d8_0242ac1c0002row21_col3\" class=\"data row21 col3\" >1, 2, inf, -inf</td>\n",
              "                        <td id=\"T_1a608f6c_73b0_11eb_86d8_0242ac1c0002row21_col4\" class=\"data row21 col4\" >0.672416</td>\n",
              "                        <td id=\"T_1a608f6c_73b0_11eb_86d8_0242ac1c0002row21_col5\" class=\"data row21 col5\" >0.000000</td>\n",
              "                        <td id=\"T_1a608f6c_73b0_11eb_86d8_0242ac1c0002row21_col6\" class=\"data row21 col6\" >True</td>\n",
              "            </tr>\n",
              "            <tr>\n",
              "                        <th id=\"T_1a608f6c_73b0_11eb_86d8_0242ac1c0002level0_row22\" class=\"row_heading level0 row22\" >17</th>\n",
              "                        <td id=\"T_1a608f6c_73b0_11eb_86d8_0242ac1c0002row22_col0\" class=\"data row22 col0\" >CPM</td>\n",
              "                        <td id=\"T_1a608f6c_73b0_11eb_86d8_0242ac1c0002row22_col1\" class=\"data row22 col1\" >fasttext+ELMo</td>\n",
              "                        <td id=\"T_1a608f6c_73b0_11eb_86d8_0242ac1c0002row22_col2\" class=\"data row22 col2\" >nan</td>\n",
              "                        <td id=\"T_1a608f6c_73b0_11eb_86d8_0242ac1c0002row22_col3\" class=\"data row22 col3\" >1, 2, inf, -inf</td>\n",
              "                        <td id=\"T_1a608f6c_73b0_11eb_86d8_0242ac1c0002row22_col4\" class=\"data row22 col4\" >0.671302</td>\n",
              "                        <td id=\"T_1a608f6c_73b0_11eb_86d8_0242ac1c0002row22_col5\" class=\"data row22 col5\" >0.000000</td>\n",
              "                        <td id=\"T_1a608f6c_73b0_11eb_86d8_0242ac1c0002row22_col6\" class=\"data row22 col6\" >True</td>\n",
              "            </tr>\n",
              "            <tr>\n",
              "                        <th id=\"T_1a608f6c_73b0_11eb_86d8_0242ac1c0002level0_row23\" class=\"row_heading level0 row23\" >14</th>\n",
              "                        <td id=\"T_1a608f6c_73b0_11eb_86d8_0242ac1c0002row23_col0\" class=\"data row23 col0\" >CPM</td>\n",
              "                        <td id=\"T_1a608f6c_73b0_11eb_86d8_0242ac1c0002row23_col1\" class=\"data row23 col1\" >fasttext+skipgram</td>\n",
              "                        <td id=\"T_1a608f6c_73b0_11eb_86d8_0242ac1c0002row23_col2\" class=\"data row23 col2\" >nan</td>\n",
              "                        <td id=\"T_1a608f6c_73b0_11eb_86d8_0242ac1c0002row23_col3\" class=\"data row23 col3\" >1, 2, 3, inf, -inf</td>\n",
              "                        <td id=\"T_1a608f6c_73b0_11eb_86d8_0242ac1c0002row23_col4\" class=\"data row23 col4\" >0.668972</td>\n",
              "                        <td id=\"T_1a608f6c_73b0_11eb_86d8_0242ac1c0002row23_col5\" class=\"data row23 col5\" >0.000000</td>\n",
              "                        <td id=\"T_1a608f6c_73b0_11eb_86d8_0242ac1c0002row23_col6\" class=\"data row23 col6\" >True</td>\n",
              "            </tr>\n",
              "            <tr>\n",
              "                        <th id=\"T_1a608f6c_73b0_11eb_86d8_0242ac1c0002level0_row24\" class=\"row_heading level0 row24\" >24</th>\n",
              "                        <td id=\"T_1a608f6c_73b0_11eb_86d8_0242ac1c0002row24_col0\" class=\"data row24 col0\" >CPM</td>\n",
              "                        <td id=\"T_1a608f6c_73b0_11eb_86d8_0242ac1c0002row24_col1\" class=\"data row24 col1\" >fasttext+skipgram+ELMo</td>\n",
              "                        <td id=\"T_1a608f6c_73b0_11eb_86d8_0242ac1c0002row24_col2\" class=\"data row24 col2\" >nan</td>\n",
              "                        <td id=\"T_1a608f6c_73b0_11eb_86d8_0242ac1c0002row24_col3\" class=\"data row24 col3\" >1, inf, -inf</td>\n",
              "                        <td id=\"T_1a608f6c_73b0_11eb_86d8_0242ac1c0002row24_col4\" class=\"data row24 col4\" >0.668476</td>\n",
              "                        <td id=\"T_1a608f6c_73b0_11eb_86d8_0242ac1c0002row24_col5\" class=\"data row24 col5\" >0.000000</td>\n",
              "                        <td id=\"T_1a608f6c_73b0_11eb_86d8_0242ac1c0002row24_col6\" class=\"data row24 col6\" >True</td>\n",
              "            </tr>\n",
              "            <tr>\n",
              "                        <th id=\"T_1a608f6c_73b0_11eb_86d8_0242ac1c0002level0_row25\" class=\"row_heading level0 row25\" >16</th>\n",
              "                        <td id=\"T_1a608f6c_73b0_11eb_86d8_0242ac1c0002row25_col0\" class=\"data row25 col0\" >CPM</td>\n",
              "                        <td id=\"T_1a608f6c_73b0_11eb_86d8_0242ac1c0002row25_col1\" class=\"data row25 col1\" >fasttext+ELMo</td>\n",
              "                        <td id=\"T_1a608f6c_73b0_11eb_86d8_0242ac1c0002row25_col2\" class=\"data row25 col2\" >nan</td>\n",
              "                        <td id=\"T_1a608f6c_73b0_11eb_86d8_0242ac1c0002row25_col3\" class=\"data row25 col3\" >1, inf, -inf</td>\n",
              "                        <td id=\"T_1a608f6c_73b0_11eb_86d8_0242ac1c0002row25_col4\" class=\"data row25 col4\" >0.667405</td>\n",
              "                        <td id=\"T_1a608f6c_73b0_11eb_86d8_0242ac1c0002row25_col5\" class=\"data row25 col5\" >0.000000</td>\n",
              "                        <td id=\"T_1a608f6c_73b0_11eb_86d8_0242ac1c0002row25_col6\" class=\"data row25 col6\" >True</td>\n",
              "            </tr>\n",
              "            <tr>\n",
              "                        <th id=\"T_1a608f6c_73b0_11eb_86d8_0242ac1c0002level0_row26\" class=\"row_heading level0 row26\" >13</th>\n",
              "                        <td id=\"T_1a608f6c_73b0_11eb_86d8_0242ac1c0002row26_col0\" class=\"data row26 col0\" >CPM</td>\n",
              "                        <td id=\"T_1a608f6c_73b0_11eb_86d8_0242ac1c0002row26_col1\" class=\"data row26 col1\" >fasttext+skipgram</td>\n",
              "                        <td id=\"T_1a608f6c_73b0_11eb_86d8_0242ac1c0002row26_col2\" class=\"data row26 col2\" >nan</td>\n",
              "                        <td id=\"T_1a608f6c_73b0_11eb_86d8_0242ac1c0002row26_col3\" class=\"data row26 col3\" >1, 2, inf, -inf</td>\n",
              "                        <td id=\"T_1a608f6c_73b0_11eb_86d8_0242ac1c0002row26_col4\" class=\"data row26 col4\" >0.665719</td>\n",
              "                        <td id=\"T_1a608f6c_73b0_11eb_86d8_0242ac1c0002row26_col5\" class=\"data row26 col5\" >0.000000</td>\n",
              "                        <td id=\"T_1a608f6c_73b0_11eb_86d8_0242ac1c0002row26_col6\" class=\"data row26 col6\" >True</td>\n",
              "            </tr>\n",
              "            <tr>\n",
              "                        <th id=\"T_1a608f6c_73b0_11eb_86d8_0242ac1c0002level0_row27\" class=\"row_heading level0 row27\" >12</th>\n",
              "                        <td id=\"T_1a608f6c_73b0_11eb_86d8_0242ac1c0002row27_col0\" class=\"data row27 col0\" >CPM</td>\n",
              "                        <td id=\"T_1a608f6c_73b0_11eb_86d8_0242ac1c0002row27_col1\" class=\"data row27 col1\" >fasttext+skipgram</td>\n",
              "                        <td id=\"T_1a608f6c_73b0_11eb_86d8_0242ac1c0002row27_col2\" class=\"data row27 col2\" >nan</td>\n",
              "                        <td id=\"T_1a608f6c_73b0_11eb_86d8_0242ac1c0002row27_col3\" class=\"data row27 col3\" >1, inf, -inf</td>\n",
              "                        <td id=\"T_1a608f6c_73b0_11eb_86d8_0242ac1c0002row27_col4\" class=\"data row27 col4\" >0.661207</td>\n",
              "                        <td id=\"T_1a608f6c_73b0_11eb_86d8_0242ac1c0002row27_col5\" class=\"data row27 col5\" >0.000000</td>\n",
              "                        <td id=\"T_1a608f6c_73b0_11eb_86d8_0242ac1c0002row27_col6\" class=\"data row27 col6\" >True</td>\n",
              "            </tr>\n",
              "    </tbody></table>"
            ],
            "text/plain": [
              "<pandas.io.formats.style.Styler at 0x7f5d991c9d30>"
            ]
          },
          "metadata": {
            "tags": []
          },
          "execution_count": 220
        }
      ]
    },
    {
      "cell_type": "code",
      "metadata": {
        "colab": {
          "base_uri": "https://localhost:8080/"
        },
        "id": "Wu2voD6k4owV",
        "outputId": "92ef1617-7df5-4527-db96-1c0702bbbd7a"
      },
      "source": [
        "np.mean(res_df[res_df['method'] == 'SIF']['pearson_r']) > np.mean(res_df[res_df['method'] == 'CPM']['pearson_r'])"
      ],
      "execution_count": 222,
      "outputs": [
        {
          "output_type": "execute_result",
          "data": {
            "text/plain": [
              "True"
            ]
          },
          "metadata": {
            "tags": []
          },
          "execution_count": 222
        }
      ]
    },
    {
      "cell_type": "markdown",
      "metadata": {
        "id": "VuZKLbmU5B57"
      },
      "source": [
        "SIF is better than CPM in general"
      ]
    },
    {
      "cell_type": "code",
      "metadata": {
        "colab": {
          "base_uri": "https://localhost:8080/",
          "height": 292
        },
        "id": "VqDrT6gU3mX3",
        "outputId": "8bfeea9d-338f-4502-be18-4e9829e2c863"
      },
      "source": [
        "res_df[res_df['method'] == 'SIF'].sort_values(['pearson_r'], ascending=False).style.background_gradient(axis=0, cmap='Reds')"
      ],
      "execution_count": 219,
      "outputs": [
        {
          "output_type": "execute_result",
          "data": {
            "text/html": [
              "<style  type=\"text/css\" >\n",
              "#T_057447c4_73b0_11eb_86d8_0242ac1c0002row0_col2,#T_057447c4_73b0_11eb_86d8_0242ac1c0002row6_col2,#T_057447c4_73b0_11eb_86d8_0242ac1c0002row10_col2{\n",
              "            background-color:  #fee5d8;\n",
              "            color:  #000000;\n",
              "        }#T_057447c4_73b0_11eb_86d8_0242ac1c0002row0_col4,#T_057447c4_73b0_11eb_86d8_0242ac1c0002row1_col2,#T_057447c4_73b0_11eb_86d8_0242ac1c0002row1_col4,#T_057447c4_73b0_11eb_86d8_0242ac1c0002row9_col2,#T_057447c4_73b0_11eb_86d8_0242ac1c0002row11_col2,#T_057447c4_73b0_11eb_86d8_0242ac1c0002row11_col5{\n",
              "            background-color:  #67000d;\n",
              "            color:  #f1f1f1;\n",
              "        }#T_057447c4_73b0_11eb_86d8_0242ac1c0002row0_col5,#T_057447c4_73b0_11eb_86d8_0242ac1c0002row1_col5,#T_057447c4_73b0_11eb_86d8_0242ac1c0002row2_col5,#T_057447c4_73b0_11eb_86d8_0242ac1c0002row3_col5,#T_057447c4_73b0_11eb_86d8_0242ac1c0002row4_col5,#T_057447c4_73b0_11eb_86d8_0242ac1c0002row5_col2,#T_057447c4_73b0_11eb_86d8_0242ac1c0002row5_col5,#T_057447c4_73b0_11eb_86d8_0242ac1c0002row6_col5,#T_057447c4_73b0_11eb_86d8_0242ac1c0002row7_col2,#T_057447c4_73b0_11eb_86d8_0242ac1c0002row7_col5,#T_057447c4_73b0_11eb_86d8_0242ac1c0002row8_col2,#T_057447c4_73b0_11eb_86d8_0242ac1c0002row8_col5,#T_057447c4_73b0_11eb_86d8_0242ac1c0002row9_col5,#T_057447c4_73b0_11eb_86d8_0242ac1c0002row10_col5,#T_057447c4_73b0_11eb_86d8_0242ac1c0002row11_col4{\n",
              "            background-color:  #fff5f0;\n",
              "            color:  #000000;\n",
              "        }#T_057447c4_73b0_11eb_86d8_0242ac1c0002row2_col2,#T_057447c4_73b0_11eb_86d8_0242ac1c0002row3_col2,#T_057447c4_73b0_11eb_86d8_0242ac1c0002row4_col2{\n",
              "            background-color:  #fff4ee;\n",
              "            color:  #000000;\n",
              "        }#T_057447c4_73b0_11eb_86d8_0242ac1c0002row2_col4{\n",
              "            background-color:  #9c0d14;\n",
              "            color:  #f1f1f1;\n",
              "        }#T_057447c4_73b0_11eb_86d8_0242ac1c0002row3_col4{\n",
              "            background-color:  #d92523;\n",
              "            color:  #f1f1f1;\n",
              "        }#T_057447c4_73b0_11eb_86d8_0242ac1c0002row4_col4{\n",
              "            background-color:  #f24734;\n",
              "            color:  #000000;\n",
              "        }#T_057447c4_73b0_11eb_86d8_0242ac1c0002row5_col4{\n",
              "            background-color:  #f96044;\n",
              "            color:  #000000;\n",
              "        }#T_057447c4_73b0_11eb_86d8_0242ac1c0002row6_col4{\n",
              "            background-color:  #fb6b4b;\n",
              "            color:  #000000;\n",
              "        }#T_057447c4_73b0_11eb_86d8_0242ac1c0002row7_col4{\n",
              "            background-color:  #fb7757;\n",
              "            color:  #000000;\n",
              "        }#T_057447c4_73b0_11eb_86d8_0242ac1c0002row8_col4{\n",
              "            background-color:  #fb7a5a;\n",
              "            color:  #000000;\n",
              "        }#T_057447c4_73b0_11eb_86d8_0242ac1c0002row9_col4{\n",
              "            background-color:  #fb7b5b;\n",
              "            color:  #000000;\n",
              "        }#T_057447c4_73b0_11eb_86d8_0242ac1c0002row10_col4{\n",
              "            background-color:  #fca98c;\n",
              "            color:  #000000;\n",
              "        }</style><table id=\"T_057447c4_73b0_11eb_86d8_0242ac1c0002\" ><thead>    <tr>        <th class=\"blank level0\" ></th>        <th class=\"col_heading level0 col0\" >method</th>        <th class=\"col_heading level0 col1\" >vectors</th>        <th class=\"col_heading level0 col2\" >SIF_a</th>        <th class=\"col_heading level0 col3\" >CPM_powers</th>        <th class=\"col_heading level0 col4\" >pearson_r</th>        <th class=\"col_heading level0 col5\" >pearson_p</th>        <th class=\"col_heading level0 col6\" >sig</th>    </tr></thead><tbody>\n",
              "                <tr>\n",
              "                        <th id=\"T_057447c4_73b0_11eb_86d8_0242ac1c0002level0_row0\" class=\"row_heading level0 row0\" >5</th>\n",
              "                        <td id=\"T_057447c4_73b0_11eb_86d8_0242ac1c0002row0_col0\" class=\"data row0 col0\" >SIF</td>\n",
              "                        <td id=\"T_057447c4_73b0_11eb_86d8_0242ac1c0002row0_col1\" class=\"data row0 col1\" >skipgram</td>\n",
              "                        <td id=\"T_057447c4_73b0_11eb_86d8_0242ac1c0002row0_col2\" class=\"data row0 col2\" >0.010000</td>\n",
              "                        <td id=\"T_057447c4_73b0_11eb_86d8_0242ac1c0002row0_col3\" class=\"data row0 col3\" >nan</td>\n",
              "                        <td id=\"T_057447c4_73b0_11eb_86d8_0242ac1c0002row0_col4\" class=\"data row0 col4\" >0.762406</td>\n",
              "                        <td id=\"T_057447c4_73b0_11eb_86d8_0242ac1c0002row0_col5\" class=\"data row0 col5\" >0.000000</td>\n",
              "                        <td id=\"T_057447c4_73b0_11eb_86d8_0242ac1c0002row0_col6\" class=\"data row0 col6\" >True</td>\n",
              "            </tr>\n",
              "            <tr>\n",
              "                        <th id=\"T_057447c4_73b0_11eb_86d8_0242ac1c0002level0_row1\" class=\"row_heading level0 row1\" >4</th>\n",
              "                        <td id=\"T_057447c4_73b0_11eb_86d8_0242ac1c0002row1_col0\" class=\"data row1 col0\" >SIF</td>\n",
              "                        <td id=\"T_057447c4_73b0_11eb_86d8_0242ac1c0002row1_col1\" class=\"data row1 col1\" >skipgram</td>\n",
              "                        <td id=\"T_057447c4_73b0_11eb_86d8_0242ac1c0002row1_col2\" class=\"data row1 col2\" >0.100000</td>\n",
              "                        <td id=\"T_057447c4_73b0_11eb_86d8_0242ac1c0002row1_col3\" class=\"data row1 col3\" >nan</td>\n",
              "                        <td id=\"T_057447c4_73b0_11eb_86d8_0242ac1c0002row1_col4\" class=\"data row1 col4\" >0.762348</td>\n",
              "                        <td id=\"T_057447c4_73b0_11eb_86d8_0242ac1c0002row1_col5\" class=\"data row1 col5\" >0.000000</td>\n",
              "                        <td id=\"T_057447c4_73b0_11eb_86d8_0242ac1c0002row1_col6\" class=\"data row1 col6\" >True</td>\n",
              "            </tr>\n",
              "            <tr>\n",
              "                        <th id=\"T_057447c4_73b0_11eb_86d8_0242ac1c0002level0_row2\" class=\"row_heading level0 row2\" >6</th>\n",
              "                        <td id=\"T_057447c4_73b0_11eb_86d8_0242ac1c0002row2_col0\" class=\"data row2 col0\" >SIF</td>\n",
              "                        <td id=\"T_057447c4_73b0_11eb_86d8_0242ac1c0002row2_col1\" class=\"data row2 col1\" >skipgram</td>\n",
              "                        <td id=\"T_057447c4_73b0_11eb_86d8_0242ac1c0002row2_col2\" class=\"data row2 col2\" >0.001000</td>\n",
              "                        <td id=\"T_057447c4_73b0_11eb_86d8_0242ac1c0002row2_col3\" class=\"data row2 col3\" >nan</td>\n",
              "                        <td id=\"T_057447c4_73b0_11eb_86d8_0242ac1c0002row2_col4\" class=\"data row2 col4\" >0.757371</td>\n",
              "                        <td id=\"T_057447c4_73b0_11eb_86d8_0242ac1c0002row2_col5\" class=\"data row2 col5\" >0.000000</td>\n",
              "                        <td id=\"T_057447c4_73b0_11eb_86d8_0242ac1c0002row2_col6\" class=\"data row2 col6\" >True</td>\n",
              "            </tr>\n",
              "            <tr>\n",
              "                        <th id=\"T_057447c4_73b0_11eb_86d8_0242ac1c0002level0_row3\" class=\"row_heading level0 row3\" >2</th>\n",
              "                        <td id=\"T_057447c4_73b0_11eb_86d8_0242ac1c0002row3_col0\" class=\"data row3 col0\" >SIF</td>\n",
              "                        <td id=\"T_057447c4_73b0_11eb_86d8_0242ac1c0002row3_col1\" class=\"data row3 col1\" >fasttext</td>\n",
              "                        <td id=\"T_057447c4_73b0_11eb_86d8_0242ac1c0002row3_col2\" class=\"data row3 col2\" >0.001000</td>\n",
              "                        <td id=\"T_057447c4_73b0_11eb_86d8_0242ac1c0002row3_col3\" class=\"data row3 col3\" >nan</td>\n",
              "                        <td id=\"T_057447c4_73b0_11eb_86d8_0242ac1c0002row3_col4\" class=\"data row3 col4\" >0.748385</td>\n",
              "                        <td id=\"T_057447c4_73b0_11eb_86d8_0242ac1c0002row3_col5\" class=\"data row3 col5\" >0.000000</td>\n",
              "                        <td id=\"T_057447c4_73b0_11eb_86d8_0242ac1c0002row3_col6\" class=\"data row3 col6\" >True</td>\n",
              "            </tr>\n",
              "            <tr>\n",
              "                        <th id=\"T_057447c4_73b0_11eb_86d8_0242ac1c0002level0_row4\" class=\"row_heading level0 row4\" >10</th>\n",
              "                        <td id=\"T_057447c4_73b0_11eb_86d8_0242ac1c0002row4_col0\" class=\"data row4 col0\" >SIF</td>\n",
              "                        <td id=\"T_057447c4_73b0_11eb_86d8_0242ac1c0002row4_col1\" class=\"data row4 col1\" >ELMo</td>\n",
              "                        <td id=\"T_057447c4_73b0_11eb_86d8_0242ac1c0002row4_col2\" class=\"data row4 col2\" >0.001000</td>\n",
              "                        <td id=\"T_057447c4_73b0_11eb_86d8_0242ac1c0002row4_col3\" class=\"data row4 col3\" >nan</td>\n",
              "                        <td id=\"T_057447c4_73b0_11eb_86d8_0242ac1c0002row4_col4\" class=\"data row4 col4\" >0.743325</td>\n",
              "                        <td id=\"T_057447c4_73b0_11eb_86d8_0242ac1c0002row4_col5\" class=\"data row4 col5\" >0.000000</td>\n",
              "                        <td id=\"T_057447c4_73b0_11eb_86d8_0242ac1c0002row4_col6\" class=\"data row4 col6\" >True</td>\n",
              "            </tr>\n",
              "            <tr>\n",
              "                        <th id=\"T_057447c4_73b0_11eb_86d8_0242ac1c0002level0_row5\" class=\"row_heading level0 row5\" >7</th>\n",
              "                        <td id=\"T_057447c4_73b0_11eb_86d8_0242ac1c0002row5_col0\" class=\"data row5 col0\" >SIF</td>\n",
              "                        <td id=\"T_057447c4_73b0_11eb_86d8_0242ac1c0002row5_col1\" class=\"data row5 col1\" >skipgram</td>\n",
              "                        <td id=\"T_057447c4_73b0_11eb_86d8_0242ac1c0002row5_col2\" class=\"data row5 col2\" >0.000100</td>\n",
              "                        <td id=\"T_057447c4_73b0_11eb_86d8_0242ac1c0002row5_col3\" class=\"data row5 col3\" >nan</td>\n",
              "                        <td id=\"T_057447c4_73b0_11eb_86d8_0242ac1c0002row5_col4\" class=\"data row5 col4\" >0.740220</td>\n",
              "                        <td id=\"T_057447c4_73b0_11eb_86d8_0242ac1c0002row5_col5\" class=\"data row5 col5\" >0.000000</td>\n",
              "                        <td id=\"T_057447c4_73b0_11eb_86d8_0242ac1c0002row5_col6\" class=\"data row5 col6\" >True</td>\n",
              "            </tr>\n",
              "            <tr>\n",
              "                        <th id=\"T_057447c4_73b0_11eb_86d8_0242ac1c0002level0_row6\" class=\"row_heading level0 row6\" >9</th>\n",
              "                        <td id=\"T_057447c4_73b0_11eb_86d8_0242ac1c0002row6_col0\" class=\"data row6 col0\" >SIF</td>\n",
              "                        <td id=\"T_057447c4_73b0_11eb_86d8_0242ac1c0002row6_col1\" class=\"data row6 col1\" >ELMo</td>\n",
              "                        <td id=\"T_057447c4_73b0_11eb_86d8_0242ac1c0002row6_col2\" class=\"data row6 col2\" >0.010000</td>\n",
              "                        <td id=\"T_057447c4_73b0_11eb_86d8_0242ac1c0002row6_col3\" class=\"data row6 col3\" >nan</td>\n",
              "                        <td id=\"T_057447c4_73b0_11eb_86d8_0242ac1c0002row6_col4\" class=\"data row6 col4\" >0.739083</td>\n",
              "                        <td id=\"T_057447c4_73b0_11eb_86d8_0242ac1c0002row6_col5\" class=\"data row6 col5\" >0.000000</td>\n",
              "                        <td id=\"T_057447c4_73b0_11eb_86d8_0242ac1c0002row6_col6\" class=\"data row6 col6\" >True</td>\n",
              "            </tr>\n",
              "            <tr>\n",
              "                        <th id=\"T_057447c4_73b0_11eb_86d8_0242ac1c0002level0_row7\" class=\"row_heading level0 row7\" >3</th>\n",
              "                        <td id=\"T_057447c4_73b0_11eb_86d8_0242ac1c0002row7_col0\" class=\"data row7 col0\" >SIF</td>\n",
              "                        <td id=\"T_057447c4_73b0_11eb_86d8_0242ac1c0002row7_col1\" class=\"data row7 col1\" >fasttext</td>\n",
              "                        <td id=\"T_057447c4_73b0_11eb_86d8_0242ac1c0002row7_col2\" class=\"data row7 col2\" >0.000100</td>\n",
              "                        <td id=\"T_057447c4_73b0_11eb_86d8_0242ac1c0002row7_col3\" class=\"data row7 col3\" >nan</td>\n",
              "                        <td id=\"T_057447c4_73b0_11eb_86d8_0242ac1c0002row7_col4\" class=\"data row7 col4\" >0.737164</td>\n",
              "                        <td id=\"T_057447c4_73b0_11eb_86d8_0242ac1c0002row7_col5\" class=\"data row7 col5\" >0.000000</td>\n",
              "                        <td id=\"T_057447c4_73b0_11eb_86d8_0242ac1c0002row7_col6\" class=\"data row7 col6\" >True</td>\n",
              "            </tr>\n",
              "            <tr>\n",
              "                        <th id=\"T_057447c4_73b0_11eb_86d8_0242ac1c0002level0_row8\" class=\"row_heading level0 row8\" >11</th>\n",
              "                        <td id=\"T_057447c4_73b0_11eb_86d8_0242ac1c0002row8_col0\" class=\"data row8 col0\" >SIF</td>\n",
              "                        <td id=\"T_057447c4_73b0_11eb_86d8_0242ac1c0002row8_col1\" class=\"data row8 col1\" >ELMo</td>\n",
              "                        <td id=\"T_057447c4_73b0_11eb_86d8_0242ac1c0002row8_col2\" class=\"data row8 col2\" >0.000100</td>\n",
              "                        <td id=\"T_057447c4_73b0_11eb_86d8_0242ac1c0002row8_col3\" class=\"data row8 col3\" >nan</td>\n",
              "                        <td id=\"T_057447c4_73b0_11eb_86d8_0242ac1c0002row8_col4\" class=\"data row8 col4\" >0.736762</td>\n",
              "                        <td id=\"T_057447c4_73b0_11eb_86d8_0242ac1c0002row8_col5\" class=\"data row8 col5\" >0.000000</td>\n",
              "                        <td id=\"T_057447c4_73b0_11eb_86d8_0242ac1c0002row8_col6\" class=\"data row8 col6\" >True</td>\n",
              "            </tr>\n",
              "            <tr>\n",
              "                        <th id=\"T_057447c4_73b0_11eb_86d8_0242ac1c0002level0_row9\" class=\"row_heading level0 row9\" >8</th>\n",
              "                        <td id=\"T_057447c4_73b0_11eb_86d8_0242ac1c0002row9_col0\" class=\"data row9 col0\" >SIF</td>\n",
              "                        <td id=\"T_057447c4_73b0_11eb_86d8_0242ac1c0002row9_col1\" class=\"data row9 col1\" >ELMo</td>\n",
              "                        <td id=\"T_057447c4_73b0_11eb_86d8_0242ac1c0002row9_col2\" class=\"data row9 col2\" >0.100000</td>\n",
              "                        <td id=\"T_057447c4_73b0_11eb_86d8_0242ac1c0002row9_col3\" class=\"data row9 col3\" >nan</td>\n",
              "                        <td id=\"T_057447c4_73b0_11eb_86d8_0242ac1c0002row9_col4\" class=\"data row9 col4\" >0.736663</td>\n",
              "                        <td id=\"T_057447c4_73b0_11eb_86d8_0242ac1c0002row9_col5\" class=\"data row9 col5\" >0.000000</td>\n",
              "                        <td id=\"T_057447c4_73b0_11eb_86d8_0242ac1c0002row9_col6\" class=\"data row9 col6\" >True</td>\n",
              "            </tr>\n",
              "            <tr>\n",
              "                        <th id=\"T_057447c4_73b0_11eb_86d8_0242ac1c0002level0_row10\" class=\"row_heading level0 row10\" >1</th>\n",
              "                        <td id=\"T_057447c4_73b0_11eb_86d8_0242ac1c0002row10_col0\" class=\"data row10 col0\" >SIF</td>\n",
              "                        <td id=\"T_057447c4_73b0_11eb_86d8_0242ac1c0002row10_col1\" class=\"data row10 col1\" >fasttext</td>\n",
              "                        <td id=\"T_057447c4_73b0_11eb_86d8_0242ac1c0002row10_col2\" class=\"data row10 col2\" >0.010000</td>\n",
              "                        <td id=\"T_057447c4_73b0_11eb_86d8_0242ac1c0002row10_col3\" class=\"data row10 col3\" >nan</td>\n",
              "                        <td id=\"T_057447c4_73b0_11eb_86d8_0242ac1c0002row10_col4\" class=\"data row10 col4\" >0.730136</td>\n",
              "                        <td id=\"T_057447c4_73b0_11eb_86d8_0242ac1c0002row10_col5\" class=\"data row10 col5\" >0.000000</td>\n",
              "                        <td id=\"T_057447c4_73b0_11eb_86d8_0242ac1c0002row10_col6\" class=\"data row10 col6\" >True</td>\n",
              "            </tr>\n",
              "            <tr>\n",
              "                        <th id=\"T_057447c4_73b0_11eb_86d8_0242ac1c0002level0_row11\" class=\"row_heading level0 row11\" >0</th>\n",
              "                        <td id=\"T_057447c4_73b0_11eb_86d8_0242ac1c0002row11_col0\" class=\"data row11 col0\" >SIF</td>\n",
              "                        <td id=\"T_057447c4_73b0_11eb_86d8_0242ac1c0002row11_col1\" class=\"data row11 col1\" >fasttext</td>\n",
              "                        <td id=\"T_057447c4_73b0_11eb_86d8_0242ac1c0002row11_col2\" class=\"data row11 col2\" >0.100000</td>\n",
              "                        <td id=\"T_057447c4_73b0_11eb_86d8_0242ac1c0002row11_col3\" class=\"data row11 col3\" >nan</td>\n",
              "                        <td id=\"T_057447c4_73b0_11eb_86d8_0242ac1c0002row11_col4\" class=\"data row11 col4\" >0.715789</td>\n",
              "                        <td id=\"T_057447c4_73b0_11eb_86d8_0242ac1c0002row11_col5\" class=\"data row11 col5\" >0.000000</td>\n",
              "                        <td id=\"T_057447c4_73b0_11eb_86d8_0242ac1c0002row11_col6\" class=\"data row11 col6\" >True</td>\n",
              "            </tr>\n",
              "    </tbody></table>"
            ],
            "text/plain": [
              "<pandas.io.formats.style.Styler at 0x7f5d93e11cf8>"
            ]
          },
          "metadata": {
            "tags": []
          },
          "execution_count": 219
        }
      ]
    },
    {
      "cell_type": "code",
      "metadata": {
        "colab": {
          "base_uri": "https://localhost:8080/"
        },
        "id": "cYU6eq2G5JIY",
        "outputId": "33f711d5-8350-4296-a224-a390816782ea"
      },
      "source": [
        "np.mean(res_df[res_df['method'] == 'SIF'][res_df['vectors'] == 'skipgram']['pearson_r']) > np.mean(res_df[res_df['method'] == 'SIF'][res_df['vectors'] == 'ELMo']['pearson_r'])"
      ],
      "execution_count": 232,
      "outputs": [
        {
          "output_type": "stream",
          "text": [
            "/usr/local/lib/python3.6/dist-packages/ipykernel_launcher.py:1: UserWarning: Boolean Series key will be reindexed to match DataFrame index.\n",
            "  \"\"\"Entry point for launching an IPython kernel.\n"
          ],
          "name": "stderr"
        },
        {
          "output_type": "execute_result",
          "data": {
            "text/plain": [
              "True"
            ]
          },
          "metadata": {
            "tags": []
          },
          "execution_count": 232
        }
      ]
    },
    {
      "cell_type": "code",
      "metadata": {
        "colab": {
          "base_uri": "https://localhost:8080/"
        },
        "id": "W4tAjUoF6Fas",
        "outputId": "03f1d5ad-e12a-48f5-a9d2-fd3fd93dfdae"
      },
      "source": [
        "np.mean(res_df[res_df['method'] == 'SIF'][res_df['vectors'] == 'skipgram']['pearson_r']) > np.mean(res_df[res_df['method'] == 'SIF'][res_df['vectors'] == 'fasttext']['pearson_r'])"
      ],
      "execution_count": 233,
      "outputs": [
        {
          "output_type": "stream",
          "text": [
            "/usr/local/lib/python3.6/dist-packages/ipykernel_launcher.py:1: UserWarning: Boolean Series key will be reindexed to match DataFrame index.\n",
            "  \"\"\"Entry point for launching an IPython kernel.\n"
          ],
          "name": "stderr"
        },
        {
          "output_type": "execute_result",
          "data": {
            "text/plain": [
              "True"
            ]
          },
          "metadata": {
            "tags": []
          },
          "execution_count": 233
        }
      ]
    },
    {
      "cell_type": "code",
      "metadata": {
        "colab": {
          "base_uri": "https://localhost:8080/"
        },
        "id": "d6LT6mM56HmU",
        "outputId": "df406902-9c30-4117-b242-c25bbaa2d8e2"
      },
      "source": [
        "np.mean(res_df[res_df['method'] == 'SIF'][res_df['vectors'] == 'ELMo']['pearson_r']) > np.mean(res_df[res_df['method'] == 'SIF'][res_df['vectors'] == 'fasttext']['pearson_r'])"
      ],
      "execution_count": 234,
      "outputs": [
        {
          "output_type": "stream",
          "text": [
            "/usr/local/lib/python3.6/dist-packages/ipykernel_launcher.py:1: UserWarning: Boolean Series key will be reindexed to match DataFrame index.\n",
            "  \"\"\"Entry point for launching an IPython kernel.\n"
          ],
          "name": "stderr"
        },
        {
          "output_type": "execute_result",
          "data": {
            "text/plain": [
              "True"
            ]
          },
          "metadata": {
            "tags": []
          },
          "execution_count": 234
        }
      ]
    },
    {
      "cell_type": "markdown",
      "metadata": {
        "id": "eH8UUJQv6X8A"
      },
      "source": [
        "skipgram > ELMo > fasttext \\\\\r\n",
        "within the method a=10e-4 and  a=10e-3 are the best, just as reported in the original article"
      ]
    },
    {
      "cell_type": "code",
      "metadata": {
        "colab": {
          "base_uri": "https://localhost:8080/",
          "height": 444
        },
        "id": "piXZaK3J23DD",
        "outputId": "8e12996b-2369-4ebe-cb2e-39ae330804c2"
      },
      "source": [
        "res_df[res_df['method'] == 'CPM'].sort_values(['pearson_r'], ascending=False).style.background_gradient(axis=0, cmap='Reds')"
      ],
      "execution_count": 218,
      "outputs": [
        {
          "output_type": "stream",
          "text": [
            "/usr/local/lib/python3.6/dist-packages/pandas/io/formats/style.py:1126: RuntimeWarning: All-NaN slice encountered\n",
            "  smin = np.nanmin(s.to_numpy()) if vmin is None else vmin\n",
            "/usr/local/lib/python3.6/dist-packages/pandas/io/formats/style.py:1127: RuntimeWarning: All-NaN slice encountered\n",
            "  smax = np.nanmax(s.to_numpy()) if vmax is None else vmax\n"
          ],
          "name": "stderr"
        },
        {
          "output_type": "execute_result",
          "data": {
            "text/html": [
              "<style  type=\"text/css\" >\n",
              "#T_f26a656e_73af_11eb_86d8_0242ac1c0002row0_col2,#T_f26a656e_73af_11eb_86d8_0242ac1c0002row1_col2,#T_f26a656e_73af_11eb_86d8_0242ac1c0002row2_col2,#T_f26a656e_73af_11eb_86d8_0242ac1c0002row3_col2,#T_f26a656e_73af_11eb_86d8_0242ac1c0002row4_col2,#T_f26a656e_73af_11eb_86d8_0242ac1c0002row5_col2,#T_f26a656e_73af_11eb_86d8_0242ac1c0002row6_col2,#T_f26a656e_73af_11eb_86d8_0242ac1c0002row7_col2,#T_f26a656e_73af_11eb_86d8_0242ac1c0002row8_col2,#T_f26a656e_73af_11eb_86d8_0242ac1c0002row9_col2,#T_f26a656e_73af_11eb_86d8_0242ac1c0002row10_col2,#T_f26a656e_73af_11eb_86d8_0242ac1c0002row11_col2,#T_f26a656e_73af_11eb_86d8_0242ac1c0002row12_col2,#T_f26a656e_73af_11eb_86d8_0242ac1c0002row13_col2,#T_f26a656e_73af_11eb_86d8_0242ac1c0002row14_col2,#T_f26a656e_73af_11eb_86d8_0242ac1c0002row15_col2{\n",
              "            background-color:  #000000;\n",
              "            color:  #f1f1f1;\n",
              "        }#T_f26a656e_73af_11eb_86d8_0242ac1c0002row0_col4,#T_f26a656e_73af_11eb_86d8_0242ac1c0002row15_col5{\n",
              "            background-color:  #67000d;\n",
              "            color:  #f1f1f1;\n",
              "        }#T_f26a656e_73af_11eb_86d8_0242ac1c0002row0_col5,#T_f26a656e_73af_11eb_86d8_0242ac1c0002row1_col5,#T_f26a656e_73af_11eb_86d8_0242ac1c0002row2_col5,#T_f26a656e_73af_11eb_86d8_0242ac1c0002row3_col5,#T_f26a656e_73af_11eb_86d8_0242ac1c0002row4_col5,#T_f26a656e_73af_11eb_86d8_0242ac1c0002row5_col5,#T_f26a656e_73af_11eb_86d8_0242ac1c0002row6_col5,#T_f26a656e_73af_11eb_86d8_0242ac1c0002row7_col5,#T_f26a656e_73af_11eb_86d8_0242ac1c0002row8_col5,#T_f26a656e_73af_11eb_86d8_0242ac1c0002row9_col5,#T_f26a656e_73af_11eb_86d8_0242ac1c0002row10_col5,#T_f26a656e_73af_11eb_86d8_0242ac1c0002row11_col5,#T_f26a656e_73af_11eb_86d8_0242ac1c0002row12_col5,#T_f26a656e_73af_11eb_86d8_0242ac1c0002row15_col4{\n",
              "            background-color:  #fff5f0;\n",
              "            color:  #000000;\n",
              "        }#T_f26a656e_73af_11eb_86d8_0242ac1c0002row1_col4{\n",
              "            background-color:  #6b010e;\n",
              "            color:  #f1f1f1;\n",
              "        }#T_f26a656e_73af_11eb_86d8_0242ac1c0002row2_col4{\n",
              "            background-color:  #6d010e;\n",
              "            color:  #f1f1f1;\n",
              "        }#T_f26a656e_73af_11eb_86d8_0242ac1c0002row3_col4{\n",
              "            background-color:  #6f020e;\n",
              "            color:  #f1f1f1;\n",
              "        }#T_f26a656e_73af_11eb_86d8_0242ac1c0002row4_col4{\n",
              "            background-color:  #fcbba1;\n",
              "            color:  #000000;\n",
              "        }#T_f26a656e_73af_11eb_86d8_0242ac1c0002row5_col4{\n",
              "            background-color:  #fcbfa7;\n",
              "            color:  #000000;\n",
              "        }#T_f26a656e_73af_11eb_86d8_0242ac1c0002row6_col4{\n",
              "            background-color:  #fdc9b3;\n",
              "            color:  #000000;\n",
              "        }#T_f26a656e_73af_11eb_86d8_0242ac1c0002row7_col4{\n",
              "            background-color:  #fdcebb;\n",
              "            color:  #000000;\n",
              "        }#T_f26a656e_73af_11eb_86d8_0242ac1c0002row8_col4{\n",
              "            background-color:  #fdd1be;\n",
              "            color:  #000000;\n",
              "        }#T_f26a656e_73af_11eb_86d8_0242ac1c0002row9_col4{\n",
              "            background-color:  #fdd5c4;\n",
              "            color:  #000000;\n",
              "        }#T_f26a656e_73af_11eb_86d8_0242ac1c0002row10_col4{\n",
              "            background-color:  #fedaca;\n",
              "            color:  #000000;\n",
              "        }#T_f26a656e_73af_11eb_86d8_0242ac1c0002row11_col4{\n",
              "            background-color:  #fee3d6;\n",
              "            color:  #000000;\n",
              "        }#T_f26a656e_73af_11eb_86d8_0242ac1c0002row12_col4{\n",
              "            background-color:  #fee4d8;\n",
              "            color:  #000000;\n",
              "        }#T_f26a656e_73af_11eb_86d8_0242ac1c0002row13_col4{\n",
              "            background-color:  #fee7db;\n",
              "            color:  #000000;\n",
              "        }#T_f26a656e_73af_11eb_86d8_0242ac1c0002row13_col5{\n",
              "            background-color:  #fff4ef;\n",
              "            color:  #000000;\n",
              "        }#T_f26a656e_73af_11eb_86d8_0242ac1c0002row14_col4{\n",
              "            background-color:  #feeae1;\n",
              "            color:  #000000;\n",
              "        }#T_f26a656e_73af_11eb_86d8_0242ac1c0002row14_col5{\n",
              "            background-color:  #fff2ec;\n",
              "            color:  #000000;\n",
              "        }</style><table id=\"T_f26a656e_73af_11eb_86d8_0242ac1c0002\" ><thead>    <tr>        <th class=\"blank level0\" ></th>        <th class=\"col_heading level0 col0\" >method</th>        <th class=\"col_heading level0 col1\" >vectors</th>        <th class=\"col_heading level0 col2\" >SIF_a</th>        <th class=\"col_heading level0 col3\" >CPM_powers</th>        <th class=\"col_heading level0 col4\" >pearson_r</th>        <th class=\"col_heading level0 col5\" >pearson_p</th>        <th class=\"col_heading level0 col6\" >sig</th>    </tr></thead><tbody>\n",
              "                <tr>\n",
              "                        <th id=\"T_f26a656e_73af_11eb_86d8_0242ac1c0002level0_row0\" class=\"row_heading level0 row0\" >22</th>\n",
              "                        <td id=\"T_f26a656e_73af_11eb_86d8_0242ac1c0002row0_col0\" class=\"data row0 col0\" >CPM</td>\n",
              "                        <td id=\"T_f26a656e_73af_11eb_86d8_0242ac1c0002row0_col1\" class=\"data row0 col1\" >skipgram+ELMo</td>\n",
              "                        <td id=\"T_f26a656e_73af_11eb_86d8_0242ac1c0002row0_col2\" class=\"data row0 col2\" >nan</td>\n",
              "                        <td id=\"T_f26a656e_73af_11eb_86d8_0242ac1c0002row0_col3\" class=\"data row0 col3\" >1, 2, 3, inf, -inf</td>\n",
              "                        <td id=\"T_f26a656e_73af_11eb_86d8_0242ac1c0002row0_col4\" class=\"data row0 col4\" >0.730366</td>\n",
              "                        <td id=\"T_f26a656e_73af_11eb_86d8_0242ac1c0002row0_col5\" class=\"data row0 col5\" >0.000000</td>\n",
              "                        <td id=\"T_f26a656e_73af_11eb_86d8_0242ac1c0002row0_col6\" class=\"data row0 col6\" >True</td>\n",
              "            </tr>\n",
              "            <tr>\n",
              "                        <th id=\"T_f26a656e_73af_11eb_86d8_0242ac1c0002level0_row1\" class=\"row_heading level0 row1\" >23</th>\n",
              "                        <td id=\"T_f26a656e_73af_11eb_86d8_0242ac1c0002row1_col0\" class=\"data row1 col0\" >CPM</td>\n",
              "                        <td id=\"T_f26a656e_73af_11eb_86d8_0242ac1c0002row1_col1\" class=\"data row1 col1\" >skipgram+ELMo</td>\n",
              "                        <td id=\"T_f26a656e_73af_11eb_86d8_0242ac1c0002row1_col2\" class=\"data row1 col2\" >nan</td>\n",
              "                        <td id=\"T_f26a656e_73af_11eb_86d8_0242ac1c0002row1_col3\" class=\"data row1 col3\" >0.5, 1, 2, 3, inf, -inf</td>\n",
              "                        <td id=\"T_f26a656e_73af_11eb_86d8_0242ac1c0002row1_col4\" class=\"data row1 col4\" >0.729749</td>\n",
              "                        <td id=\"T_f26a656e_73af_11eb_86d8_0242ac1c0002row1_col5\" class=\"data row1 col5\" >0.000000</td>\n",
              "                        <td id=\"T_f26a656e_73af_11eb_86d8_0242ac1c0002row1_col6\" class=\"data row1 col6\" >True</td>\n",
              "            </tr>\n",
              "            <tr>\n",
              "                        <th id=\"T_f26a656e_73af_11eb_86d8_0242ac1c0002level0_row2\" class=\"row_heading level0 row2\" >21</th>\n",
              "                        <td id=\"T_f26a656e_73af_11eb_86d8_0242ac1c0002row2_col0\" class=\"data row2 col0\" >CPM</td>\n",
              "                        <td id=\"T_f26a656e_73af_11eb_86d8_0242ac1c0002row2_col1\" class=\"data row2 col1\" >skipgram+ELMo</td>\n",
              "                        <td id=\"T_f26a656e_73af_11eb_86d8_0242ac1c0002row2_col2\" class=\"data row2 col2\" >nan</td>\n",
              "                        <td id=\"T_f26a656e_73af_11eb_86d8_0242ac1c0002row2_col3\" class=\"data row2 col3\" >1, 2, inf, -inf</td>\n",
              "                        <td id=\"T_f26a656e_73af_11eb_86d8_0242ac1c0002row2_col4\" class=\"data row2 col4\" >0.729293</td>\n",
              "                        <td id=\"T_f26a656e_73af_11eb_86d8_0242ac1c0002row2_col5\" class=\"data row2 col5\" >0.000000</td>\n",
              "                        <td id=\"T_f26a656e_73af_11eb_86d8_0242ac1c0002row2_col6\" class=\"data row2 col6\" >True</td>\n",
              "            </tr>\n",
              "            <tr>\n",
              "                        <th id=\"T_f26a656e_73af_11eb_86d8_0242ac1c0002level0_row3\" class=\"row_heading level0 row3\" >20</th>\n",
              "                        <td id=\"T_f26a656e_73af_11eb_86d8_0242ac1c0002row3_col0\" class=\"data row3 col0\" >CPM</td>\n",
              "                        <td id=\"T_f26a656e_73af_11eb_86d8_0242ac1c0002row3_col1\" class=\"data row3 col1\" >skipgram+ELMo</td>\n",
              "                        <td id=\"T_f26a656e_73af_11eb_86d8_0242ac1c0002row3_col2\" class=\"data row3 col2\" >nan</td>\n",
              "                        <td id=\"T_f26a656e_73af_11eb_86d8_0242ac1c0002row3_col3\" class=\"data row3 col3\" >1, inf, -inf</td>\n",
              "                        <td id=\"T_f26a656e_73af_11eb_86d8_0242ac1c0002row3_col4\" class=\"data row3 col4\" >0.729254</td>\n",
              "                        <td id=\"T_f26a656e_73af_11eb_86d8_0242ac1c0002row3_col5\" class=\"data row3 col5\" >0.000000</td>\n",
              "                        <td id=\"T_f26a656e_73af_11eb_86d8_0242ac1c0002row3_col6\" class=\"data row3 col6\" >True</td>\n",
              "            </tr>\n",
              "            <tr>\n",
              "                        <th id=\"T_f26a656e_73af_11eb_86d8_0242ac1c0002level0_row4\" class=\"row_heading level0 row4\" >27</th>\n",
              "                        <td id=\"T_f26a656e_73af_11eb_86d8_0242ac1c0002row4_col0\" class=\"data row4 col0\" >CPM</td>\n",
              "                        <td id=\"T_f26a656e_73af_11eb_86d8_0242ac1c0002row4_col1\" class=\"data row4 col1\" >fasttext+skipgram+ELMo</td>\n",
              "                        <td id=\"T_f26a656e_73af_11eb_86d8_0242ac1c0002row4_col2\" class=\"data row4 col2\" >nan</td>\n",
              "                        <td id=\"T_f26a656e_73af_11eb_86d8_0242ac1c0002row4_col3\" class=\"data row4 col3\" >0.5, 1, 2, 3, inf, -inf</td>\n",
              "                        <td id=\"T_f26a656e_73af_11eb_86d8_0242ac1c0002row4_col4\" class=\"data row4 col4\" >0.678724</td>\n",
              "                        <td id=\"T_f26a656e_73af_11eb_86d8_0242ac1c0002row4_col5\" class=\"data row4 col5\" >0.000000</td>\n",
              "                        <td id=\"T_f26a656e_73af_11eb_86d8_0242ac1c0002row4_col6\" class=\"data row4 col6\" >True</td>\n",
              "            </tr>\n",
              "            <tr>\n",
              "                        <th id=\"T_f26a656e_73af_11eb_86d8_0242ac1c0002level0_row5\" class=\"row_heading level0 row5\" >19</th>\n",
              "                        <td id=\"T_f26a656e_73af_11eb_86d8_0242ac1c0002row5_col0\" class=\"data row5 col0\" >CPM</td>\n",
              "                        <td id=\"T_f26a656e_73af_11eb_86d8_0242ac1c0002row5_col1\" class=\"data row5 col1\" >fasttext+ELMo</td>\n",
              "                        <td id=\"T_f26a656e_73af_11eb_86d8_0242ac1c0002row5_col2\" class=\"data row5 col2\" >nan</td>\n",
              "                        <td id=\"T_f26a656e_73af_11eb_86d8_0242ac1c0002row5_col3\" class=\"data row5 col3\" >0.5, 1, 2, 3, inf, -inf</td>\n",
              "                        <td id=\"T_f26a656e_73af_11eb_86d8_0242ac1c0002row5_col4\" class=\"data row5 col4\" >0.677663</td>\n",
              "                        <td id=\"T_f26a656e_73af_11eb_86d8_0242ac1c0002row5_col5\" class=\"data row5 col5\" >0.000000</td>\n",
              "                        <td id=\"T_f26a656e_73af_11eb_86d8_0242ac1c0002row5_col6\" class=\"data row5 col6\" >True</td>\n",
              "            </tr>\n",
              "            <tr>\n",
              "                        <th id=\"T_f26a656e_73af_11eb_86d8_0242ac1c0002level0_row6\" class=\"row_heading level0 row6\" >26</th>\n",
              "                        <td id=\"T_f26a656e_73af_11eb_86d8_0242ac1c0002row6_col0\" class=\"data row6 col0\" >CPM</td>\n",
              "                        <td id=\"T_f26a656e_73af_11eb_86d8_0242ac1c0002row6_col1\" class=\"data row6 col1\" >fasttext+skipgram+ELMo</td>\n",
              "                        <td id=\"T_f26a656e_73af_11eb_86d8_0242ac1c0002row6_col2\" class=\"data row6 col2\" >nan</td>\n",
              "                        <td id=\"T_f26a656e_73af_11eb_86d8_0242ac1c0002row6_col3\" class=\"data row6 col3\" >1, 2, 3, inf, -inf</td>\n",
              "                        <td id=\"T_f26a656e_73af_11eb_86d8_0242ac1c0002row6_col4\" class=\"data row6 col4\" >0.675292</td>\n",
              "                        <td id=\"T_f26a656e_73af_11eb_86d8_0242ac1c0002row6_col5\" class=\"data row6 col5\" >0.000000</td>\n",
              "                        <td id=\"T_f26a656e_73af_11eb_86d8_0242ac1c0002row6_col6\" class=\"data row6 col6\" >True</td>\n",
              "            </tr>\n",
              "            <tr>\n",
              "                        <th id=\"T_f26a656e_73af_11eb_86d8_0242ac1c0002level0_row7\" class=\"row_heading level0 row7\" >18</th>\n",
              "                        <td id=\"T_f26a656e_73af_11eb_86d8_0242ac1c0002row7_col0\" class=\"data row7 col0\" >CPM</td>\n",
              "                        <td id=\"T_f26a656e_73af_11eb_86d8_0242ac1c0002row7_col1\" class=\"data row7 col1\" >fasttext+ELMo</td>\n",
              "                        <td id=\"T_f26a656e_73af_11eb_86d8_0242ac1c0002row7_col2\" class=\"data row7 col2\" >nan</td>\n",
              "                        <td id=\"T_f26a656e_73af_11eb_86d8_0242ac1c0002row7_col3\" class=\"data row7 col3\" >1, 2, 3, inf, -inf</td>\n",
              "                        <td id=\"T_f26a656e_73af_11eb_86d8_0242ac1c0002row7_col4\" class=\"data row7 col4\" >0.674145</td>\n",
              "                        <td id=\"T_f26a656e_73af_11eb_86d8_0242ac1c0002row7_col5\" class=\"data row7 col5\" >0.000000</td>\n",
              "                        <td id=\"T_f26a656e_73af_11eb_86d8_0242ac1c0002row7_col6\" class=\"data row7 col6\" >True</td>\n",
              "            </tr>\n",
              "            <tr>\n",
              "                        <th id=\"T_f26a656e_73af_11eb_86d8_0242ac1c0002level0_row8\" class=\"row_heading level0 row8\" >15</th>\n",
              "                        <td id=\"T_f26a656e_73af_11eb_86d8_0242ac1c0002row8_col0\" class=\"data row8 col0\" >CPM</td>\n",
              "                        <td id=\"T_f26a656e_73af_11eb_86d8_0242ac1c0002row8_col1\" class=\"data row8 col1\" >fasttext+skipgram</td>\n",
              "                        <td id=\"T_f26a656e_73af_11eb_86d8_0242ac1c0002row8_col2\" class=\"data row8 col2\" >nan</td>\n",
              "                        <td id=\"T_f26a656e_73af_11eb_86d8_0242ac1c0002row8_col3\" class=\"data row8 col3\" >0.5, 1, 2, 3, inf, -inf</td>\n",
              "                        <td id=\"T_f26a656e_73af_11eb_86d8_0242ac1c0002row8_col4\" class=\"data row8 col4\" >0.673378</td>\n",
              "                        <td id=\"T_f26a656e_73af_11eb_86d8_0242ac1c0002row8_col5\" class=\"data row8 col5\" >0.000000</td>\n",
              "                        <td id=\"T_f26a656e_73af_11eb_86d8_0242ac1c0002row8_col6\" class=\"data row8 col6\" >True</td>\n",
              "            </tr>\n",
              "            <tr>\n",
              "                        <th id=\"T_f26a656e_73af_11eb_86d8_0242ac1c0002level0_row9\" class=\"row_heading level0 row9\" >25</th>\n",
              "                        <td id=\"T_f26a656e_73af_11eb_86d8_0242ac1c0002row9_col0\" class=\"data row9 col0\" >CPM</td>\n",
              "                        <td id=\"T_f26a656e_73af_11eb_86d8_0242ac1c0002row9_col1\" class=\"data row9 col1\" >fasttext+skipgram+ELMo</td>\n",
              "                        <td id=\"T_f26a656e_73af_11eb_86d8_0242ac1c0002row9_col2\" class=\"data row9 col2\" >nan</td>\n",
              "                        <td id=\"T_f26a656e_73af_11eb_86d8_0242ac1c0002row9_col3\" class=\"data row9 col3\" >1, 2, inf, -inf</td>\n",
              "                        <td id=\"T_f26a656e_73af_11eb_86d8_0242ac1c0002row9_col4\" class=\"data row9 col4\" >0.672416</td>\n",
              "                        <td id=\"T_f26a656e_73af_11eb_86d8_0242ac1c0002row9_col5\" class=\"data row9 col5\" >0.000000</td>\n",
              "                        <td id=\"T_f26a656e_73af_11eb_86d8_0242ac1c0002row9_col6\" class=\"data row9 col6\" >True</td>\n",
              "            </tr>\n",
              "            <tr>\n",
              "                        <th id=\"T_f26a656e_73af_11eb_86d8_0242ac1c0002level0_row10\" class=\"row_heading level0 row10\" >17</th>\n",
              "                        <td id=\"T_f26a656e_73af_11eb_86d8_0242ac1c0002row10_col0\" class=\"data row10 col0\" >CPM</td>\n",
              "                        <td id=\"T_f26a656e_73af_11eb_86d8_0242ac1c0002row10_col1\" class=\"data row10 col1\" >fasttext+ELMo</td>\n",
              "                        <td id=\"T_f26a656e_73af_11eb_86d8_0242ac1c0002row10_col2\" class=\"data row10 col2\" >nan</td>\n",
              "                        <td id=\"T_f26a656e_73af_11eb_86d8_0242ac1c0002row10_col3\" class=\"data row10 col3\" >1, 2, inf, -inf</td>\n",
              "                        <td id=\"T_f26a656e_73af_11eb_86d8_0242ac1c0002row10_col4\" class=\"data row10 col4\" >0.671302</td>\n",
              "                        <td id=\"T_f26a656e_73af_11eb_86d8_0242ac1c0002row10_col5\" class=\"data row10 col5\" >0.000000</td>\n",
              "                        <td id=\"T_f26a656e_73af_11eb_86d8_0242ac1c0002row10_col6\" class=\"data row10 col6\" >True</td>\n",
              "            </tr>\n",
              "            <tr>\n",
              "                        <th id=\"T_f26a656e_73af_11eb_86d8_0242ac1c0002level0_row11\" class=\"row_heading level0 row11\" >14</th>\n",
              "                        <td id=\"T_f26a656e_73af_11eb_86d8_0242ac1c0002row11_col0\" class=\"data row11 col0\" >CPM</td>\n",
              "                        <td id=\"T_f26a656e_73af_11eb_86d8_0242ac1c0002row11_col1\" class=\"data row11 col1\" >fasttext+skipgram</td>\n",
              "                        <td id=\"T_f26a656e_73af_11eb_86d8_0242ac1c0002row11_col2\" class=\"data row11 col2\" >nan</td>\n",
              "                        <td id=\"T_f26a656e_73af_11eb_86d8_0242ac1c0002row11_col3\" class=\"data row11 col3\" >1, 2, 3, inf, -inf</td>\n",
              "                        <td id=\"T_f26a656e_73af_11eb_86d8_0242ac1c0002row11_col4\" class=\"data row11 col4\" >0.668972</td>\n",
              "                        <td id=\"T_f26a656e_73af_11eb_86d8_0242ac1c0002row11_col5\" class=\"data row11 col5\" >0.000000</td>\n",
              "                        <td id=\"T_f26a656e_73af_11eb_86d8_0242ac1c0002row11_col6\" class=\"data row11 col6\" >True</td>\n",
              "            </tr>\n",
              "            <tr>\n",
              "                        <th id=\"T_f26a656e_73af_11eb_86d8_0242ac1c0002level0_row12\" class=\"row_heading level0 row12\" >24</th>\n",
              "                        <td id=\"T_f26a656e_73af_11eb_86d8_0242ac1c0002row12_col0\" class=\"data row12 col0\" >CPM</td>\n",
              "                        <td id=\"T_f26a656e_73af_11eb_86d8_0242ac1c0002row12_col1\" class=\"data row12 col1\" >fasttext+skipgram+ELMo</td>\n",
              "                        <td id=\"T_f26a656e_73af_11eb_86d8_0242ac1c0002row12_col2\" class=\"data row12 col2\" >nan</td>\n",
              "                        <td id=\"T_f26a656e_73af_11eb_86d8_0242ac1c0002row12_col3\" class=\"data row12 col3\" >1, inf, -inf</td>\n",
              "                        <td id=\"T_f26a656e_73af_11eb_86d8_0242ac1c0002row12_col4\" class=\"data row12 col4\" >0.668476</td>\n",
              "                        <td id=\"T_f26a656e_73af_11eb_86d8_0242ac1c0002row12_col5\" class=\"data row12 col5\" >0.000000</td>\n",
              "                        <td id=\"T_f26a656e_73af_11eb_86d8_0242ac1c0002row12_col6\" class=\"data row12 col6\" >True</td>\n",
              "            </tr>\n",
              "            <tr>\n",
              "                        <th id=\"T_f26a656e_73af_11eb_86d8_0242ac1c0002level0_row13\" class=\"row_heading level0 row13\" >16</th>\n",
              "                        <td id=\"T_f26a656e_73af_11eb_86d8_0242ac1c0002row13_col0\" class=\"data row13 col0\" >CPM</td>\n",
              "                        <td id=\"T_f26a656e_73af_11eb_86d8_0242ac1c0002row13_col1\" class=\"data row13 col1\" >fasttext+ELMo</td>\n",
              "                        <td id=\"T_f26a656e_73af_11eb_86d8_0242ac1c0002row13_col2\" class=\"data row13 col2\" >nan</td>\n",
              "                        <td id=\"T_f26a656e_73af_11eb_86d8_0242ac1c0002row13_col3\" class=\"data row13 col3\" >1, inf, -inf</td>\n",
              "                        <td id=\"T_f26a656e_73af_11eb_86d8_0242ac1c0002row13_col4\" class=\"data row13 col4\" >0.667405</td>\n",
              "                        <td id=\"T_f26a656e_73af_11eb_86d8_0242ac1c0002row13_col5\" class=\"data row13 col5\" >0.000000</td>\n",
              "                        <td id=\"T_f26a656e_73af_11eb_86d8_0242ac1c0002row13_col6\" class=\"data row13 col6\" >True</td>\n",
              "            </tr>\n",
              "            <tr>\n",
              "                        <th id=\"T_f26a656e_73af_11eb_86d8_0242ac1c0002level0_row14\" class=\"row_heading level0 row14\" >13</th>\n",
              "                        <td id=\"T_f26a656e_73af_11eb_86d8_0242ac1c0002row14_col0\" class=\"data row14 col0\" >CPM</td>\n",
              "                        <td id=\"T_f26a656e_73af_11eb_86d8_0242ac1c0002row14_col1\" class=\"data row14 col1\" >fasttext+skipgram</td>\n",
              "                        <td id=\"T_f26a656e_73af_11eb_86d8_0242ac1c0002row14_col2\" class=\"data row14 col2\" >nan</td>\n",
              "                        <td id=\"T_f26a656e_73af_11eb_86d8_0242ac1c0002row14_col3\" class=\"data row14 col3\" >1, 2, inf, -inf</td>\n",
              "                        <td id=\"T_f26a656e_73af_11eb_86d8_0242ac1c0002row14_col4\" class=\"data row14 col4\" >0.665719</td>\n",
              "                        <td id=\"T_f26a656e_73af_11eb_86d8_0242ac1c0002row14_col5\" class=\"data row14 col5\" >0.000000</td>\n",
              "                        <td id=\"T_f26a656e_73af_11eb_86d8_0242ac1c0002row14_col6\" class=\"data row14 col6\" >True</td>\n",
              "            </tr>\n",
              "            <tr>\n",
              "                        <th id=\"T_f26a656e_73af_11eb_86d8_0242ac1c0002level0_row15\" class=\"row_heading level0 row15\" >12</th>\n",
              "                        <td id=\"T_f26a656e_73af_11eb_86d8_0242ac1c0002row15_col0\" class=\"data row15 col0\" >CPM</td>\n",
              "                        <td id=\"T_f26a656e_73af_11eb_86d8_0242ac1c0002row15_col1\" class=\"data row15 col1\" >fasttext+skipgram</td>\n",
              "                        <td id=\"T_f26a656e_73af_11eb_86d8_0242ac1c0002row15_col2\" class=\"data row15 col2\" >nan</td>\n",
              "                        <td id=\"T_f26a656e_73af_11eb_86d8_0242ac1c0002row15_col3\" class=\"data row15 col3\" >1, inf, -inf</td>\n",
              "                        <td id=\"T_f26a656e_73af_11eb_86d8_0242ac1c0002row15_col4\" class=\"data row15 col4\" >0.661207</td>\n",
              "                        <td id=\"T_f26a656e_73af_11eb_86d8_0242ac1c0002row15_col5\" class=\"data row15 col5\" >0.000000</td>\n",
              "                        <td id=\"T_f26a656e_73af_11eb_86d8_0242ac1c0002row15_col6\" class=\"data row15 col6\" >True</td>\n",
              "            </tr>\n",
              "    </tbody></table>"
            ],
            "text/plain": [
              "<pandas.io.formats.style.Styler at 0x7f5d93e112b0>"
            ]
          },
          "metadata": {
            "tags": []
          },
          "execution_count": 218
        }
      ]
    },
    {
      "cell_type": "code",
      "metadata": {
        "colab": {
          "base_uri": "https://localhost:8080/"
        },
        "id": "J7RSbnlx7gFb",
        "outputId": "ab20e467-a710-4681-9323-f872a6a4cfa7"
      },
      "source": [
        "np.mean(res_df[res_df['vectors'] == 'fasttext+skipgram+ELMo']['pearson_r']) > np.mean(res_df[res_df['vectors'] == 'fasttext+ELMo']['pearson_r'])"
      ],
      "execution_count": 238,
      "outputs": [
        {
          "output_type": "execute_result",
          "data": {
            "text/plain": [
              "True"
            ]
          },
          "metadata": {
            "tags": []
          },
          "execution_count": 238
        }
      ]
    },
    {
      "cell_type": "code",
      "metadata": {
        "colab": {
          "base_uri": "https://localhost:8080/"
        },
        "id": "IycS5e1t7thF",
        "outputId": "cf1e74ef-b043-4ad8-8e46-fbc9a3a991ad"
      },
      "source": [
        "np.mean(res_df[res_df['vectors'] == 'fasttext+ELMo']['pearson_r']) > np.mean(res_df[res_df['vectors'] == 'fasttext+skipgram']['pearson_r'])"
      ],
      "execution_count": 239,
      "outputs": [
        {
          "output_type": "execute_result",
          "data": {
            "text/plain": [
              "True"
            ]
          },
          "metadata": {
            "tags": []
          },
          "execution_count": 239
        }
      ]
    },
    {
      "cell_type": "markdown",
      "metadata": {
        "id": "cxy-1EXO76as"
      },
      "source": [
        "skipgram+ELMo > fasttext+skipgram+ELMo > fasttext+ELMo > fasttext+skipgram"
      ]
    },
    {
      "cell_type": "code",
      "metadata": {
        "colab": {
          "base_uri": "https://localhost:8080/"
        },
        "id": "ajuViURu8WQX",
        "outputId": "aa294434-e47d-472e-90d8-6e94a3601858"
      },
      "source": [
        "np.mean(res_df[res_df['CPM_powers'] == '0.5, 1, 2, 3, inf, -inf']['pearson_r']) > np.mean(res_df[res_df['CPM_powers'] == '1, 2, 3, inf, -inf']['pearson_r'])"
      ],
      "execution_count": 240,
      "outputs": [
        {
          "output_type": "execute_result",
          "data": {
            "text/plain": [
              "True"
            ]
          },
          "metadata": {
            "tags": []
          },
          "execution_count": 240
        }
      ]
    },
    {
      "cell_type": "code",
      "metadata": {
        "colab": {
          "base_uri": "https://localhost:8080/"
        },
        "id": "KBn_Vmr48d9s",
        "outputId": "f91379a4-bd0a-48e5-db74-52b9a5387db2"
      },
      "source": [
        "np.mean(res_df[res_df['CPM_powers'] == '1, 2, 3, inf, -inf']['pearson_r']) > np.mean(res_df[res_df['CPM_powers'] == '1, 2, inf, -inf']['pearson_r'])"
      ],
      "execution_count": 241,
      "outputs": [
        {
          "output_type": "execute_result",
          "data": {
            "text/plain": [
              "True"
            ]
          },
          "metadata": {
            "tags": []
          },
          "execution_count": 241
        }
      ]
    },
    {
      "cell_type": "code",
      "metadata": {
        "colab": {
          "base_uri": "https://localhost:8080/"
        },
        "id": "ci-HQBHU8gl8",
        "outputId": "10b18833-48a4-4170-bc34-b9d853cd0ee0"
      },
      "source": [
        "np.mean(res_df[res_df['CPM_powers'] == '1, 2, inf, -inf']['pearson_r']) > np.mean(res_df[res_df['CPM_powers'] == '1, inf, -inf']['pearson_r'])"
      ],
      "execution_count": 242,
      "outputs": [
        {
          "output_type": "execute_result",
          "data": {
            "text/plain": [
              "True"
            ]
          },
          "metadata": {
            "tags": []
          },
          "execution_count": 242
        }
      ]
    },
    {
      "cell_type": "markdown",
      "metadata": {
        "id": "oEt7jDAo8jPx"
      },
      "source": [
        "more powers is better but not directly significantly so"
      ]
    },
    {
      "cell_type": "code",
      "metadata": {
        "colab": {
          "base_uri": "https://localhost:8080/"
        },
        "id": "LBEQ80vd8pPW",
        "outputId": "477e18da-9250-4452-aa95-0e20c7394a80"
      },
      "source": [
        "pearsonr(res_df[res_df['method'] == 'CPM']['CPM_powers'].apply(lambda x: len(x.split()) - 2), res_df[res_df['method'] == 'CPM']['pearson_r'])"
      ],
      "execution_count": 250,
      "outputs": [
        {
          "output_type": "execute_result",
          "data": {
            "text/plain": [
              "(0.11935434518207076, 0.6597415795563155)"
            ]
          },
          "metadata": {
            "tags": []
          },
          "execution_count": 250
        }
      ]
    }
  ]
}